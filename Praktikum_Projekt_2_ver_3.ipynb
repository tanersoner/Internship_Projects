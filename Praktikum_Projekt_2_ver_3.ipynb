{
 "cells": [
  {
   "cell_type": "code",
   "execution_count": 1,
   "id": "28677097",
   "metadata": {},
   "outputs": [],
   "source": [
    "import pandas as pd\n",
    "import numpy as np\n",
    "import seaborn as sns\n",
    "import scipy.stats as st\n",
    "import matplotlib.pyplot as plt\n",
    "import statistics\n",
    "from scipy import stats\n",
    "import re\n",
    "plt.rcParams[\"figure.figsize\"] = [12, 8]\n",
    "import warnings\n",
    "warnings.filterwarnings('ignore')"
   ]
  },
  {
   "cell_type": "code",
   "execution_count": 2,
   "id": "9f5ee432",
   "metadata": {},
   "outputs": [],
   "source": [
    "df = pd.read_spss(\"Birthweight_reduced_kg_SPSS.sav\")"
   ]
  },
  {
   "cell_type": "code",
   "execution_count": 29,
   "id": "3ba3fa71",
   "metadata": {},
   "outputs": [
    {
     "data": {
      "text/html": [
       "<div>\n",
       "<style scoped>\n",
       "    .dataframe tbody tr th:only-of-type {\n",
       "        vertical-align: middle;\n",
       "    }\n",
       "\n",
       "    .dataframe tbody tr th {\n",
       "        vertical-align: top;\n",
       "    }\n",
       "\n",
       "    .dataframe thead th {\n",
       "        text-align: right;\n",
       "    }\n",
       "</style>\n",
       "<table border=\"1\" class=\"dataframe\">\n",
       "  <thead>\n",
       "    <tr style=\"text-align: right;\">\n",
       "      <th></th>\n",
       "      <th>ID</th>\n",
       "      <th>Headcirc</th>\n",
       "      <th>Length</th>\n",
       "      <th>Birthweight</th>\n",
       "      <th>Gestation</th>\n",
       "      <th>mage</th>\n",
       "      <th>smoker</th>\n",
       "      <th>mheight</th>\n",
       "      <th>mppwt</th>\n",
       "      <th>fage</th>\n",
       "      <th>fedyrs</th>\n",
       "      <th>fnocig</th>\n",
       "      <th>fheight</th>\n",
       "      <th>lowbwt</th>\n",
       "      <th>mage35</th>\n",
       "      <th>mnocig</th>\n",
       "    </tr>\n",
       "  </thead>\n",
       "  <tbody>\n",
       "    <tr>\n",
       "      <th>0</th>\n",
       "      <td>1360.0</td>\n",
       "      <td>34.0</td>\n",
       "      <td>56.0</td>\n",
       "      <td>4.55</td>\n",
       "      <td>44.0</td>\n",
       "      <td>20.0</td>\n",
       "      <td>Non-smoker</td>\n",
       "      <td>162.0</td>\n",
       "      <td>57.0</td>\n",
       "      <td>23.0</td>\n",
       "      <td>10.0</td>\n",
       "      <td>35.0</td>\n",
       "      <td>179.0</td>\n",
       "      <td>Not low birthweight</td>\n",
       "      <td>Aged &lt; 35</td>\n",
       "      <td>0.0</td>\n",
       "    </tr>\n",
       "    <tr>\n",
       "      <th>1</th>\n",
       "      <td>1016.0</td>\n",
       "      <td>36.0</td>\n",
       "      <td>53.0</td>\n",
       "      <td>4.32</td>\n",
       "      <td>40.0</td>\n",
       "      <td>19.0</td>\n",
       "      <td>Non-smoker</td>\n",
       "      <td>171.0</td>\n",
       "      <td>62.0</td>\n",
       "      <td>19.0</td>\n",
       "      <td>12.0</td>\n",
       "      <td>0.0</td>\n",
       "      <td>183.0</td>\n",
       "      <td>Not low birthweight</td>\n",
       "      <td>Aged &lt; 35</td>\n",
       "      <td>0.0</td>\n",
       "    </tr>\n",
       "    <tr>\n",
       "      <th>2</th>\n",
       "      <td>462.0</td>\n",
       "      <td>39.0</td>\n",
       "      <td>58.0</td>\n",
       "      <td>4.10</td>\n",
       "      <td>41.0</td>\n",
       "      <td>35.0</td>\n",
       "      <td>Non-smoker</td>\n",
       "      <td>172.0</td>\n",
       "      <td>58.0</td>\n",
       "      <td>31.0</td>\n",
       "      <td>16.0</td>\n",
       "      <td>25.0</td>\n",
       "      <td>185.0</td>\n",
       "      <td>Not low birthweight</td>\n",
       "      <td>Aged 35+</td>\n",
       "      <td>0.0</td>\n",
       "    </tr>\n",
       "    <tr>\n",
       "      <th>3</th>\n",
       "      <td>1187.0</td>\n",
       "      <td>38.0</td>\n",
       "      <td>53.0</td>\n",
       "      <td>4.07</td>\n",
       "      <td>44.0</td>\n",
       "      <td>20.0</td>\n",
       "      <td>Non-smoker</td>\n",
       "      <td>174.0</td>\n",
       "      <td>68.0</td>\n",
       "      <td>26.0</td>\n",
       "      <td>14.0</td>\n",
       "      <td>25.0</td>\n",
       "      <td>189.0</td>\n",
       "      <td>Not low birthweight</td>\n",
       "      <td>Aged &lt; 35</td>\n",
       "      <td>0.0</td>\n",
       "    </tr>\n",
       "    <tr>\n",
       "      <th>4</th>\n",
       "      <td>553.0</td>\n",
       "      <td>37.0</td>\n",
       "      <td>54.0</td>\n",
       "      <td>3.94</td>\n",
       "      <td>42.0</td>\n",
       "      <td>24.0</td>\n",
       "      <td>Non-smoker</td>\n",
       "      <td>175.0</td>\n",
       "      <td>66.0</td>\n",
       "      <td>30.0</td>\n",
       "      <td>12.0</td>\n",
       "      <td>0.0</td>\n",
       "      <td>184.0</td>\n",
       "      <td>Not low birthweight</td>\n",
       "      <td>Aged &lt; 35</td>\n",
       "      <td>0.0</td>\n",
       "    </tr>\n",
       "    <tr>\n",
       "      <th>5</th>\n",
       "      <td>1636.0</td>\n",
       "      <td>38.0</td>\n",
       "      <td>51.0</td>\n",
       "      <td>3.93</td>\n",
       "      <td>38.0</td>\n",
       "      <td>29.0</td>\n",
       "      <td>Non-smoker</td>\n",
       "      <td>165.0</td>\n",
       "      <td>61.0</td>\n",
       "      <td>31.0</td>\n",
       "      <td>16.0</td>\n",
       "      <td>0.0</td>\n",
       "      <td>180.0</td>\n",
       "      <td>Not low birthweight</td>\n",
       "      <td>Aged &lt; 35</td>\n",
       "      <td>0.0</td>\n",
       "    </tr>\n",
       "    <tr>\n",
       "      <th>6</th>\n",
       "      <td>820.0</td>\n",
       "      <td>34.0</td>\n",
       "      <td>52.0</td>\n",
       "      <td>3.77</td>\n",
       "      <td>40.0</td>\n",
       "      <td>24.0</td>\n",
       "      <td>Non-smoker</td>\n",
       "      <td>157.0</td>\n",
       "      <td>50.0</td>\n",
       "      <td>31.0</td>\n",
       "      <td>16.0</td>\n",
       "      <td>0.0</td>\n",
       "      <td>173.0</td>\n",
       "      <td>Not low birthweight</td>\n",
       "      <td>Aged &lt; 35</td>\n",
       "      <td>0.0</td>\n",
       "    </tr>\n",
       "    <tr>\n",
       "      <th>7</th>\n",
       "      <td>1191.0</td>\n",
       "      <td>33.0</td>\n",
       "      <td>53.0</td>\n",
       "      <td>3.65</td>\n",
       "      <td>42.0</td>\n",
       "      <td>21.0</td>\n",
       "      <td>Non-smoker</td>\n",
       "      <td>165.0</td>\n",
       "      <td>61.0</td>\n",
       "      <td>21.0</td>\n",
       "      <td>10.0</td>\n",
       "      <td>25.0</td>\n",
       "      <td>185.0</td>\n",
       "      <td>Not low birthweight</td>\n",
       "      <td>Aged &lt; 35</td>\n",
       "      <td>0.0</td>\n",
       "    </tr>\n",
       "    <tr>\n",
       "      <th>8</th>\n",
       "      <td>1081.0</td>\n",
       "      <td>38.0</td>\n",
       "      <td>54.0</td>\n",
       "      <td>3.63</td>\n",
       "      <td>38.0</td>\n",
       "      <td>18.0</td>\n",
       "      <td>Non-smoker</td>\n",
       "      <td>172.0</td>\n",
       "      <td>50.0</td>\n",
       "      <td>20.0</td>\n",
       "      <td>12.0</td>\n",
       "      <td>7.0</td>\n",
       "      <td>172.0</td>\n",
       "      <td>Not low birthweight</td>\n",
       "      <td>Aged &lt; 35</td>\n",
       "      <td>0.0</td>\n",
       "    </tr>\n",
       "    <tr>\n",
       "      <th>9</th>\n",
       "      <td>822.0</td>\n",
       "      <td>35.0</td>\n",
       "      <td>50.0</td>\n",
       "      <td>3.42</td>\n",
       "      <td>38.0</td>\n",
       "      <td>20.0</td>\n",
       "      <td>Non-smoker</td>\n",
       "      <td>157.0</td>\n",
       "      <td>48.0</td>\n",
       "      <td>22.0</td>\n",
       "      <td>14.0</td>\n",
       "      <td>0.0</td>\n",
       "      <td>179.0</td>\n",
       "      <td>Not low birthweight</td>\n",
       "      <td>Aged &lt; 35</td>\n",
       "      <td>0.0</td>\n",
       "    </tr>\n",
       "    <tr>\n",
       "      <th>10</th>\n",
       "      <td>1683.0</td>\n",
       "      <td>33.0</td>\n",
       "      <td>53.0</td>\n",
       "      <td>3.35</td>\n",
       "      <td>41.0</td>\n",
       "      <td>27.0</td>\n",
       "      <td>Non-smoker</td>\n",
       "      <td>164.0</td>\n",
       "      <td>62.0</td>\n",
       "      <td>37.0</td>\n",
       "      <td>14.0</td>\n",
       "      <td>0.0</td>\n",
       "      <td>170.0</td>\n",
       "      <td>Not low birthweight</td>\n",
       "      <td>Aged &lt; 35</td>\n",
       "      <td>0.0</td>\n",
       "    </tr>\n",
       "    <tr>\n",
       "      <th>11</th>\n",
       "      <td>1088.0</td>\n",
       "      <td>36.0</td>\n",
       "      <td>51.0</td>\n",
       "      <td>3.27</td>\n",
       "      <td>40.0</td>\n",
       "      <td>24.0</td>\n",
       "      <td>Non-smoker</td>\n",
       "      <td>168.0</td>\n",
       "      <td>53.0</td>\n",
       "      <td>29.0</td>\n",
       "      <td>16.0</td>\n",
       "      <td>0.0</td>\n",
       "      <td>181.0</td>\n",
       "      <td>Not low birthweight</td>\n",
       "      <td>Aged &lt; 35</td>\n",
       "      <td>0.0</td>\n",
       "    </tr>\n",
       "    <tr>\n",
       "      <th>12</th>\n",
       "      <td>1107.0</td>\n",
       "      <td>36.0</td>\n",
       "      <td>52.0</td>\n",
       "      <td>3.23</td>\n",
       "      <td>38.0</td>\n",
       "      <td>31.0</td>\n",
       "      <td>Non-smoker</td>\n",
       "      <td>164.0</td>\n",
       "      <td>57.0</td>\n",
       "      <td>35.0</td>\n",
       "      <td>16.0</td>\n",
       "      <td>0.0</td>\n",
       "      <td>183.0</td>\n",
       "      <td>Not low birthweight</td>\n",
       "      <td>Aged &lt; 35</td>\n",
       "      <td>0.0</td>\n",
       "    </tr>\n",
       "    <tr>\n",
       "      <th>13</th>\n",
       "      <td>755.0</td>\n",
       "      <td>33.0</td>\n",
       "      <td>53.0</td>\n",
       "      <td>3.20</td>\n",
       "      <td>41.0</td>\n",
       "      <td>21.0</td>\n",
       "      <td>Non-smoker</td>\n",
       "      <td>155.0</td>\n",
       "      <td>55.0</td>\n",
       "      <td>25.0</td>\n",
       "      <td>14.0</td>\n",
       "      <td>25.0</td>\n",
       "      <td>183.0</td>\n",
       "      <td>Not low birthweight</td>\n",
       "      <td>Aged &lt; 35</td>\n",
       "      <td>0.0</td>\n",
       "    </tr>\n",
       "    <tr>\n",
       "      <th>14</th>\n",
       "      <td>1058.0</td>\n",
       "      <td>34.0</td>\n",
       "      <td>53.0</td>\n",
       "      <td>3.15</td>\n",
       "      <td>40.0</td>\n",
       "      <td>29.0</td>\n",
       "      <td>Non-smoker</td>\n",
       "      <td>167.0</td>\n",
       "      <td>60.0</td>\n",
       "      <td>30.0</td>\n",
       "      <td>16.0</td>\n",
       "      <td>25.0</td>\n",
       "      <td>182.0</td>\n",
       "      <td>Not low birthweight</td>\n",
       "      <td>Aged &lt; 35</td>\n",
       "      <td>0.0</td>\n",
       "    </tr>\n",
       "    <tr>\n",
       "      <th>15</th>\n",
       "      <td>321.0</td>\n",
       "      <td>33.0</td>\n",
       "      <td>48.0</td>\n",
       "      <td>3.11</td>\n",
       "      <td>37.0</td>\n",
       "      <td>28.0</td>\n",
       "      <td>Non-smoker</td>\n",
       "      <td>158.0</td>\n",
       "      <td>54.0</td>\n",
       "      <td>39.0</td>\n",
       "      <td>10.0</td>\n",
       "      <td>0.0</td>\n",
       "      <td>171.0</td>\n",
       "      <td>Not low birthweight</td>\n",
       "      <td>Aged &lt; 35</td>\n",
       "      <td>0.0</td>\n",
       "    </tr>\n",
       "    <tr>\n",
       "      <th>16</th>\n",
       "      <td>697.0</td>\n",
       "      <td>35.0</td>\n",
       "      <td>48.0</td>\n",
       "      <td>3.03</td>\n",
       "      <td>39.0</td>\n",
       "      <td>27.0</td>\n",
       "      <td>Non-smoker</td>\n",
       "      <td>162.0</td>\n",
       "      <td>62.0</td>\n",
       "      <td>27.0</td>\n",
       "      <td>14.0</td>\n",
       "      <td>0.0</td>\n",
       "      <td>178.0</td>\n",
       "      <td>Not low birthweight</td>\n",
       "      <td>Aged &lt; 35</td>\n",
       "      <td>0.0</td>\n",
       "    </tr>\n",
       "    <tr>\n",
       "      <th>17</th>\n",
       "      <td>808.0</td>\n",
       "      <td>33.0</td>\n",
       "      <td>48.0</td>\n",
       "      <td>2.92</td>\n",
       "      <td>34.0</td>\n",
       "      <td>26.0</td>\n",
       "      <td>Non-smoker</td>\n",
       "      <td>167.0</td>\n",
       "      <td>64.0</td>\n",
       "      <td>25.0</td>\n",
       "      <td>12.0</td>\n",
       "      <td>25.0</td>\n",
       "      <td>175.0</td>\n",
       "      <td>Not low birthweight</td>\n",
       "      <td>Aged &lt; 35</td>\n",
       "      <td>0.0</td>\n",
       "    </tr>\n",
       "    <tr>\n",
       "      <th>18</th>\n",
       "      <td>1600.0</td>\n",
       "      <td>34.0</td>\n",
       "      <td>53.0</td>\n",
       "      <td>2.90</td>\n",
       "      <td>39.0</td>\n",
       "      <td>19.0</td>\n",
       "      <td>Non-smoker</td>\n",
       "      <td>165.0</td>\n",
       "      <td>57.0</td>\n",
       "      <td>23.0</td>\n",
       "      <td>14.0</td>\n",
       "      <td>2.0</td>\n",
       "      <td>193.0</td>\n",
       "      <td>Not low birthweight</td>\n",
       "      <td>Aged &lt; 35</td>\n",
       "      <td>0.0</td>\n",
       "    </tr>\n",
       "    <tr>\n",
       "      <th>19</th>\n",
       "      <td>1313.0</td>\n",
       "      <td>32.0</td>\n",
       "      <td>43.0</td>\n",
       "      <td>2.65</td>\n",
       "      <td>33.0</td>\n",
       "      <td>24.0</td>\n",
       "      <td>Non-smoker</td>\n",
       "      <td>149.0</td>\n",
       "      <td>45.0</td>\n",
       "      <td>26.0</td>\n",
       "      <td>16.0</td>\n",
       "      <td>0.0</td>\n",
       "      <td>169.0</td>\n",
       "      <td>Low birthweight</td>\n",
       "      <td>Aged &lt; 35</td>\n",
       "      <td>0.0</td>\n",
       "    </tr>\n",
       "    <tr>\n",
       "      <th>20</th>\n",
       "      <td>792.0</td>\n",
       "      <td>38.0</td>\n",
       "      <td>53.0</td>\n",
       "      <td>3.64</td>\n",
       "      <td>40.0</td>\n",
       "      <td>20.0</td>\n",
       "      <td>Smoker</td>\n",
       "      <td>170.0</td>\n",
       "      <td>59.0</td>\n",
       "      <td>24.0</td>\n",
       "      <td>12.0</td>\n",
       "      <td>12.0</td>\n",
       "      <td>185.0</td>\n",
       "      <td>Not low birthweight</td>\n",
       "      <td>Aged &lt; 35</td>\n",
       "      <td>2.0</td>\n",
       "    </tr>\n",
       "    <tr>\n",
       "      <th>21</th>\n",
       "      <td>1388.0</td>\n",
       "      <td>33.0</td>\n",
       "      <td>51.0</td>\n",
       "      <td>3.14</td>\n",
       "      <td>41.0</td>\n",
       "      <td>22.0</td>\n",
       "      <td>Smoker</td>\n",
       "      <td>160.0</td>\n",
       "      <td>53.0</td>\n",
       "      <td>24.0</td>\n",
       "      <td>16.0</td>\n",
       "      <td>12.0</td>\n",
       "      <td>176.0</td>\n",
       "      <td>Not low birthweight</td>\n",
       "      <td>Aged &lt; 35</td>\n",
       "      <td>7.0</td>\n",
       "    </tr>\n",
       "    <tr>\n",
       "      <th>22</th>\n",
       "      <td>575.0</td>\n",
       "      <td>30.0</td>\n",
       "      <td>50.0</td>\n",
       "      <td>2.78</td>\n",
       "      <td>37.0</td>\n",
       "      <td>19.0</td>\n",
       "      <td>Smoker</td>\n",
       "      <td>165.0</td>\n",
       "      <td>60.0</td>\n",
       "      <td>20.0</td>\n",
       "      <td>14.0</td>\n",
       "      <td>0.0</td>\n",
       "      <td>183.0</td>\n",
       "      <td>Not low birthweight</td>\n",
       "      <td>Aged &lt; 35</td>\n",
       "      <td>7.0</td>\n",
       "    </tr>\n",
       "    <tr>\n",
       "      <th>23</th>\n",
       "      <td>569.0</td>\n",
       "      <td>35.0</td>\n",
       "      <td>50.0</td>\n",
       "      <td>2.51</td>\n",
       "      <td>39.0</td>\n",
       "      <td>22.0</td>\n",
       "      <td>Smoker</td>\n",
       "      <td>159.0</td>\n",
       "      <td>52.0</td>\n",
       "      <td>23.0</td>\n",
       "      <td>14.0</td>\n",
       "      <td>25.0</td>\n",
       "      <td>200.0</td>\n",
       "      <td>Low birthweight</td>\n",
       "      <td>Aged &lt; 35</td>\n",
       "      <td>7.0</td>\n",
       "    </tr>\n",
       "    <tr>\n",
       "      <th>24</th>\n",
       "      <td>1363.0</td>\n",
       "      <td>30.0</td>\n",
       "      <td>48.0</td>\n",
       "      <td>2.37</td>\n",
       "      <td>37.0</td>\n",
       "      <td>20.0</td>\n",
       "      <td>Smoker</td>\n",
       "      <td>163.0</td>\n",
       "      <td>47.0</td>\n",
       "      <td>20.0</td>\n",
       "      <td>10.0</td>\n",
       "      <td>35.0</td>\n",
       "      <td>185.0</td>\n",
       "      <td>Low birthweight</td>\n",
       "      <td>Aged &lt; 35</td>\n",
       "      <td>7.0</td>\n",
       "    </tr>\n",
       "    <tr>\n",
       "      <th>25</th>\n",
       "      <td>300.0</td>\n",
       "      <td>32.0</td>\n",
       "      <td>46.0</td>\n",
       "      <td>2.05</td>\n",
       "      <td>35.0</td>\n",
       "      <td>41.0</td>\n",
       "      <td>Smoker</td>\n",
       "      <td>166.0</td>\n",
       "      <td>57.0</td>\n",
       "      <td>37.0</td>\n",
       "      <td>14.0</td>\n",
       "      <td>25.0</td>\n",
       "      <td>173.0</td>\n",
       "      <td>Low birthweight</td>\n",
       "      <td>Aged 35+</td>\n",
       "      <td>7.0</td>\n",
       "    </tr>\n",
       "    <tr>\n",
       "      <th>26</th>\n",
       "      <td>431.0</td>\n",
       "      <td>30.0</td>\n",
       "      <td>48.0</td>\n",
       "      <td>1.92</td>\n",
       "      <td>33.0</td>\n",
       "      <td>20.0</td>\n",
       "      <td>Smoker</td>\n",
       "      <td>161.0</td>\n",
       "      <td>50.0</td>\n",
       "      <td>20.0</td>\n",
       "      <td>10.0</td>\n",
       "      <td>35.0</td>\n",
       "      <td>180.0</td>\n",
       "      <td>Low birthweight</td>\n",
       "      <td>Aged &lt; 35</td>\n",
       "      <td>7.0</td>\n",
       "    </tr>\n",
       "    <tr>\n",
       "      <th>27</th>\n",
       "      <td>1764.0</td>\n",
       "      <td>39.0</td>\n",
       "      <td>58.0</td>\n",
       "      <td>4.57</td>\n",
       "      <td>41.0</td>\n",
       "      <td>32.0</td>\n",
       "      <td>Smoker</td>\n",
       "      <td>173.0</td>\n",
       "      <td>70.0</td>\n",
       "      <td>38.0</td>\n",
       "      <td>14.0</td>\n",
       "      <td>25.0</td>\n",
       "      <td>180.0</td>\n",
       "      <td>Not low birthweight</td>\n",
       "      <td>Aged &lt; 35</td>\n",
       "      <td>12.0</td>\n",
       "    </tr>\n",
       "    <tr>\n",
       "      <th>28</th>\n",
       "      <td>532.0</td>\n",
       "      <td>34.0</td>\n",
       "      <td>53.0</td>\n",
       "      <td>3.59</td>\n",
       "      <td>40.0</td>\n",
       "      <td>31.0</td>\n",
       "      <td>Smoker</td>\n",
       "      <td>163.0</td>\n",
       "      <td>49.0</td>\n",
       "      <td>41.0</td>\n",
       "      <td>12.0</td>\n",
       "      <td>50.0</td>\n",
       "      <td>191.0</td>\n",
       "      <td>Not low birthweight</td>\n",
       "      <td>Aged &lt; 35</td>\n",
       "      <td>12.0</td>\n",
       "    </tr>\n",
       "    <tr>\n",
       "      <th>29</th>\n",
       "      <td>752.0</td>\n",
       "      <td>36.0</td>\n",
       "      <td>49.0</td>\n",
       "      <td>3.32</td>\n",
       "      <td>40.0</td>\n",
       "      <td>27.0</td>\n",
       "      <td>Smoker</td>\n",
       "      <td>152.0</td>\n",
       "      <td>48.0</td>\n",
       "      <td>37.0</td>\n",
       "      <td>12.0</td>\n",
       "      <td>25.0</td>\n",
       "      <td>170.0</td>\n",
       "      <td>Not low birthweight</td>\n",
       "      <td>Aged &lt; 35</td>\n",
       "      <td>12.0</td>\n",
       "    </tr>\n",
       "    <tr>\n",
       "      <th>30</th>\n",
       "      <td>1023.0</td>\n",
       "      <td>35.0</td>\n",
       "      <td>52.0</td>\n",
       "      <td>3.00</td>\n",
       "      <td>38.0</td>\n",
       "      <td>30.0</td>\n",
       "      <td>Smoker</td>\n",
       "      <td>165.0</td>\n",
       "      <td>64.0</td>\n",
       "      <td>38.0</td>\n",
       "      <td>14.0</td>\n",
       "      <td>50.0</td>\n",
       "      <td>180.0</td>\n",
       "      <td>Not low birthweight</td>\n",
       "      <td>Aged &lt; 35</td>\n",
       "      <td>12.0</td>\n",
       "    </tr>\n",
       "    <tr>\n",
       "      <th>31</th>\n",
       "      <td>57.0</td>\n",
       "      <td>38.0</td>\n",
       "      <td>51.0</td>\n",
       "      <td>3.32</td>\n",
       "      <td>39.0</td>\n",
       "      <td>23.0</td>\n",
       "      <td>Smoker</td>\n",
       "      <td>157.0</td>\n",
       "      <td>48.0</td>\n",
       "      <td>32.0</td>\n",
       "      <td>12.0</td>\n",
       "      <td>25.0</td>\n",
       "      <td>169.0</td>\n",
       "      <td>Not low birthweight</td>\n",
       "      <td>Aged &lt; 35</td>\n",
       "      <td>17.0</td>\n",
       "    </tr>\n",
       "    <tr>\n",
       "      <th>32</th>\n",
       "      <td>1522.0</td>\n",
       "      <td>33.0</td>\n",
       "      <td>50.0</td>\n",
       "      <td>2.74</td>\n",
       "      <td>39.0</td>\n",
       "      <td>21.0</td>\n",
       "      <td>Smoker</td>\n",
       "      <td>156.0</td>\n",
       "      <td>53.0</td>\n",
       "      <td>24.0</td>\n",
       "      <td>12.0</td>\n",
       "      <td>7.0</td>\n",
       "      <td>179.0</td>\n",
       "      <td>Not low birthweight</td>\n",
       "      <td>Aged &lt; 35</td>\n",
       "      <td>17.0</td>\n",
       "    </tr>\n",
       "    <tr>\n",
       "      <th>33</th>\n",
       "      <td>223.0</td>\n",
       "      <td>33.0</td>\n",
       "      <td>50.0</td>\n",
       "      <td>3.87</td>\n",
       "      <td>45.0</td>\n",
       "      <td>28.0</td>\n",
       "      <td>Smoker</td>\n",
       "      <td>163.0</td>\n",
       "      <td>54.0</td>\n",
       "      <td>30.0</td>\n",
       "      <td>16.0</td>\n",
       "      <td>0.0</td>\n",
       "      <td>183.0</td>\n",
       "      <td>Not low birthweight</td>\n",
       "      <td>Aged &lt; 35</td>\n",
       "      <td>25.0</td>\n",
       "    </tr>\n",
       "    <tr>\n",
       "      <th>34</th>\n",
       "      <td>272.0</td>\n",
       "      <td>36.0</td>\n",
       "      <td>52.0</td>\n",
       "      <td>3.86</td>\n",
       "      <td>39.0</td>\n",
       "      <td>30.0</td>\n",
       "      <td>Smoker</td>\n",
       "      <td>170.0</td>\n",
       "      <td>78.0</td>\n",
       "      <td>40.0</td>\n",
       "      <td>16.0</td>\n",
       "      <td>50.0</td>\n",
       "      <td>178.0</td>\n",
       "      <td>Not low birthweight</td>\n",
       "      <td>Aged &lt; 35</td>\n",
       "      <td>25.0</td>\n",
       "    </tr>\n",
       "    <tr>\n",
       "      <th>35</th>\n",
       "      <td>27.0</td>\n",
       "      <td>37.0</td>\n",
       "      <td>53.0</td>\n",
       "      <td>3.55</td>\n",
       "      <td>41.0</td>\n",
       "      <td>37.0</td>\n",
       "      <td>Smoker</td>\n",
       "      <td>161.0</td>\n",
       "      <td>66.0</td>\n",
       "      <td>46.0</td>\n",
       "      <td>16.0</td>\n",
       "      <td>0.0</td>\n",
       "      <td>175.0</td>\n",
       "      <td>Not low birthweight</td>\n",
       "      <td>Aged 35+</td>\n",
       "      <td>25.0</td>\n",
       "    </tr>\n",
       "    <tr>\n",
       "      <th>36</th>\n",
       "      <td>365.0</td>\n",
       "      <td>37.0</td>\n",
       "      <td>52.0</td>\n",
       "      <td>3.53</td>\n",
       "      <td>40.0</td>\n",
       "      <td>26.0</td>\n",
       "      <td>Smoker</td>\n",
       "      <td>170.0</td>\n",
       "      <td>62.0</td>\n",
       "      <td>30.0</td>\n",
       "      <td>10.0</td>\n",
       "      <td>25.0</td>\n",
       "      <td>181.0</td>\n",
       "      <td>Not low birthweight</td>\n",
       "      <td>Aged &lt; 35</td>\n",
       "      <td>25.0</td>\n",
       "    </tr>\n",
       "    <tr>\n",
       "      <th>37</th>\n",
       "      <td>619.0</td>\n",
       "      <td>33.0</td>\n",
       "      <td>52.0</td>\n",
       "      <td>3.41</td>\n",
       "      <td>39.0</td>\n",
       "      <td>23.0</td>\n",
       "      <td>Smoker</td>\n",
       "      <td>181.0</td>\n",
       "      <td>69.0</td>\n",
       "      <td>23.0</td>\n",
       "      <td>16.0</td>\n",
       "      <td>2.0</td>\n",
       "      <td>181.0</td>\n",
       "      <td>Not low birthweight</td>\n",
       "      <td>Aged &lt; 35</td>\n",
       "      <td>25.0</td>\n",
       "    </tr>\n",
       "    <tr>\n",
       "      <th>38</th>\n",
       "      <td>1369.0</td>\n",
       "      <td>34.0</td>\n",
       "      <td>49.0</td>\n",
       "      <td>3.18</td>\n",
       "      <td>38.0</td>\n",
       "      <td>31.0</td>\n",
       "      <td>Smoker</td>\n",
       "      <td>162.0</td>\n",
       "      <td>57.0</td>\n",
       "      <td>32.0</td>\n",
       "      <td>16.0</td>\n",
       "      <td>50.0</td>\n",
       "      <td>194.0</td>\n",
       "      <td>Not low birthweight</td>\n",
       "      <td>Aged &lt; 35</td>\n",
       "      <td>25.0</td>\n",
       "    </tr>\n",
       "    <tr>\n",
       "      <th>39</th>\n",
       "      <td>1262.0</td>\n",
       "      <td>34.0</td>\n",
       "      <td>53.0</td>\n",
       "      <td>3.19</td>\n",
       "      <td>41.0</td>\n",
       "      <td>27.0</td>\n",
       "      <td>Smoker</td>\n",
       "      <td>163.0</td>\n",
       "      <td>51.0</td>\n",
       "      <td>31.0</td>\n",
       "      <td>16.0</td>\n",
       "      <td>25.0</td>\n",
       "      <td>185.0</td>\n",
       "      <td>Not low birthweight</td>\n",
       "      <td>Aged &lt; 35</td>\n",
       "      <td>35.0</td>\n",
       "    </tr>\n",
       "    <tr>\n",
       "      <th>40</th>\n",
       "      <td>516.0</td>\n",
       "      <td>33.0</td>\n",
       "      <td>47.0</td>\n",
       "      <td>2.66</td>\n",
       "      <td>35.0</td>\n",
       "      <td>20.0</td>\n",
       "      <td>Smoker</td>\n",
       "      <td>170.0</td>\n",
       "      <td>57.0</td>\n",
       "      <td>23.0</td>\n",
       "      <td>12.0</td>\n",
       "      <td>50.0</td>\n",
       "      <td>186.0</td>\n",
       "      <td>Low birthweight</td>\n",
       "      <td>Aged &lt; 35</td>\n",
       "      <td>35.0</td>\n",
       "    </tr>\n",
       "    <tr>\n",
       "      <th>41</th>\n",
       "      <td>1272.0</td>\n",
       "      <td>32.0</td>\n",
       "      <td>53.0</td>\n",
       "      <td>2.75</td>\n",
       "      <td>40.0</td>\n",
       "      <td>37.0</td>\n",
       "      <td>Smoker</td>\n",
       "      <td>168.0</td>\n",
       "      <td>61.0</td>\n",
       "      <td>31.0</td>\n",
       "      <td>16.0</td>\n",
       "      <td>0.0</td>\n",
       "      <td>173.0</td>\n",
       "      <td>Not low birthweight</td>\n",
       "      <td>Aged 35+</td>\n",
       "      <td>50.0</td>\n",
       "    </tr>\n",
       "  </tbody>\n",
       "</table>\n",
       "</div>"
      ],
      "text/plain": [
       "        ID  Headcirc  Length  Birthweight  Gestation  mage      smoker  \\\n",
       "0   1360.0      34.0    56.0         4.55       44.0  20.0  Non-smoker   \n",
       "1   1016.0      36.0    53.0         4.32       40.0  19.0  Non-smoker   \n",
       "2    462.0      39.0    58.0         4.10       41.0  35.0  Non-smoker   \n",
       "3   1187.0      38.0    53.0         4.07       44.0  20.0  Non-smoker   \n",
       "4    553.0      37.0    54.0         3.94       42.0  24.0  Non-smoker   \n",
       "5   1636.0      38.0    51.0         3.93       38.0  29.0  Non-smoker   \n",
       "6    820.0      34.0    52.0         3.77       40.0  24.0  Non-smoker   \n",
       "7   1191.0      33.0    53.0         3.65       42.0  21.0  Non-smoker   \n",
       "8   1081.0      38.0    54.0         3.63       38.0  18.0  Non-smoker   \n",
       "9    822.0      35.0    50.0         3.42       38.0  20.0  Non-smoker   \n",
       "10  1683.0      33.0    53.0         3.35       41.0  27.0  Non-smoker   \n",
       "11  1088.0      36.0    51.0         3.27       40.0  24.0  Non-smoker   \n",
       "12  1107.0      36.0    52.0         3.23       38.0  31.0  Non-smoker   \n",
       "13   755.0      33.0    53.0         3.20       41.0  21.0  Non-smoker   \n",
       "14  1058.0      34.0    53.0         3.15       40.0  29.0  Non-smoker   \n",
       "15   321.0      33.0    48.0         3.11       37.0  28.0  Non-smoker   \n",
       "16   697.0      35.0    48.0         3.03       39.0  27.0  Non-smoker   \n",
       "17   808.0      33.0    48.0         2.92       34.0  26.0  Non-smoker   \n",
       "18  1600.0      34.0    53.0         2.90       39.0  19.0  Non-smoker   \n",
       "19  1313.0      32.0    43.0         2.65       33.0  24.0  Non-smoker   \n",
       "20   792.0      38.0    53.0         3.64       40.0  20.0      Smoker   \n",
       "21  1388.0      33.0    51.0         3.14       41.0  22.0      Smoker   \n",
       "22   575.0      30.0    50.0         2.78       37.0  19.0      Smoker   \n",
       "23   569.0      35.0    50.0         2.51       39.0  22.0      Smoker   \n",
       "24  1363.0      30.0    48.0         2.37       37.0  20.0      Smoker   \n",
       "25   300.0      32.0    46.0         2.05       35.0  41.0      Smoker   \n",
       "26   431.0      30.0    48.0         1.92       33.0  20.0      Smoker   \n",
       "27  1764.0      39.0    58.0         4.57       41.0  32.0      Smoker   \n",
       "28   532.0      34.0    53.0         3.59       40.0  31.0      Smoker   \n",
       "29   752.0      36.0    49.0         3.32       40.0  27.0      Smoker   \n",
       "30  1023.0      35.0    52.0         3.00       38.0  30.0      Smoker   \n",
       "31    57.0      38.0    51.0         3.32       39.0  23.0      Smoker   \n",
       "32  1522.0      33.0    50.0         2.74       39.0  21.0      Smoker   \n",
       "33   223.0      33.0    50.0         3.87       45.0  28.0      Smoker   \n",
       "34   272.0      36.0    52.0         3.86       39.0  30.0      Smoker   \n",
       "35    27.0      37.0    53.0         3.55       41.0  37.0      Smoker   \n",
       "36   365.0      37.0    52.0         3.53       40.0  26.0      Smoker   \n",
       "37   619.0      33.0    52.0         3.41       39.0  23.0      Smoker   \n",
       "38  1369.0      34.0    49.0         3.18       38.0  31.0      Smoker   \n",
       "39  1262.0      34.0    53.0         3.19       41.0  27.0      Smoker   \n",
       "40   516.0      33.0    47.0         2.66       35.0  20.0      Smoker   \n",
       "41  1272.0      32.0    53.0         2.75       40.0  37.0      Smoker   \n",
       "\n",
       "    mheight  mppwt  fage  fedyrs  fnocig  fheight               lowbwt  \\\n",
       "0     162.0   57.0  23.0    10.0    35.0    179.0  Not low birthweight   \n",
       "1     171.0   62.0  19.0    12.0     0.0    183.0  Not low birthweight   \n",
       "2     172.0   58.0  31.0    16.0    25.0    185.0  Not low birthweight   \n",
       "3     174.0   68.0  26.0    14.0    25.0    189.0  Not low birthweight   \n",
       "4     175.0   66.0  30.0    12.0     0.0    184.0  Not low birthweight   \n",
       "5     165.0   61.0  31.0    16.0     0.0    180.0  Not low birthweight   \n",
       "6     157.0   50.0  31.0    16.0     0.0    173.0  Not low birthweight   \n",
       "7     165.0   61.0  21.0    10.0    25.0    185.0  Not low birthweight   \n",
       "8     172.0   50.0  20.0    12.0     7.0    172.0  Not low birthweight   \n",
       "9     157.0   48.0  22.0    14.0     0.0    179.0  Not low birthweight   \n",
       "10    164.0   62.0  37.0    14.0     0.0    170.0  Not low birthweight   \n",
       "11    168.0   53.0  29.0    16.0     0.0    181.0  Not low birthweight   \n",
       "12    164.0   57.0  35.0    16.0     0.0    183.0  Not low birthweight   \n",
       "13    155.0   55.0  25.0    14.0    25.0    183.0  Not low birthweight   \n",
       "14    167.0   60.0  30.0    16.0    25.0    182.0  Not low birthweight   \n",
       "15    158.0   54.0  39.0    10.0     0.0    171.0  Not low birthweight   \n",
       "16    162.0   62.0  27.0    14.0     0.0    178.0  Not low birthweight   \n",
       "17    167.0   64.0  25.0    12.0    25.0    175.0  Not low birthweight   \n",
       "18    165.0   57.0  23.0    14.0     2.0    193.0  Not low birthweight   \n",
       "19    149.0   45.0  26.0    16.0     0.0    169.0      Low birthweight   \n",
       "20    170.0   59.0  24.0    12.0    12.0    185.0  Not low birthweight   \n",
       "21    160.0   53.0  24.0    16.0    12.0    176.0  Not low birthweight   \n",
       "22    165.0   60.0  20.0    14.0     0.0    183.0  Not low birthweight   \n",
       "23    159.0   52.0  23.0    14.0    25.0    200.0      Low birthweight   \n",
       "24    163.0   47.0  20.0    10.0    35.0    185.0      Low birthweight   \n",
       "25    166.0   57.0  37.0    14.0    25.0    173.0      Low birthweight   \n",
       "26    161.0   50.0  20.0    10.0    35.0    180.0      Low birthweight   \n",
       "27    173.0   70.0  38.0    14.0    25.0    180.0  Not low birthweight   \n",
       "28    163.0   49.0  41.0    12.0    50.0    191.0  Not low birthweight   \n",
       "29    152.0   48.0  37.0    12.0    25.0    170.0  Not low birthweight   \n",
       "30    165.0   64.0  38.0    14.0    50.0    180.0  Not low birthweight   \n",
       "31    157.0   48.0  32.0    12.0    25.0    169.0  Not low birthweight   \n",
       "32    156.0   53.0  24.0    12.0     7.0    179.0  Not low birthweight   \n",
       "33    163.0   54.0  30.0    16.0     0.0    183.0  Not low birthweight   \n",
       "34    170.0   78.0  40.0    16.0    50.0    178.0  Not low birthweight   \n",
       "35    161.0   66.0  46.0    16.0     0.0    175.0  Not low birthweight   \n",
       "36    170.0   62.0  30.0    10.0    25.0    181.0  Not low birthweight   \n",
       "37    181.0   69.0  23.0    16.0     2.0    181.0  Not low birthweight   \n",
       "38    162.0   57.0  32.0    16.0    50.0    194.0  Not low birthweight   \n",
       "39    163.0   51.0  31.0    16.0    25.0    185.0  Not low birthweight   \n",
       "40    170.0   57.0  23.0    12.0    50.0    186.0      Low birthweight   \n",
       "41    168.0   61.0  31.0    16.0     0.0    173.0  Not low birthweight   \n",
       "\n",
       "       mage35  mnocig  \n",
       "0   Aged < 35     0.0  \n",
       "1   Aged < 35     0.0  \n",
       "2    Aged 35+     0.0  \n",
       "3   Aged < 35     0.0  \n",
       "4   Aged < 35     0.0  \n",
       "5   Aged < 35     0.0  \n",
       "6   Aged < 35     0.0  \n",
       "7   Aged < 35     0.0  \n",
       "8   Aged < 35     0.0  \n",
       "9   Aged < 35     0.0  \n",
       "10  Aged < 35     0.0  \n",
       "11  Aged < 35     0.0  \n",
       "12  Aged < 35     0.0  \n",
       "13  Aged < 35     0.0  \n",
       "14  Aged < 35     0.0  \n",
       "15  Aged < 35     0.0  \n",
       "16  Aged < 35     0.0  \n",
       "17  Aged < 35     0.0  \n",
       "18  Aged < 35     0.0  \n",
       "19  Aged < 35     0.0  \n",
       "20  Aged < 35     2.0  \n",
       "21  Aged < 35     7.0  \n",
       "22  Aged < 35     7.0  \n",
       "23  Aged < 35     7.0  \n",
       "24  Aged < 35     7.0  \n",
       "25   Aged 35+     7.0  \n",
       "26  Aged < 35     7.0  \n",
       "27  Aged < 35    12.0  \n",
       "28  Aged < 35    12.0  \n",
       "29  Aged < 35    12.0  \n",
       "30  Aged < 35    12.0  \n",
       "31  Aged < 35    17.0  \n",
       "32  Aged < 35    17.0  \n",
       "33  Aged < 35    25.0  \n",
       "34  Aged < 35    25.0  \n",
       "35   Aged 35+    25.0  \n",
       "36  Aged < 35    25.0  \n",
       "37  Aged < 35    25.0  \n",
       "38  Aged < 35    25.0  \n",
       "39  Aged < 35    35.0  \n",
       "40  Aged < 35    35.0  \n",
       "41   Aged 35+    50.0  "
      ]
     },
     "execution_count": 29,
     "metadata": {},
     "output_type": "execute_result"
    }
   ],
   "source": [
    "df.head(42)"
   ]
  },
  {
   "cell_type": "markdown",
   "id": "af04db10",
   "metadata": {},
   "source": [
    "### Q1. What is the mean father’s age?"
   ]
  },
  {
   "cell_type": "code",
   "execution_count": 4,
   "id": "bffea1ca",
   "metadata": {},
   "outputs": [
    {
     "data": {
      "text/plain": [
       "fage    28.904762\n",
       "dtype: float64"
      ]
     },
     "execution_count": 4,
     "metadata": {},
     "output_type": "execute_result"
    }
   ],
   "source": [
    "father_age_mean = df [['fage']].mean()\n",
    "father_age_mean"
   ]
  },
  {
   "cell_type": "markdown",
   "id": "b8affae0",
   "metadata": {},
   "source": [
    "### Q2. What is the mean father’s age for low birthweight babies?"
   ]
  },
  {
   "cell_type": "code",
   "execution_count": 5,
   "id": "4fb1737d",
   "metadata": {},
   "outputs": [
    {
     "data": {
      "text/plain": [
       "36"
      ]
     },
     "execution_count": 5,
     "metadata": {},
     "output_type": "execute_result"
    }
   ],
   "source": [
    "df[df['lowbwt'] == 'Not low birthweight'].shape[0]"
   ]
  },
  {
   "cell_type": "code",
   "execution_count": 6,
   "id": "df96c20c",
   "metadata": {},
   "outputs": [
    {
     "data": {
      "text/plain": [
       "6"
      ]
     },
     "execution_count": 6,
     "metadata": {},
     "output_type": "execute_result"
    }
   ],
   "source": [
    "df[df['lowbwt'] == 'Low birthweight'].shape[0]"
   ]
  },
  {
   "cell_type": "code",
   "execution_count": 7,
   "id": "3a21ce3c",
   "metadata": {},
   "outputs": [
    {
     "data": {
      "text/html": [
       "<div>\n",
       "<style scoped>\n",
       "    .dataframe tbody tr th:only-of-type {\n",
       "        vertical-align: middle;\n",
       "    }\n",
       "\n",
       "    .dataframe tbody tr th {\n",
       "        vertical-align: top;\n",
       "    }\n",
       "\n",
       "    .dataframe thead th {\n",
       "        text-align: right;\n",
       "    }\n",
       "</style>\n",
       "<table border=\"1\" class=\"dataframe\">\n",
       "  <thead>\n",
       "    <tr style=\"text-align: right;\">\n",
       "      <th></th>\n",
       "      <th>ID</th>\n",
       "      <th>Headcirc</th>\n",
       "      <th>Length</th>\n",
       "      <th>Birthweight</th>\n",
       "      <th>Gestation</th>\n",
       "      <th>mage</th>\n",
       "      <th>smoker</th>\n",
       "      <th>mheight</th>\n",
       "      <th>mppwt</th>\n",
       "      <th>fage</th>\n",
       "      <th>fedyrs</th>\n",
       "      <th>fnocig</th>\n",
       "      <th>fheight</th>\n",
       "      <th>lowbwt</th>\n",
       "      <th>mage35</th>\n",
       "      <th>mnocig</th>\n",
       "    </tr>\n",
       "  </thead>\n",
       "  <tbody>\n",
       "    <tr>\n",
       "      <th>19</th>\n",
       "      <td>1313.0</td>\n",
       "      <td>32.0</td>\n",
       "      <td>43.0</td>\n",
       "      <td>2.65</td>\n",
       "      <td>33.0</td>\n",
       "      <td>24.0</td>\n",
       "      <td>Non-smoker</td>\n",
       "      <td>149.0</td>\n",
       "      <td>45.0</td>\n",
       "      <td>26.0</td>\n",
       "      <td>16.0</td>\n",
       "      <td>0.0</td>\n",
       "      <td>169.0</td>\n",
       "      <td>Low birthweight</td>\n",
       "      <td>Aged &lt; 35</td>\n",
       "      <td>0.0</td>\n",
       "    </tr>\n",
       "    <tr>\n",
       "      <th>23</th>\n",
       "      <td>569.0</td>\n",
       "      <td>35.0</td>\n",
       "      <td>50.0</td>\n",
       "      <td>2.51</td>\n",
       "      <td>39.0</td>\n",
       "      <td>22.0</td>\n",
       "      <td>Smoker</td>\n",
       "      <td>159.0</td>\n",
       "      <td>52.0</td>\n",
       "      <td>23.0</td>\n",
       "      <td>14.0</td>\n",
       "      <td>25.0</td>\n",
       "      <td>200.0</td>\n",
       "      <td>Low birthweight</td>\n",
       "      <td>Aged &lt; 35</td>\n",
       "      <td>7.0</td>\n",
       "    </tr>\n",
       "    <tr>\n",
       "      <th>24</th>\n",
       "      <td>1363.0</td>\n",
       "      <td>30.0</td>\n",
       "      <td>48.0</td>\n",
       "      <td>2.37</td>\n",
       "      <td>37.0</td>\n",
       "      <td>20.0</td>\n",
       "      <td>Smoker</td>\n",
       "      <td>163.0</td>\n",
       "      <td>47.0</td>\n",
       "      <td>20.0</td>\n",
       "      <td>10.0</td>\n",
       "      <td>35.0</td>\n",
       "      <td>185.0</td>\n",
       "      <td>Low birthweight</td>\n",
       "      <td>Aged &lt; 35</td>\n",
       "      <td>7.0</td>\n",
       "    </tr>\n",
       "    <tr>\n",
       "      <th>25</th>\n",
       "      <td>300.0</td>\n",
       "      <td>32.0</td>\n",
       "      <td>46.0</td>\n",
       "      <td>2.05</td>\n",
       "      <td>35.0</td>\n",
       "      <td>41.0</td>\n",
       "      <td>Smoker</td>\n",
       "      <td>166.0</td>\n",
       "      <td>57.0</td>\n",
       "      <td>37.0</td>\n",
       "      <td>14.0</td>\n",
       "      <td>25.0</td>\n",
       "      <td>173.0</td>\n",
       "      <td>Low birthweight</td>\n",
       "      <td>Aged 35+</td>\n",
       "      <td>7.0</td>\n",
       "    </tr>\n",
       "    <tr>\n",
       "      <th>26</th>\n",
       "      <td>431.0</td>\n",
       "      <td>30.0</td>\n",
       "      <td>48.0</td>\n",
       "      <td>1.92</td>\n",
       "      <td>33.0</td>\n",
       "      <td>20.0</td>\n",
       "      <td>Smoker</td>\n",
       "      <td>161.0</td>\n",
       "      <td>50.0</td>\n",
       "      <td>20.0</td>\n",
       "      <td>10.0</td>\n",
       "      <td>35.0</td>\n",
       "      <td>180.0</td>\n",
       "      <td>Low birthweight</td>\n",
       "      <td>Aged &lt; 35</td>\n",
       "      <td>7.0</td>\n",
       "    </tr>\n",
       "    <tr>\n",
       "      <th>40</th>\n",
       "      <td>516.0</td>\n",
       "      <td>33.0</td>\n",
       "      <td>47.0</td>\n",
       "      <td>2.66</td>\n",
       "      <td>35.0</td>\n",
       "      <td>20.0</td>\n",
       "      <td>Smoker</td>\n",
       "      <td>170.0</td>\n",
       "      <td>57.0</td>\n",
       "      <td>23.0</td>\n",
       "      <td>12.0</td>\n",
       "      <td>50.0</td>\n",
       "      <td>186.0</td>\n",
       "      <td>Low birthweight</td>\n",
       "      <td>Aged &lt; 35</td>\n",
       "      <td>35.0</td>\n",
       "    </tr>\n",
       "  </tbody>\n",
       "</table>\n",
       "</div>"
      ],
      "text/plain": [
       "        ID  Headcirc  Length  Birthweight  Gestation  mage      smoker  \\\n",
       "19  1313.0      32.0    43.0         2.65       33.0  24.0  Non-smoker   \n",
       "23   569.0      35.0    50.0         2.51       39.0  22.0      Smoker   \n",
       "24  1363.0      30.0    48.0         2.37       37.0  20.0      Smoker   \n",
       "25   300.0      32.0    46.0         2.05       35.0  41.0      Smoker   \n",
       "26   431.0      30.0    48.0         1.92       33.0  20.0      Smoker   \n",
       "40   516.0      33.0    47.0         2.66       35.0  20.0      Smoker   \n",
       "\n",
       "    mheight  mppwt  fage  fedyrs  fnocig  fheight           lowbwt     mage35  \\\n",
       "19    149.0   45.0  26.0    16.0     0.0    169.0  Low birthweight  Aged < 35   \n",
       "23    159.0   52.0  23.0    14.0    25.0    200.0  Low birthweight  Aged < 35   \n",
       "24    163.0   47.0  20.0    10.0    35.0    185.0  Low birthweight  Aged < 35   \n",
       "25    166.0   57.0  37.0    14.0    25.0    173.0  Low birthweight   Aged 35+   \n",
       "26    161.0   50.0  20.0    10.0    35.0    180.0  Low birthweight  Aged < 35   \n",
       "40    170.0   57.0  23.0    12.0    50.0    186.0  Low birthweight  Aged < 35   \n",
       "\n",
       "    mnocig  \n",
       "19     0.0  \n",
       "23     7.0  \n",
       "24     7.0  \n",
       "25     7.0  \n",
       "26     7.0  \n",
       "40    35.0  "
      ]
     },
     "execution_count": 7,
     "metadata": {},
     "output_type": "execute_result"
    }
   ],
   "source": [
    "df_low_birthweight = df[(df.lowbwt == 'Low birthweight')]\n",
    "df_low_birthweight"
   ]
  },
  {
   "cell_type": "code",
   "execution_count": 8,
   "id": "016d5e2f",
   "metadata": {},
   "outputs": [
    {
     "data": {
      "text/plain": [
       "fage    24.833333\n",
       "dtype: float64"
      ]
     },
     "execution_count": 8,
     "metadata": {},
     "output_type": "execute_result"
    }
   ],
   "source": [
    "father_mean_2 = df_low_birthweight[['fage']].mean()\n",
    "father_mean_2"
   ]
  },
  {
   "cell_type": "markdown",
   "id": "e9d94bc8",
   "metadata": {},
   "source": [
    "### Q3. Is the father's age normally distributed? Justify your answer."
   ]
  },
  {
   "cell_type": "code",
   "execution_count": 9,
   "id": "fccce07f",
   "metadata": {},
   "outputs": [
    {
     "data": {
      "image/png": "[encoded data removed]",
      "text/plain": [
       "<Figure size 1080x432 with 1 Axes>"
      ]
     },
     "metadata": {
      "needs_background": "light"
     },
     "output_type": "display_data"
    }
   ],
   "source": [
    "plt.figure(figsize=(15,6))\n",
    "plt.style.use('seaborn-colorblind')\n",
    "plt.grid(True, alpha=0.5)\n",
    "sns.kdeplot(df['fage'], label = 'Father Age')\n",
    "\n",
    "plt.xlim(left=10, right=65)\n",
    "plt.xlabel('Father Age')\n",
    "plt.ylabel('Density')\n",
    "plt.title('Father Age Distribution');"
   ]
  },
  {
   "cell_type": "code",
   "execution_count": 10,
   "id": "4208c7a2",
   "metadata": {},
   "outputs": [],
   "source": [
    "a = list(df[\"fage\"])"
   ]
  },
  {
   "cell_type": "code",
   "execution_count": 11,
   "id": "8771d685",
   "metadata": {},
   "outputs": [
    {
     "data": {
      "text/plain": [
       "ShapiroResult(statistic=0.9436862468719482, pvalue=0.03849918395280838)"
      ]
     },
     "execution_count": 11,
     "metadata": {},
     "output_type": "execute_result"
    }
   ],
   "source": [
    "shapiro_test = stats.shapiro(a)\n",
    "shapiro_test"
   ]
  },
  {
   "cell_type": "markdown",
   "id": "e905e717",
   "metadata": {},
   "source": [
    "Data is normally distributed if the significance in these tests is p > 0.05. pvalue: 0.038 < 0.05 so distribution of  age for fathers are not normally distributed."
   ]
  },
  {
   "cell_type": "code",
   "execution_count": 12,
   "id": "34fa8685",
   "metadata": {},
   "outputs": [
    {
     "data": {
      "text/plain": [
       "fage    28.904762\n",
       "dtype: float64"
      ]
     },
     "execution_count": 12,
     "metadata": {},
     "output_type": "execute_result"
    }
   ],
   "source": [
    "df[['fage']].mean()"
   ]
  },
  {
   "cell_type": "code",
   "execution_count": 13,
   "id": "da9fb8d7",
   "metadata": {},
   "outputs": [
    {
     "data": {
      "text/plain": [
       "fage    29.5\n",
       "dtype: float64"
      ]
     },
     "execution_count": 13,
     "metadata": {},
     "output_type": "execute_result"
    }
   ],
   "source": [
    "df[['fage']].median()"
   ]
  },
  {
   "cell_type": "markdown",
   "id": "f8062450",
   "metadata": {},
   "source": [
    "### Q4. If you apply the log transformation to the father's age, what is the mean score of the transformed variable?"
   ]
  },
  {
   "cell_type": "code",
   "execution_count": 14,
   "id": "7b15426a",
   "metadata": {},
   "outputs": [],
   "source": [
    "data = list(df[\"fage\"])"
   ]
  },
  {
   "cell_type": "code",
   "execution_count": 15,
   "id": "66c42fa6",
   "metadata": {},
   "outputs": [
    {
     "data": {
      "text/plain": [
       "array([3.13549422, 2.94443898, 3.4339872 , 3.25809654, 3.40119738,\n",
       "       3.4339872 , 3.4339872 , 3.04452244, 2.99573227, 3.09104245,\n",
       "       3.61091791, 3.36729583, 3.55534806, 3.21887582, 3.40119738,\n",
       "       3.66356165, 3.29583687, 3.21887582, 3.13549422, 3.25809654,\n",
       "       3.17805383, 3.17805383, 2.99573227, 3.13549422, 2.99573227,\n",
       "       3.61091791, 2.99573227, 3.63758616, 3.71357207, 3.61091791,\n",
       "       3.63758616, 3.4657359 , 3.17805383, 3.40119738, 3.68887945,\n",
       "       3.8286414 , 3.40119738, 3.13549422, 3.4657359 , 3.4339872 ,\n",
       "       3.13549422, 3.4339872 ])"
      ]
     },
     "execution_count": 15,
     "metadata": {},
     "output_type": "execute_result"
    }
   ],
   "source": [
    "data_log = np.log(data)\n",
    "data_log"
   ]
  },
  {
   "cell_type": "code",
   "execution_count": 16,
   "id": "da64bf29",
   "metadata": {},
   "outputs": [
    {
     "data": {
      "text/plain": [
       "3.3370421189026085"
      ]
     },
     "execution_count": 16,
     "metadata": {},
     "output_type": "execute_result"
    }
   ],
   "source": [
    "data_log.mean()"
   ]
  },
  {
   "cell_type": "markdown",
   "id": "72eed661",
   "metadata": {},
   "source": [
    "### Q5. Is the above mean score a good representation of the real value? Justify your answer."
   ]
  },
  {
   "cell_type": "code",
   "execution_count": 17,
   "id": "33454727",
   "metadata": {},
   "outputs": [
    {
     "data": {
      "text/plain": [
       "ShapiroResult(statistic=0.9583315253257751, pvalue=0.12867699563503265)"
      ]
     },
     "execution_count": 17,
     "metadata": {},
     "output_type": "execute_result"
    }
   ],
   "source": [
    "shapiro_test_2 = stats.shapiro(data_log)\n",
    "shapiro_test_2"
   ]
  },
  {
   "cell_type": "markdown",
   "id": "75826994",
   "metadata": {},
   "source": [
    "Transformed Data is normally distributed if the significance in these tests is p > 0.05. pvalue: 0.128 > 0.05 so distribution of log transform of fathers age are  normally distributed"
   ]
  },
  {
   "cell_type": "markdown",
   "id": "8d7378b9",
   "metadata": {},
   "source": [
    "### Q6. Is the new variable (log transform of father’s age) normally distributed? Justify your answer."
   ]
  },
  {
   "cell_type": "code",
   "execution_count": 18,
   "id": "88356415",
   "metadata": {},
   "outputs": [
    {
     "data": {
      "image/png": "[encoded data removed]",
      "text/plain": [
       "<Figure size 864x576 with 2 Axes>"
      ]
     },
     "metadata": {
      "needs_background": "light"
     },
     "output_type": "display_data"
    }
   ],
   "source": [
    "fig, axs = plt.subplots(nrows=1, ncols=2)\n",
    "axs[0].hist(data, edgecolor='black')\n",
    "axs[1].hist(data_log, edgecolor='black')\n",
    "axs[0].set_title('Original Data')\n",
    "axs[1].set_title('Log-Transformed Data');"
   ]
  },
  {
   "cell_type": "code",
   "execution_count": 47,
   "id": "706c3020",
   "metadata": {},
   "outputs": [
    {
     "data": {
      "image/png": "[encoded data removed]",
      "text/plain": [
       "<Figure size 1080x432 with 1 Axes>"
      ]
     },
     "metadata": {
      "needs_background": "light"
     },
     "output_type": "display_data"
    }
   ],
   "source": [
    "plt.figure(figsize=(15,6))\n",
    "plt.style.use('seaborn-colorblind')\n",
    "plt.grid(True, alpha=0.5)\n",
    "sns.kdeplot(data_log, label = 'Father Age')\n",
    "\n",
    "plt.xlim(left=2, right=5)\n",
    "plt.xlabel('Father Age')\n",
    "plt.ylabel('Density')\n",
    "plt.title('Father Age (Log-Transformed) Distribution');"
   ]
  },
  {
   "cell_type": "markdown",
   "id": "d095e0ad",
   "metadata": {},
   "source": [
    "The log-transformed distribution is more normally distributed compared to the original distribution."
   ]
  },
  {
   "cell_type": "markdown",
   "id": "bfac699b",
   "metadata": {},
   "source": [
    "### Q7. Is the variable “years father was in education” normally distributed? "
   ]
  },
  {
   "cell_type": "code",
   "execution_count": 19,
   "id": "af2521ef",
   "metadata": {},
   "outputs": [],
   "source": [
    "b = list(df[\"fedyrs\"])"
   ]
  },
  {
   "cell_type": "code",
   "execution_count": 20,
   "id": "a0810209",
   "metadata": {},
   "outputs": [
    {
     "data": {
      "text/plain": [
       "ShapiroResult(statistic=0.8441449403762817, pvalue=4.483600059757009e-05)"
      ]
     },
     "execution_count": 20,
     "metadata": {},
     "output_type": "execute_result"
    }
   ],
   "source": [
    "shapiro_test_3 = stats.shapiro(b)\n",
    "shapiro_test_3"
   ]
  },
  {
   "cell_type": "code",
   "execution_count": 57,
   "id": "669a0361",
   "metadata": {},
   "outputs": [
    {
     "data": {
      "image/png": "[encoded data removed]",
      "text/plain": [
       "<Figure size 1080x432 with 1 Axes>"
      ]
     },
     "metadata": {
      "needs_background": "light"
     },
     "output_type": "display_data"
    }
   ],
   "source": [
    "plt.figure(figsize=(15,6))\n",
    "plt.style.use('seaborn-colorblind')\n",
    "plt.grid(True, alpha=0.5)\n",
    "sns.kdeplot(df['fedyrs'], label = 'Years Father was in Education')\n",
    "\n",
    "plt.xlim(left=5, right=25)\n",
    "plt.xlabel('Years Father in Education')\n",
    "plt.ylabel('Density')\n",
    "plt.title('Years Father was in Education Distribution');"
   ]
  },
  {
   "cell_type": "markdown",
   "id": "2a6f1d7d",
   "metadata": {},
   "source": [
    "Data is normally distributed if the significance in these tests is p > 0.05. pvalue: 4.483* 10 ^-5 < 0.05 so distribution of year fathers was in education are not normally distributed."
   ]
  },
  {
   "cell_type": "markdown",
   "id": "d2a94fbf",
   "metadata": {},
   "source": [
    "### Q8. Mentioning the null and alternative hypotheses, explain the above answer. "
   ]
  },
  {
   "cell_type": "markdown",
   "id": "0a9d762f",
   "metadata": {},
   "source": [
    "#### Null Hypotheses:"
   ]
  },
  {
   "cell_type": "markdown",
   "id": "ed19a68b",
   "metadata": {},
   "source": [
    "The variable “years father was in education” is not normally distributed."
   ]
  },
  {
   "cell_type": "markdown",
   "id": "0f07e3e9",
   "metadata": {},
   "source": [
    "#### Alternative Hypotheses:"
   ]
  },
  {
   "cell_type": "markdown",
   "id": "049cc45e",
   "metadata": {},
   "source": [
    "The variable “years father was in education” is normally distributed."
   ]
  },
  {
   "cell_type": "markdown",
   "id": "c2d60e1b",
   "metadata": {},
   "source": [
    "### Q9. What is the mean score for the variable “years father was in education” after you apply the Box-Cox transformation?"
   ]
  },
  {
   "cell_type": "code",
   "execution_count": 22,
   "id": "ce97b167",
   "metadata": {},
   "outputs": [],
   "source": [
    "data_2 = list(df[\"fedyrs\"])"
   ]
  },
  {
   "cell_type": "code",
   "execution_count": 23,
   "id": "ff6d8de1",
   "metadata": {},
   "outputs": [],
   "source": [
    "# transform training data & save lambda value\n",
    "fitted_data, fitted_lambda = stats.boxcox(data_2)"
   ]
  },
  {
   "cell_type": "code",
   "execution_count": 63,
   "id": "d2f4f8c9",
   "metadata": {},
   "outputs": [
    {
     "name": "stdout",
     "output_type": "stream",
     "text": [
      "Lambda value used for Transformation: 2.2314161300163327\n"
     ]
    },
    {
     "data": {
      "image/png": "[encoded data removed]",
      "text/plain": [
       "<Figure size 792x504 with 2 Axes>"
      ]
     },
     "metadata": {
      "needs_background": "light"
     },
     "output_type": "display_data"
    }
   ],
   "source": [
    "# creating axes to draw plots\n",
    "fig, ax = plt.subplots(1, 2)\n",
    " \n",
    "# plotting the original data(non-normal) and\n",
    "# fitted data (normal)\n",
    "sns.distplot(data_2, hist = False, kde = True,\n",
    "            kde_kws = {'shade': True, 'linewidth': 2},\n",
    "            label = \"Non-Normal\", color =\"green\", ax = ax[0])\n",
    " \n",
    "sns.distplot(fitted_data, hist = False, kde = True,\n",
    "            kde_kws = {'shade': True, 'linewidth': 2},\n",
    "            label = \"Normal\", color =\"green\", ax = ax[1])\n",
    " \n",
    "# adding legends to the subplots\n",
    "plt.legend(loc = \"upper right\")\n",
    " \n",
    "# rescaling the subplots\n",
    "fig.set_figheight(7)\n",
    "fig.set_figwidth(11)\n",
    " \n",
    "print(f\"Lambda value used for Transformation: {fitted_lambda}\")"
   ]
  },
  {
   "cell_type": "code",
   "execution_count": 24,
   "id": "03796b84",
   "metadata": {},
   "outputs": [
    {
     "data": {
      "text/plain": [
       "array([ 75.90651661, 114.24088196, 217.47942781, 161.32559106,\n",
       "       114.24088196, 217.47942781, 217.47942781,  75.90651661,\n",
       "       114.24088196, 161.32559106, 161.32559106, 217.47942781,\n",
       "       217.47942781, 161.32559106, 217.47942781,  75.90651661,\n",
       "       161.32559106, 114.24088196, 161.32559106, 217.47942781,\n",
       "       114.24088196, 217.47942781, 161.32559106, 161.32559106,\n",
       "        75.90651661, 161.32559106,  75.90651661, 161.32559106,\n",
       "       114.24088196, 114.24088196, 161.32559106, 114.24088196,\n",
       "       114.24088196, 217.47942781, 217.47942781, 217.47942781,\n",
       "        75.90651661, 217.47942781, 217.47942781, 217.47942781,\n",
       "       114.24088196, 217.47942781])"
      ]
     },
     "execution_count": 24,
     "metadata": {},
     "output_type": "execute_result"
    }
   ],
   "source": [
    "fitted_data"
   ]
  },
  {
   "cell_type": "code",
   "execution_count": 25,
   "id": "bcc6071c",
   "metadata": {},
   "outputs": [
    {
     "data": {
      "text/plain": [
       "157.96716280846272"
      ]
     },
     "execution_count": 25,
     "metadata": {},
     "output_type": "execute_result"
    }
   ],
   "source": [
    "fitted_data.mean()"
   ]
  },
  {
   "cell_type": "code",
   "execution_count": 26,
   "id": "f898c4b5",
   "metadata": {},
   "outputs": [
    {
     "data": {
      "text/plain": [
       "13.666666666666666"
      ]
     },
     "execution_count": 26,
     "metadata": {},
     "output_type": "execute_result"
    }
   ],
   "source": [
    "non_normal_data_mean = statistics.mean(data_2)\n",
    "non_normal_data_mean"
   ]
  },
  {
   "cell_type": "markdown",
   "id": "6524d43a",
   "metadata": {},
   "source": [
    "### Q10. Is this new variable normally distributed? Explain."
   ]
  },
  {
   "cell_type": "code",
   "execution_count": 27,
   "id": "90d932e7",
   "metadata": {},
   "outputs": [
    {
     "data": {
      "text/plain": [
       "ShapiroResult(statistic=0.8429067730903625, pvalue=4.183058990747668e-05)"
      ]
     },
     "execution_count": 27,
     "metadata": {},
     "output_type": "execute_result"
    }
   ],
   "source": [
    "shapiro_test_4 = stats.shapiro(fitted_data)\n",
    "shapiro_test_4"
   ]
  },
  {
   "cell_type": "markdown",
   "id": "7d290029",
   "metadata": {},
   "source": [
    "Data is normally distributed if the significance in these tests is p > 0.05. pvalue: 4.183* 10 ^-5 < 0.05 so distribution of year fathers was in education are not normally distributed."
   ]
  },
  {
   "cell_type": "markdown",
   "id": "082e44ee",
   "metadata": {},
   "source": [
    "### Q11. What is the mean score for this new variable (B-C transformed fathers’ years in education) for mothers aged under 35?"
   ]
  },
  {
   "cell_type": "code",
   "execution_count": 28,
   "id": "2b76bb78",
   "metadata": {},
   "outputs": [
    {
     "data": {
      "text/plain": [
       "39"
      ]
     },
     "execution_count": 28,
     "metadata": {},
     "output_type": "execute_result"
    }
   ],
   "source": [
    "df[df['mage'] <= 35 ].shape[0]"
   ]
  },
  {
   "cell_type": "code",
   "execution_count": 30,
   "id": "53b48a47",
   "metadata": {},
   "outputs": [],
   "source": [
    "df_mother = df[(df.mage <= 35)]"
   ]
  },
  {
   "cell_type": "code",
   "execution_count": 31,
   "id": "a8531830",
   "metadata": {},
   "outputs": [],
   "source": [
    "B_C_transformed_fathers = list(df_mother[\"fedyrs\"])"
   ]
  },
  {
   "cell_type": "code",
   "execution_count": 32,
   "id": "7cdd0abc",
   "metadata": {},
   "outputs": [],
   "source": [
    "fitted_data_2, lambdaValue = stats.boxcox(B_C_transformed_fathers) "
   ]
  },
  {
   "cell_type": "code",
   "execution_count": 33,
   "id": "13b79b8a",
   "metadata": {},
   "outputs": [
    {
     "data": {
      "text/plain": [
       "array([37.09667429, 52.1058319 , 88.86027182, 69.37876316, 52.1058319 ,\n",
       "       88.86027182, 88.86027182, 37.09667429, 52.1058319 , 69.37876316,\n",
       "       69.37876316, 88.86027182, 88.86027182, 69.37876316, 88.86027182,\n",
       "       37.09667429, 69.37876316, 52.1058319 , 69.37876316, 88.86027182,\n",
       "       52.1058319 , 88.86027182, 69.37876316, 69.37876316, 37.09667429,\n",
       "       37.09667429, 69.37876316, 52.1058319 , 52.1058319 , 69.37876316,\n",
       "       52.1058319 , 52.1058319 , 88.86027182, 88.86027182, 37.09667429,\n",
       "       88.86027182, 88.86027182, 88.86027182, 52.1058319 ])"
      ]
     },
     "execution_count": 33,
     "metadata": {},
     "output_type": "execute_result"
    }
   ],
   "source": [
    "fitted_data_2"
   ]
  },
  {
   "cell_type": "code",
   "execution_count": 34,
   "id": "e115a1d7",
   "metadata": {},
   "outputs": [
    {
     "data": {
      "text/plain": [
       "66.47716743791263"
      ]
     },
     "execution_count": 34,
     "metadata": {},
     "output_type": "execute_result"
    }
   ],
   "source": [
    "fitted_data_2.mean()"
   ]
  },
  {
   "cell_type": "markdown",
   "id": "31db5232",
   "metadata": {},
   "source": [
    "### Q12. Which test would you use to investigate the relationship between birth weight and father's age?\n",
    "Pearson product-moment correlation,\n",
    "Spearman’s Rank order correlation,\n",
    "Point-Biserial correlation,\n",
    "Phi-Coefficient"
   ]
  },
  {
   "cell_type": "markdown",
   "id": "67fc1732",
   "metadata": {},
   "source": [
    "* Pearson product-moment correlation"
   ]
  },
  {
   "cell_type": "code",
   "execution_count": 35,
   "id": "dd3be5b0",
   "metadata": {},
   "outputs": [
    {
     "name": "stdout",
     "output_type": "stream",
     "text": [
      "[[1.         0.17570999]\n",
      " [0.17570999 1.        ]]\n"
     ]
    }
   ],
   "source": [
    "Birthweight = list(df['Birthweight'])\n",
    "Father_age = list(df['fage'])\n",
    "Pearson = np.corrcoef(Birthweight, Father_age)\n",
    "\n",
    "print(Pearson)"
   ]
  },
  {
   "cell_type": "markdown",
   "id": "88219409",
   "metadata": {},
   "source": [
    "* +1 - Complete positive correlation\n",
    "* +0.8 - Strong positive correlation\n",
    "* +0.6 - Moderate positive correlation\n",
    "* 0 - no correlation whatsoever\n",
    "* -0.6 - Moderate negative correlation\n",
    "* -0.8 - Strong negative correlation\n",
    "* -1 - Complete negative correlation"
   ]
  },
  {
   "cell_type": "markdown",
   "id": "86d5a64a",
   "metadata": {},
   "source": [
    "The statistical test reports a weak positive correlation with a value of 0.175. "
   ]
  },
  {
   "cell_type": "markdown",
   "id": "6b3446ae",
   "metadata": {},
   "source": [
    "* Spearman’s Rank order correlation"
   ]
  },
  {
   "cell_type": "code",
   "execution_count": 37,
   "id": "3fbcf265",
   "metadata": {},
   "outputs": [],
   "source": [
    "from scipy.stats import spearmanr"
   ]
  },
  {
   "cell_type": "code",
   "execution_count": 38,
   "id": "bba88dae",
   "metadata": {},
   "outputs": [],
   "source": [
    "coef, p = spearmanr(Birthweight, Father_age)"
   ]
  },
  {
   "cell_type": "code",
   "execution_count": 39,
   "id": "44a14b93",
   "metadata": {},
   "outputs": [
    {
     "data": {
      "text/plain": [
       "0.17810631240688332"
      ]
     },
     "execution_count": 39,
     "metadata": {},
     "output_type": "execute_result"
    }
   ],
   "source": [
    "coef"
   ]
  },
  {
   "cell_type": "code",
   "execution_count": 40,
   "id": "12dccb63",
   "metadata": {},
   "outputs": [
    {
     "data": {
      "text/plain": [
       "0.25911799368781196"
      ]
     },
     "execution_count": 40,
     "metadata": {},
     "output_type": "execute_result"
    }
   ],
   "source": [
    "p"
   ]
  },
  {
   "cell_type": "markdown",
   "id": "e81bdae5",
   "metadata": {},
   "source": [
    "The statistical test reports a weak positive correlation with a value of 0.178. "
   ]
  },
  {
   "cell_type": "markdown",
   "id": "cf4c479e",
   "metadata": {},
   "source": [
    "* Point-Biserial correlation"
   ]
  },
  {
   "cell_type": "code",
   "execution_count": 41,
   "id": "5c5fe421",
   "metadata": {},
   "outputs": [
    {
     "data": {
      "text/plain": [
       "PointbiserialrResult(correlation=0.17570999332980186, pvalue=0.2656859138375593)"
      ]
     },
     "execution_count": 41,
     "metadata": {},
     "output_type": "execute_result"
    }
   ],
   "source": [
    "stats.pointbiserialr(Birthweight, Father_age)"
   ]
  },
  {
   "cell_type": "markdown",
   "id": "a6042527",
   "metadata": {},
   "source": [
    "The statistical test reports a weak positive correlation with a value of 0.175."
   ]
  },
  {
   "cell_type": "markdown",
   "id": "f0a1d5eb",
   "metadata": {},
   "source": [
    "* Phi-Coefficient"
   ]
  },
  {
   "cell_type": "code",
   "execution_count": null,
   "id": "3d33be54",
   "metadata": {},
   "outputs": [],
   "source": []
  },
  {
   "cell_type": "markdown",
   "id": "a14edd6b",
   "metadata": {},
   "source": [
    "### Q13. Justify the above choice in terms of the distribution of data and the nature of the test."
   ]
  },
  {
   "cell_type": "code",
   "execution_count": 42,
   "id": "e18aa470",
   "metadata": {},
   "outputs": [
    {
     "name": "stdout",
     "output_type": "stream",
     "text": [
      "Samples are uncorrelated (fail to reject H0) p=0.259\n"
     ]
    }
   ],
   "source": [
    "coef, p = spearmanr(Birthweight, Father_age)\n",
    "# interpret the significance\n",
    "alpha = 0.05\n",
    "if p > alpha:\n",
    " print('Samples are uncorrelated (fail to reject H0) p=%.3f' % p)\n",
    "else:\n",
    " print('Samples are correlated (reject H0) p=%.3f' % p)"
   ]
  },
  {
   "cell_type": "markdown",
   "id": "18e88269",
   "metadata": {},
   "source": [
    "The statistical test reports a weak positive correlation with a value of 0.178. The p-value is not close to zero (0.05<0.259), which means that the likelihood of observing the data given that the samples are correlated and that we can not reject the null hypothesis."
   ]
  },
  {
   "cell_type": "markdown",
   "id": "bf741a92",
   "metadata": {},
   "source": [
    "### Q14. What is the direction of that relationship?"
   ]
  },
  {
   "cell_type": "markdown",
   "id": "804af9e1",
   "metadata": {},
   "source": [
    "The statistical test reports a weak positive correlation with a value of 0.175."
   ]
  },
  {
   "cell_type": "markdown",
   "id": "c5268c78",
   "metadata": {},
   "source": [
    "### Q15. What is the form of that relationship?"
   ]
  },
  {
   "cell_type": "code",
   "execution_count": 44,
   "id": "4a7a0a69",
   "metadata": {},
   "outputs": [],
   "source": [
    "import seaborn"
   ]
  },
  {
   "cell_type": "code",
   "execution_count": 47,
   "id": "177618d4",
   "metadata": {},
   "outputs": [
    {
     "data": {
      "image/png": "[encoded data removed]",
      "text/plain": [
       "<Figure size 864x576 with 1 Axes>"
      ]
     },
     "metadata": {
      "needs_background": "light"
     },
     "output_type": "display_data"
    }
   ],
   "source": [
    "seaborn.scatterplot(y=\"Birthweight\",\n",
    "                    x=\"fage\",\n",
    "                    data=df);"
   ]
  },
  {
   "cell_type": "markdown",
   "id": "6846fb8a",
   "metadata": {},
   "source": [
    "The form of relationship is Linear"
   ]
  },
  {
   "cell_type": "markdown",
   "id": "dd64a153",
   "metadata": {},
   "source": [
    "### Q16. What is the degree of that relationship?"
   ]
  },
  {
   "cell_type": "markdown",
   "id": "4199f768",
   "metadata": {},
   "source": [
    "The degree of relationship is Weak. "
   ]
  },
  {
   "cell_type": "markdown",
   "id": "36d80f0d",
   "metadata": {},
   "source": [
    "### Q17. What test would you use to investigate the relationship between smoking and birth weight?"
   ]
  },
  {
   "cell_type": "markdown",
   "id": "109da78d",
   "metadata": {},
   "source": [
    "* Spearman’s Rank order correlation"
   ]
  },
  {
   "cell_type": "code",
   "execution_count": 58,
   "id": "dfd12d7c",
   "metadata": {},
   "outputs": [
    {
     "data": {
      "text/plain": [
       "['Non-smoker',\n",
       " 'Non-smoker',\n",
       " 'Non-smoker',\n",
       " 'Non-smoker',\n",
       " 'Non-smoker',\n",
       " 'Non-smoker',\n",
       " 'Non-smoker',\n",
       " 'Non-smoker',\n",
       " 'Non-smoker',\n",
       " 'Non-smoker',\n",
       " 'Non-smoker',\n",
       " 'Non-smoker',\n",
       " 'Non-smoker',\n",
       " 'Non-smoker',\n",
       " 'Non-smoker',\n",
       " 'Non-smoker',\n",
       " 'Non-smoker',\n",
       " 'Non-smoker',\n",
       " 'Non-smoker',\n",
       " 'Non-smoker',\n",
       " 'Smoker',\n",
       " 'Smoker',\n",
       " 'Smoker',\n",
       " 'Smoker',\n",
       " 'Smoker',\n",
       " 'Smoker',\n",
       " 'Smoker',\n",
       " 'Smoker',\n",
       " 'Smoker',\n",
       " 'Smoker',\n",
       " 'Smoker',\n",
       " 'Smoker',\n",
       " 'Smoker',\n",
       " 'Smoker',\n",
       " 'Smoker',\n",
       " 'Smoker',\n",
       " 'Smoker',\n",
       " 'Smoker',\n",
       " 'Smoker',\n",
       " 'Smoker',\n",
       " 'Smoker',\n",
       " 'Smoker']"
      ]
     },
     "execution_count": 58,
     "metadata": {},
     "output_type": "execute_result"
    }
   ],
   "source": [
    "smoking = list(df['smoker'])\n",
    "smoking"
   ]
  },
  {
   "cell_type": "code",
   "execution_count": 59,
   "id": "23809db7",
   "metadata": {},
   "outputs": [],
   "source": [
    "coef_2, p_2 = spearmanr(Birthweight, smoking)"
   ]
  },
  {
   "cell_type": "code",
   "execution_count": 61,
   "id": "1d8f8eb2",
   "metadata": {},
   "outputs": [
    {
     "data": {
      "text/plain": [
       "-0.29499658492702774"
      ]
     },
     "execution_count": 61,
     "metadata": {},
     "output_type": "execute_result"
    }
   ],
   "source": [
    "coef_2"
   ]
  },
  {
   "cell_type": "code",
   "execution_count": 53,
   "id": "4c92ee60",
   "metadata": {},
   "outputs": [
    {
     "data": {
      "image/png": "[encoded data removed]",
      "text/plain": [
       "<Figure size 864x576 with 1 Axes>"
      ]
     },
     "metadata": {
      "needs_background": "light"
     },
     "output_type": "display_data"
    }
   ],
   "source": [
    "seaborn.scatterplot(y=\"Birthweight\",\n",
    "                    x=smoking,\n",
    "                    data=df);"
   ]
  },
  {
   "cell_type": "code",
   "execution_count": 64,
   "id": "37f97720",
   "metadata": {},
   "outputs": [
    {
     "data": {
      "image/png": "[encoded data removed]",
      "text/plain": [
       "<Figure size 864x576 with 1 Axes>"
      ]
     },
     "metadata": {
      "needs_background": "light"
     },
     "output_type": "display_data"
    }
   ],
   "source": [
    "sns.barplot(y=\"Birthweight\",\n",
    "                    x=smoking,\n",
    "                    data=df);"
   ]
  },
  {
   "cell_type": "markdown",
   "id": "7c9630ad",
   "metadata": {},
   "source": [
    "### Q18. Report on the above results including information about direction/form/degree of the relationship."
   ]
  },
  {
   "cell_type": "markdown",
   "id": "c819d7ed",
   "metadata": {},
   "source": [
    "The statistical test reports a weak negative correlation with a value of -0.294."
   ]
  },
  {
   "cell_type": "code",
   "execution_count": null,
   "id": "2e7062d9",
   "metadata": {},
   "outputs": [],
   "source": []
  }
 ],
 "metadata": {
  "kernelspec": {
   "display_name": "Python 3",
   "language": "python",
   "name": "python3"
  },
  "language_info": {
   "codemirror_mode": {
    "name": "ipython",
    "version": 3
   },
   "file_extension": ".py",
   "mimetype": "text/x-python",
   "name": "python",
   "nbconvert_exporter": "python",
   "pygments_lexer": "ipython3",
   "version": "3.8.8"
  }
 },
 "nbformat": 4,
 "nbformat_minor": 5
}
