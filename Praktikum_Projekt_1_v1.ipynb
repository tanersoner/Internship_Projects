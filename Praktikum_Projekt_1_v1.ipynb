{
 "cells": [
  {
   "cell_type": "code",
   "execution_count": 2,
   "id": "6eec24cd",
   "metadata": {},
   "outputs": [
    {
     "name": "stdout",
     "output_type": "stream",
     "text": [
      "Collecting aspose-words\n",
      "  Downloading aspose_words-22.12.0-py3-none-win_amd64.whl (56.3 MB)\n",
      "Installing collected packages: aspose-words\n",
      "Successfully installed aspose-words-22.12.0\n",
      "Note: you may need to restart the kernel to use updated packages.\n"
     ]
    }
   ],
   "source": [
    "pip install aspose-words "
   ]
  },
  {
   "cell_type": "code",
   "execution_count": 58,
   "id": "b9eef498",
   "metadata": {},
   "outputs": [],
   "source": [
    "import pandas as pd\n",
    "import numpy as np\n",
    "import seaborn as sns\n",
    "import scipy.stats as st\n",
    "import matplotlib.pyplot as plt\n",
    "import statistics\n",
    "import re\n",
    "plt.rcParams[\"figure.figsize\"] = [12, 8]\n",
    "import warnings\n",
    "warnings.filterwarnings('ignore')"
   ]
  },
  {
   "cell_type": "code",
   "execution_count": 6,
   "id": "0cabffc8",
   "metadata": {},
   "outputs": [
    {
     "name": "stdout",
     "output_type": "stream",
     "text": [
      "Collecting pyreadstat\n",
      "  Downloading pyreadstat-1.2.0-cp38-cp38-win_amd64.whl (2.4 MB)\n",
      "Requirement already satisfied: pandas>=1.2.0 in c:\\users\\taner\\anaconda3\\lib\\site-packages (from pyreadstat) (1.2.4)\n",
      "Requirement already satisfied: numpy>=1.16.5 in c:\\users\\taner\\anaconda3\\lib\\site-packages (from pandas>=1.2.0->pyreadstat) (1.19.5)\n",
      "Requirement already satisfied: python-dateutil>=2.7.3 in c:\\users\\taner\\anaconda3\\lib\\site-packages (from pandas>=1.2.0->pyreadstat) (2.8.1)\n",
      "Requirement already satisfied: pytz>=2017.3 in c:\\users\\taner\\anaconda3\\lib\\site-packages (from pandas>=1.2.0->pyreadstat) (2021.1)\n",
      "Requirement already satisfied: six>=1.5 in c:\\users\\taner\\appdata\\roaming\\python\\python38\\site-packages (from python-dateutil>=2.7.3->pandas>=1.2.0->pyreadstat) (1.15.0)\n",
      "Installing collected packages: pyreadstat\n",
      "Successfully installed pyreadstat-1.2.0\n",
      "Note: you may need to restart the kernel to use updated packages.\n"
     ]
    }
   ],
   "source": [
    "pip install pyreadstat"
   ]
  },
  {
   "cell_type": "code",
   "execution_count": 2,
   "id": "f635763e",
   "metadata": {},
   "outputs": [],
   "source": [
    "df = pd.read_spss(\"Birthweight_reduced_kg_SPSS.sav\")"
   ]
  },
  {
   "cell_type": "code",
   "execution_count": 13,
   "id": "5d4aea25",
   "metadata": {},
   "outputs": [
    {
     "data": {
      "text/html": [
       "<div>\n",
       "<style scoped>\n",
       "    .dataframe tbody tr th:only-of-type {\n",
       "        vertical-align: middle;\n",
       "    }\n",
       "\n",
       "    .dataframe tbody tr th {\n",
       "        vertical-align: top;\n",
       "    }\n",
       "\n",
       "    .dataframe thead th {\n",
       "        text-align: right;\n",
       "    }\n",
       "</style>\n",
       "<table border=\"1\" class=\"dataframe\">\n",
       "  <thead>\n",
       "    <tr style=\"text-align: right;\">\n",
       "      <th></th>\n",
       "      <th>ID</th>\n",
       "      <th>Headcirc</th>\n",
       "      <th>Length</th>\n",
       "      <th>Birthweight</th>\n",
       "      <th>Gestation</th>\n",
       "      <th>mage</th>\n",
       "      <th>smoker</th>\n",
       "      <th>mheight</th>\n",
       "      <th>mppwt</th>\n",
       "      <th>fage</th>\n",
       "      <th>fedyrs</th>\n",
       "      <th>fnocig</th>\n",
       "      <th>fheight</th>\n",
       "      <th>lowbwt</th>\n",
       "      <th>mage35</th>\n",
       "      <th>mnocig</th>\n",
       "    </tr>\n",
       "  </thead>\n",
       "  <tbody>\n",
       "    <tr>\n",
       "      <th>0</th>\n",
       "      <td>1360.0</td>\n",
       "      <td>34.0</td>\n",
       "      <td>56.0</td>\n",
       "      <td>4.55</td>\n",
       "      <td>44.0</td>\n",
       "      <td>20.0</td>\n",
       "      <td>Non-smoker</td>\n",
       "      <td>162.0</td>\n",
       "      <td>57.0</td>\n",
       "      <td>23.0</td>\n",
       "      <td>10.0</td>\n",
       "      <td>35.0</td>\n",
       "      <td>179.0</td>\n",
       "      <td>Not low birthweight</td>\n",
       "      <td>Aged &lt; 35</td>\n",
       "      <td>0.0</td>\n",
       "    </tr>\n",
       "    <tr>\n",
       "      <th>1</th>\n",
       "      <td>1016.0</td>\n",
       "      <td>36.0</td>\n",
       "      <td>53.0</td>\n",
       "      <td>4.32</td>\n",
       "      <td>40.0</td>\n",
       "      <td>19.0</td>\n",
       "      <td>Non-smoker</td>\n",
       "      <td>171.0</td>\n",
       "      <td>62.0</td>\n",
       "      <td>19.0</td>\n",
       "      <td>12.0</td>\n",
       "      <td>0.0</td>\n",
       "      <td>183.0</td>\n",
       "      <td>Not low birthweight</td>\n",
       "      <td>Aged &lt; 35</td>\n",
       "      <td>0.0</td>\n",
       "    </tr>\n",
       "    <tr>\n",
       "      <th>2</th>\n",
       "      <td>462.0</td>\n",
       "      <td>39.0</td>\n",
       "      <td>58.0</td>\n",
       "      <td>4.10</td>\n",
       "      <td>41.0</td>\n",
       "      <td>35.0</td>\n",
       "      <td>Non-smoker</td>\n",
       "      <td>172.0</td>\n",
       "      <td>58.0</td>\n",
       "      <td>31.0</td>\n",
       "      <td>16.0</td>\n",
       "      <td>25.0</td>\n",
       "      <td>185.0</td>\n",
       "      <td>Not low birthweight</td>\n",
       "      <td>Aged 35+</td>\n",
       "      <td>0.0</td>\n",
       "    </tr>\n",
       "    <tr>\n",
       "      <th>3</th>\n",
       "      <td>1187.0</td>\n",
       "      <td>38.0</td>\n",
       "      <td>53.0</td>\n",
       "      <td>4.07</td>\n",
       "      <td>44.0</td>\n",
       "      <td>20.0</td>\n",
       "      <td>Non-smoker</td>\n",
       "      <td>174.0</td>\n",
       "      <td>68.0</td>\n",
       "      <td>26.0</td>\n",
       "      <td>14.0</td>\n",
       "      <td>25.0</td>\n",
       "      <td>189.0</td>\n",
       "      <td>Not low birthweight</td>\n",
       "      <td>Aged &lt; 35</td>\n",
       "      <td>0.0</td>\n",
       "    </tr>\n",
       "    <tr>\n",
       "      <th>4</th>\n",
       "      <td>553.0</td>\n",
       "      <td>37.0</td>\n",
       "      <td>54.0</td>\n",
       "      <td>3.94</td>\n",
       "      <td>42.0</td>\n",
       "      <td>24.0</td>\n",
       "      <td>Non-smoker</td>\n",
       "      <td>175.0</td>\n",
       "      <td>66.0</td>\n",
       "      <td>30.0</td>\n",
       "      <td>12.0</td>\n",
       "      <td>0.0</td>\n",
       "      <td>184.0</td>\n",
       "      <td>Not low birthweight</td>\n",
       "      <td>Aged &lt; 35</td>\n",
       "      <td>0.0</td>\n",
       "    </tr>\n",
       "  </tbody>\n",
       "</table>\n",
       "</div>"
      ],
      "text/plain": [
       "       ID  Headcirc  Length  Birthweight  Gestation  mage      smoker  \\\n",
       "0  1360.0      34.0    56.0         4.55       44.0  20.0  Non-smoker   \n",
       "1  1016.0      36.0    53.0         4.32       40.0  19.0  Non-smoker   \n",
       "2   462.0      39.0    58.0         4.10       41.0  35.0  Non-smoker   \n",
       "3  1187.0      38.0    53.0         4.07       44.0  20.0  Non-smoker   \n",
       "4   553.0      37.0    54.0         3.94       42.0  24.0  Non-smoker   \n",
       "\n",
       "   mheight  mppwt  fage  fedyrs  fnocig  fheight               lowbwt  \\\n",
       "0    162.0   57.0  23.0    10.0    35.0    179.0  Not low birthweight   \n",
       "1    171.0   62.0  19.0    12.0     0.0    183.0  Not low birthweight   \n",
       "2    172.0   58.0  31.0    16.0    25.0    185.0  Not low birthweight   \n",
       "3    174.0   68.0  26.0    14.0    25.0    189.0  Not low birthweight   \n",
       "4    175.0   66.0  30.0    12.0     0.0    184.0  Not low birthweight   \n",
       "\n",
       "      mage35  mnocig  \n",
       "0  Aged < 35     0.0  \n",
       "1  Aged < 35     0.0  \n",
       "2   Aged 35+     0.0  \n",
       "3  Aged < 35     0.0  \n",
       "4  Aged < 35     0.0  "
      ]
     },
     "execution_count": 13,
     "metadata": {},
     "output_type": "execute_result"
    }
   ],
   "source": [
    "df.head()"
   ]
  },
  {
   "cell_type": "code",
   "execution_count": 6,
   "id": "ef74c4fa",
   "metadata": {},
   "outputs": [
    {
     "name": "stdout",
     "output_type": "stream",
     "text": [
      "<class 'pandas.core.frame.DataFrame'>\n",
      "RangeIndex: 42 entries, 0 to 41\n",
      "Data columns (total 16 columns):\n",
      " #   Column       Non-Null Count  Dtype   \n",
      "---  ------       --------------  -----   \n",
      " 0   ID           42 non-null     float64 \n",
      " 1   Headcirc     42 non-null     float64 \n",
      " 2   Length       42 non-null     float64 \n",
      " 3   Birthweight  42 non-null     float64 \n",
      " 4   Gestation    42 non-null     float64 \n",
      " 5   mage         42 non-null     float64 \n",
      " 6   smoker       42 non-null     category\n",
      " 7   mheight      42 non-null     float64 \n",
      " 8   mppwt        42 non-null     float64 \n",
      " 9   fage         42 non-null     float64 \n",
      " 10  fedyrs       42 non-null     float64 \n",
      " 11  fnocig       42 non-null     float64 \n",
      " 12  fheight      42 non-null     float64 \n",
      " 13  lowbwt       42 non-null     category\n",
      " 14  mage35       42 non-null     category\n",
      " 15  mnocig       42 non-null     float64 \n",
      "dtypes: category(3), float64(13)\n",
      "memory usage: 4.9 KB\n"
     ]
    }
   ],
   "source": [
    "df.info()"
   ]
  },
  {
   "cell_type": "code",
   "execution_count": 10,
   "id": "86e0797d",
   "metadata": {},
   "outputs": [
    {
     "data": {
      "text/plain": [
       "False    42\n",
       "dtype: int64"
      ]
     },
     "execution_count": 10,
     "metadata": {},
     "output_type": "execute_result"
    }
   ],
   "source": [
    "df.duplicated().value_counts()"
   ]
  },
  {
   "cell_type": "code",
   "execution_count": 11,
   "id": "8f62022b",
   "metadata": {},
   "outputs": [
    {
     "data": {
      "text/plain": [
       "ID             0\n",
       "Headcirc       0\n",
       "Length         0\n",
       "Birthweight    0\n",
       "Gestation      0\n",
       "mage           0\n",
       "smoker         0\n",
       "mheight        0\n",
       "mppwt          0\n",
       "fage           0\n",
       "fedyrs         0\n",
       "fnocig         0\n",
       "fheight        0\n",
       "lowbwt         0\n",
       "mage35         0\n",
       "mnocig         0\n",
       "dtype: int64"
      ]
     },
     "execution_count": 11,
     "metadata": {},
     "output_type": "execute_result"
    }
   ],
   "source": [
    "df.isnull().sum() "
   ]
  },
  {
   "cell_type": "code",
   "execution_count": 8,
   "id": "962a051b",
   "metadata": {},
   "outputs": [
    {
     "data": {
      "text/html": [
       "<div>\n",
       "<style scoped>\n",
       "    .dataframe tbody tr th:only-of-type {\n",
       "        vertical-align: middle;\n",
       "    }\n",
       "\n",
       "    .dataframe tbody tr th {\n",
       "        vertical-align: top;\n",
       "    }\n",
       "\n",
       "    .dataframe thead th {\n",
       "        text-align: right;\n",
       "    }\n",
       "</style>\n",
       "<table border=\"1\" class=\"dataframe\">\n",
       "  <thead>\n",
       "    <tr style=\"text-align: right;\">\n",
       "      <th></th>\n",
       "      <th>count</th>\n",
       "      <th>mean</th>\n",
       "      <th>std</th>\n",
       "      <th>min</th>\n",
       "      <th>25%</th>\n",
       "      <th>50%</th>\n",
       "      <th>75%</th>\n",
       "      <th>max</th>\n",
       "    </tr>\n",
       "  </thead>\n",
       "  <tbody>\n",
       "    <tr>\n",
       "      <th>ID</th>\n",
       "      <td>42.0</td>\n",
       "      <td>894.071429</td>\n",
       "      <td>467.616186</td>\n",
       "      <td>27.00</td>\n",
       "      <td>537.25</td>\n",
       "      <td>821.000</td>\n",
       "      <td>1269.5000</td>\n",
       "      <td>1764.00</td>\n",
       "    </tr>\n",
       "    <tr>\n",
       "      <th>Headcirc</th>\n",
       "      <td>42.0</td>\n",
       "      <td>34.595238</td>\n",
       "      <td>2.399792</td>\n",
       "      <td>30.00</td>\n",
       "      <td>33.00</td>\n",
       "      <td>34.000</td>\n",
       "      <td>36.0000</td>\n",
       "      <td>39.00</td>\n",
       "    </tr>\n",
       "    <tr>\n",
       "      <th>Length</th>\n",
       "      <td>42.0</td>\n",
       "      <td>51.333333</td>\n",
       "      <td>2.935624</td>\n",
       "      <td>43.00</td>\n",
       "      <td>50.00</td>\n",
       "      <td>52.000</td>\n",
       "      <td>53.0000</td>\n",
       "      <td>58.00</td>\n",
       "    </tr>\n",
       "    <tr>\n",
       "      <th>Birthweight</th>\n",
       "      <td>42.0</td>\n",
       "      <td>3.312857</td>\n",
       "      <td>0.603895</td>\n",
       "      <td>1.92</td>\n",
       "      <td>2.94</td>\n",
       "      <td>3.295</td>\n",
       "      <td>3.6475</td>\n",
       "      <td>4.57</td>\n",
       "    </tr>\n",
       "    <tr>\n",
       "      <th>Gestation</th>\n",
       "      <td>42.0</td>\n",
       "      <td>39.190476</td>\n",
       "      <td>2.643336</td>\n",
       "      <td>33.00</td>\n",
       "      <td>38.00</td>\n",
       "      <td>39.500</td>\n",
       "      <td>41.0000</td>\n",
       "      <td>45.00</td>\n",
       "    </tr>\n",
       "    <tr>\n",
       "      <th>mage</th>\n",
       "      <td>42.0</td>\n",
       "      <td>25.547619</td>\n",
       "      <td>5.666342</td>\n",
       "      <td>18.00</td>\n",
       "      <td>20.25</td>\n",
       "      <td>24.000</td>\n",
       "      <td>29.0000</td>\n",
       "      <td>41.00</td>\n",
       "    </tr>\n",
       "    <tr>\n",
       "      <th>mheight</th>\n",
       "      <td>42.0</td>\n",
       "      <td>164.452381</td>\n",
       "      <td>6.504041</td>\n",
       "      <td>149.00</td>\n",
       "      <td>161.00</td>\n",
       "      <td>164.500</td>\n",
       "      <td>169.5000</td>\n",
       "      <td>181.00</td>\n",
       "    </tr>\n",
       "    <tr>\n",
       "      <th>mppwt</th>\n",
       "      <td>42.0</td>\n",
       "      <td>57.500000</td>\n",
       "      <td>7.198408</td>\n",
       "      <td>45.00</td>\n",
       "      <td>52.25</td>\n",
       "      <td>57.000</td>\n",
       "      <td>62.0000</td>\n",
       "      <td>78.00</td>\n",
       "    </tr>\n",
       "    <tr>\n",
       "      <th>fage</th>\n",
       "      <td>42.0</td>\n",
       "      <td>28.904762</td>\n",
       "      <td>6.863866</td>\n",
       "      <td>19.00</td>\n",
       "      <td>23.00</td>\n",
       "      <td>29.500</td>\n",
       "      <td>32.0000</td>\n",
       "      <td>46.00</td>\n",
       "    </tr>\n",
       "    <tr>\n",
       "      <th>fedyrs</th>\n",
       "      <td>42.0</td>\n",
       "      <td>13.666667</td>\n",
       "      <td>2.160247</td>\n",
       "      <td>10.00</td>\n",
       "      <td>12.00</td>\n",
       "      <td>14.000</td>\n",
       "      <td>16.0000</td>\n",
       "      <td>16.00</td>\n",
       "    </tr>\n",
       "    <tr>\n",
       "      <th>fnocig</th>\n",
       "      <td>42.0</td>\n",
       "      <td>17.190476</td>\n",
       "      <td>17.308165</td>\n",
       "      <td>0.00</td>\n",
       "      <td>0.00</td>\n",
       "      <td>18.500</td>\n",
       "      <td>25.0000</td>\n",
       "      <td>50.00</td>\n",
       "    </tr>\n",
       "    <tr>\n",
       "      <th>fheight</th>\n",
       "      <td>42.0</td>\n",
       "      <td>180.500000</td>\n",
       "      <td>6.978189</td>\n",
       "      <td>169.00</td>\n",
       "      <td>175.25</td>\n",
       "      <td>180.500</td>\n",
       "      <td>184.7500</td>\n",
       "      <td>200.00</td>\n",
       "    </tr>\n",
       "    <tr>\n",
       "      <th>mnocig</th>\n",
       "      <td>42.0</td>\n",
       "      <td>9.428571</td>\n",
       "      <td>12.511737</td>\n",
       "      <td>0.00</td>\n",
       "      <td>0.00</td>\n",
       "      <td>4.500</td>\n",
       "      <td>15.7500</td>\n",
       "      <td>50.00</td>\n",
       "    </tr>\n",
       "  </tbody>\n",
       "</table>\n",
       "</div>"
      ],
      "text/plain": [
       "             count        mean         std     min     25%      50%  \\\n",
       "ID            42.0  894.071429  467.616186   27.00  537.25  821.000   \n",
       "Headcirc      42.0   34.595238    2.399792   30.00   33.00   34.000   \n",
       "Length        42.0   51.333333    2.935624   43.00   50.00   52.000   \n",
       "Birthweight   42.0    3.312857    0.603895    1.92    2.94    3.295   \n",
       "Gestation     42.0   39.190476    2.643336   33.00   38.00   39.500   \n",
       "mage          42.0   25.547619    5.666342   18.00   20.25   24.000   \n",
       "mheight       42.0  164.452381    6.504041  149.00  161.00  164.500   \n",
       "mppwt         42.0   57.500000    7.198408   45.00   52.25   57.000   \n",
       "fage          42.0   28.904762    6.863866   19.00   23.00   29.500   \n",
       "fedyrs        42.0   13.666667    2.160247   10.00   12.00   14.000   \n",
       "fnocig        42.0   17.190476   17.308165    0.00    0.00   18.500   \n",
       "fheight       42.0  180.500000    6.978189  169.00  175.25  180.500   \n",
       "mnocig        42.0    9.428571   12.511737    0.00    0.00    4.500   \n",
       "\n",
       "                   75%      max  \n",
       "ID           1269.5000  1764.00  \n",
       "Headcirc       36.0000    39.00  \n",
       "Length         53.0000    58.00  \n",
       "Birthweight     3.6475     4.57  \n",
       "Gestation      41.0000    45.00  \n",
       "mage           29.0000    41.00  \n",
       "mheight       169.5000   181.00  \n",
       "mppwt          62.0000    78.00  \n",
       "fage           32.0000    46.00  \n",
       "fedyrs         16.0000    16.00  \n",
       "fnocig         25.0000    50.00  \n",
       "fheight       184.7500   200.00  \n",
       "mnocig         15.7500    50.00  "
      ]
     },
     "execution_count": 8,
     "metadata": {},
     "output_type": "execute_result"
    }
   ],
   "source": [
    "df.describe().T"
   ]
  },
  {
   "cell_type": "markdown",
   "id": "51f36ec6",
   "metadata": {},
   "source": [
    "\n",
    "### Data Insights\n",
    "\n",
    "In the given dataset, we have two types of mothers one who Non-smoker and another who are Smoker. So, we can divide data into two groups and compare their characteristics. Here, you can find the average of both the groups using groupby() and mean() function."
   ]
  },
  {
   "cell_type": "code",
   "execution_count": 15,
   "id": "778c2317",
   "metadata": {},
   "outputs": [
    {
     "data": {
      "text/plain": [
       "20"
      ]
     },
     "execution_count": 15,
     "metadata": {},
     "output_type": "execute_result"
    }
   ],
   "source": [
    "df[df['smoker'] == 'Non-smoker'].shape[0]"
   ]
  },
  {
   "cell_type": "code",
   "execution_count": 16,
   "id": "354ea474",
   "metadata": {},
   "outputs": [
    {
     "data": {
      "text/plain": [
       "22"
      ]
     },
     "execution_count": 16,
     "metadata": {},
     "output_type": "execute_result"
    }
   ],
   "source": [
    "df[df['smoker'] == 'Smoker'].shape[0]"
   ]
  },
  {
   "cell_type": "code",
   "execution_count": 19,
   "id": "2ae4254a",
   "metadata": {},
   "outputs": [],
   "source": [
    "df_non_smoker = df[(df.smoker == 'Non-smoker')]"
   ]
  },
  {
   "cell_type": "code",
   "execution_count": 20,
   "id": "4f57dddf",
   "metadata": {},
   "outputs": [],
   "source": [
    "df_smoker = df[(df.smoker == 'Smoker')]"
   ]
  },
  {
   "cell_type": "code",
   "execution_count": 24,
   "id": "9d3f40c3",
   "metadata": {},
   "outputs": [
    {
     "data": {
      "text/html": [
       "<div>\n",
       "<style scoped>\n",
       "    .dataframe tbody tr th:only-of-type {\n",
       "        vertical-align: middle;\n",
       "    }\n",
       "\n",
       "    .dataframe tbody tr th {\n",
       "        vertical-align: top;\n",
       "    }\n",
       "\n",
       "    .dataframe thead th {\n",
       "        text-align: right;\n",
       "    }\n",
       "</style>\n",
       "<table border=\"1\" class=\"dataframe\">\n",
       "  <thead>\n",
       "    <tr style=\"text-align: right;\">\n",
       "      <th></th>\n",
       "      <th>ID</th>\n",
       "      <th>Headcirc</th>\n",
       "      <th>Length</th>\n",
       "      <th>Birthweight</th>\n",
       "      <th>Gestation</th>\n",
       "      <th>mage</th>\n",
       "      <th>smoker</th>\n",
       "      <th>mheight</th>\n",
       "      <th>mppwt</th>\n",
       "      <th>fage</th>\n",
       "      <th>fedyrs</th>\n",
       "      <th>fnocig</th>\n",
       "      <th>fheight</th>\n",
       "      <th>lowbwt</th>\n",
       "      <th>mage35</th>\n",
       "      <th>mnocig</th>\n",
       "    </tr>\n",
       "  </thead>\n",
       "  <tbody>\n",
       "    <tr>\n",
       "      <th>20</th>\n",
       "      <td>792.0</td>\n",
       "      <td>38.0</td>\n",
       "      <td>53.0</td>\n",
       "      <td>3.64</td>\n",
       "      <td>40.0</td>\n",
       "      <td>20.0</td>\n",
       "      <td>Smoker</td>\n",
       "      <td>170.0</td>\n",
       "      <td>59.0</td>\n",
       "      <td>24.0</td>\n",
       "      <td>12.0</td>\n",
       "      <td>12.0</td>\n",
       "      <td>185.0</td>\n",
       "      <td>Not low birthweight</td>\n",
       "      <td>Aged &lt; 35</td>\n",
       "      <td>2.0</td>\n",
       "    </tr>\n",
       "    <tr>\n",
       "      <th>21</th>\n",
       "      <td>1388.0</td>\n",
       "      <td>33.0</td>\n",
       "      <td>51.0</td>\n",
       "      <td>3.14</td>\n",
       "      <td>41.0</td>\n",
       "      <td>22.0</td>\n",
       "      <td>Smoker</td>\n",
       "      <td>160.0</td>\n",
       "      <td>53.0</td>\n",
       "      <td>24.0</td>\n",
       "      <td>16.0</td>\n",
       "      <td>12.0</td>\n",
       "      <td>176.0</td>\n",
       "      <td>Not low birthweight</td>\n",
       "      <td>Aged &lt; 35</td>\n",
       "      <td>7.0</td>\n",
       "    </tr>\n",
       "    <tr>\n",
       "      <th>22</th>\n",
       "      <td>575.0</td>\n",
       "      <td>30.0</td>\n",
       "      <td>50.0</td>\n",
       "      <td>2.78</td>\n",
       "      <td>37.0</td>\n",
       "      <td>19.0</td>\n",
       "      <td>Smoker</td>\n",
       "      <td>165.0</td>\n",
       "      <td>60.0</td>\n",
       "      <td>20.0</td>\n",
       "      <td>14.0</td>\n",
       "      <td>0.0</td>\n",
       "      <td>183.0</td>\n",
       "      <td>Not low birthweight</td>\n",
       "      <td>Aged &lt; 35</td>\n",
       "      <td>7.0</td>\n",
       "    </tr>\n",
       "    <tr>\n",
       "      <th>23</th>\n",
       "      <td>569.0</td>\n",
       "      <td>35.0</td>\n",
       "      <td>50.0</td>\n",
       "      <td>2.51</td>\n",
       "      <td>39.0</td>\n",
       "      <td>22.0</td>\n",
       "      <td>Smoker</td>\n",
       "      <td>159.0</td>\n",
       "      <td>52.0</td>\n",
       "      <td>23.0</td>\n",
       "      <td>14.0</td>\n",
       "      <td>25.0</td>\n",
       "      <td>200.0</td>\n",
       "      <td>Low birthweight</td>\n",
       "      <td>Aged &lt; 35</td>\n",
       "      <td>7.0</td>\n",
       "    </tr>\n",
       "    <tr>\n",
       "      <th>24</th>\n",
       "      <td>1363.0</td>\n",
       "      <td>30.0</td>\n",
       "      <td>48.0</td>\n",
       "      <td>2.37</td>\n",
       "      <td>37.0</td>\n",
       "      <td>20.0</td>\n",
       "      <td>Smoker</td>\n",
       "      <td>163.0</td>\n",
       "      <td>47.0</td>\n",
       "      <td>20.0</td>\n",
       "      <td>10.0</td>\n",
       "      <td>35.0</td>\n",
       "      <td>185.0</td>\n",
       "      <td>Low birthweight</td>\n",
       "      <td>Aged &lt; 35</td>\n",
       "      <td>7.0</td>\n",
       "    </tr>\n",
       "  </tbody>\n",
       "</table>\n",
       "</div>"
      ],
      "text/plain": [
       "        ID  Headcirc  Length  Birthweight  Gestation  mage  smoker  mheight  \\\n",
       "20   792.0      38.0    53.0         3.64       40.0  20.0  Smoker    170.0   \n",
       "21  1388.0      33.0    51.0         3.14       41.0  22.0  Smoker    160.0   \n",
       "22   575.0      30.0    50.0         2.78       37.0  19.0  Smoker    165.0   \n",
       "23   569.0      35.0    50.0         2.51       39.0  22.0  Smoker    159.0   \n",
       "24  1363.0      30.0    48.0         2.37       37.0  20.0  Smoker    163.0   \n",
       "\n",
       "    mppwt  fage  fedyrs  fnocig  fheight               lowbwt     mage35  \\\n",
       "20   59.0  24.0    12.0    12.0    185.0  Not low birthweight  Aged < 35   \n",
       "21   53.0  24.0    16.0    12.0    176.0  Not low birthweight  Aged < 35   \n",
       "22   60.0  20.0    14.0     0.0    183.0  Not low birthweight  Aged < 35   \n",
       "23   52.0  23.0    14.0    25.0    200.0      Low birthweight  Aged < 35   \n",
       "24   47.0  20.0    10.0    35.0    185.0      Low birthweight  Aged < 35   \n",
       "\n",
       "    mnocig  \n",
       "20     2.0  \n",
       "21     7.0  \n",
       "22     7.0  \n",
       "23     7.0  \n",
       "24     7.0  "
      ]
     },
     "execution_count": 24,
     "metadata": {},
     "output_type": "execute_result"
    }
   ],
   "source": [
    "df_smoker.head()"
   ]
  },
  {
   "cell_type": "markdown",
   "id": "eb7fcebd",
   "metadata": {},
   "source": [
    "### Q1. What is the mean birth weight for babies of non-smoking mothers?"
   ]
  },
  {
   "cell_type": "code",
   "execution_count": 38,
   "id": "5466688a",
   "metadata": {},
   "outputs": [],
   "source": [
    "Baby_Weight_Non_Smoker = list(df_non_smoker[\"Birthweight\"])"
   ]
  },
  {
   "cell_type": "code",
   "execution_count": 39,
   "id": "f299a845",
   "metadata": {},
   "outputs": [],
   "source": [
    "x = statistics.mean(Baby_Weight_Non_Smoker)"
   ]
  },
  {
   "cell_type": "code",
   "execution_count": 40,
   "id": "ff84fb8d",
   "metadata": {},
   "outputs": [
    {
     "data": {
      "text/plain": [
       "3.5095"
      ]
     },
     "execution_count": 40,
     "metadata": {},
     "output_type": "execute_result"
    }
   ],
   "source": [
    "x"
   ]
  },
  {
   "cell_type": "markdown",
   "id": "7d1f9c07",
   "metadata": {},
   "source": [
    "### Q2. What is the mean birth weight for babies of smoking mothers?"
   ]
  },
  {
   "cell_type": "code",
   "execution_count": 34,
   "id": "d077f9af",
   "metadata": {},
   "outputs": [],
   "source": [
    "Baby_Weight_Smoker = list(df_smoker[\"Birthweight\"])"
   ]
  },
  {
   "cell_type": "code",
   "execution_count": 36,
   "id": "0b07e7df",
   "metadata": {},
   "outputs": [],
   "source": [
    "y = statistics.mean(Baby_Weight_Smoker)"
   ]
  },
  {
   "cell_type": "code",
   "execution_count": 37,
   "id": "0f3e93c8",
   "metadata": {},
   "outputs": [
    {
     "data": {
      "text/plain": [
       "3.1340909090909093"
      ]
     },
     "execution_count": 37,
     "metadata": {},
     "output_type": "execute_result"
    }
   ],
   "source": [
    "y"
   ]
  },
  {
   "cell_type": "markdown",
   "id": "4446cdc3",
   "metadata": {},
   "source": [
    "### Q3. What is the mean head circumference for babies of non-smoking mothers?"
   ]
  },
  {
   "cell_type": "code",
   "execution_count": 41,
   "id": "c596d8af",
   "metadata": {},
   "outputs": [],
   "source": [
    "Baby_Head_Circumference = list(df_non_smoker[\"Headcirc\"])"
   ]
  },
  {
   "cell_type": "code",
   "execution_count": 42,
   "id": "260d8b70",
   "metadata": {},
   "outputs": [],
   "source": [
    "z = statistics.mean(Baby_Head_Circumference)"
   ]
  },
  {
   "cell_type": "code",
   "execution_count": 43,
   "id": "d0816e96",
   "metadata": {},
   "outputs": [
    {
     "data": {
      "text/plain": [
       "35.05"
      ]
     },
     "execution_count": 43,
     "metadata": {},
     "output_type": "execute_result"
    }
   ],
   "source": [
    "z"
   ]
  },
  {
   "cell_type": "markdown",
   "id": "bd60e9a8",
   "metadata": {},
   "source": [
    "### Q4. What is the mean gestational age at birth for babies of smoking mothers?"
   ]
  },
  {
   "cell_type": "code",
   "execution_count": 45,
   "id": "b1eea46b",
   "metadata": {},
   "outputs": [
    {
     "data": {
      "text/plain": [
       "Gestation    38.954545\n",
       "dtype: float64"
      ]
     },
     "execution_count": 45,
     "metadata": {},
     "output_type": "execute_result"
    }
   ],
   "source": [
    "df_smoker[['Gestation']].mean()"
   ]
  },
  {
   "cell_type": "markdown",
   "id": "2544a814",
   "metadata": {},
   "source": [
    "### Q5. What is the maximum head circumference for babies of non-smoking mothers?"
   ]
  },
  {
   "cell_type": "code",
   "execution_count": 46,
   "id": "4903c16d",
   "metadata": {},
   "outputs": [
    {
     "data": {
      "text/plain": [
       "Headcirc    39.0\n",
       "dtype: float64"
      ]
     },
     "execution_count": 46,
     "metadata": {},
     "output_type": "execute_result"
    }
   ],
   "source": [
    "df_non_smoker[['Headcirc']].max()"
   ]
  },
  {
   "cell_type": "markdown",
   "id": "521e59d9",
   "metadata": {},
   "source": [
    "### Q6. What is the minimum gestational age at birth for babies of smoking mothers?"
   ]
  },
  {
   "cell_type": "code",
   "execution_count": 50,
   "id": "5ed5cf63",
   "metadata": {},
   "outputs": [
    {
     "data": {
      "text/plain": [
       "Gestation    33.0\n",
       "dtype: float64"
      ]
     },
     "execution_count": 50,
     "metadata": {},
     "output_type": "execute_result"
    }
   ],
   "source": [
    "df_smoker[['Gestation']].min()"
   ]
  },
  {
   "cell_type": "markdown",
   "id": "00421551",
   "metadata": {},
   "source": [
    "### Q7. Based on the dataset you have, out of the two, which one would be a better bet:\n"
   ]
  },
  {
   "cell_type": "markdown",
   "id": "6dfd4f3d",
   "metadata": {},
   "source": [
    "\n",
    "Pregnancy period in smoking mothers is shorter or\n",
    "Pregnancy period in non-smoking mothers is shorter"
   ]
  },
  {
   "cell_type": "code",
   "execution_count": 51,
   "id": "b7fc295f",
   "metadata": {},
   "outputs": [
    {
     "data": {
      "text/plain": [
       "Gestation    38.954545\n",
       "dtype: float64"
      ]
     },
     "execution_count": 51,
     "metadata": {},
     "output_type": "execute_result"
    }
   ],
   "source": [
    "df_smoker[['Gestation']].mean()"
   ]
  },
  {
   "cell_type": "code",
   "execution_count": 52,
   "id": "e82f99c7",
   "metadata": {},
   "outputs": [
    {
     "data": {
      "text/plain": [
       "Gestation    39.45\n",
       "dtype: float64"
      ]
     },
     "execution_count": 52,
     "metadata": {},
     "output_type": "execute_result"
    }
   ],
   "source": [
    "df_non_smoker[['Gestation']].mean()"
   ]
  },
  {
   "cell_type": "markdown",
   "id": "393619a8",
   "metadata": {},
   "source": [
    "### Q8. Justify the above choice in a few words."
   ]
  },
  {
   "cell_type": "markdown",
   "id": "3eebe8d8",
   "metadata": {},
   "source": [
    "Pregnancy period in smoking mothers is shorter than Pregnancy period in non-smoking mothers."
   ]
  },
  {
   "cell_type": "code",
   "execution_count": null,
   "id": "43f88406",
   "metadata": {},
   "outputs": [],
   "source": []
  },
  {
   "cell_type": "code",
   "execution_count": null,
   "id": "29e2b471",
   "metadata": {},
   "outputs": [],
   "source": []
  },
  {
   "cell_type": "code",
   "execution_count": null,
   "id": "32530a8c",
   "metadata": {},
   "outputs": [],
   "source": []
  },
  {
   "cell_type": "code",
   "execution_count": 60,
   "id": "098a3e4b",
   "metadata": {},
   "outputs": [
    {
     "data": {
      "image/png": "[encoded data removed]",
      "text/plain": [
       "<Figure size 700x500 with 1 Axes>"
      ]
     },
     "metadata": {
      "needs_background": "light"
     },
     "output_type": "display_data"
    }
   ],
   "source": [
    "plt.figure(figsize=(7,5), dpi=100)\n",
    "g = df.smoker.value_counts().plot(kind=\"bar\", color=[\"green\", \"red\"], width=0.3)\n",
    "plt.title('Distribution of Mothers', fontsize = 15)\n",
    "plt.xlabel(\"Smoker & Non_Smoker\")\n",
    "plt.ylabel(\"Number of Mothers\")\n",
    "\n",
    "for p in g.patches:\n",
    "    g.annotate((p.get_height()), (p.get_x()+0.07, p.get_height()+5));"
   ]
  },
  {
   "cell_type": "code",
   "execution_count": null,
   "id": "00646e48",
   "metadata": {},
   "outputs": [],
   "source": []
  }
 ],
 "metadata": {
  "kernelspec": {
   "display_name": "Python 3",
   "language": "python",
   "name": "python3"
  },
  "language_info": {
   "codemirror_mode": {
    "name": "ipython",
    "version": 3
   },
   "file_extension": ".py",
   "mimetype": "text/x-python",
   "name": "python",
   "nbconvert_exporter": "python",
   "pygments_lexer": "ipython3",
   "version": "3.8.8"
  }
 },
 "nbformat": 4,
 "nbformat_minor": 5
}
