{
 "cells": [
  {
   "cell_type": "code",
   "execution_count": 1,
   "id": "14586742",
   "metadata": {},
   "outputs": [],
   "source": [
    "import pandas as pd\n",
    "import numpy as np\n",
    "import seaborn as sns\n",
    "import scipy.stats as st\n",
    "import matplotlib.pyplot as plt\n",
    "import statistics\n",
    "from scipy import stats\n",
    "import re\n",
    "plt.rcParams[\"figure.figsize\"] = [12, 8]\n",
    "import warnings\n",
    "warnings.filterwarnings('ignore')"
   ]
  },
  {
   "cell_type": "code",
   "execution_count": 28,
   "id": "5d83afff",
   "metadata": {},
   "outputs": [],
   "source": [
    "df = pd.read_spss('PickUpLines.sav')"
   ]
  },
  {
   "cell_type": "code",
   "execution_count": 29,
   "id": "73a34c70",
   "metadata": {},
   "outputs": [
    {
     "data": {
      "text/html": [
       "<div>\n",
       "<style scoped>\n",
       "    .dataframe tbody tr th:only-of-type {\n",
       "        vertical-align: middle;\n",
       "    }\n",
       "\n",
       "    .dataframe tbody tr th {\n",
       "        vertical-align: top;\n",
       "    }\n",
       "\n",
       "    .dataframe thead th {\n",
       "        text-align: right;\n",
       "    }\n",
       "</style>\n",
       "<table border=\"1\" class=\"dataframe\">\n",
       "  <thead>\n",
       "    <tr style=\"text-align: right;\">\n",
       "      <th></th>\n",
       "      <th>ParticipantNumber</th>\n",
       "      <th>PickUp</th>\n",
       "      <th>Scent</th>\n",
       "      <th>Receptivity</th>\n",
       "      <th>Gender</th>\n",
       "      <th>Age</th>\n",
       "      <th>Ethnicity</th>\n",
       "      <th>YearInSchool</th>\n",
       "      <th>Contraceptive</th>\n",
       "      <th>filter_$</th>\n",
       "    </tr>\n",
       "  </thead>\n",
       "  <tbody>\n",
       "    <tr>\n",
       "      <th>0</th>\n",
       "      <td>1.0</td>\n",
       "      <td>Cute-Direct (Experimental Condition)</td>\n",
       "      <td>No Spray (Control Condition)</td>\n",
       "      <td>3.25424</td>\n",
       "      <td>female</td>\n",
       "      <td>21.0</td>\n",
       "      <td>white or european</td>\n",
       "      <td>sophomore</td>\n",
       "      <td>Yes</td>\n",
       "      <td>Not Selected</td>\n",
       "    </tr>\n",
       "    <tr>\n",
       "      <th>1</th>\n",
       "      <td>2.0</td>\n",
       "      <td>Cute-Direct (Experimental Condition)</td>\n",
       "      <td>Spray (Experimental Condition)</td>\n",
       "      <td>4.43760</td>\n",
       "      <td>female</td>\n",
       "      <td>19.0</td>\n",
       "      <td>white or european</td>\n",
       "      <td>junior</td>\n",
       "      <td>No</td>\n",
       "      <td>Selected</td>\n",
       "    </tr>\n",
       "    <tr>\n",
       "      <th>2</th>\n",
       "      <td>3.0</td>\n",
       "      <td>Cute-Direct (Experimental Condition)</td>\n",
       "      <td>Spray (Experimental Condition)</td>\n",
       "      <td>4.43760</td>\n",
       "      <td>female</td>\n",
       "      <td>21.0</td>\n",
       "      <td>white or european</td>\n",
       "      <td>freshman</td>\n",
       "      <td>No</td>\n",
       "      <td>Selected</td>\n",
       "    </tr>\n",
       "    <tr>\n",
       "      <th>3</th>\n",
       "      <td>4.0</td>\n",
       "      <td>Cute-Direct (Experimental Condition)</td>\n",
       "      <td>Spray (Experimental Condition)</td>\n",
       "      <td>3.91988</td>\n",
       "      <td>female</td>\n",
       "      <td>19.0</td>\n",
       "      <td>white or european</td>\n",
       "      <td>junior</td>\n",
       "      <td>Yes</td>\n",
       "      <td>Not Selected</td>\n",
       "    </tr>\n",
       "    <tr>\n",
       "      <th>4</th>\n",
       "      <td>5.0</td>\n",
       "      <td>Direct-Direct (Control Condition)</td>\n",
       "      <td>No Spray (Control Condition)</td>\n",
       "      <td>3.99384</td>\n",
       "      <td>female</td>\n",
       "      <td>20.0</td>\n",
       "      <td>eastern or asian</td>\n",
       "      <td>sophomore</td>\n",
       "      <td>No</td>\n",
       "      <td>Selected</td>\n",
       "    </tr>\n",
       "    <tr>\n",
       "      <th>5</th>\n",
       "      <td>6.0</td>\n",
       "      <td>Cute-Direct (Experimental Condition)</td>\n",
       "      <td>No Spray (Control Condition)</td>\n",
       "      <td>2.95840</td>\n",
       "      <td>female</td>\n",
       "      <td>22.0</td>\n",
       "      <td>white or european</td>\n",
       "      <td>freshman</td>\n",
       "      <td>No</td>\n",
       "      <td>Selected</td>\n",
       "    </tr>\n",
       "    <tr>\n",
       "      <th>6</th>\n",
       "      <td>7.0</td>\n",
       "      <td>Cute-Direct (Experimental Condition)</td>\n",
       "      <td>Spray (Experimental Condition)</td>\n",
       "      <td>3.99384</td>\n",
       "      <td>female</td>\n",
       "      <td>21.0</td>\n",
       "      <td>white or european</td>\n",
       "      <td>junior</td>\n",
       "      <td>Yes</td>\n",
       "      <td>Not Selected</td>\n",
       "    </tr>\n",
       "    <tr>\n",
       "      <th>7</th>\n",
       "      <td>8.0</td>\n",
       "      <td>Direct-Direct (Control Condition)</td>\n",
       "      <td>No Spray (Control Condition)</td>\n",
       "      <td>2.95840</td>\n",
       "      <td>female</td>\n",
       "      <td>20.0</td>\n",
       "      <td>white or european</td>\n",
       "      <td>sophomore</td>\n",
       "      <td>No</td>\n",
       "      <td>Selected</td>\n",
       "    </tr>\n",
       "    <tr>\n",
       "      <th>8</th>\n",
       "      <td>9.0</td>\n",
       "      <td>Cute-Direct (Experimental Condition)</td>\n",
       "      <td>No Spray (Control Condition)</td>\n",
       "      <td>3.51310</td>\n",
       "      <td>female</td>\n",
       "      <td>20.0</td>\n",
       "      <td>black or african</td>\n",
       "      <td>freshman</td>\n",
       "      <td>No</td>\n",
       "      <td>Selected</td>\n",
       "    </tr>\n",
       "    <tr>\n",
       "      <th>9</th>\n",
       "      <td>10.0</td>\n",
       "      <td>Direct-Direct (Control Condition)</td>\n",
       "      <td>No Spray (Control Condition)</td>\n",
       "      <td>3.49461</td>\n",
       "      <td>female</td>\n",
       "      <td>20.0</td>\n",
       "      <td>eastern or asian</td>\n",
       "      <td>sophomore</td>\n",
       "      <td>No</td>\n",
       "      <td>Selected</td>\n",
       "    </tr>\n",
       "    <tr>\n",
       "      <th>10</th>\n",
       "      <td>11.0</td>\n",
       "      <td>Direct-Direct (Control Condition)</td>\n",
       "      <td>No Spray (Control Condition)</td>\n",
       "      <td>3.47612</td>\n",
       "      <td>female</td>\n",
       "      <td>21.0</td>\n",
       "      <td>eastern or asian</td>\n",
       "      <td>sophomore</td>\n",
       "      <td>No</td>\n",
       "      <td>Selected</td>\n",
       "    </tr>\n",
       "    <tr>\n",
       "      <th>11</th>\n",
       "      <td>12.0</td>\n",
       "      <td>Direct-Direct (Control Condition)</td>\n",
       "      <td>No Spray (Control Condition)</td>\n",
       "      <td>3.10632</td>\n",
       "      <td>female</td>\n",
       "      <td>19.0</td>\n",
       "      <td>white or european</td>\n",
       "      <td>freshman</td>\n",
       "      <td>No</td>\n",
       "      <td>Selected</td>\n",
       "    </tr>\n",
       "    <tr>\n",
       "      <th>12</th>\n",
       "      <td>13.0</td>\n",
       "      <td>Cute-Direct (Experimental Condition)</td>\n",
       "      <td>No Spray (Control Condition)</td>\n",
       "      <td>3.80894</td>\n",
       "      <td>female</td>\n",
       "      <td>21.0</td>\n",
       "      <td>black or african</td>\n",
       "      <td>freshman</td>\n",
       "      <td>No</td>\n",
       "      <td>Selected</td>\n",
       "    </tr>\n",
       "    <tr>\n",
       "      <th>13</th>\n",
       "      <td>14.0</td>\n",
       "      <td>Cute-Direct (Experimental Condition)</td>\n",
       "      <td>No Spray (Control Condition)</td>\n",
       "      <td>3.99384</td>\n",
       "      <td>female</td>\n",
       "      <td>19.0</td>\n",
       "      <td>black or african</td>\n",
       "      <td>freshman</td>\n",
       "      <td>No</td>\n",
       "      <td>Selected</td>\n",
       "    </tr>\n",
       "    <tr>\n",
       "      <th>14</th>\n",
       "      <td>15.0</td>\n",
       "      <td>Cute-Direct (Experimental Condition)</td>\n",
       "      <td>No Spray (Control Condition)</td>\n",
       "      <td>3.80894</td>\n",
       "      <td>female</td>\n",
       "      <td>20.0</td>\n",
       "      <td>white or european</td>\n",
       "      <td>sophomore</td>\n",
       "      <td>No</td>\n",
       "      <td>Selected</td>\n",
       "    </tr>\n",
       "    <tr>\n",
       "      <th>15</th>\n",
       "      <td>16.0</td>\n",
       "      <td>Direct-Direct (Control Condition)</td>\n",
       "      <td>No Spray (Control Condition)</td>\n",
       "      <td>3.32820</td>\n",
       "      <td>female</td>\n",
       "      <td>19.0</td>\n",
       "      <td>white or european</td>\n",
       "      <td>freshman</td>\n",
       "      <td>No</td>\n",
       "      <td>Selected</td>\n",
       "    </tr>\n",
       "    <tr>\n",
       "      <th>16</th>\n",
       "      <td>17.0</td>\n",
       "      <td>Cute-Direct (Experimental Condition)</td>\n",
       "      <td>No Spray (Control Condition)</td>\n",
       "      <td>3.99384</td>\n",
       "      <td>female</td>\n",
       "      <td>21.0</td>\n",
       "      <td>hispanic, latino, spanish</td>\n",
       "      <td>sophomore</td>\n",
       "      <td>No</td>\n",
       "      <td>Selected</td>\n",
       "    </tr>\n",
       "    <tr>\n",
       "      <th>17</th>\n",
       "      <td>18.0</td>\n",
       "      <td>Cute-Direct (Experimental Condition)</td>\n",
       "      <td>No Spray (Control Condition)</td>\n",
       "      <td>4.10478</td>\n",
       "      <td>female</td>\n",
       "      <td>19.0</td>\n",
       "      <td>white or european</td>\n",
       "      <td>freshman</td>\n",
       "      <td>No</td>\n",
       "      <td>Selected</td>\n",
       "    </tr>\n",
       "    <tr>\n",
       "      <th>18</th>\n",
       "      <td>19.0</td>\n",
       "      <td>Direct-Direct (Control Condition)</td>\n",
       "      <td>Spray (Experimental Condition)</td>\n",
       "      <td>3.91988</td>\n",
       "      <td>female</td>\n",
       "      <td>20.0</td>\n",
       "      <td>other</td>\n",
       "      <td>junior</td>\n",
       "      <td>No</td>\n",
       "      <td>Selected</td>\n",
       "    </tr>\n",
       "    <tr>\n",
       "      <th>19</th>\n",
       "      <td>20.0</td>\n",
       "      <td>Cute-Direct (Experimental Condition)</td>\n",
       "      <td>No Spray (Control Condition)</td>\n",
       "      <td>3.47612</td>\n",
       "      <td>female</td>\n",
       "      <td>22.0</td>\n",
       "      <td>black or african</td>\n",
       "      <td>freshman</td>\n",
       "      <td>No</td>\n",
       "      <td>Selected</td>\n",
       "    </tr>\n",
       "    <tr>\n",
       "      <th>20</th>\n",
       "      <td>21.0</td>\n",
       "      <td>Cute-Direct (Experimental Condition)</td>\n",
       "      <td>No Spray (Control Condition)</td>\n",
       "      <td>3.36518</td>\n",
       "      <td>female</td>\n",
       "      <td>19.0</td>\n",
       "      <td>white or european</td>\n",
       "      <td>freshman</td>\n",
       "      <td>Yes</td>\n",
       "      <td>Not Selected</td>\n",
       "    </tr>\n",
       "    <tr>\n",
       "      <th>21</th>\n",
       "      <td>22.0</td>\n",
       "      <td>Direct-Direct (Control Condition)</td>\n",
       "      <td>No Spray (Control Condition)</td>\n",
       "      <td>3.73498</td>\n",
       "      <td>female</td>\n",
       "      <td>19.0</td>\n",
       "      <td>white or european</td>\n",
       "      <td>freshman</td>\n",
       "      <td>No</td>\n",
       "      <td>Selected</td>\n",
       "    </tr>\n",
       "    <tr>\n",
       "      <th>22</th>\n",
       "      <td>23.0</td>\n",
       "      <td>Direct-Direct (Control Condition)</td>\n",
       "      <td>Spray (Experimental Condition)</td>\n",
       "      <td>3.40216</td>\n",
       "      <td>female</td>\n",
       "      <td>19.0</td>\n",
       "      <td>black or african</td>\n",
       "      <td>freshman</td>\n",
       "      <td>No</td>\n",
       "      <td>Selected</td>\n",
       "    </tr>\n",
       "    <tr>\n",
       "      <th>23</th>\n",
       "      <td>24.0</td>\n",
       "      <td>Cute-Direct (Experimental Condition)</td>\n",
       "      <td>Spray (Experimental Condition)</td>\n",
       "      <td>4.28968</td>\n",
       "      <td>female</td>\n",
       "      <td>21.0</td>\n",
       "      <td>white or european</td>\n",
       "      <td>junior</td>\n",
       "      <td>Yes</td>\n",
       "      <td>Not Selected</td>\n",
       "    </tr>\n",
       "    <tr>\n",
       "      <th>24</th>\n",
       "      <td>25.0</td>\n",
       "      <td>Cute-Direct (Experimental Condition)</td>\n",
       "      <td>Spray (Experimental Condition)</td>\n",
       "      <td>4.28968</td>\n",
       "      <td>female</td>\n",
       "      <td>21.0</td>\n",
       "      <td>black or african</td>\n",
       "      <td>junior</td>\n",
       "      <td>Yes</td>\n",
       "      <td>Not Selected</td>\n",
       "    </tr>\n",
       "    <tr>\n",
       "      <th>25</th>\n",
       "      <td>26.0</td>\n",
       "      <td>Cute-Direct (Experimental Condition)</td>\n",
       "      <td>No Spray (Control Condition)</td>\n",
       "      <td>3.21726</td>\n",
       "      <td>female</td>\n",
       "      <td>19.0</td>\n",
       "      <td>white or european</td>\n",
       "      <td>sophomore</td>\n",
       "      <td>No</td>\n",
       "      <td>Selected</td>\n",
       "    </tr>\n",
       "    <tr>\n",
       "      <th>26</th>\n",
       "      <td>27.0</td>\n",
       "      <td>Cute-Direct (Experimental Condition)</td>\n",
       "      <td>No Spray (Control Condition)</td>\n",
       "      <td>3.84592</td>\n",
       "      <td>female</td>\n",
       "      <td>19.0</td>\n",
       "      <td>white or european</td>\n",
       "      <td>freshman</td>\n",
       "      <td>No</td>\n",
       "      <td>Selected</td>\n",
       "    </tr>\n",
       "    <tr>\n",
       "      <th>27</th>\n",
       "      <td>28.0</td>\n",
       "      <td>Cute-Direct (Experimental Condition)</td>\n",
       "      <td>No Spray (Control Condition)</td>\n",
       "      <td>3.32820</td>\n",
       "      <td>female</td>\n",
       "      <td>19.0</td>\n",
       "      <td>white or european</td>\n",
       "      <td>sophomore</td>\n",
       "      <td>No</td>\n",
       "      <td>Selected</td>\n",
       "    </tr>\n",
       "    <tr>\n",
       "      <th>28</th>\n",
       "      <td>29.0</td>\n",
       "      <td>Cute-Direct (Experimental Condition)</td>\n",
       "      <td>No Spray (Control Condition)</td>\n",
       "      <td>3.32820</td>\n",
       "      <td>female</td>\n",
       "      <td>19.0</td>\n",
       "      <td>white or european</td>\n",
       "      <td>freshman</td>\n",
       "      <td>No</td>\n",
       "      <td>Selected</td>\n",
       "    </tr>\n",
       "    <tr>\n",
       "      <th>29</th>\n",
       "      <td>30.0</td>\n",
       "      <td>Cute-Direct (Experimental Condition)</td>\n",
       "      <td>No Spray (Control Condition)</td>\n",
       "      <td>3.95686</td>\n",
       "      <td>female</td>\n",
       "      <td>19.0</td>\n",
       "      <td>white or european</td>\n",
       "      <td>freshman</td>\n",
       "      <td>Yes</td>\n",
       "      <td>Not Selected</td>\n",
       "    </tr>\n",
       "    <tr>\n",
       "      <th>30</th>\n",
       "      <td>31.0</td>\n",
       "      <td>Direct-Direct (Control Condition)</td>\n",
       "      <td>No Spray (Control Condition)</td>\n",
       "      <td>4.25270</td>\n",
       "      <td>female</td>\n",
       "      <td>39.0</td>\n",
       "      <td>white or european</td>\n",
       "      <td>sophomore</td>\n",
       "      <td>No</td>\n",
       "      <td>Selected</td>\n",
       "    </tr>\n",
       "    <tr>\n",
       "      <th>31</th>\n",
       "      <td>32.0</td>\n",
       "      <td>Cute-Direct (Experimental Condition)</td>\n",
       "      <td>No Spray (Control Condition)</td>\n",
       "      <td>3.47612</td>\n",
       "      <td>female</td>\n",
       "      <td>26.0</td>\n",
       "      <td>white or european</td>\n",
       "      <td>senior</td>\n",
       "      <td>No</td>\n",
       "      <td>Selected</td>\n",
       "    </tr>\n",
       "    <tr>\n",
       "      <th>32</th>\n",
       "      <td>33.0</td>\n",
       "      <td>Cute-Direct (Experimental Condition)</td>\n",
       "      <td>No Spray (Control Condition)</td>\n",
       "      <td>3.73498</td>\n",
       "      <td>female</td>\n",
       "      <td>20.0</td>\n",
       "      <td>white or european</td>\n",
       "      <td>sophomore</td>\n",
       "      <td>Yes</td>\n",
       "      <td>Not Selected</td>\n",
       "    </tr>\n",
       "  </tbody>\n",
       "</table>\n",
       "</div>"
      ],
      "text/plain": [
       "    ParticipantNumber                                PickUp  \\\n",
       "0                 1.0  Cute-Direct (Experimental Condition)   \n",
       "1                 2.0  Cute-Direct (Experimental Condition)   \n",
       "2                 3.0  Cute-Direct (Experimental Condition)   \n",
       "3                 4.0  Cute-Direct (Experimental Condition)   \n",
       "4                 5.0     Direct-Direct (Control Condition)   \n",
       "5                 6.0  Cute-Direct (Experimental Condition)   \n",
       "6                 7.0  Cute-Direct (Experimental Condition)   \n",
       "7                 8.0     Direct-Direct (Control Condition)   \n",
       "8                 9.0  Cute-Direct (Experimental Condition)   \n",
       "9                10.0     Direct-Direct (Control Condition)   \n",
       "10               11.0     Direct-Direct (Control Condition)   \n",
       "11               12.0     Direct-Direct (Control Condition)   \n",
       "12               13.0  Cute-Direct (Experimental Condition)   \n",
       "13               14.0  Cute-Direct (Experimental Condition)   \n",
       "14               15.0  Cute-Direct (Experimental Condition)   \n",
       "15               16.0     Direct-Direct (Control Condition)   \n",
       "16               17.0  Cute-Direct (Experimental Condition)   \n",
       "17               18.0  Cute-Direct (Experimental Condition)   \n",
       "18               19.0     Direct-Direct (Control Condition)   \n",
       "19               20.0  Cute-Direct (Experimental Condition)   \n",
       "20               21.0  Cute-Direct (Experimental Condition)   \n",
       "21               22.0     Direct-Direct (Control Condition)   \n",
       "22               23.0     Direct-Direct (Control Condition)   \n",
       "23               24.0  Cute-Direct (Experimental Condition)   \n",
       "24               25.0  Cute-Direct (Experimental Condition)   \n",
       "25               26.0  Cute-Direct (Experimental Condition)   \n",
       "26               27.0  Cute-Direct (Experimental Condition)   \n",
       "27               28.0  Cute-Direct (Experimental Condition)   \n",
       "28               29.0  Cute-Direct (Experimental Condition)   \n",
       "29               30.0  Cute-Direct (Experimental Condition)   \n",
       "30               31.0     Direct-Direct (Control Condition)   \n",
       "31               32.0  Cute-Direct (Experimental Condition)   \n",
       "32               33.0  Cute-Direct (Experimental Condition)   \n",
       "\n",
       "                             Scent  Receptivity  Gender   Age  \\\n",
       "0     No Spray (Control Condition)      3.25424  female  21.0   \n",
       "1   Spray (Experimental Condition)      4.43760  female  19.0   \n",
       "2   Spray (Experimental Condition)      4.43760  female  21.0   \n",
       "3   Spray (Experimental Condition)      3.91988  female  19.0   \n",
       "4     No Spray (Control Condition)      3.99384  female  20.0   \n",
       "5     No Spray (Control Condition)      2.95840  female  22.0   \n",
       "6   Spray (Experimental Condition)      3.99384  female  21.0   \n",
       "7     No Spray (Control Condition)      2.95840  female  20.0   \n",
       "8     No Spray (Control Condition)      3.51310  female  20.0   \n",
       "9     No Spray (Control Condition)      3.49461  female  20.0   \n",
       "10    No Spray (Control Condition)      3.47612  female  21.0   \n",
       "11    No Spray (Control Condition)      3.10632  female  19.0   \n",
       "12    No Spray (Control Condition)      3.80894  female  21.0   \n",
       "13    No Spray (Control Condition)      3.99384  female  19.0   \n",
       "14    No Spray (Control Condition)      3.80894  female  20.0   \n",
       "15    No Spray (Control Condition)      3.32820  female  19.0   \n",
       "16    No Spray (Control Condition)      3.99384  female  21.0   \n",
       "17    No Spray (Control Condition)      4.10478  female  19.0   \n",
       "18  Spray (Experimental Condition)      3.91988  female  20.0   \n",
       "19    No Spray (Control Condition)      3.47612  female  22.0   \n",
       "20    No Spray (Control Condition)      3.36518  female  19.0   \n",
       "21    No Spray (Control Condition)      3.73498  female  19.0   \n",
       "22  Spray (Experimental Condition)      3.40216  female  19.0   \n",
       "23  Spray (Experimental Condition)      4.28968  female  21.0   \n",
       "24  Spray (Experimental Condition)      4.28968  female  21.0   \n",
       "25    No Spray (Control Condition)      3.21726  female  19.0   \n",
       "26    No Spray (Control Condition)      3.84592  female  19.0   \n",
       "27    No Spray (Control Condition)      3.32820  female  19.0   \n",
       "28    No Spray (Control Condition)      3.32820  female  19.0   \n",
       "29    No Spray (Control Condition)      3.95686  female  19.0   \n",
       "30    No Spray (Control Condition)      4.25270  female  39.0   \n",
       "31    No Spray (Control Condition)      3.47612  female  26.0   \n",
       "32    No Spray (Control Condition)      3.73498  female  20.0   \n",
       "\n",
       "                    Ethnicity YearInSchool Contraceptive      filter_$  \n",
       "0           white or european    sophomore           Yes  Not Selected  \n",
       "1           white or european       junior            No      Selected  \n",
       "2           white or european     freshman            No      Selected  \n",
       "3           white or european       junior           Yes  Not Selected  \n",
       "4            eastern or asian    sophomore            No      Selected  \n",
       "5           white or european     freshman            No      Selected  \n",
       "6           white or european       junior           Yes  Not Selected  \n",
       "7           white or european    sophomore            No      Selected  \n",
       "8            black or african     freshman            No      Selected  \n",
       "9            eastern or asian    sophomore            No      Selected  \n",
       "10           eastern or asian    sophomore            No      Selected  \n",
       "11          white or european     freshman            No      Selected  \n",
       "12           black or african     freshman            No      Selected  \n",
       "13           black or african     freshman            No      Selected  \n",
       "14          white or european    sophomore            No      Selected  \n",
       "15          white or european     freshman            No      Selected  \n",
       "16  hispanic, latino, spanish    sophomore            No      Selected  \n",
       "17          white or european     freshman            No      Selected  \n",
       "18                      other       junior            No      Selected  \n",
       "19           black or african     freshman            No      Selected  \n",
       "20          white or european     freshman           Yes  Not Selected  \n",
       "21          white or european     freshman            No      Selected  \n",
       "22           black or african     freshman            No      Selected  \n",
       "23          white or european       junior           Yes  Not Selected  \n",
       "24           black or african       junior           Yes  Not Selected  \n",
       "25          white or european    sophomore            No      Selected  \n",
       "26          white or european     freshman            No      Selected  \n",
       "27          white or european    sophomore            No      Selected  \n",
       "28          white or european     freshman            No      Selected  \n",
       "29          white or european     freshman           Yes  Not Selected  \n",
       "30          white or european    sophomore            No      Selected  \n",
       "31          white or european       senior            No      Selected  \n",
       "32          white or european    sophomore           Yes  Not Selected  "
      ]
     },
     "execution_count": 29,
     "metadata": {},
     "output_type": "execute_result"
    }
   ],
   "source": [
    "df.head(33)"
   ]
  },
  {
   "cell_type": "code",
   "execution_count": 7,
   "id": "52391be3",
   "metadata": {},
   "outputs": [
    {
     "name": "stdout",
     "output_type": "stream",
     "text": [
      "<class 'pandas.core.frame.DataFrame'>\n",
      "RangeIndex: 194 entries, 0 to 193\n",
      "Data columns (total 10 columns):\n",
      " #   Column             Non-Null Count  Dtype   \n",
      "---  ------             --------------  -----   \n",
      " 0   ParticipantNumber  194 non-null    float64 \n",
      " 1   PickUp             194 non-null    category\n",
      " 2   Scent              194 non-null    category\n",
      " 3   Receptivity        194 non-null    float64 \n",
      " 4   Gender             194 non-null    category\n",
      " 5   Age                194 non-null    float64 \n",
      " 6   Ethnicity          194 non-null    category\n",
      " 7   YearInSchool       194 non-null    category\n",
      " 8   Contraceptive      194 non-null    category\n",
      " 9   filter_$           194 non-null    category\n",
      "dtypes: category(7), float64(3)\n",
      "memory usage: 7.0 KB\n"
     ]
    }
   ],
   "source": [
    "df.info()"
   ]
  },
  {
   "cell_type": "markdown",
   "id": "d47fbf71",
   "metadata": {},
   "source": [
    "### RQ1: Is there any evidence to suggest that the cute-direct pick-up approach will lead to more relationship receptivity than the direct-direct approach?"
   ]
  },
  {
   "cell_type": "markdown",
   "id": "951efdd8",
   "metadata": {},
   "source": [
    "### Q1- What is your dependent variable?"
   ]
  },
  {
   "cell_type": "markdown",
   "id": "5f7bd455",
   "metadata": {},
   "source": [
    "Our dependent variable is PickUp."
   ]
  },
  {
   "cell_type": "markdown",
   "id": "6a52e3f4",
   "metadata": {},
   "source": [
    "### Q2- What is(are) your independent variable(s)?"
   ]
  },
  {
   "cell_type": "markdown",
   "id": "74bdc31b",
   "metadata": {},
   "source": [
    "Our independent variables can be Scent,Receptivity, Gender, Age, Ethnicity, YearInSchool, Contraceptive."
   ]
  },
  {
   "cell_type": "markdown",
   "id": "7a10f89d",
   "metadata": {},
   "source": [
    "### Q3 Is there independence of observations? "
   ]
  },
  {
   "cell_type": "code",
   "execution_count": 4,
   "id": "3cb00f61",
   "metadata": {},
   "outputs": [],
   "source": [
    "from statsmodels.stats.stattools import durbin_watson\n",
    "from statsmodels.formula.api import ols"
   ]
  },
  {
   "cell_type": "code",
   "execution_count": 30,
   "id": "65023eb9",
   "metadata": {},
   "outputs": [
    {
     "name": "stdout",
     "output_type": "stream",
     "text": [
      "Modified DataFrame:\n",
      "      ParticipantNumber PickUp Scent  Receptivity  Gender   Age  \\\n",
      "0                  1.0      1     0      3.25424  female  21.0   \n",
      "1                  2.0      1     1      4.43760  female  19.0   \n",
      "2                  3.0      1     1      4.43760  female  21.0   \n",
      "3                  4.0      1     1      3.91988  female  19.0   \n",
      "4                  5.0      0     0      3.99384  female  20.0   \n",
      "..                 ...    ...   ...          ...     ...   ...   \n",
      "189              190.0      1     0      4.06780  female  23.0   \n",
      "190              191.0      1     0      3.99384  female  21.0   \n",
      "191              192.0      0     1      3.91988  female  20.0   \n",
      "192              193.0      0     1      4.32666  female  20.0   \n",
      "193              194.0      0     1      3.14330  female  19.0   \n",
      "\n",
      "                     Ethnicity YearInSchool Contraceptive      filter_$  \n",
      "0            white or european    sophomore           Yes  Not Selected  \n",
      "1            white or european       junior            No      Selected  \n",
      "2            white or european     freshman            No      Selected  \n",
      "3            white or european       junior           Yes  Not Selected  \n",
      "4             eastern or asian    sophomore            No      Selected  \n",
      "..                         ...          ...           ...           ...  \n",
      "189          white or european     freshman           Yes  Not Selected  \n",
      "190  hispanic, latino, spanish    sophomore           Yes  Not Selected  \n",
      "191                      other       junior           Yes  Not Selected  \n",
      "192          white or european    sophomore           Yes  Not Selected  \n",
      "193           eastern or asian    sophomore           Yes  Not Selected  \n",
      "\n",
      "[194 rows x 10 columns]\n"
     ]
    }
   ],
   "source": [
    "# Using map function\n",
    "df['PickUp'] = df['PickUp'].map({'Cute-Direct (Experimental Condition)': 1, 'Direct-Direct (Control Condition)': 0})\n",
    "\n",
    "df['Scent'] = df['Scent'].map({'Spray (Experimental Condition)': 1, 'No Spray (Control Condition)': 0})\n",
    "\n",
    "# Display modified DataFrame\n",
    "print(\"Modified DataFrame:\\n\",df)"
   ]
  },
  {
   "cell_type": "code",
   "execution_count": 13,
   "id": "4c259d0f",
   "metadata": {},
   "outputs": [
    {
     "data": {
      "text/html": [
       "<div>\n",
       "<style scoped>\n",
       "    .dataframe tbody tr th:only-of-type {\n",
       "        vertical-align: middle;\n",
       "    }\n",
       "\n",
       "    .dataframe tbody tr th {\n",
       "        vertical-align: top;\n",
       "    }\n",
       "\n",
       "    .dataframe thead th {\n",
       "        text-align: right;\n",
       "    }\n",
       "</style>\n",
       "<table border=\"1\" class=\"dataframe\">\n",
       "  <thead>\n",
       "    <tr style=\"text-align: right;\">\n",
       "      <th></th>\n",
       "      <th>ParticipantNumber</th>\n",
       "      <th>PickUp</th>\n",
       "      <th>Scent</th>\n",
       "      <th>Receptivity</th>\n",
       "      <th>Gender</th>\n",
       "      <th>Age</th>\n",
       "      <th>Ethnicity</th>\n",
       "      <th>YearInSchool</th>\n",
       "      <th>Contraceptive</th>\n",
       "      <th>filter_$</th>\n",
       "    </tr>\n",
       "  </thead>\n",
       "  <tbody>\n",
       "    <tr>\n",
       "      <th>0</th>\n",
       "      <td>1.0</td>\n",
       "      <td>1</td>\n",
       "      <td>0</td>\n",
       "      <td>3.25424</td>\n",
       "      <td>female</td>\n",
       "      <td>21.0</td>\n",
       "      <td>white or european</td>\n",
       "      <td>sophomore</td>\n",
       "      <td>Yes</td>\n",
       "      <td>Not Selected</td>\n",
       "    </tr>\n",
       "    <tr>\n",
       "      <th>1</th>\n",
       "      <td>2.0</td>\n",
       "      <td>1</td>\n",
       "      <td>1</td>\n",
       "      <td>4.43760</td>\n",
       "      <td>female</td>\n",
       "      <td>19.0</td>\n",
       "      <td>white or european</td>\n",
       "      <td>junior</td>\n",
       "      <td>No</td>\n",
       "      <td>Selected</td>\n",
       "    </tr>\n",
       "    <tr>\n",
       "      <th>2</th>\n",
       "      <td>3.0</td>\n",
       "      <td>1</td>\n",
       "      <td>1</td>\n",
       "      <td>4.43760</td>\n",
       "      <td>female</td>\n",
       "      <td>21.0</td>\n",
       "      <td>white or european</td>\n",
       "      <td>freshman</td>\n",
       "      <td>No</td>\n",
       "      <td>Selected</td>\n",
       "    </tr>\n",
       "    <tr>\n",
       "      <th>3</th>\n",
       "      <td>4.0</td>\n",
       "      <td>1</td>\n",
       "      <td>1</td>\n",
       "      <td>3.91988</td>\n",
       "      <td>female</td>\n",
       "      <td>19.0</td>\n",
       "      <td>white or european</td>\n",
       "      <td>junior</td>\n",
       "      <td>Yes</td>\n",
       "      <td>Not Selected</td>\n",
       "    </tr>\n",
       "    <tr>\n",
       "      <th>4</th>\n",
       "      <td>5.0</td>\n",
       "      <td>0</td>\n",
       "      <td>0</td>\n",
       "      <td>3.99384</td>\n",
       "      <td>female</td>\n",
       "      <td>20.0</td>\n",
       "      <td>eastern or asian</td>\n",
       "      <td>sophomore</td>\n",
       "      <td>No</td>\n",
       "      <td>Selected</td>\n",
       "    </tr>\n",
       "  </tbody>\n",
       "</table>\n",
       "</div>"
      ],
      "text/plain": [
       "   ParticipantNumber PickUp Scent  Receptivity  Gender   Age  \\\n",
       "0                1.0      1     0      3.25424  female  21.0   \n",
       "1                2.0      1     1      4.43760  female  19.0   \n",
       "2                3.0      1     1      4.43760  female  21.0   \n",
       "3                4.0      1     1      3.91988  female  19.0   \n",
       "4                5.0      0     0      3.99384  female  20.0   \n",
       "\n",
       "           Ethnicity YearInSchool Contraceptive      filter_$  \n",
       "0  white or european    sophomore           Yes  Not Selected  \n",
       "1  white or european       junior            No      Selected  \n",
       "2  white or european     freshman            No      Selected  \n",
       "3  white or european       junior           Yes  Not Selected  \n",
       "4   eastern or asian    sophomore            No      Selected  "
      ]
     },
     "execution_count": 13,
     "metadata": {},
     "output_type": "execute_result"
    }
   ],
   "source": [
    "df.head()"
   ]
  },
  {
   "cell_type": "code",
   "execution_count": 17,
   "id": "5b50b518",
   "metadata": {},
   "outputs": [],
   "source": [
    "y_list = list(df[\"PickUp\"])\n",
    "y = np.asarray(y_list)\n",
    "x_list = list(df['Scent'])\n",
    "x = np.asarray(x_list)\n",
    "z_list = list(df['Receptivity']) \n",
    "z = np.asarray(z_list)"
   ]
  },
  {
   "cell_type": "code",
   "execution_count": 15,
   "id": "1d3c81b3",
   "metadata": {},
   "outputs": [
    {
     "name": "stdout",
     "output_type": "stream",
     "text": [
      "                            OLS Regression Results                            \n",
      "==============================================================================\n",
      "Dep. Variable:                      x   R-squared:                       0.008\n",
      "Model:                            OLS   Adj. R-squared:                  0.003\n",
      "Method:                 Least Squares   F-statistic:                     1.644\n",
      "Date:                Fri, 10 Feb 2023   Prob (F-statistic):              0.201\n",
      "Time:                        12:58:50   Log-Likelihood:                -139.47\n",
      "No. Observations:                 194   AIC:                             282.9\n",
      "Df Residuals:                     192   BIC:                             289.5\n",
      "Df Model:                           1                                         \n",
      "Covariance Type:            nonrobust                                         \n",
      "==============================================================================\n",
      "                 coef    std err          t      P>|t|      [0.025      0.975]\n",
      "------------------------------------------------------------------------------\n",
      "Intercept      0.5946      0.058     10.247      0.000       0.480       0.709\n",
      "y             -0.0946      0.074     -1.282      0.201      -0.240       0.051\n",
      "==============================================================================\n",
      "Omnibus:                     1108.112   Durbin-Watson:                   0.891\n",
      "Prob(Omnibus):                  0.000   Jarque-Bera (JB):               31.250\n",
      "Skew:                          -0.142   Prob(JB):                     1.64e-07\n",
      "Kurtosis:                       1.054   Cond. No.                         3.00\n",
      "==============================================================================\n",
      "\n",
      "Notes:\n",
      "[1] Standard Errors assume that the covariance matrix of the errors is correctly specified.\n"
     ]
    }
   ],
   "source": [
    "# Using statsmodels.durbin_watson() method\n",
    "model=ols('x ~ y',data=df).fit()\n",
    "print(model.summary())"
   ]
  },
  {
   "cell_type": "code",
   "execution_count": 16,
   "id": "c72220b4",
   "metadata": {},
   "outputs": [
    {
     "data": {
      "text/plain": [
       "0.8908802870667278"
      ]
     },
     "execution_count": 16,
     "metadata": {},
     "output_type": "execute_result"
    }
   ],
   "source": [
    "durbin_watson(model.resid)"
   ]
  },
  {
   "cell_type": "markdown",
   "id": "e14b0ca0",
   "metadata": {},
   "source": [
    "After using the Durbin-Watson statistic, the value should be around 2. Durbin Watson value is 0.891 here. Since this is not within the range of 1.5 and 2.5, we would consider autocorrelation to be problematic in this regression model."
   ]
  },
  {
   "cell_type": "markdown",
   "id": "054bd7b9",
   "metadata": {},
   "source": [
    "No, there is no independence of observations if you are trying to predict Pickup with Scent."
   ]
  },
  {
   "cell_type": "code",
   "execution_count": 18,
   "id": "a77128c5",
   "metadata": {},
   "outputs": [
    {
     "name": "stdout",
     "output_type": "stream",
     "text": [
      "                            OLS Regression Results                            \n",
      "==============================================================================\n",
      "Dep. Variable:                      z   R-squared:                       0.037\n",
      "Model:                            OLS   Adj. R-squared:                  0.032\n",
      "Method:                 Least Squares   F-statistic:                     7.324\n",
      "Date:                Fri, 10 Feb 2023   Prob (F-statistic):            0.00742\n",
      "Time:                        13:35:05   Log-Likelihood:                -148.32\n",
      "No. Observations:                 194   AIC:                             300.6\n",
      "Df Residuals:                     192   BIC:                             307.2\n",
      "Df Model:                           1                                         \n",
      "Covariance Type:            nonrobust                                         \n",
      "==============================================================================\n",
      "                 coef    std err          t      P>|t|      [0.025      0.975]\n",
      "------------------------------------------------------------------------------\n",
      "Intercept      3.6545      0.061     60.173      0.000       3.535       3.774\n",
      "y              0.2090      0.077      2.706      0.007       0.057       0.361\n",
      "==============================================================================\n",
      "Omnibus:                        4.648   Durbin-Watson:                   1.864\n",
      "Prob(Omnibus):                  0.098   Jarque-Bera (JB):                4.535\n",
      "Skew:                           0.329   Prob(JB):                        0.104\n",
      "Kurtosis:                       2.642   Cond. No.                         3.00\n",
      "==============================================================================\n",
      "\n",
      "Notes:\n",
      "[1] Standard Errors assume that the covariance matrix of the errors is correctly specified.\n"
     ]
    }
   ],
   "source": [
    "# Using statsmodels.durbin_watson() method\n",
    "model=ols('z ~ y',data=df).fit()\n",
    "print(model.summary())"
   ]
  },
  {
   "cell_type": "code",
   "execution_count": 19,
   "id": "c68b1884",
   "metadata": {},
   "outputs": [
    {
     "data": {
      "text/plain": [
       "1.8635525965095887"
      ]
     },
     "execution_count": 19,
     "metadata": {},
     "output_type": "execute_result"
    }
   ],
   "source": [
    "durbin_watson(model.resid)"
   ]
  },
  {
   "cell_type": "markdown",
   "id": "38447941",
   "metadata": {},
   "source": [
    "After using the Durbin-Watson statistic, the value should be around 2. Durbin Watson value is 1.863 here. Since this is within the range of 1.5 and 2.5, we would consider autocorrelation to not be problematic in this regression model."
   ]
  },
  {
   "cell_type": "markdown",
   "id": "371ce542",
   "metadata": {},
   "source": [
    "Yes, there is independence of observations if you are trying to predict Pickup with Receptivity."
   ]
  },
  {
   "cell_type": "markdown",
   "id": "47e9d3dc",
   "metadata": {},
   "source": [
    "### Q4- Are there any significant outliers?"
   ]
  },
  {
   "cell_type": "code",
   "execution_count": 31,
   "id": "dacc7717",
   "metadata": {},
   "outputs": [
    {
     "data": {
      "text/html": [
       "<div>\n",
       "<style scoped>\n",
       "    .dataframe tbody tr th:only-of-type {\n",
       "        vertical-align: middle;\n",
       "    }\n",
       "\n",
       "    .dataframe tbody tr th {\n",
       "        vertical-align: top;\n",
       "    }\n",
       "\n",
       "    .dataframe thead th {\n",
       "        text-align: right;\n",
       "    }\n",
       "</style>\n",
       "<table border=\"1\" class=\"dataframe\">\n",
       "  <thead>\n",
       "    <tr style=\"text-align: right;\">\n",
       "      <th></th>\n",
       "      <th>ParticipantNumber</th>\n",
       "      <th>Receptivity</th>\n",
       "      <th>Age</th>\n",
       "    </tr>\n",
       "  </thead>\n",
       "  <tbody>\n",
       "    <tr>\n",
       "      <th>count</th>\n",
       "      <td>194.000000</td>\n",
       "      <td>194.000000</td>\n",
       "      <td>194.000000</td>\n",
       "    </tr>\n",
       "    <tr>\n",
       "      <th>mean</th>\n",
       "      <td>97.500000</td>\n",
       "      <td>3.783719</td>\n",
       "      <td>20.278351</td>\n",
       "    </tr>\n",
       "    <tr>\n",
       "      <th>std</th>\n",
       "      <td>56.147128</td>\n",
       "      <td>0.530932</td>\n",
       "      <td>2.179710</td>\n",
       "    </tr>\n",
       "    <tr>\n",
       "      <th>min</th>\n",
       "      <td>1.000000</td>\n",
       "      <td>2.403700</td>\n",
       "      <td>19.000000</td>\n",
       "    </tr>\n",
       "    <tr>\n",
       "      <th>25%</th>\n",
       "      <td>49.250000</td>\n",
       "      <td>3.374425</td>\n",
       "      <td>19.000000</td>\n",
       "    </tr>\n",
       "    <tr>\n",
       "      <th>50%</th>\n",
       "      <td>97.500000</td>\n",
       "      <td>3.734980</td>\n",
       "      <td>20.000000</td>\n",
       "    </tr>\n",
       "    <tr>\n",
       "      <th>75%</th>\n",
       "      <td>145.750000</td>\n",
       "      <td>4.104780</td>\n",
       "      <td>21.000000</td>\n",
       "    </tr>\n",
       "    <tr>\n",
       "      <th>max</th>\n",
       "      <td>194.000000</td>\n",
       "      <td>5.000000</td>\n",
       "      <td>39.000000</td>\n",
       "    </tr>\n",
       "  </tbody>\n",
       "</table>\n",
       "</div>"
      ],
      "text/plain": [
       "       ParticipantNumber  Receptivity         Age\n",
       "count         194.000000   194.000000  194.000000\n",
       "mean           97.500000     3.783719   20.278351\n",
       "std            56.147128     0.530932    2.179710\n",
       "min             1.000000     2.403700   19.000000\n",
       "25%            49.250000     3.374425   19.000000\n",
       "50%            97.500000     3.734980   20.000000\n",
       "75%           145.750000     4.104780   21.000000\n",
       "max           194.000000     5.000000   39.000000"
      ]
     },
     "execution_count": 31,
     "metadata": {},
     "output_type": "execute_result"
    }
   ],
   "source": [
    "df.describe()"
   ]
  },
  {
   "cell_type": "code",
   "execution_count": 32,
   "id": "f93491ad",
   "metadata": {},
   "outputs": [
    {
     "data": {
      "image/png": "[encoded data removed]",
      "text/plain": [
       "<Figure size 864x576 with 1 Axes>"
      ]
     },
     "metadata": {
      "needs_background": "light"
     },
     "output_type": "display_data"
    }
   ],
   "source": [
    "import seaborn as sns\n",
    "import matplotlib.pyplot as plt\n",
    "\n",
    "\n",
    "sns.boxplot( y=df[\"PickUp\"], x=df[\"Age\"] );\n",
    "plt.show()"
   ]
  },
  {
   "cell_type": "code",
   "execution_count": 33,
   "id": "39536b1a",
   "metadata": {},
   "outputs": [
    {
     "data": {
      "image/png": "[encoded data removed]",
      "text/plain": [
       "<Figure size 864x576 with 1 Axes>"
      ]
     },
     "metadata": {
      "needs_background": "light"
     },
     "output_type": "display_data"
    }
   ],
   "source": [
    "sns.boxplot( y=df[\"PickUp\"], x=df[\"Receptivity\"] );\n",
    "plt.show()"
   ]
  },
  {
   "cell_type": "markdown",
   "id": "60760d84",
   "metadata": {},
   "source": [
    "We can draw Box Plot diagram for Receptivitiy and Age variables. There is no outliers for Recetivitity. On the other hand, there are 6 Outliers for Age variable. However that can be. Max value of Age is 39. That is normal. So there is no significant outliers. "
   ]
  },
  {
   "cell_type": "markdown",
   "id": "f7467e01",
   "metadata": {},
   "source": [
    "### Q5- How is your dependent variable distributed in each cell?"
   ]
  },
  {
   "cell_type": "code",
   "execution_count": null,
   "id": "24a94d1e",
   "metadata": {},
   "outputs": [],
   "source": []
  },
  {
   "cell_type": "markdown",
   "id": "096f2c4b",
   "metadata": {},
   "source": [
    "Data is normally distributed if the significance in these tests is p > 0.05. pvalue: 0.247 > 0.05 so distribution of dependent are normally distributed. "
   ]
  },
  {
   "cell_type": "markdown",
   "id": "c4eb151c",
   "metadata": {},
   "source": [
    "### Q7- Is there homogeneity or heterogeneity of variance?"
   ]
  },
  {
   "cell_type": "code",
   "execution_count": 36,
   "id": "48794731",
   "metadata": {},
   "outputs": [],
   "source": [
    "from statsmodels.stats.diagnostic import het_white\n",
    "import statsmodels.api as sm"
   ]
  },
  {
   "cell_type": "code",
   "execution_count": 37,
   "id": "d1acc821",
   "metadata": {},
   "outputs": [],
   "source": [
    "#add constant to predictor variables\n",
    "z = sm.add_constant(z)\n",
    "\n",
    "#fit regression model\n",
    "model = sm.OLS(y, z).fit()"
   ]
  },
  {
   "cell_type": "code",
   "execution_count": 38,
   "id": "1c5e47b6",
   "metadata": {},
   "outputs": [],
   "source": [
    "#perform White's test\n",
    "white_test = het_white(model.resid,  model.model.exog)"
   ]
  },
  {
   "cell_type": "code",
   "execution_count": 39,
   "id": "ac40e838",
   "metadata": {},
   "outputs": [
    {
     "name": "stdout",
     "output_type": "stream",
     "text": [
      "{'Test Statistic': 2.7933660690949513, 'Test Statistic p-value': 0.24741627561476567, 'F-Statistic': 1.3951736616783204, 'F-Test p-value': 0.25030360116472505}\n"
     ]
    }
   ],
   "source": [
    "#define labels to use for output of White's test\n",
    "labels = ['Test Statistic', 'Test Statistic p-value', 'F-Statistic', 'F-Test p-value']\n",
    "\n",
    "#print results of White's test\n",
    "print(dict(zip(labels, white_test)))"
   ]
  },
  {
   "cell_type": "markdown",
   "id": "e0aad6ff",
   "metadata": {},
   "source": [
    "After using White Test,the test statistic is X2 = 2.793. The corresponding p-value is 0.247. White’s test uses the following null and alternative hypotheses:\n",
    "\n",
    "Null (H0): Homoscedasticity is present (residuals are equally scattered) Alternative (HA): Heteroscedasticity is present (residuals are not equally scattered)\n",
    "Since the p-value is not less than 0.05, we fail to reject the null hypothesis.\n",
    "\n",
    "This means we do not have sufficient evidence to say that heteroscedasticity is present in the regression model."
   ]
  },
  {
   "cell_type": "markdown",
   "id": "64809bf3",
   "metadata": {},
   "source": [
    "Yes, residual data show homoscedasticity."
   ]
  },
  {
   "cell_type": "markdown",
   "id": "9f0ed032",
   "metadata": {},
   "source": [
    "### Q6- Do you need to perform any transformations?"
   ]
  },
  {
   "cell_type": "code",
   "execution_count": 40,
   "id": "c8b43545",
   "metadata": {},
   "outputs": [],
   "source": [
    "a = list(df[\"Receptivity\"])"
   ]
  },
  {
   "cell_type": "code",
   "execution_count": 41,
   "id": "959b4ee6",
   "metadata": {},
   "outputs": [
    {
     "data": {
      "text/plain": [
       "ShapiroResult(statistic=0.9844915270805359, pvalue=0.031009113416075706)"
      ]
     },
     "execution_count": 41,
     "metadata": {},
     "output_type": "execute_result"
    }
   ],
   "source": [
    "shapiro_test = stats.shapiro(a)\n",
    "shapiro_test"
   ]
  },
  {
   "cell_type": "markdown",
   "id": "f534cf57",
   "metadata": {},
   "source": [
    "Data is normally distributed if the significance in these tests is p > 0.05. pvalue: 0.247 > 0.05 so distribution of  dependent variable are normally distributed. So we don`t need to perform any transformation."
   ]
  },
  {
   "cell_type": "markdown",
   "id": "5baffeb0",
   "metadata": {},
   "source": [
    "### Q8- What is the mean score of receptivity in the experimental condition?"
   ]
  },
  {
   "cell_type": "code",
   "execution_count": 43,
   "id": "30127f87",
   "metadata": {},
   "outputs": [
    {
     "data": {
      "text/html": [
       "<div>\n",
       "<style scoped>\n",
       "    .dataframe tbody tr th:only-of-type {\n",
       "        vertical-align: middle;\n",
       "    }\n",
       "\n",
       "    .dataframe tbody tr th {\n",
       "        vertical-align: top;\n",
       "    }\n",
       "\n",
       "    .dataframe thead th {\n",
       "        text-align: right;\n",
       "    }\n",
       "</style>\n",
       "<table border=\"1\" class=\"dataframe\">\n",
       "  <thead>\n",
       "    <tr style=\"text-align: right;\">\n",
       "      <th></th>\n",
       "      <th>ParticipantNumber</th>\n",
       "      <th>PickUp</th>\n",
       "      <th>Scent</th>\n",
       "      <th>Receptivity</th>\n",
       "      <th>Gender</th>\n",
       "      <th>Age</th>\n",
       "      <th>Ethnicity</th>\n",
       "      <th>YearInSchool</th>\n",
       "      <th>Contraceptive</th>\n",
       "      <th>filter_$</th>\n",
       "    </tr>\n",
       "  </thead>\n",
       "  <tbody>\n",
       "    <tr>\n",
       "      <th>63</th>\n",
       "      <td>64.0</td>\n",
       "      <td>0</td>\n",
       "      <td>1</td>\n",
       "      <td>3.69800</td>\n",
       "      <td>female</td>\n",
       "      <td>19.0</td>\n",
       "      <td>black or african</td>\n",
       "      <td>junior</td>\n",
       "      <td>Yes</td>\n",
       "      <td>Not Selected</td>\n",
       "    </tr>\n",
       "    <tr>\n",
       "      <th>88</th>\n",
       "      <td>89.0</td>\n",
       "      <td>0</td>\n",
       "      <td>1</td>\n",
       "      <td>3.55008</td>\n",
       "      <td>female</td>\n",
       "      <td>19.0</td>\n",
       "      <td>eastern or asian</td>\n",
       "      <td>sophomore</td>\n",
       "      <td>No</td>\n",
       "      <td>Selected</td>\n",
       "    </tr>\n",
       "    <tr>\n",
       "      <th>107</th>\n",
       "      <td>108.0</td>\n",
       "      <td>1</td>\n",
       "      <td>1</td>\n",
       "      <td>3.21726</td>\n",
       "      <td>female</td>\n",
       "      <td>19.0</td>\n",
       "      <td>hispanic, latino, spanish</td>\n",
       "      <td>freshman</td>\n",
       "      <td>No</td>\n",
       "      <td>Selected</td>\n",
       "    </tr>\n",
       "    <tr>\n",
       "      <th>97</th>\n",
       "      <td>98.0</td>\n",
       "      <td>1</td>\n",
       "      <td>1</td>\n",
       "      <td>4.43760</td>\n",
       "      <td>female</td>\n",
       "      <td>19.0</td>\n",
       "      <td>white or european</td>\n",
       "      <td>junior</td>\n",
       "      <td>Yes</td>\n",
       "      <td>Not Selected</td>\n",
       "    </tr>\n",
       "    <tr>\n",
       "      <th>24</th>\n",
       "      <td>25.0</td>\n",
       "      <td>1</td>\n",
       "      <td>1</td>\n",
       "      <td>4.28968</td>\n",
       "      <td>female</td>\n",
       "      <td>21.0</td>\n",
       "      <td>black or african</td>\n",
       "      <td>junior</td>\n",
       "      <td>Yes</td>\n",
       "      <td>Not Selected</td>\n",
       "    </tr>\n",
       "  </tbody>\n",
       "</table>\n",
       "</div>"
      ],
      "text/plain": [
       "     ParticipantNumber PickUp Scent  Receptivity  Gender   Age  \\\n",
       "63                64.0      0     1      3.69800  female  19.0   \n",
       "88                89.0      0     1      3.55008  female  19.0   \n",
       "107              108.0      1     1      3.21726  female  19.0   \n",
       "97                98.0      1     1      4.43760  female  19.0   \n",
       "24                25.0      1     1      4.28968  female  21.0   \n",
       "\n",
       "                     Ethnicity YearInSchool Contraceptive      filter_$  \n",
       "63            black or african       junior           Yes  Not Selected  \n",
       "88            eastern or asian    sophomore            No      Selected  \n",
       "107  hispanic, latino, spanish     freshman            No      Selected  \n",
       "97           white or european       junior           Yes  Not Selected  \n",
       "24            black or african       junior           Yes  Not Selected  "
      ]
     },
     "execution_count": 43,
     "metadata": {},
     "output_type": "execute_result"
    }
   ],
   "source": [
    "df.sample(5)"
   ]
  },
  {
   "cell_type": "code",
   "execution_count": 47,
   "id": "31ef0a60",
   "metadata": {},
   "outputs": [],
   "source": [
    "df_ex = df[(df.PickUp == 1)]"
   ]
  },
  {
   "cell_type": "code",
   "execution_count": 46,
   "id": "c7f325c1",
   "metadata": {},
   "outputs": [
    {
     "data": {
      "text/plain": [
       "3.8634339999999976"
      ]
     },
     "execution_count": 46,
     "metadata": {},
     "output_type": "execute_result"
    }
   ],
   "source": [
    "Mean_1 = np.mean(df_ex[\"Receptivity\"])\n",
    "Mean_1"
   ]
  },
  {
   "cell_type": "markdown",
   "id": "564c3da9",
   "metadata": {},
   "source": [
    "### Q9- What is the mean score of receptivity in the control condition?"
   ]
  },
  {
   "cell_type": "code",
   "execution_count": 48,
   "id": "daac0274",
   "metadata": {},
   "outputs": [],
   "source": [
    "df_cc =  df[(df.PickUp == 0)]"
   ]
  },
  {
   "cell_type": "code",
   "execution_count": 50,
   "id": "3ad8e994",
   "metadata": {},
   "outputs": [
    {
     "data": {
      "text/plain": [
       "3.654451621621624"
      ]
     },
     "execution_count": 50,
     "metadata": {},
     "output_type": "execute_result"
    }
   ],
   "source": [
    "Mean_2 = np.mean(df_cc['Receptivity'])\n",
    "Mean_2"
   ]
  },
  {
   "cell_type": "markdown",
   "id": "0e61ae53",
   "metadata": {},
   "source": [
    "### Q10- What is your answer to RQ1? Report on the findings (no less than 150 words). Don’t forget to mention the assumptions."
   ]
  },
  {
   "cell_type": "markdown",
   "id": "b8762f89",
   "metadata": {},
   "source": [
    "In the given dataset, we have two types of people one who are PickUp and another who are Non-Pickup. So, we can divide data into two groups and compare their characteristics. Here PickUp variable is dependent variable. On other side, our independent variables can be Scent,Receptivity, Gender, Age, Ethnicity, YearInSchool, Contraceptive. I examined there  independence of observations is. After using the Durbin-Watson statistic, the value between Pickup & Scent should be around 2. Durbin Watson value is 0.891 here. Since this is not within the range of 1.5 and 2.5, we would consider autocorrelation to be problematic in this regression model. No, there is no independence of observations if you are trying to predict Pickup with Scent.\n",
    "After using the Durbin-Watson statistic, the value should PickUp & Receptivity be around 2. Durbin Watson value is 1.863 here. Since this is within the range of 1.5 and 2.5, we would consider autocorrelation to not be problematic in this regression model.\n",
    "Yes, there is independence of observations if you are trying to predict Pickup with Receptivity.\n",
    "We can draw Box Plot diagram for Receptivitiy and Age variables, while two of them numerical are. After drawing diagrams, there is no outliers for Recetivitity. On the other hand, there are 6 Outliers for Age variable. However that can be. Max value of Age is 39. That is normal. So there is no significant outliers.\n",
    "Data is normally distributed if the significance in these tests is p > 0.05. pvalue: 0.247 > 0.05 so distribution of dependent are normally distributed. So we don`t need to perform any transformation.\n",
    "After using White Test,the test statistic is X2 = 2.793. The corresponding p-value is 0.247. White’s test uses the following null and alternative hypotheses:\n",
    "Null (H0): Homoscedasticity is present (residuals are equally scattered) Alternative (HA): Heteroscedasticity is present (residuals are not equally scattered) Since the p-value is not less than 0.05, we fail to reject the null hypothesis.\n",
    "This means we do not have sufficient evidence to say that heteroscedasticity is present in the regression model.\n",
    "Yes, residual data show homoscedasticity."
   ]
  },
  {
   "cell_type": "markdown",
   "id": "cb538800",
   "metadata": {},
   "source": [
    "### RQ2: Is there any evidence to suggest that the presence of androstadienone spray will lead to more relationship receptivity than no spray?"
   ]
  },
  {
   "cell_type": "markdown",
   "id": "4909d56b",
   "metadata": {},
   "source": [
    "### Q11- What is your dependent variable?"
   ]
  },
  {
   "cell_type": "markdown",
   "id": "709cbf35",
   "metadata": {},
   "source": [
    "Our dependent variable is Receptivity. "
   ]
  },
  {
   "cell_type": "markdown",
   "id": "399fbc2f",
   "metadata": {},
   "source": [
    "### Q12- What is(are) your independent variable(s)?"
   ]
  },
  {
   "cell_type": "markdown",
   "id": "314ae54a",
   "metadata": {},
   "source": [
    "The question in particular our independent variable is the presence androstadienone spray. "
   ]
  },
  {
   "cell_type": "code",
   "execution_count": null,
   "id": "bab290cf",
   "metadata": {},
   "outputs": [],
   "source": [
    "Q13"
   ]
  }
 ],
 "metadata": {
  "kernelspec": {
   "display_name": "Python 3",
   "language": "python",
   "name": "python3"
  },
  "language_info": {
   "codemirror_mode": {
    "name": "ipython",
    "version": 3
   },
   "file_extension": ".py",
   "mimetype": "text/x-python",
   "name": "python",
   "nbconvert_exporter": "python",
   "pygments_lexer": "ipython3",
   "version": "3.8.8"
  }
 },
 "nbformat": 4,
 "nbformat_minor": 5
}
