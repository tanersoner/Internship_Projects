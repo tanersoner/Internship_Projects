{
 "cells": [
  {
   "cell_type": "code",
   "execution_count": 119,
   "id": "90005c2f",
   "metadata": {},
   "outputs": [],
   "source": [
    "import pandas as pd\n",
    "import numpy as np\n",
    "import seaborn as sns\n",
    "import scipy.stats as st\n",
    "import matplotlib.pyplot as plt\n",
    "import statistics\n",
    "from scipy import stats\n",
    "import re\n",
    "plt.rcParams[\"figure.figsize\"] = [12, 8]\n",
    "import warnings\n",
    "warnings.filterwarnings('ignore')"
   ]
  },
  {
   "cell_type": "code",
   "execution_count": 28,
   "id": "b3c70795",
   "metadata": {},
   "outputs": [],
   "source": [
    "df = pd.read_spss('PickUpLines.sav')"
   ]
  },
  {
   "cell_type": "code",
   "execution_count": 29,
   "id": "1685cfc7",
   "metadata": {},
   "outputs": [
    {
     "data": {
      "text/html": [
       "<div>\n",
       "<style scoped>\n",
       "    .dataframe tbody tr th:only-of-type {\n",
       "        vertical-align: middle;\n",
       "    }\n",
       "\n",
       "    .dataframe tbody tr th {\n",
       "        vertical-align: top;\n",
       "    }\n",
       "\n",
       "    .dataframe thead th {\n",
       "        text-align: right;\n",
       "    }\n",
       "</style>\n",
       "<table border=\"1\" class=\"dataframe\">\n",
       "  <thead>\n",
       "    <tr style=\"text-align: right;\">\n",
       "      <th></th>\n",
       "      <th>ParticipantNumber</th>\n",
       "      <th>PickUp</th>\n",
       "      <th>Scent</th>\n",
       "      <th>Receptivity</th>\n",
       "      <th>Gender</th>\n",
       "      <th>Age</th>\n",
       "      <th>Ethnicity</th>\n",
       "      <th>YearInSchool</th>\n",
       "      <th>Contraceptive</th>\n",
       "      <th>filter_$</th>\n",
       "    </tr>\n",
       "  </thead>\n",
       "  <tbody>\n",
       "    <tr>\n",
       "      <th>0</th>\n",
       "      <td>1.0</td>\n",
       "      <td>Cute-Direct (Experimental Condition)</td>\n",
       "      <td>No Spray (Control Condition)</td>\n",
       "      <td>3.25424</td>\n",
       "      <td>female</td>\n",
       "      <td>21.0</td>\n",
       "      <td>white or european</td>\n",
       "      <td>sophomore</td>\n",
       "      <td>Yes</td>\n",
       "      <td>Not Selected</td>\n",
       "    </tr>\n",
       "    <tr>\n",
       "      <th>1</th>\n",
       "      <td>2.0</td>\n",
       "      <td>Cute-Direct (Experimental Condition)</td>\n",
       "      <td>Spray (Experimental Condition)</td>\n",
       "      <td>4.43760</td>\n",
       "      <td>female</td>\n",
       "      <td>19.0</td>\n",
       "      <td>white or european</td>\n",
       "      <td>junior</td>\n",
       "      <td>No</td>\n",
       "      <td>Selected</td>\n",
       "    </tr>\n",
       "    <tr>\n",
       "      <th>2</th>\n",
       "      <td>3.0</td>\n",
       "      <td>Cute-Direct (Experimental Condition)</td>\n",
       "      <td>Spray (Experimental Condition)</td>\n",
       "      <td>4.43760</td>\n",
       "      <td>female</td>\n",
       "      <td>21.0</td>\n",
       "      <td>white or european</td>\n",
       "      <td>freshman</td>\n",
       "      <td>No</td>\n",
       "      <td>Selected</td>\n",
       "    </tr>\n",
       "    <tr>\n",
       "      <th>3</th>\n",
       "      <td>4.0</td>\n",
       "      <td>Cute-Direct (Experimental Condition)</td>\n",
       "      <td>Spray (Experimental Condition)</td>\n",
       "      <td>3.91988</td>\n",
       "      <td>female</td>\n",
       "      <td>19.0</td>\n",
       "      <td>white or european</td>\n",
       "      <td>junior</td>\n",
       "      <td>Yes</td>\n",
       "      <td>Not Selected</td>\n",
       "    </tr>\n",
       "    <tr>\n",
       "      <th>4</th>\n",
       "      <td>5.0</td>\n",
       "      <td>Direct-Direct (Control Condition)</td>\n",
       "      <td>No Spray (Control Condition)</td>\n",
       "      <td>3.99384</td>\n",
       "      <td>female</td>\n",
       "      <td>20.0</td>\n",
       "      <td>eastern or asian</td>\n",
       "      <td>sophomore</td>\n",
       "      <td>No</td>\n",
       "      <td>Selected</td>\n",
       "    </tr>\n",
       "    <tr>\n",
       "      <th>5</th>\n",
       "      <td>6.0</td>\n",
       "      <td>Cute-Direct (Experimental Condition)</td>\n",
       "      <td>No Spray (Control Condition)</td>\n",
       "      <td>2.95840</td>\n",
       "      <td>female</td>\n",
       "      <td>22.0</td>\n",
       "      <td>white or european</td>\n",
       "      <td>freshman</td>\n",
       "      <td>No</td>\n",
       "      <td>Selected</td>\n",
       "    </tr>\n",
       "    <tr>\n",
       "      <th>6</th>\n",
       "      <td>7.0</td>\n",
       "      <td>Cute-Direct (Experimental Condition)</td>\n",
       "      <td>Spray (Experimental Condition)</td>\n",
       "      <td>3.99384</td>\n",
       "      <td>female</td>\n",
       "      <td>21.0</td>\n",
       "      <td>white or european</td>\n",
       "      <td>junior</td>\n",
       "      <td>Yes</td>\n",
       "      <td>Not Selected</td>\n",
       "    </tr>\n",
       "    <tr>\n",
       "      <th>7</th>\n",
       "      <td>8.0</td>\n",
       "      <td>Direct-Direct (Control Condition)</td>\n",
       "      <td>No Spray (Control Condition)</td>\n",
       "      <td>2.95840</td>\n",
       "      <td>female</td>\n",
       "      <td>20.0</td>\n",
       "      <td>white or european</td>\n",
       "      <td>sophomore</td>\n",
       "      <td>No</td>\n",
       "      <td>Selected</td>\n",
       "    </tr>\n",
       "    <tr>\n",
       "      <th>8</th>\n",
       "      <td>9.0</td>\n",
       "      <td>Cute-Direct (Experimental Condition)</td>\n",
       "      <td>No Spray (Control Condition)</td>\n",
       "      <td>3.51310</td>\n",
       "      <td>female</td>\n",
       "      <td>20.0</td>\n",
       "      <td>black or african</td>\n",
       "      <td>freshman</td>\n",
       "      <td>No</td>\n",
       "      <td>Selected</td>\n",
       "    </tr>\n",
       "    <tr>\n",
       "      <th>9</th>\n",
       "      <td>10.0</td>\n",
       "      <td>Direct-Direct (Control Condition)</td>\n",
       "      <td>No Spray (Control Condition)</td>\n",
       "      <td>3.49461</td>\n",
       "      <td>female</td>\n",
       "      <td>20.0</td>\n",
       "      <td>eastern or asian</td>\n",
       "      <td>sophomore</td>\n",
       "      <td>No</td>\n",
       "      <td>Selected</td>\n",
       "    </tr>\n",
       "    <tr>\n",
       "      <th>10</th>\n",
       "      <td>11.0</td>\n",
       "      <td>Direct-Direct (Control Condition)</td>\n",
       "      <td>No Spray (Control Condition)</td>\n",
       "      <td>3.47612</td>\n",
       "      <td>female</td>\n",
       "      <td>21.0</td>\n",
       "      <td>eastern or asian</td>\n",
       "      <td>sophomore</td>\n",
       "      <td>No</td>\n",
       "      <td>Selected</td>\n",
       "    </tr>\n",
       "    <tr>\n",
       "      <th>11</th>\n",
       "      <td>12.0</td>\n",
       "      <td>Direct-Direct (Control Condition)</td>\n",
       "      <td>No Spray (Control Condition)</td>\n",
       "      <td>3.10632</td>\n",
       "      <td>female</td>\n",
       "      <td>19.0</td>\n",
       "      <td>white or european</td>\n",
       "      <td>freshman</td>\n",
       "      <td>No</td>\n",
       "      <td>Selected</td>\n",
       "    </tr>\n",
       "    <tr>\n",
       "      <th>12</th>\n",
       "      <td>13.0</td>\n",
       "      <td>Cute-Direct (Experimental Condition)</td>\n",
       "      <td>No Spray (Control Condition)</td>\n",
       "      <td>3.80894</td>\n",
       "      <td>female</td>\n",
       "      <td>21.0</td>\n",
       "      <td>black or african</td>\n",
       "      <td>freshman</td>\n",
       "      <td>No</td>\n",
       "      <td>Selected</td>\n",
       "    </tr>\n",
       "    <tr>\n",
       "      <th>13</th>\n",
       "      <td>14.0</td>\n",
       "      <td>Cute-Direct (Experimental Condition)</td>\n",
       "      <td>No Spray (Control Condition)</td>\n",
       "      <td>3.99384</td>\n",
       "      <td>female</td>\n",
       "      <td>19.0</td>\n",
       "      <td>black or african</td>\n",
       "      <td>freshman</td>\n",
       "      <td>No</td>\n",
       "      <td>Selected</td>\n",
       "    </tr>\n",
       "    <tr>\n",
       "      <th>14</th>\n",
       "      <td>15.0</td>\n",
       "      <td>Cute-Direct (Experimental Condition)</td>\n",
       "      <td>No Spray (Control Condition)</td>\n",
       "      <td>3.80894</td>\n",
       "      <td>female</td>\n",
       "      <td>20.0</td>\n",
       "      <td>white or european</td>\n",
       "      <td>sophomore</td>\n",
       "      <td>No</td>\n",
       "      <td>Selected</td>\n",
       "    </tr>\n",
       "    <tr>\n",
       "      <th>15</th>\n",
       "      <td>16.0</td>\n",
       "      <td>Direct-Direct (Control Condition)</td>\n",
       "      <td>No Spray (Control Condition)</td>\n",
       "      <td>3.32820</td>\n",
       "      <td>female</td>\n",
       "      <td>19.0</td>\n",
       "      <td>white or european</td>\n",
       "      <td>freshman</td>\n",
       "      <td>No</td>\n",
       "      <td>Selected</td>\n",
       "    </tr>\n",
       "    <tr>\n",
       "      <th>16</th>\n",
       "      <td>17.0</td>\n",
       "      <td>Cute-Direct (Experimental Condition)</td>\n",
       "      <td>No Spray (Control Condition)</td>\n",
       "      <td>3.99384</td>\n",
       "      <td>female</td>\n",
       "      <td>21.0</td>\n",
       "      <td>hispanic, latino, spanish</td>\n",
       "      <td>sophomore</td>\n",
       "      <td>No</td>\n",
       "      <td>Selected</td>\n",
       "    </tr>\n",
       "    <tr>\n",
       "      <th>17</th>\n",
       "      <td>18.0</td>\n",
       "      <td>Cute-Direct (Experimental Condition)</td>\n",
       "      <td>No Spray (Control Condition)</td>\n",
       "      <td>4.10478</td>\n",
       "      <td>female</td>\n",
       "      <td>19.0</td>\n",
       "      <td>white or european</td>\n",
       "      <td>freshman</td>\n",
       "      <td>No</td>\n",
       "      <td>Selected</td>\n",
       "    </tr>\n",
       "    <tr>\n",
       "      <th>18</th>\n",
       "      <td>19.0</td>\n",
       "      <td>Direct-Direct (Control Condition)</td>\n",
       "      <td>Spray (Experimental Condition)</td>\n",
       "      <td>3.91988</td>\n",
       "      <td>female</td>\n",
       "      <td>20.0</td>\n",
       "      <td>other</td>\n",
       "      <td>junior</td>\n",
       "      <td>No</td>\n",
       "      <td>Selected</td>\n",
       "    </tr>\n",
       "    <tr>\n",
       "      <th>19</th>\n",
       "      <td>20.0</td>\n",
       "      <td>Cute-Direct (Experimental Condition)</td>\n",
       "      <td>No Spray (Control Condition)</td>\n",
       "      <td>3.47612</td>\n",
       "      <td>female</td>\n",
       "      <td>22.0</td>\n",
       "      <td>black or african</td>\n",
       "      <td>freshman</td>\n",
       "      <td>No</td>\n",
       "      <td>Selected</td>\n",
       "    </tr>\n",
       "    <tr>\n",
       "      <th>20</th>\n",
       "      <td>21.0</td>\n",
       "      <td>Cute-Direct (Experimental Condition)</td>\n",
       "      <td>No Spray (Control Condition)</td>\n",
       "      <td>3.36518</td>\n",
       "      <td>female</td>\n",
       "      <td>19.0</td>\n",
       "      <td>white or european</td>\n",
       "      <td>freshman</td>\n",
       "      <td>Yes</td>\n",
       "      <td>Not Selected</td>\n",
       "    </tr>\n",
       "    <tr>\n",
       "      <th>21</th>\n",
       "      <td>22.0</td>\n",
       "      <td>Direct-Direct (Control Condition)</td>\n",
       "      <td>No Spray (Control Condition)</td>\n",
       "      <td>3.73498</td>\n",
       "      <td>female</td>\n",
       "      <td>19.0</td>\n",
       "      <td>white or european</td>\n",
       "      <td>freshman</td>\n",
       "      <td>No</td>\n",
       "      <td>Selected</td>\n",
       "    </tr>\n",
       "    <tr>\n",
       "      <th>22</th>\n",
       "      <td>23.0</td>\n",
       "      <td>Direct-Direct (Control Condition)</td>\n",
       "      <td>Spray (Experimental Condition)</td>\n",
       "      <td>3.40216</td>\n",
       "      <td>female</td>\n",
       "      <td>19.0</td>\n",
       "      <td>black or african</td>\n",
       "      <td>freshman</td>\n",
       "      <td>No</td>\n",
       "      <td>Selected</td>\n",
       "    </tr>\n",
       "    <tr>\n",
       "      <th>23</th>\n",
       "      <td>24.0</td>\n",
       "      <td>Cute-Direct (Experimental Condition)</td>\n",
       "      <td>Spray (Experimental Condition)</td>\n",
       "      <td>4.28968</td>\n",
       "      <td>female</td>\n",
       "      <td>21.0</td>\n",
       "      <td>white or european</td>\n",
       "      <td>junior</td>\n",
       "      <td>Yes</td>\n",
       "      <td>Not Selected</td>\n",
       "    </tr>\n",
       "    <tr>\n",
       "      <th>24</th>\n",
       "      <td>25.0</td>\n",
       "      <td>Cute-Direct (Experimental Condition)</td>\n",
       "      <td>Spray (Experimental Condition)</td>\n",
       "      <td>4.28968</td>\n",
       "      <td>female</td>\n",
       "      <td>21.0</td>\n",
       "      <td>black or african</td>\n",
       "      <td>junior</td>\n",
       "      <td>Yes</td>\n",
       "      <td>Not Selected</td>\n",
       "    </tr>\n",
       "    <tr>\n",
       "      <th>25</th>\n",
       "      <td>26.0</td>\n",
       "      <td>Cute-Direct (Experimental Condition)</td>\n",
       "      <td>No Spray (Control Condition)</td>\n",
       "      <td>3.21726</td>\n",
       "      <td>female</td>\n",
       "      <td>19.0</td>\n",
       "      <td>white or european</td>\n",
       "      <td>sophomore</td>\n",
       "      <td>No</td>\n",
       "      <td>Selected</td>\n",
       "    </tr>\n",
       "    <tr>\n",
       "      <th>26</th>\n",
       "      <td>27.0</td>\n",
       "      <td>Cute-Direct (Experimental Condition)</td>\n",
       "      <td>No Spray (Control Condition)</td>\n",
       "      <td>3.84592</td>\n",
       "      <td>female</td>\n",
       "      <td>19.0</td>\n",
       "      <td>white or european</td>\n",
       "      <td>freshman</td>\n",
       "      <td>No</td>\n",
       "      <td>Selected</td>\n",
       "    </tr>\n",
       "    <tr>\n",
       "      <th>27</th>\n",
       "      <td>28.0</td>\n",
       "      <td>Cute-Direct (Experimental Condition)</td>\n",
       "      <td>No Spray (Control Condition)</td>\n",
       "      <td>3.32820</td>\n",
       "      <td>female</td>\n",
       "      <td>19.0</td>\n",
       "      <td>white or european</td>\n",
       "      <td>sophomore</td>\n",
       "      <td>No</td>\n",
       "      <td>Selected</td>\n",
       "    </tr>\n",
       "    <tr>\n",
       "      <th>28</th>\n",
       "      <td>29.0</td>\n",
       "      <td>Cute-Direct (Experimental Condition)</td>\n",
       "      <td>No Spray (Control Condition)</td>\n",
       "      <td>3.32820</td>\n",
       "      <td>female</td>\n",
       "      <td>19.0</td>\n",
       "      <td>white or european</td>\n",
       "      <td>freshman</td>\n",
       "      <td>No</td>\n",
       "      <td>Selected</td>\n",
       "    </tr>\n",
       "    <tr>\n",
       "      <th>29</th>\n",
       "      <td>30.0</td>\n",
       "      <td>Cute-Direct (Experimental Condition)</td>\n",
       "      <td>No Spray (Control Condition)</td>\n",
       "      <td>3.95686</td>\n",
       "      <td>female</td>\n",
       "      <td>19.0</td>\n",
       "      <td>white or european</td>\n",
       "      <td>freshman</td>\n",
       "      <td>Yes</td>\n",
       "      <td>Not Selected</td>\n",
       "    </tr>\n",
       "    <tr>\n",
       "      <th>30</th>\n",
       "      <td>31.0</td>\n",
       "      <td>Direct-Direct (Control Condition)</td>\n",
       "      <td>No Spray (Control Condition)</td>\n",
       "      <td>4.25270</td>\n",
       "      <td>female</td>\n",
       "      <td>39.0</td>\n",
       "      <td>white or european</td>\n",
       "      <td>sophomore</td>\n",
       "      <td>No</td>\n",
       "      <td>Selected</td>\n",
       "    </tr>\n",
       "    <tr>\n",
       "      <th>31</th>\n",
       "      <td>32.0</td>\n",
       "      <td>Cute-Direct (Experimental Condition)</td>\n",
       "      <td>No Spray (Control Condition)</td>\n",
       "      <td>3.47612</td>\n",
       "      <td>female</td>\n",
       "      <td>26.0</td>\n",
       "      <td>white or european</td>\n",
       "      <td>senior</td>\n",
       "      <td>No</td>\n",
       "      <td>Selected</td>\n",
       "    </tr>\n",
       "    <tr>\n",
       "      <th>32</th>\n",
       "      <td>33.0</td>\n",
       "      <td>Cute-Direct (Experimental Condition)</td>\n",
       "      <td>No Spray (Control Condition)</td>\n",
       "      <td>3.73498</td>\n",
       "      <td>female</td>\n",
       "      <td>20.0</td>\n",
       "      <td>white or european</td>\n",
       "      <td>sophomore</td>\n",
       "      <td>Yes</td>\n",
       "      <td>Not Selected</td>\n",
       "    </tr>\n",
       "  </tbody>\n",
       "</table>\n",
       "</div>"
      ],
      "text/plain": [
       "    ParticipantNumber                                PickUp  \\\n",
       "0                 1.0  Cute-Direct (Experimental Condition)   \n",
       "1                 2.0  Cute-Direct (Experimental Condition)   \n",
       "2                 3.0  Cute-Direct (Experimental Condition)   \n",
       "3                 4.0  Cute-Direct (Experimental Condition)   \n",
       "4                 5.0     Direct-Direct (Control Condition)   \n",
       "5                 6.0  Cute-Direct (Experimental Condition)   \n",
       "6                 7.0  Cute-Direct (Experimental Condition)   \n",
       "7                 8.0     Direct-Direct (Control Condition)   \n",
       "8                 9.0  Cute-Direct (Experimental Condition)   \n",
       "9                10.0     Direct-Direct (Control Condition)   \n",
       "10               11.0     Direct-Direct (Control Condition)   \n",
       "11               12.0     Direct-Direct (Control Condition)   \n",
       "12               13.0  Cute-Direct (Experimental Condition)   \n",
       "13               14.0  Cute-Direct (Experimental Condition)   \n",
       "14               15.0  Cute-Direct (Experimental Condition)   \n",
       "15               16.0     Direct-Direct (Control Condition)   \n",
       "16               17.0  Cute-Direct (Experimental Condition)   \n",
       "17               18.0  Cute-Direct (Experimental Condition)   \n",
       "18               19.0     Direct-Direct (Control Condition)   \n",
       "19               20.0  Cute-Direct (Experimental Condition)   \n",
       "20               21.0  Cute-Direct (Experimental Condition)   \n",
       "21               22.0     Direct-Direct (Control Condition)   \n",
       "22               23.0     Direct-Direct (Control Condition)   \n",
       "23               24.0  Cute-Direct (Experimental Condition)   \n",
       "24               25.0  Cute-Direct (Experimental Condition)   \n",
       "25               26.0  Cute-Direct (Experimental Condition)   \n",
       "26               27.0  Cute-Direct (Experimental Condition)   \n",
       "27               28.0  Cute-Direct (Experimental Condition)   \n",
       "28               29.0  Cute-Direct (Experimental Condition)   \n",
       "29               30.0  Cute-Direct (Experimental Condition)   \n",
       "30               31.0     Direct-Direct (Control Condition)   \n",
       "31               32.0  Cute-Direct (Experimental Condition)   \n",
       "32               33.0  Cute-Direct (Experimental Condition)   \n",
       "\n",
       "                             Scent  Receptivity  Gender   Age  \\\n",
       "0     No Spray (Control Condition)      3.25424  female  21.0   \n",
       "1   Spray (Experimental Condition)      4.43760  female  19.0   \n",
       "2   Spray (Experimental Condition)      4.43760  female  21.0   \n",
       "3   Spray (Experimental Condition)      3.91988  female  19.0   \n",
       "4     No Spray (Control Condition)      3.99384  female  20.0   \n",
       "5     No Spray (Control Condition)      2.95840  female  22.0   \n",
       "6   Spray (Experimental Condition)      3.99384  female  21.0   \n",
       "7     No Spray (Control Condition)      2.95840  female  20.0   \n",
       "8     No Spray (Control Condition)      3.51310  female  20.0   \n",
       "9     No Spray (Control Condition)      3.49461  female  20.0   \n",
       "10    No Spray (Control Condition)      3.47612  female  21.0   \n",
       "11    No Spray (Control Condition)      3.10632  female  19.0   \n",
       "12    No Spray (Control Condition)      3.80894  female  21.0   \n",
       "13    No Spray (Control Condition)      3.99384  female  19.0   \n",
       "14    No Spray (Control Condition)      3.80894  female  20.0   \n",
       "15    No Spray (Control Condition)      3.32820  female  19.0   \n",
       "16    No Spray (Control Condition)      3.99384  female  21.0   \n",
       "17    No Spray (Control Condition)      4.10478  female  19.0   \n",
       "18  Spray (Experimental Condition)      3.91988  female  20.0   \n",
       "19    No Spray (Control Condition)      3.47612  female  22.0   \n",
       "20    No Spray (Control Condition)      3.36518  female  19.0   \n",
       "21    No Spray (Control Condition)      3.73498  female  19.0   \n",
       "22  Spray (Experimental Condition)      3.40216  female  19.0   \n",
       "23  Spray (Experimental Condition)      4.28968  female  21.0   \n",
       "24  Spray (Experimental Condition)      4.28968  female  21.0   \n",
       "25    No Spray (Control Condition)      3.21726  female  19.0   \n",
       "26    No Spray (Control Condition)      3.84592  female  19.0   \n",
       "27    No Spray (Control Condition)      3.32820  female  19.0   \n",
       "28    No Spray (Control Condition)      3.32820  female  19.0   \n",
       "29    No Spray (Control Condition)      3.95686  female  19.0   \n",
       "30    No Spray (Control Condition)      4.25270  female  39.0   \n",
       "31    No Spray (Control Condition)      3.47612  female  26.0   \n",
       "32    No Spray (Control Condition)      3.73498  female  20.0   \n",
       "\n",
       "                    Ethnicity YearInSchool Contraceptive      filter_$  \n",
       "0           white or european    sophomore           Yes  Not Selected  \n",
       "1           white or european       junior            No      Selected  \n",
       "2           white or european     freshman            No      Selected  \n",
       "3           white or european       junior           Yes  Not Selected  \n",
       "4            eastern or asian    sophomore            No      Selected  \n",
       "5           white or european     freshman            No      Selected  \n",
       "6           white or european       junior           Yes  Not Selected  \n",
       "7           white or european    sophomore            No      Selected  \n",
       "8            black or african     freshman            No      Selected  \n",
       "9            eastern or asian    sophomore            No      Selected  \n",
       "10           eastern or asian    sophomore            No      Selected  \n",
       "11          white or european     freshman            No      Selected  \n",
       "12           black or african     freshman            No      Selected  \n",
       "13           black or african     freshman            No      Selected  \n",
       "14          white or european    sophomore            No      Selected  \n",
       "15          white or european     freshman            No      Selected  \n",
       "16  hispanic, latino, spanish    sophomore            No      Selected  \n",
       "17          white or european     freshman            No      Selected  \n",
       "18                      other       junior            No      Selected  \n",
       "19           black or african     freshman            No      Selected  \n",
       "20          white or european     freshman           Yes  Not Selected  \n",
       "21          white or european     freshman            No      Selected  \n",
       "22           black or african     freshman            No      Selected  \n",
       "23          white or european       junior           Yes  Not Selected  \n",
       "24           black or african       junior           Yes  Not Selected  \n",
       "25          white or european    sophomore            No      Selected  \n",
       "26          white or european     freshman            No      Selected  \n",
       "27          white or european    sophomore            No      Selected  \n",
       "28          white or european     freshman            No      Selected  \n",
       "29          white or european     freshman           Yes  Not Selected  \n",
       "30          white or european    sophomore            No      Selected  \n",
       "31          white or european       senior            No      Selected  \n",
       "32          white or european    sophomore           Yes  Not Selected  "
      ]
     },
     "execution_count": 29,
     "metadata": {},
     "output_type": "execute_result"
    }
   ],
   "source": [
    "df.head(33)"
   ]
  },
  {
   "cell_type": "code",
   "execution_count": 7,
   "id": "9634daad",
   "metadata": {},
   "outputs": [
    {
     "name": "stdout",
     "output_type": "stream",
     "text": [
      "<class 'pandas.core.frame.DataFrame'>\n",
      "RangeIndex: 194 entries, 0 to 193\n",
      "Data columns (total 10 columns):\n",
      " #   Column             Non-Null Count  Dtype   \n",
      "---  ------             --------------  -----   \n",
      " 0   ParticipantNumber  194 non-null    float64 \n",
      " 1   PickUp             194 non-null    category\n",
      " 2   Scent              194 non-null    category\n",
      " 3   Receptivity        194 non-null    float64 \n",
      " 4   Gender             194 non-null    category\n",
      " 5   Age                194 non-null    float64 \n",
      " 6   Ethnicity          194 non-null    category\n",
      " 7   YearInSchool       194 non-null    category\n",
      " 8   Contraceptive      194 non-null    category\n",
      " 9   filter_$           194 non-null    category\n",
      "dtypes: category(7), float64(3)\n",
      "memory usage: 7.0 KB\n"
     ]
    }
   ],
   "source": [
    "df.info()"
   ]
  },
  {
   "cell_type": "markdown",
   "id": "d127e125",
   "metadata": {},
   "source": [
    "### RQ1: Is there any evidence to suggest that the cute-direct pick-up approach will lead to more relationship receptivity than the direct-direct approach?"
   ]
  },
  {
   "cell_type": "markdown",
   "id": "02abfeee",
   "metadata": {},
   "source": [
    "### Q1- What is your dependent variable?"
   ]
  },
  {
   "cell_type": "markdown",
   "id": "2d2a73f3",
   "metadata": {},
   "source": [
    "Our dependent variable is Receptivity."
   ]
  },
  {
   "cell_type": "markdown",
   "id": "8f7fc144",
   "metadata": {},
   "source": [
    "### Q2- What is(are) your independent variable(s)?"
   ]
  },
  {
   "cell_type": "markdown",
   "id": "b9b9aa1e",
   "metadata": {},
   "source": [
    "Our independent variables can be Scent, PickUp, Gender, Age, Ethnicity, YearInSchool, Contraceptive. The question in particular our independent variable is PickUp."
   ]
  },
  {
   "cell_type": "markdown",
   "id": "2d577614",
   "metadata": {},
   "source": [
    "### Q3 Is there independence of observations? "
   ]
  },
  {
   "cell_type": "code",
   "execution_count": 4,
   "id": "c1aa3ec9",
   "metadata": {},
   "outputs": [],
   "source": [
    "from statsmodels.stats.stattools import durbin_watson\n",
    "from statsmodels.formula.api import ols"
   ]
  },
  {
   "cell_type": "code",
   "execution_count": 30,
   "id": "5058b579",
   "metadata": {},
   "outputs": [
    {
     "name": "stdout",
     "output_type": "stream",
     "text": [
      "Modified DataFrame:\n",
      "      ParticipantNumber PickUp Scent  Receptivity  Gender   Age  \\\n",
      "0                  1.0      1     0      3.25424  female  21.0   \n",
      "1                  2.0      1     1      4.43760  female  19.0   \n",
      "2                  3.0      1     1      4.43760  female  21.0   \n",
      "3                  4.0      1     1      3.91988  female  19.0   \n",
      "4                  5.0      0     0      3.99384  female  20.0   \n",
      "..                 ...    ...   ...          ...     ...   ...   \n",
      "189              190.0      1     0      4.06780  female  23.0   \n",
      "190              191.0      1     0      3.99384  female  21.0   \n",
      "191              192.0      0     1      3.91988  female  20.0   \n",
      "192              193.0      0     1      4.32666  female  20.0   \n",
      "193              194.0      0     1      3.14330  female  19.0   \n",
      "\n",
      "                     Ethnicity YearInSchool Contraceptive      filter_$  \n",
      "0            white or european    sophomore           Yes  Not Selected  \n",
      "1            white or european       junior            No      Selected  \n",
      "2            white or european     freshman            No      Selected  \n",
      "3            white or european       junior           Yes  Not Selected  \n",
      "4             eastern or asian    sophomore            No      Selected  \n",
      "..                         ...          ...           ...           ...  \n",
      "189          white or european     freshman           Yes  Not Selected  \n",
      "190  hispanic, latino, spanish    sophomore           Yes  Not Selected  \n",
      "191                      other       junior           Yes  Not Selected  \n",
      "192          white or european    sophomore           Yes  Not Selected  \n",
      "193           eastern or asian    sophomore           Yes  Not Selected  \n",
      "\n",
      "[194 rows x 10 columns]\n"
     ]
    }
   ],
   "source": [
    "# Using map function\n",
    "df['PickUp'] = df['PickUp'].map({'Cute-Direct (Experimental Condition)': 1, 'Direct-Direct (Control Condition)': 0})\n",
    "\n",
    "df['Scent'] = df['Scent'].map({'Spray (Experimental Condition)': 1, 'No Spray (Control Condition)': 0})\n",
    "\n",
    "# Display modified DataFrame\n",
    "print(\"Modified DataFrame:\\n\",df)"
   ]
  },
  {
   "cell_type": "code",
   "execution_count": 13,
   "id": "07e8ce33",
   "metadata": {},
   "outputs": [
    {
     "data": {
      "text/html": [
       "<div>\n",
       "<style scoped>\n",
       "    .dataframe tbody tr th:only-of-type {\n",
       "        vertical-align: middle;\n",
       "    }\n",
       "\n",
       "    .dataframe tbody tr th {\n",
       "        vertical-align: top;\n",
       "    }\n",
       "\n",
       "    .dataframe thead th {\n",
       "        text-align: right;\n",
       "    }\n",
       "</style>\n",
       "<table border=\"1\" class=\"dataframe\">\n",
       "  <thead>\n",
       "    <tr style=\"text-align: right;\">\n",
       "      <th></th>\n",
       "      <th>ParticipantNumber</th>\n",
       "      <th>PickUp</th>\n",
       "      <th>Scent</th>\n",
       "      <th>Receptivity</th>\n",
       "      <th>Gender</th>\n",
       "      <th>Age</th>\n",
       "      <th>Ethnicity</th>\n",
       "      <th>YearInSchool</th>\n",
       "      <th>Contraceptive</th>\n",
       "      <th>filter_$</th>\n",
       "    </tr>\n",
       "  </thead>\n",
       "  <tbody>\n",
       "    <tr>\n",
       "      <th>0</th>\n",
       "      <td>1.0</td>\n",
       "      <td>1</td>\n",
       "      <td>0</td>\n",
       "      <td>3.25424</td>\n",
       "      <td>female</td>\n",
       "      <td>21.0</td>\n",
       "      <td>white or european</td>\n",
       "      <td>sophomore</td>\n",
       "      <td>Yes</td>\n",
       "      <td>Not Selected</td>\n",
       "    </tr>\n",
       "    <tr>\n",
       "      <th>1</th>\n",
       "      <td>2.0</td>\n",
       "      <td>1</td>\n",
       "      <td>1</td>\n",
       "      <td>4.43760</td>\n",
       "      <td>female</td>\n",
       "      <td>19.0</td>\n",
       "      <td>white or european</td>\n",
       "      <td>junior</td>\n",
       "      <td>No</td>\n",
       "      <td>Selected</td>\n",
       "    </tr>\n",
       "    <tr>\n",
       "      <th>2</th>\n",
       "      <td>3.0</td>\n",
       "      <td>1</td>\n",
       "      <td>1</td>\n",
       "      <td>4.43760</td>\n",
       "      <td>female</td>\n",
       "      <td>21.0</td>\n",
       "      <td>white or european</td>\n",
       "      <td>freshman</td>\n",
       "      <td>No</td>\n",
       "      <td>Selected</td>\n",
       "    </tr>\n",
       "    <tr>\n",
       "      <th>3</th>\n",
       "      <td>4.0</td>\n",
       "      <td>1</td>\n",
       "      <td>1</td>\n",
       "      <td>3.91988</td>\n",
       "      <td>female</td>\n",
       "      <td>19.0</td>\n",
       "      <td>white or european</td>\n",
       "      <td>junior</td>\n",
       "      <td>Yes</td>\n",
       "      <td>Not Selected</td>\n",
       "    </tr>\n",
       "    <tr>\n",
       "      <th>4</th>\n",
       "      <td>5.0</td>\n",
       "      <td>0</td>\n",
       "      <td>0</td>\n",
       "      <td>3.99384</td>\n",
       "      <td>female</td>\n",
       "      <td>20.0</td>\n",
       "      <td>eastern or asian</td>\n",
       "      <td>sophomore</td>\n",
       "      <td>No</td>\n",
       "      <td>Selected</td>\n",
       "    </tr>\n",
       "  </tbody>\n",
       "</table>\n",
       "</div>"
      ],
      "text/plain": [
       "   ParticipantNumber PickUp Scent  Receptivity  Gender   Age  \\\n",
       "0                1.0      1     0      3.25424  female  21.0   \n",
       "1                2.0      1     1      4.43760  female  19.0   \n",
       "2                3.0      1     1      4.43760  female  21.0   \n",
       "3                4.0      1     1      3.91988  female  19.0   \n",
       "4                5.0      0     0      3.99384  female  20.0   \n",
       "\n",
       "           Ethnicity YearInSchool Contraceptive      filter_$  \n",
       "0  white or european    sophomore           Yes  Not Selected  \n",
       "1  white or european       junior            No      Selected  \n",
       "2  white or european     freshman            No      Selected  \n",
       "3  white or european       junior           Yes  Not Selected  \n",
       "4   eastern or asian    sophomore            No      Selected  "
      ]
     },
     "execution_count": 13,
     "metadata": {},
     "output_type": "execute_result"
    }
   ],
   "source": [
    "df.head()"
   ]
  },
  {
   "cell_type": "code",
   "execution_count": 17,
   "id": "83be52df",
   "metadata": {},
   "outputs": [],
   "source": [
    "y_list = list(df[\"PickUp\"])\n",
    "y = np.asarray(y_list)\n",
    "x_list = list(df['Scent'])\n",
    "x = np.asarray(x_list)\n",
    "z_list = list(df['Receptivity']) \n",
    "z = np.asarray(z_list)"
   ]
  },
  {
   "cell_type": "code",
   "execution_count": 18,
   "id": "09500ef1",
   "metadata": {},
   "outputs": [
    {
     "name": "stdout",
     "output_type": "stream",
     "text": [
      "                            OLS Regression Results                            \n",
      "==============================================================================\n",
      "Dep. Variable:                      z   R-squared:                       0.037\n",
      "Model:                            OLS   Adj. R-squared:                  0.032\n",
      "Method:                 Least Squares   F-statistic:                     7.324\n",
      "Date:                Fri, 10 Feb 2023   Prob (F-statistic):            0.00742\n",
      "Time:                        13:35:05   Log-Likelihood:                -148.32\n",
      "No. Observations:                 194   AIC:                             300.6\n",
      "Df Residuals:                     192   BIC:                             307.2\n",
      "Df Model:                           1                                         \n",
      "Covariance Type:            nonrobust                                         \n",
      "==============================================================================\n",
      "                 coef    std err          t      P>|t|      [0.025      0.975]\n",
      "------------------------------------------------------------------------------\n",
      "Intercept      3.6545      0.061     60.173      0.000       3.535       3.774\n",
      "y              0.2090      0.077      2.706      0.007       0.057       0.361\n",
      "==============================================================================\n",
      "Omnibus:                        4.648   Durbin-Watson:                   1.864\n",
      "Prob(Omnibus):                  0.098   Jarque-Bera (JB):                4.535\n",
      "Skew:                           0.329   Prob(JB):                        0.104\n",
      "Kurtosis:                       2.642   Cond. No.                         3.00\n",
      "==============================================================================\n",
      "\n",
      "Notes:\n",
      "[1] Standard Errors assume that the covariance matrix of the errors is correctly specified.\n"
     ]
    }
   ],
   "source": [
    "# Using statsmodels.durbin_watson() method\n",
    "model=ols('z ~ y',data=df).fit()\n",
    "print(model.summary())"
   ]
  },
  {
   "cell_type": "code",
   "execution_count": 19,
   "id": "66a1628f",
   "metadata": {},
   "outputs": [
    {
     "data": {
      "text/plain": [
       "1.8635525965095887"
      ]
     },
     "execution_count": 19,
     "metadata": {},
     "output_type": "execute_result"
    }
   ],
   "source": [
    "durbin_watson(model.resid)"
   ]
  },
  {
   "cell_type": "markdown",
   "id": "ef275fcf",
   "metadata": {},
   "source": [
    "After using the Durbin-Watson statistic, the value should be around 2. Durbin Watson value is 1.863 here. Since this is within the range of 1.5 and 2.5, we would consider autocorrelation to not be problematic in this regression model."
   ]
  },
  {
   "cell_type": "markdown",
   "id": "c3be07bd",
   "metadata": {},
   "source": [
    "Yes, there is independence of observations if you are trying to predict Pickup with Receptivity."
   ]
  },
  {
   "cell_type": "markdown",
   "id": "d8736055",
   "metadata": {},
   "source": [
    "### Q4- Are there any significant outliers?"
   ]
  },
  {
   "cell_type": "code",
   "execution_count": 31,
   "id": "88666e64",
   "metadata": {},
   "outputs": [
    {
     "data": {
      "text/html": [
       "<div>\n",
       "<style scoped>\n",
       "    .dataframe tbody tr th:only-of-type {\n",
       "        vertical-align: middle;\n",
       "    }\n",
       "\n",
       "    .dataframe tbody tr th {\n",
       "        vertical-align: top;\n",
       "    }\n",
       "\n",
       "    .dataframe thead th {\n",
       "        text-align: right;\n",
       "    }\n",
       "</style>\n",
       "<table border=\"1\" class=\"dataframe\">\n",
       "  <thead>\n",
       "    <tr style=\"text-align: right;\">\n",
       "      <th></th>\n",
       "      <th>ParticipantNumber</th>\n",
       "      <th>Receptivity</th>\n",
       "      <th>Age</th>\n",
       "    </tr>\n",
       "  </thead>\n",
       "  <tbody>\n",
       "    <tr>\n",
       "      <th>count</th>\n",
       "      <td>194.000000</td>\n",
       "      <td>194.000000</td>\n",
       "      <td>194.000000</td>\n",
       "    </tr>\n",
       "    <tr>\n",
       "      <th>mean</th>\n",
       "      <td>97.500000</td>\n",
       "      <td>3.783719</td>\n",
       "      <td>20.278351</td>\n",
       "    </tr>\n",
       "    <tr>\n",
       "      <th>std</th>\n",
       "      <td>56.147128</td>\n",
       "      <td>0.530932</td>\n",
       "      <td>2.179710</td>\n",
       "    </tr>\n",
       "    <tr>\n",
       "      <th>min</th>\n",
       "      <td>1.000000</td>\n",
       "      <td>2.403700</td>\n",
       "      <td>19.000000</td>\n",
       "    </tr>\n",
       "    <tr>\n",
       "      <th>25%</th>\n",
       "      <td>49.250000</td>\n",
       "      <td>3.374425</td>\n",
       "      <td>19.000000</td>\n",
       "    </tr>\n",
       "    <tr>\n",
       "      <th>50%</th>\n",
       "      <td>97.500000</td>\n",
       "      <td>3.734980</td>\n",
       "      <td>20.000000</td>\n",
       "    </tr>\n",
       "    <tr>\n",
       "      <th>75%</th>\n",
       "      <td>145.750000</td>\n",
       "      <td>4.104780</td>\n",
       "      <td>21.000000</td>\n",
       "    </tr>\n",
       "    <tr>\n",
       "      <th>max</th>\n",
       "      <td>194.000000</td>\n",
       "      <td>5.000000</td>\n",
       "      <td>39.000000</td>\n",
       "    </tr>\n",
       "  </tbody>\n",
       "</table>\n",
       "</div>"
      ],
      "text/plain": [
       "       ParticipantNumber  Receptivity         Age\n",
       "count         194.000000   194.000000  194.000000\n",
       "mean           97.500000     3.783719   20.278351\n",
       "std            56.147128     0.530932    2.179710\n",
       "min             1.000000     2.403700   19.000000\n",
       "25%            49.250000     3.374425   19.000000\n",
       "50%            97.500000     3.734980   20.000000\n",
       "75%           145.750000     4.104780   21.000000\n",
       "max           194.000000     5.000000   39.000000"
      ]
     },
     "execution_count": 31,
     "metadata": {},
     "output_type": "execute_result"
    }
   ],
   "source": [
    "df.describe()"
   ]
  },
  {
   "cell_type": "code",
   "execution_count": 32,
   "id": "2f70b56b",
   "metadata": {},
   "outputs": [
    {
     "data": {
      "image/png": "[encoded data removed]",
      "text/plain": [
       "<Figure size 864x576 with 1 Axes>"
      ]
     },
     "metadata": {
      "needs_background": "light"
     },
     "output_type": "display_data"
    }
   ],
   "source": [
    "import seaborn as sns\n",
    "import matplotlib.pyplot as plt\n",
    "\n",
    "\n",
    "sns.boxplot( y=df[\"PickUp\"], x=df[\"Age\"] );\n",
    "plt.show()"
   ]
  },
  {
   "cell_type": "code",
   "execution_count": 33,
   "id": "7dbd16e9",
   "metadata": {},
   "outputs": [
    {
     "data": {
      "image/png": "[encoded data removed]",
      "text/plain": [
       "<Figure size 864x576 with 1 Axes>"
      ]
     },
     "metadata": {
      "needs_background": "light"
     },
     "output_type": "display_data"
    }
   ],
   "source": [
    "sns.boxplot( y=df[\"PickUp\"], x=df[\"Receptivity\"] );\n",
    "plt.show()"
   ]
  },
  {
   "cell_type": "markdown",
   "id": "091e4d5b",
   "metadata": {},
   "source": [
    "We can draw Box Plot diagram for Receptivitiy and Age variables. There is no outliers for Recetivitity. On the other hand, there are 6 Outliers for Age variable. However that can be. Max value of Age is 39. That is normal. So there is no significant outliers. "
   ]
  },
  {
   "cell_type": "markdown",
   "id": "6a1154a7",
   "metadata": {},
   "source": [
    "### Q5- How is your dependent variable distributed in each cell?"
   ]
  },
  {
   "cell_type": "code",
   "execution_count": 60,
   "id": "40c1afb0",
   "metadata": {},
   "outputs": [],
   "source": [
    "b = list(df[\"PickUp\"])"
   ]
  },
  {
   "cell_type": "code",
   "execution_count": 63,
   "id": "45f644b8",
   "metadata": {},
   "outputs": [
    {
     "data": {
      "text/plain": [
       "ShapiroResult(statistic=0.6156522035598755, pvalue=1.222412598330336e-20)"
      ]
     },
     "execution_count": 63,
     "metadata": {},
     "output_type": "execute_result"
    }
   ],
   "source": [
    "shapiro_test_1 = stats.shapiro(b)\n",
    "shapiro_test_1"
   ]
  },
  {
   "cell_type": "markdown",
   "id": "8b029b00",
   "metadata": {},
   "source": [
    "Data is normally distributed if the significance in these tests is p > 0.05. pvalue: 1.222 > 0.05 so distribution of dependent are normally distributed. "
   ]
  },
  {
   "cell_type": "markdown",
   "id": "1d694e08",
   "metadata": {},
   "source": [
    "### Q7- Is there homogeneity or heterogeneity of variance?"
   ]
  },
  {
   "cell_type": "code",
   "execution_count": 36,
   "id": "c7c196c0",
   "metadata": {},
   "outputs": [],
   "source": [
    "from statsmodels.stats.diagnostic import het_white\n",
    "import statsmodels.api as sm"
   ]
  },
  {
   "cell_type": "code",
   "execution_count": 37,
   "id": "c10d48d7",
   "metadata": {},
   "outputs": [],
   "source": [
    "#add constant to predictor variables\n",
    "z = sm.add_constant(z)\n",
    "\n",
    "#fit regression model\n",
    "model = sm.OLS(y, z).fit()"
   ]
  },
  {
   "cell_type": "code",
   "execution_count": 38,
   "id": "cbacd77e",
   "metadata": {},
   "outputs": [],
   "source": [
    "#perform White's test\n",
    "white_test = het_white(model.resid,  model.model.exog)"
   ]
  },
  {
   "cell_type": "code",
   "execution_count": 39,
   "id": "9da1f3c5",
   "metadata": {},
   "outputs": [
    {
     "name": "stdout",
     "output_type": "stream",
     "text": [
      "{'Test Statistic': 2.7933660690949513, 'Test Statistic p-value': 0.24741627561476567, 'F-Statistic': 1.3951736616783204, 'F-Test p-value': 0.25030360116472505}\n"
     ]
    }
   ],
   "source": [
    "#define labels to use for output of White's test\n",
    "labels = ['Test Statistic', 'Test Statistic p-value', 'F-Statistic', 'F-Test p-value']\n",
    "\n",
    "#print results of White's test\n",
    "print(dict(zip(labels, white_test)))"
   ]
  },
  {
   "cell_type": "markdown",
   "id": "bb2159d8",
   "metadata": {},
   "source": [
    "After using White Test,the test statistic is X2 = 2.793. The corresponding p-value is 0.247. White’s test uses the following null and alternative hypotheses:\n",
    "\n",
    "Null (H0): Homoscedasticity is present (residuals are equally scattered) Alternative (HA): Heteroscedasticity is present (residuals are not equally scattered)\n",
    "Since the p-value is not less than 0.05, we fail to reject the null hypothesis.\n",
    "\n",
    "This means we do not have sufficient evidence to say that heteroscedasticity is present in the regression model."
   ]
  },
  {
   "cell_type": "markdown",
   "id": "243034c0",
   "metadata": {},
   "source": [
    "Yes, residual data show homoscedasticity."
   ]
  },
  {
   "cell_type": "markdown",
   "id": "e861442a",
   "metadata": {},
   "source": [
    "### Q6- Do you need to perform any transformations?"
   ]
  },
  {
   "cell_type": "markdown",
   "id": "d600b21a",
   "metadata": {},
   "source": [
    "Distribution of dependent variable are normally distributed. We don`t need transformation."
   ]
  },
  {
   "cell_type": "markdown",
   "id": "6b6cb324",
   "metadata": {},
   "source": [
    "### Q8- What is the mean score of receptivity in the experimental condition?"
   ]
  },
  {
   "cell_type": "code",
   "execution_count": 43,
   "id": "0b6eb60e",
   "metadata": {},
   "outputs": [
    {
     "data": {
      "text/html": [
       "<div>\n",
       "<style scoped>\n",
       "    .dataframe tbody tr th:only-of-type {\n",
       "        vertical-align: middle;\n",
       "    }\n",
       "\n",
       "    .dataframe tbody tr th {\n",
       "        vertical-align: top;\n",
       "    }\n",
       "\n",
       "    .dataframe thead th {\n",
       "        text-align: right;\n",
       "    }\n",
       "</style>\n",
       "<table border=\"1\" class=\"dataframe\">\n",
       "  <thead>\n",
       "    <tr style=\"text-align: right;\">\n",
       "      <th></th>\n",
       "      <th>ParticipantNumber</th>\n",
       "      <th>PickUp</th>\n",
       "      <th>Scent</th>\n",
       "      <th>Receptivity</th>\n",
       "      <th>Gender</th>\n",
       "      <th>Age</th>\n",
       "      <th>Ethnicity</th>\n",
       "      <th>YearInSchool</th>\n",
       "      <th>Contraceptive</th>\n",
       "      <th>filter_$</th>\n",
       "    </tr>\n",
       "  </thead>\n",
       "  <tbody>\n",
       "    <tr>\n",
       "      <th>63</th>\n",
       "      <td>64.0</td>\n",
       "      <td>0</td>\n",
       "      <td>1</td>\n",
       "      <td>3.69800</td>\n",
       "      <td>female</td>\n",
       "      <td>19.0</td>\n",
       "      <td>black or african</td>\n",
       "      <td>junior</td>\n",
       "      <td>Yes</td>\n",
       "      <td>Not Selected</td>\n",
       "    </tr>\n",
       "    <tr>\n",
       "      <th>88</th>\n",
       "      <td>89.0</td>\n",
       "      <td>0</td>\n",
       "      <td>1</td>\n",
       "      <td>3.55008</td>\n",
       "      <td>female</td>\n",
       "      <td>19.0</td>\n",
       "      <td>eastern or asian</td>\n",
       "      <td>sophomore</td>\n",
       "      <td>No</td>\n",
       "      <td>Selected</td>\n",
       "    </tr>\n",
       "    <tr>\n",
       "      <th>107</th>\n",
       "      <td>108.0</td>\n",
       "      <td>1</td>\n",
       "      <td>1</td>\n",
       "      <td>3.21726</td>\n",
       "      <td>female</td>\n",
       "      <td>19.0</td>\n",
       "      <td>hispanic, latino, spanish</td>\n",
       "      <td>freshman</td>\n",
       "      <td>No</td>\n",
       "      <td>Selected</td>\n",
       "    </tr>\n",
       "    <tr>\n",
       "      <th>97</th>\n",
       "      <td>98.0</td>\n",
       "      <td>1</td>\n",
       "      <td>1</td>\n",
       "      <td>4.43760</td>\n",
       "      <td>female</td>\n",
       "      <td>19.0</td>\n",
       "      <td>white or european</td>\n",
       "      <td>junior</td>\n",
       "      <td>Yes</td>\n",
       "      <td>Not Selected</td>\n",
       "    </tr>\n",
       "    <tr>\n",
       "      <th>24</th>\n",
       "      <td>25.0</td>\n",
       "      <td>1</td>\n",
       "      <td>1</td>\n",
       "      <td>4.28968</td>\n",
       "      <td>female</td>\n",
       "      <td>21.0</td>\n",
       "      <td>black or african</td>\n",
       "      <td>junior</td>\n",
       "      <td>Yes</td>\n",
       "      <td>Not Selected</td>\n",
       "    </tr>\n",
       "  </tbody>\n",
       "</table>\n",
       "</div>"
      ],
      "text/plain": [
       "     ParticipantNumber PickUp Scent  Receptivity  Gender   Age  \\\n",
       "63                64.0      0     1      3.69800  female  19.0   \n",
       "88                89.0      0     1      3.55008  female  19.0   \n",
       "107              108.0      1     1      3.21726  female  19.0   \n",
       "97                98.0      1     1      4.43760  female  19.0   \n",
       "24                25.0      1     1      4.28968  female  21.0   \n",
       "\n",
       "                     Ethnicity YearInSchool Contraceptive      filter_$  \n",
       "63            black or african       junior           Yes  Not Selected  \n",
       "88            eastern or asian    sophomore            No      Selected  \n",
       "107  hispanic, latino, spanish     freshman            No      Selected  \n",
       "97           white or european       junior           Yes  Not Selected  \n",
       "24            black or african       junior           Yes  Not Selected  "
      ]
     },
     "execution_count": 43,
     "metadata": {},
     "output_type": "execute_result"
    }
   ],
   "source": [
    "df.sample(5)"
   ]
  },
  {
   "cell_type": "code",
   "execution_count": 47,
   "id": "d8eae7e8",
   "metadata": {},
   "outputs": [],
   "source": [
    "df_ex = df[(df.PickUp == 1)]"
   ]
  },
  {
   "cell_type": "code",
   "execution_count": 46,
   "id": "2e5eefa4",
   "metadata": {},
   "outputs": [
    {
     "data": {
      "text/plain": [
       "3.8634339999999976"
      ]
     },
     "execution_count": 46,
     "metadata": {},
     "output_type": "execute_result"
    }
   ],
   "source": [
    "Mean_1 = np.mean(df_ex[\"Receptivity\"])\n",
    "Mean_1"
   ]
  },
  {
   "cell_type": "markdown",
   "id": "d378cf5c",
   "metadata": {},
   "source": [
    "### Q9- What is the mean score of receptivity in the control condition?"
   ]
  },
  {
   "cell_type": "code",
   "execution_count": 48,
   "id": "12fc4ecd",
   "metadata": {},
   "outputs": [],
   "source": [
    "df_cc =  df[(df.PickUp == 0)]"
   ]
  },
  {
   "cell_type": "code",
   "execution_count": 50,
   "id": "95363cc8",
   "metadata": {},
   "outputs": [
    {
     "data": {
      "text/plain": [
       "3.654451621621624"
      ]
     },
     "execution_count": 50,
     "metadata": {},
     "output_type": "execute_result"
    }
   ],
   "source": [
    "Mean_2 = np.mean(df_cc['Receptivity'])\n",
    "Mean_2"
   ]
  },
  {
   "cell_type": "markdown",
   "id": "399672b1",
   "metadata": {},
   "source": [
    "### Q10- What is your answer to RQ1? Report on the findings (no less than 150 words). Don’t forget to mention the assumptions."
   ]
  },
  {
   "cell_type": "markdown",
   "id": "1815a99f",
   "metadata": {},
   "source": [
    "In the given dataset, we have two types of people one who are Receptivity. and another who are Non-Receptivity. So, we can divide data into two groups and compare their characteristics. Here Receptivity variable is dependent variable. On other side, our independent variables can be PickUp, Scent, Gender, Age, Ethnicity, YearInSchool, Contraceptive. The question in particular our independent variable is PickUp.  \n",
    "I examined there  independence of observations is. After using the Durbin-Watson statistic, the value should PickUp & Receptivity be around 2. Durbin Watson value is 1.863 here. Since this is within the range of 1.5 and 2.5, we would consider autocorrelation to not be problematic in this regression model.\n",
    "Yes, there is independence of observations if you are trying to predict Pickup with Receptivity.\n",
    "We can draw Box Plot diagram for Receptivitiy and Age variables, while two of them numerical are. After drawing diagrams, there is no outliers for Recetivitity. On the other hand, there are 6 Outliers for Age variable. However that can be. Max value of Age is 39. That is normal. So there is no significant outliers.\n",
    "Data is normally distributed if the significance in these tests is p > 0.05. pvalue: 1.222 > 0.05 so distribution of dependent are normally distributed. So we don´t need to perform any transformation.\n",
    "After using White Test,the test statistic is X2 = 2.793. The corresponding p-value is 0.247. White’s test uses the following null and alternative hypotheses:\n",
    "Null (H0): Homoscedasticity is present (residuals are equally scattered) Alternative (HA): Heteroscedasticity is present (residuals are not equally scattered) Since the p-value is not less than 0.05, we fail to reject the null hypothesis.\n",
    "This means we do not have sufficient evidence to say that heteroscedasticity is present in the regression model.\n",
    "Yes, residual data show homoscedasticity."
   ]
  },
  {
   "cell_type": "markdown",
   "id": "11215410",
   "metadata": {},
   "source": [
    "### RQ2: Is there any evidence to suggest that the presence of androstadienone spray will lead to more relationship receptivity than no spray?"
   ]
  },
  {
   "cell_type": "markdown",
   "id": "d8ccd343",
   "metadata": {},
   "source": [
    "### Q11- What is your dependent variable?"
   ]
  },
  {
   "cell_type": "markdown",
   "id": "0692b7d8",
   "metadata": {},
   "source": [
    "Our dependent variable is Receptivity. "
   ]
  },
  {
   "cell_type": "markdown",
   "id": "618f6ecc",
   "metadata": {},
   "source": [
    "### Q12- What is(are) your independent variable(s)?"
   ]
  },
  {
   "cell_type": "markdown",
   "id": "6872dc77",
   "metadata": {},
   "source": [
    "The question in particular our independent variable is the presence androstadienone spray. "
   ]
  },
  {
   "cell_type": "markdown",
   "id": "e7ae584c",
   "metadata": {},
   "source": [
    "### Q13- Is there independence of observations? "
   ]
  },
  {
   "cell_type": "code",
   "execution_count": 51,
   "id": "0bd7110c",
   "metadata": {},
   "outputs": [
    {
     "data": {
      "text/html": [
       "<div>\n",
       "<style scoped>\n",
       "    .dataframe tbody tr th:only-of-type {\n",
       "        vertical-align: middle;\n",
       "    }\n",
       "\n",
       "    .dataframe tbody tr th {\n",
       "        vertical-align: top;\n",
       "    }\n",
       "\n",
       "    .dataframe thead th {\n",
       "        text-align: right;\n",
       "    }\n",
       "</style>\n",
       "<table border=\"1\" class=\"dataframe\">\n",
       "  <thead>\n",
       "    <tr style=\"text-align: right;\">\n",
       "      <th></th>\n",
       "      <th>ParticipantNumber</th>\n",
       "      <th>PickUp</th>\n",
       "      <th>Scent</th>\n",
       "      <th>Receptivity</th>\n",
       "      <th>Gender</th>\n",
       "      <th>Age</th>\n",
       "      <th>Ethnicity</th>\n",
       "      <th>YearInSchool</th>\n",
       "      <th>Contraceptive</th>\n",
       "      <th>filter_$</th>\n",
       "    </tr>\n",
       "  </thead>\n",
       "  <tbody>\n",
       "    <tr>\n",
       "      <th>0</th>\n",
       "      <td>1.0</td>\n",
       "      <td>1</td>\n",
       "      <td>0</td>\n",
       "      <td>3.25424</td>\n",
       "      <td>female</td>\n",
       "      <td>21.0</td>\n",
       "      <td>white or european</td>\n",
       "      <td>sophomore</td>\n",
       "      <td>Yes</td>\n",
       "      <td>Not Selected</td>\n",
       "    </tr>\n",
       "    <tr>\n",
       "      <th>1</th>\n",
       "      <td>2.0</td>\n",
       "      <td>1</td>\n",
       "      <td>1</td>\n",
       "      <td>4.43760</td>\n",
       "      <td>female</td>\n",
       "      <td>19.0</td>\n",
       "      <td>white or european</td>\n",
       "      <td>junior</td>\n",
       "      <td>No</td>\n",
       "      <td>Selected</td>\n",
       "    </tr>\n",
       "    <tr>\n",
       "      <th>2</th>\n",
       "      <td>3.0</td>\n",
       "      <td>1</td>\n",
       "      <td>1</td>\n",
       "      <td>4.43760</td>\n",
       "      <td>female</td>\n",
       "      <td>21.0</td>\n",
       "      <td>white or european</td>\n",
       "      <td>freshman</td>\n",
       "      <td>No</td>\n",
       "      <td>Selected</td>\n",
       "    </tr>\n",
       "    <tr>\n",
       "      <th>3</th>\n",
       "      <td>4.0</td>\n",
       "      <td>1</td>\n",
       "      <td>1</td>\n",
       "      <td>3.91988</td>\n",
       "      <td>female</td>\n",
       "      <td>19.0</td>\n",
       "      <td>white or european</td>\n",
       "      <td>junior</td>\n",
       "      <td>Yes</td>\n",
       "      <td>Not Selected</td>\n",
       "    </tr>\n",
       "    <tr>\n",
       "      <th>4</th>\n",
       "      <td>5.0</td>\n",
       "      <td>0</td>\n",
       "      <td>0</td>\n",
       "      <td>3.99384</td>\n",
       "      <td>female</td>\n",
       "      <td>20.0</td>\n",
       "      <td>eastern or asian</td>\n",
       "      <td>sophomore</td>\n",
       "      <td>No</td>\n",
       "      <td>Selected</td>\n",
       "    </tr>\n",
       "  </tbody>\n",
       "</table>\n",
       "</div>"
      ],
      "text/plain": [
       "   ParticipantNumber PickUp Scent  Receptivity  Gender   Age  \\\n",
       "0                1.0      1     0      3.25424  female  21.0   \n",
       "1                2.0      1     1      4.43760  female  19.0   \n",
       "2                3.0      1     1      4.43760  female  21.0   \n",
       "3                4.0      1     1      3.91988  female  19.0   \n",
       "4                5.0      0     0      3.99384  female  20.0   \n",
       "\n",
       "           Ethnicity YearInSchool Contraceptive      filter_$  \n",
       "0  white or european    sophomore           Yes  Not Selected  \n",
       "1  white or european       junior            No      Selected  \n",
       "2  white or european     freshman            No      Selected  \n",
       "3  white or european       junior           Yes  Not Selected  \n",
       "4   eastern or asian    sophomore            No      Selected  "
      ]
     },
     "execution_count": 51,
     "metadata": {},
     "output_type": "execute_result"
    }
   ],
   "source": [
    "df.head()"
   ]
  },
  {
   "cell_type": "code",
   "execution_count": 70,
   "id": "2dd378f8",
   "metadata": {},
   "outputs": [],
   "source": [
    "y_list = list(df['Receptivity']) \n",
    "y = np.asarray(y_list)\n",
    "x_list = list(df['Scent'])\n",
    "x = np.asarray(x_list)"
   ]
  },
  {
   "cell_type": "code",
   "execution_count": 71,
   "id": "24dae73e",
   "metadata": {},
   "outputs": [
    {
     "name": "stdout",
     "output_type": "stream",
     "text": [
      "                            OLS Regression Results                            \n",
      "==============================================================================\n",
      "Dep. Variable:                      x   R-squared:                       0.022\n",
      "Model:                            OLS   Adj. R-squared:                  0.017\n",
      "Method:                 Least Squares   F-statistic:                     4.331\n",
      "Date:                Fri, 10 Feb 2023   Prob (F-statistic):             0.0388\n",
      "Time:                        19:42:04   Log-Likelihood:                -138.13\n",
      "No. Observations:                 194   AIC:                             280.3\n",
      "Df Residuals:                     192   BIC:                             286.8\n",
      "Df Model:                           1                                         \n",
      "Covariance Type:            nonrobust                                         \n",
      "==============================================================================\n",
      "                 coef    std err          t      P>|t|      [0.025      0.975]\n",
      "------------------------------------------------------------------------------\n",
      "Intercept      0.0069      0.257      0.027      0.979      -0.500       0.513\n",
      "y              0.1399      0.067      2.081      0.039       0.007       0.272\n",
      "==============================================================================\n",
      "Omnibus:                     1156.075   Durbin-Watson:                   0.889\n",
      "Prob(Omnibus):                  0.000   Jarque-Bera (JB):               29.614\n",
      "Skew:                          -0.118   Prob(JB):                     3.71e-07\n",
      "Kurtosis:                       1.101   Cond. No.                         29.4\n",
      "==============================================================================\n",
      "\n",
      "Notes:\n",
      "[1] Standard Errors assume that the covariance matrix of the errors is correctly specified.\n"
     ]
    }
   ],
   "source": [
    "# Using statsmodels.durbin_watson() method\n",
    "model=ols('x ~ y',data=df).fit()\n",
    "print(model.summary())"
   ]
  },
  {
   "cell_type": "code",
   "execution_count": 72,
   "id": "8dc6829d",
   "metadata": {},
   "outputs": [
    {
     "data": {
      "text/plain": [
       "0.88854268768353"
      ]
     },
     "execution_count": 72,
     "metadata": {},
     "output_type": "execute_result"
    }
   ],
   "source": [
    "durbin_watson(model.resid)"
   ]
  },
  {
   "cell_type": "markdown",
   "id": "f2f7cb73",
   "metadata": {},
   "source": [
    "After using the Durbin-Watson statistic, the value should be around 2. Durbin Watson value is 0.888 here. Since this is not within the range of 1.5 and 2.5, we would consider autocorrelation to be problematic in this regression model."
   ]
  },
  {
   "cell_type": "markdown",
   "id": "3b6322a1",
   "metadata": {},
   "source": [
    "No, there is no independence of observations if you are trying to predict Receptivity with Scent."
   ]
  },
  {
   "cell_type": "markdown",
   "id": "a8c5626c",
   "metadata": {},
   "source": [
    "### Q14- Are there any significant outliers?"
   ]
  },
  {
   "cell_type": "code",
   "execution_count": 59,
   "id": "5db90536",
   "metadata": {},
   "outputs": [
    {
     "data": {
      "image/png": "[encoded data removed]",
      "text/plain": [
       "<Figure size 864x576 with 1 Axes>"
      ]
     },
     "metadata": {
      "needs_background": "light"
     },
     "output_type": "display_data"
    }
   ],
   "source": [
    "sns.boxplot( y=df[\"Scent\"], x=df[\"Receptivity\"] );\n",
    "plt.show()"
   ]
  },
  {
   "cell_type": "markdown",
   "id": "6666269b",
   "metadata": {},
   "source": [
    "We can draw Box Plot diagram for Receptivitiy and Scent variables. There are 2 Outliers for variables. So yes there are significant outliers."
   ]
  },
  {
   "cell_type": "markdown",
   "id": "5d01d8c8",
   "metadata": {},
   "source": [
    "### Q15- How is your dependent variable distributed in each cell?"
   ]
  },
  {
   "cell_type": "code",
   "execution_count": 62,
   "id": "e19b1700",
   "metadata": {},
   "outputs": [],
   "source": [
    "c = list(df['Receptivity'])"
   ]
  },
  {
   "cell_type": "code",
   "execution_count": 65,
   "id": "bd0bdf05",
   "metadata": {},
   "outputs": [
    {
     "data": {
      "text/plain": [
       "ShapiroResult(statistic=0.9844915270805359, pvalue=0.031009113416075706)"
      ]
     },
     "execution_count": 65,
     "metadata": {},
     "output_type": "execute_result"
    }
   ],
   "source": [
    "shapiro_test_2 = stats.shapiro(c)\n",
    "shapiro_test_2"
   ]
  },
  {
   "cell_type": "markdown",
   "id": "6087f17d",
   "metadata": {},
   "source": [
    "Data is normally distributed if the significance in these tests is p > 0.05. pvalue: 0.031 < 0.05 so distribution of dependent are not normally distributed."
   ]
  },
  {
   "cell_type": "markdown",
   "id": "a6b4d9d0",
   "metadata": {},
   "source": [
    "### Q16- Do you need to perform any transformations?"
   ]
  },
  {
   "cell_type": "markdown",
   "id": "4f682340",
   "metadata": {},
   "source": [
    "Distribution of dependent value are not normally distributed. So we need to perform any transformations.  "
   ]
  },
  {
   "cell_type": "code",
   "execution_count": 67,
   "id": "a8332cb2",
   "metadata": {},
   "outputs": [],
   "source": [
    "# transform training data & save lambda value\n",
    "fitted_data, fitted_lambda = stats.boxcox(c)"
   ]
  },
  {
   "cell_type": "code",
   "execution_count": 68,
   "id": "1a3ecf4c",
   "metadata": {},
   "outputs": [
    {
     "name": "stdout",
     "output_type": "stream",
     "text": [
      "Lambda value used for Transformation: 0.34351158278149607\n"
     ]
    },
    {
     "data": {
      "image/png": "[encoded data removed]",
      "text/plain": [
       "<Figure size 792x504 with 2 Axes>"
      ]
     },
     "metadata": {
      "needs_background": "light"
     },
     "output_type": "display_data"
    }
   ],
   "source": [
    "# creating axes to draw plots\n",
    "fig, ax = plt.subplots(1, 2)\n",
    " \n",
    "# plotting the original data(non-normal) and\n",
    "# fitted data (normal)\n",
    "sns.distplot(c, hist = False, kde = True,\n",
    "            kde_kws = {'shade': True, 'linewidth': 2},\n",
    "            label = \"Non-Normal\", color =\"green\", ax = ax[0])\n",
    " \n",
    "sns.distplot(fitted_data, hist = False, kde = True,\n",
    "            kde_kws = {'shade': True, 'linewidth': 2},\n",
    "            label = \"Normal\", color =\"green\", ax = ax[1])\n",
    " \n",
    "# adding legends to the subplots\n",
    "plt.legend(loc = \"upper right\")\n",
    " \n",
    "# rescaling the subplots\n",
    "fig.set_figheight(7)\n",
    "fig.set_figwidth(11)\n",
    " \n",
    "print(f\"Lambda value used for Transformation: {fitted_lambda}\")"
   ]
  },
  {
   "cell_type": "code",
   "execution_count": 69,
   "id": "ef27d9fe",
   "metadata": {},
   "outputs": [
    {
     "data": {
      "text/plain": [
       "ShapiroResult(statistic=0.9892571568489075, pvalue=0.1532202959060669)"
      ]
     },
     "execution_count": 69,
     "metadata": {},
     "output_type": "execute_result"
    }
   ],
   "source": [
    "shapiro_test_4 = stats.shapiro(fitted_data)\n",
    "shapiro_test_4"
   ]
  },
  {
   "cell_type": "markdown",
   "id": "0ed8f818",
   "metadata": {},
   "source": [
    "After applying Box-Cox transformation method, p-value turn into higher value; 0.15 > 0.05. Distribution of dependent value are normally distributed."
   ]
  },
  {
   "cell_type": "markdown",
   "id": "1a514810",
   "metadata": {},
   "source": [
    "### Q17- Is there homogeneity or heterogeneity of variance?"
   ]
  },
  {
   "cell_type": "code",
   "execution_count": 75,
   "id": "c4d632b4",
   "metadata": {},
   "outputs": [],
   "source": [
    "#add constant to predictor variables\n",
    "x = sm.add_constant(x)\n",
    "\n",
    "#fit regression model\n",
    "model = sm.OLS(y, x).fit()"
   ]
  },
  {
   "cell_type": "code",
   "execution_count": 76,
   "id": "f4012c62",
   "metadata": {},
   "outputs": [],
   "source": [
    "#perform White's test\n",
    "white_test_2 = het_white(model.resid,  model.model.exog)"
   ]
  },
  {
   "cell_type": "code",
   "execution_count": 77,
   "id": "cdd4584b",
   "metadata": {},
   "outputs": [
    {
     "name": "stdout",
     "output_type": "stream",
     "text": [
      "{'Test Statistic': 12.33012653624705, 'Test Statistic p-value': 0.00044570619386553504, 'F-Statistic': 13.031243154533147, 'F-Test p-value': 0.00039084644468384116}\n"
     ]
    }
   ],
   "source": [
    "#define labels to use for output of White's test\n",
    "labels = ['Test Statistic', 'Test Statistic p-value', 'F-Statistic', 'F-Test p-value']\n",
    "\n",
    "#print results of White's test\n",
    "print(dict(zip(labels, white_test_2)))"
   ]
  },
  {
   "cell_type": "markdown",
   "id": "d69834d2",
   "metadata": {},
   "source": [
    "After using White Test,the test statistic is X2 = 12.33. The corresponding p-value is 0.0004. White’s test uses the following null and alternative hypotheses:\n",
    "\n",
    "Null (H0): Homoscedasticity is present (residuals are equally scattered) Alternative (HA): Heteroscedasticity is present (residuals are not equally scattered) Since the p-value is less than 0.05, we reject the null hypothesis.\n",
    "\n",
    "This means we have sufficient evidence to say that heteroscedasticity is present in the regression model.\n",
    "Yes, residual data don't show homoscedasticity."
   ]
  },
  {
   "cell_type": "markdown",
   "id": "16fc7b4f",
   "metadata": {},
   "source": [
    "### Q18- What is the mean score of receptivity in the experimental condition?"
   ]
  },
  {
   "cell_type": "code",
   "execution_count": 79,
   "id": "117299d5",
   "metadata": {},
   "outputs": [],
   "source": [
    "df_ex_2 = df[(df.Scent == 1)]"
   ]
  },
  {
   "cell_type": "code",
   "execution_count": 83,
   "id": "ba2beb0e",
   "metadata": {},
   "outputs": [],
   "source": [
    "mean_3 = np.mean(df_ex_2['Receptivity'])"
   ]
  },
  {
   "cell_type": "code",
   "execution_count": 84,
   "id": "0fbb22f9",
   "metadata": {},
   "outputs": [
    {
     "data": {
      "text/plain": [
       "3.8568834615384597"
      ]
     },
     "execution_count": 84,
     "metadata": {},
     "output_type": "execute_result"
    }
   ],
   "source": [
    "mean_3"
   ]
  },
  {
   "cell_type": "markdown",
   "id": "7214a8d4",
   "metadata": {},
   "source": [
    "### Q19- What is the mean score of receptivity in the control condition?"
   ]
  },
  {
   "cell_type": "code",
   "execution_count": 85,
   "id": "47129f55",
   "metadata": {},
   "outputs": [],
   "source": [
    "df_cc_2 = df[(df.Scent == 0)]"
   ]
  },
  {
   "cell_type": "code",
   "execution_count": 86,
   "id": "203e1d63",
   "metadata": {},
   "outputs": [],
   "source": [
    "mean_3 = np.mean(df_cc_2['Receptivity'])"
   ]
  },
  {
   "cell_type": "code",
   "execution_count": 87,
   "id": "e1535091",
   "metadata": {},
   "outputs": [
    {
     "data": {
      "text/plain": [
       "3.6991735555555554"
      ]
     },
     "execution_count": 87,
     "metadata": {},
     "output_type": "execute_result"
    }
   ],
   "source": [
    "mean_3"
   ]
  },
  {
   "cell_type": "markdown",
   "id": "a417d85d",
   "metadata": {},
   "source": [
    "### Q20- What is your answer to RQ2? Report on the findings (no less than 150 words). Don’t forget to mention the assumptions."
   ]
  },
  {
   "cell_type": "markdown",
   "id": "712a8545",
   "metadata": {},
   "source": [
    "In the given dataset, we have two types of people one who are Recepcivity and another who are Non-Receptivity. So, we can divide data into two groups and compare their characteristics. Here Receptivity variable is dependent variable. On other side, our independent variables can be Scent,Receptivity, Gender, Age, Ethnicity, YearInSchool, Contraceptive. The question in particular our independent variable is the presence androstadienone spray. \n",
    "I examined there independence of observations is. After using the Durbin-Watson statistic, the value between Receptivity & Scent should be around 2. Durbin Watson value is 0.888 here. Since this is not within the range of 1.5 and 2.5, we would consider autocorrelation to be problematic in this regression model. No, there is no independence of observations if you are trying to predict Receptivity. \n",
    "We can draw Box Plot diagram for Receptivitiy and Scent variables. There are 2 Outliers for variables. So yes there are significant outliers.\n",
    "Data is normally distributed if the significance in these tests is p > 0.05. Data is normally distributed if the significance in these tests is p > 0.05. pvalue: 0.031 < 0.05 so distribution of dependent are not normally distributed.\n",
    "After applying Box-Cox transformation method, p-value turn into higher value; 0.15 > 0.05. Distribution of dependent value are normally distributed.\n",
    "After using White Test,the test statistic is X2 = 12.33. The corresponding p-value is 0.0004. White’s test uses the following null and alternative hypotheses:\n",
    "Null (H0): Homoscedasticity is present (residuals are equally scattered) Alternative (HA): Heteroscedasticity is present (residuals are not equally scattered) Since the p-value is less than 0.05, we reject the null hypothesis.\n",
    "This means we have sufficient evidence to say that heteroscedasticity is present in the regression model. Yes, residual data don't show homoscedasticity."
   ]
  },
  {
   "cell_type": "markdown",
   "id": "c0ac351a",
   "metadata": {},
   "source": [
    "### RQ3: Is there any evidence to suggest that the impact of the androstadienone spray on attractiveness effect will be enhanced by the pick-up approach?"
   ]
  },
  {
   "cell_type": "markdown",
   "id": "95017440",
   "metadata": {},
   "source": [
    "### Q21- What is your dependent variable?"
   ]
  },
  {
   "cell_type": "markdown",
   "id": "1ee34660",
   "metadata": {},
   "source": [
    "Our dependent variable is Receptivity."
   ]
  },
  {
   "cell_type": "markdown",
   "id": "f1db4414",
   "metadata": {},
   "source": [
    "### Q22- What is(are) your independent variable(s)?"
   ]
  },
  {
   "cell_type": "markdown",
   "id": "1d22358c",
   "metadata": {},
   "source": [
    "Our independent variables are impact of the androstadienone spray and pick-up approach."
   ]
  },
  {
   "cell_type": "markdown",
   "id": "4bf3dd0e",
   "metadata": {},
   "source": [
    "### Q23- Is there independence of observations? "
   ]
  },
  {
   "cell_type": "code",
   "execution_count": 92,
   "id": "cb6e25bf",
   "metadata": {},
   "outputs": [],
   "source": [
    "x_list = list(df[\"PickUp\"])\n",
    "x = np.asarray(x_list)\n",
    "\n",
    "y_list = list(df['Receptivity']) \n",
    "y = np.asarray(z_list)"
   ]
  },
  {
   "cell_type": "code",
   "execution_count": 95,
   "id": "b162c23b",
   "metadata": {},
   "outputs": [
    {
     "name": "stdout",
     "output_type": "stream",
     "text": [
      "                            OLS Regression Results                            \n",
      "==============================================================================\n",
      "Dep. Variable:                      x   R-squared:                       0.037\n",
      "Model:                            OLS   Adj. R-squared:                  0.032\n",
      "Method:                 Least Squares   F-statistic:                     7.324\n",
      "Date:                Fri, 10 Feb 2023   Prob (F-statistic):            0.00742\n",
      "Time:                        21:50:09   Log-Likelihood:                -131.56\n",
      "No. Observations:                 194   AIC:                             267.1\n",
      "Df Residuals:                     192   BIC:                             273.7\n",
      "Df Model:                           1                                         \n",
      "Covariance Type:            nonrobust                                         \n",
      "==============================================================================\n",
      "                 coef    std err          t      P>|t|      [0.025      0.975]\n",
      "------------------------------------------------------------------------------\n",
      "Intercept     -0.0467      0.248     -0.188      0.851      -0.536       0.443\n",
      "y              0.1758      0.065      2.706      0.007       0.048       0.304\n",
      "==============================================================================\n",
      "Omnibus:                     1848.118   Durbin-Watson:                   1.428\n",
      "Prob(Omnibus):                  0.000   Jarque-Bera (JB):               28.751\n",
      "Skew:                          -0.476   Prob(JB):                     5.71e-07\n",
      "Kurtosis:                       1.372   Cond. No.                         29.4\n",
      "==============================================================================\n",
      "\n",
      "Notes:\n",
      "[1] Standard Errors assume that the covariance matrix of the errors is correctly specified.\n"
     ]
    }
   ],
   "source": [
    "#Using statsmodels.durbin_watson() method\n",
    "model=ols('x ~ y',data=df).fit()\n",
    "print(model.summary())"
   ]
  },
  {
   "cell_type": "code",
   "execution_count": 96,
   "id": "596dc40f",
   "metadata": {},
   "outputs": [
    {
     "data": {
      "text/plain": [
       "1.4278690737004749"
      ]
     },
     "execution_count": 96,
     "metadata": {},
     "output_type": "execute_result"
    }
   ],
   "source": [
    "durbin_watson(model.resid)"
   ]
  },
  {
   "cell_type": "markdown",
   "id": "603bd5a6",
   "metadata": {},
   "source": [
    "After using the Durbin-Watson statistic, the value should be around 2. Durbin Watson value is 1.427 here. Since this is within the range of 1.5 and 2.5, we would consider autocorrelation to not be problematic in this regression model."
   ]
  },
  {
   "cell_type": "markdown",
   "id": "b9d09b60",
   "metadata": {},
   "source": [
    "Yes, there is independence of observations if you are trying to predict."
   ]
  },
  {
   "cell_type": "markdown",
   "id": "20ca7024",
   "metadata": {},
   "source": [
    "### Q24- Are there any significant outliers?"
   ]
  },
  {
   "cell_type": "code",
   "execution_count": 97,
   "id": "161fd6cb",
   "metadata": {},
   "outputs": [
    {
     "data": {
      "image/png": "[encoded data removed]",
      "text/plain": [
       "<Figure size 864x576 with 1 Axes>"
      ]
     },
     "metadata": {
      "needs_background": "light"
     },
     "output_type": "display_data"
    }
   ],
   "source": [
    "sns.boxplot( y=df[\"Receptivity\"], x=df[\"Scent\"] );\n",
    "plt.show()"
   ]
  },
  {
   "cell_type": "markdown",
   "id": "8ed0b939",
   "metadata": {},
   "source": [
    "### Q25- How is your dependent variable distributed in each cell?"
   ]
  },
  {
   "cell_type": "code",
   "execution_count": 98,
   "id": "c3c4ecf9",
   "metadata": {},
   "outputs": [],
   "source": [
    "d = list(df['Receptivity'])"
   ]
  },
  {
   "cell_type": "code",
   "execution_count": 99,
   "id": "f76f8092",
   "metadata": {},
   "outputs": [
    {
     "data": {
      "text/plain": [
       "ShapiroResult(statistic=0.9844915270805359, pvalue=0.031009113416075706)"
      ]
     },
     "execution_count": 99,
     "metadata": {},
     "output_type": "execute_result"
    }
   ],
   "source": [
    "shapiro_test_4 = stats.shapiro(d)\n",
    "shapiro_test_4"
   ]
  },
  {
   "cell_type": "markdown",
   "id": "bbdb1aaa",
   "metadata": {},
   "source": [
    "### Q26- Do you need to perform any transformations?"
   ]
  },
  {
   "cell_type": "code",
   "execution_count": 114,
   "id": "b9939a1b",
   "metadata": {},
   "outputs": [],
   "source": [
    "x1_list = list(df[\"PickUp\"])\n",
    "x1 = np.asarray(x1_list)\n",
    "x2_list = list(df['Scent'])\n",
    "x2 = np.asarray(x2_list)"
   ]
  },
  {
   "cell_type": "code",
   "execution_count": 122,
   "id": "370ac48f",
   "metadata": {},
   "outputs": [],
   "source": [
    "x3 = np.add(x1,x2)/2 "
   ]
  },
  {
   "cell_type": "code",
   "execution_count": 123,
   "id": "b83aaea9",
   "metadata": {},
   "outputs": [
    {
     "data": {
      "text/plain": [
       "array([0.5, 1. , 1. , 1. , 0. , 0.5, 1. , 0. , 0.5, 0. , 0. , 0. , 0.5,\n",
       "       0.5, 0.5, 0. , 0.5, 0.5, 0.5, 0.5, 0.5, 0. , 0.5, 1. , 1. , 0.5,\n",
       "       0.5, 0.5, 0.5, 0.5, 0. , 0.5, 0.5, 0. , 0.5, 0. , 0.5, 0.5, 0.5,\n",
       "       0.5, 0.5, 1. , 0. , 0.5, 0.5, 0.5, 0.5, 0.5, 0.5, 0.5, 1. , 0.5,\n",
       "       0. , 1. , 0.5, 1. , 0.5, 1. , 1. , 0. , 1. , 0.5, 0.5, 0.5, 1. ,\n",
       "       0.5, 1. , 1. , 1. , 0.5, 1. , 1. , 1. , 0.5, 1. , 0.5, 1. , 0.5,\n",
       "       1. , 0.5, 1. , 1. , 0.5, 1. , 1. , 0.5, 0.5, 0.5, 0.5, 0.5, 0.5,\n",
       "       0.5, 1. , 1. , 0.5, 0.5, 1. , 1. , 1. , 1. , 0.5, 1. , 0.5, 1. ,\n",
       "       0.5, 0.5, 1. , 1. , 1. , 0. , 0.5, 0.5, 0. , 0.5, 0.5, 0. , 0.5,\n",
       "       0. , 0.5, 0.5, 1. , 1. , 1. , 1. , 1. , 1. , 1. , 1. , 1. , 1. ,\n",
       "       1. , 1. , 1. , 0.5, 0.5, 0.5, 0.5, 0.5, 0.5, 0.5, 0.5, 0.5, 0.5,\n",
       "       0.5, 0.5, 0.5, 0.5, 0.5, 0.5, 0.5, 0.5, 0.5, 0.5, 0.5, 0. , 0. ,\n",
       "       0. , 0. , 0. , 0. , 0. , 0. , 0. , 0. , 0. , 0. , 0. , 1. , 1. ,\n",
       "       1. , 1. , 1. , 1. , 1. , 1. , 1. , 0.5, 0.5, 0.5, 0.5, 0.5, 0.5,\n",
       "       0.5, 0.5, 0.5, 0.5, 0.5, 0.5, 0.5, 0.5, 0.5, 0.5, 0.5, 0.5])"
      ]
     },
     "execution_count": 123,
     "metadata": {},
     "output_type": "execute_result"
    }
   ],
   "source": [
    "x3"
   ]
  },
  {
   "cell_type": "markdown",
   "id": "3b927762",
   "metadata": {},
   "source": [
    "### Q27- Is there homogeneity or heterogeneity of variance?"
   ]
  },
  {
   "cell_type": "code",
   "execution_count": 124,
   "id": "0a95214b",
   "metadata": {},
   "outputs": [],
   "source": [
    "#add constant to predictor variables\n",
    "x3 = sm.add_constant(x3)\n",
    "\n",
    "#fit regression model\n",
    "model = sm.OLS(y, x3).fit()"
   ]
  },
  {
   "cell_type": "code",
   "execution_count": 125,
   "id": "fbe22627",
   "metadata": {},
   "outputs": [],
   "source": [
    "#perform White's test\n",
    "white_test_3 = het_white(model.resid,  model.model.exog)"
   ]
  },
  {
   "cell_type": "code",
   "execution_count": 127,
   "id": "ab151370",
   "metadata": {},
   "outputs": [
    {
     "name": "stdout",
     "output_type": "stream",
     "text": [
      "{'Test Statistic': 5.70700211255225, 'Test Statistic p-value': 0.057642158749189217, 'F-Statistic': 2.8945245328481413, 'F-Test p-value': 0.05775612306814501}\n"
     ]
    }
   ],
   "source": [
    "#define labels to use for output of White's test\n",
    "labels = ['Test Statistic', 'Test Statistic p-value', 'F-Statistic', 'F-Test p-value']\n",
    "\n",
    "#print results of White's test\n",
    "print(dict(zip(labels, white_test_3)))"
   ]
  },
  {
   "cell_type": "markdown",
   "id": "e659afad",
   "metadata": {},
   "source": [
    "After using White Test,the test statistic is X2 = 5.71. The corresponding p-value is 0.057. White’s test uses the following null and alternative hypotheses:\n",
    "\n",
    "Null (H0): Homoscedasticity is present (residuals are equally scattered) Alternative (HA): Heteroscedasticity is present (residuals are not equally scattered) Since the p-value is not less than 0.05, we fail to reject the null hypothesis.\n",
    "This means we do not have sufficient evidence to say that heteroscedasticity is present in the regression model.\n",
    "Yes, residual data show homoscedasticity."
   ]
  },
  {
   "cell_type": "markdown",
   "id": "bb924aa6",
   "metadata": {},
   "source": [
    "### Q28- Is there any interaction between the two factors?"
   ]
  },
  {
   "cell_type": "code",
   "execution_count": null,
   "id": "16f92c4d",
   "metadata": {},
   "outputs": [],
   "source": []
  },
  {
   "cell_type": "markdown",
   "id": "2d7441f8",
   "metadata": {},
   "source": [
    "### Q29- What is your answer to RQ3? Report on the findings (no less than 200 words). Don’t forget to mention the assumptions. You can use η2 instead of ω2."
   ]
  },
  {
   "cell_type": "code",
   "execution_count": null,
   "id": "95f35f9c",
   "metadata": {},
   "outputs": [],
   "source": []
  },
  {
   "cell_type": "markdown",
   "id": "f753a81b",
   "metadata": {},
   "source": [
    "### Q30- Answer the main research question by taking the above findings into account (no less than 200 words). Don’t forget to mention the assumptions."
   ]
  },
  {
   "cell_type": "code",
   "execution_count": null,
   "id": "67507f7b",
   "metadata": {},
   "outputs": [],
   "source": []
  }
 ],
 "metadata": {
  "kernelspec": {
   "display_name": "Python 3",
   "language": "python",
   "name": "python3"
  },
  "language_info": {
   "codemirror_mode": {
    "name": "ipython",
    "version": 3
   },
   "file_extension": ".py",
   "mimetype": "text/x-python",
   "name": "python",
   "nbconvert_exporter": "python",
   "pygments_lexer": "ipython3",
   "version": "3.8.8"
  }
 },
 "nbformat": 4,
 "nbformat_minor": 5
}
