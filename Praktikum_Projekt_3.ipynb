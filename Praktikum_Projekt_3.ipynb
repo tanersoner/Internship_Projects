{
 "cells": [
  {
   "cell_type": "code",
   "execution_count": 4,
   "id": "7c1d27ea",
   "metadata": {},
   "outputs": [],
   "source": [
    "import pandas as pd\n",
    "import numpy as np\n",
    "import seaborn as sns\n",
    "import scipy.stats as st\n",
    "import matplotlib.pyplot as plt\n",
    "import statistics\n",
    "from scipy import stats\n",
    "import re\n",
    "plt.rcParams[\"figure.figsize\"] = [12, 8]\n",
    "import warnings\n",
    "warnings.filterwarnings('ignore')"
   ]
  },
  {
   "cell_type": "code",
   "execution_count": 5,
   "id": "d01f12f2",
   "metadata": {},
   "outputs": [],
   "source": [
    "df = pd.read_spss(\"Birthweight_reduced_kg_SPSS.sav\")"
   ]
  },
  {
   "cell_type": "markdown",
   "id": "ddeae00f",
   "metadata": {},
   "source": [
    "### Q1. In your own words, describe what a residual is in linear regression."
   ]
  },
  {
   "cell_type": "markdown",
   "id": "8969950c",
   "metadata": {},
   "source": [
    "A residual in linear regression is the difference between the observed value of a dependent variable (y) and the predicted value (ŷ) by the regression model. It represents the error or discrepancy between the actual and predicted values and can be used to evaluate the goodness of fit of the regression model.\n",
    "Residual = Observed – Predicted"
   ]
  },
  {
   "cell_type": "markdown",
   "id": "26af5100",
   "metadata": {},
   "source": [
    "### Q2. If you know that your residual data follow the below pattern, are your data better approximated with a linear model for the lower values of independent variable or higher values of independent variable and why?"
   ]
  },
  {
   "cell_type": "markdown",
   "id": "1c9824fe",
   "metadata": {},
   "source": [
    "For  lower values of the independent variable, a linear model approximates the data better. The data pattern shows us that the error is larger for higher independent variable values.This is because the pattern has a parabolic pattern. At large values, the parabola is parallel to the x-axis. The error rate therefore increases. "
   ]
  },
  {
   "cell_type": "markdown",
   "id": "f02420a5",
   "metadata": {},
   "source": [
    "### Q3. What is the difference between R2 and adjusted R2?"
   ]
  },
  {
   "cell_type": "markdown",
   "id": "ef29d8e9",
   "metadata": {},
   "source": [
    "Both R2 and the adjusted R2 give you an idea of how many data points fall within the line of the regression equation. However, there is one main difference between R2 and the adjusted R2: R2 assumes that every single variable explains the variation in the dependent variable. The adjusted R2 tells you the percentage of variation explained by only the independent variables that actually affect the dependent variable."
   ]
  },
  {
   "cell_type": "markdown",
   "id": "426b7830",
   "metadata": {},
   "source": [
    "### Q4. Is there independence of observations if you are trying to predict baby length with mother’s height?"
   ]
  },
  {
   "cell_type": "code",
   "execution_count": 22,
   "id": "2f34b1a1",
   "metadata": {},
   "outputs": [],
   "source": [
    "from statsmodels.stats.stattools import durbin_watson\n",
    "from statsmodels.formula.api import ols"
   ]
  },
  {
   "cell_type": "code",
   "execution_count": 23,
   "id": "2f17b109",
   "metadata": {},
   "outputs": [],
   "source": [
    "y_list = list(df[\"Length\"])\n",
    "y = np.asarray(y_list)\n",
    "x_list = list(df['mheight'])\n",
    "x = np.asarray(x_list)"
   ]
  },
  {
   "cell_type": "code",
   "execution_count": 18,
   "id": "a3ecb4db",
   "metadata": {},
   "outputs": [
    {
     "name": "stdout",
     "output_type": "stream",
     "text": [
      "                            OLS Regression Results                            \n",
      "==============================================================================\n",
      "Dep. Variable:                      x   R-squared:                       0.235\n",
      "Model:                            OLS   Adj. R-squared:                  0.216\n",
      "Method:                 Least Squares   F-statistic:                     12.30\n",
      "Date:                Wed, 01 Feb 2023   Prob (F-statistic):            0.00113\n",
      "Time:                        21:39:09   Log-Likelihood:                -132.10\n",
      "No. Observations:                  42   AIC:                             268.2\n",
      "Df Residuals:                      40   BIC:                             271.7\n",
      "Df Model:                           1                                         \n",
      "Covariance Type:            nonrobust                                         \n",
      "==============================================================================\n",
      "                 coef    std err          t      P>|t|      [0.025      0.975]\n",
      "------------------------------------------------------------------------------\n",
      "Intercept    109.2933     15.751      6.939      0.000      77.459     141.128\n",
      "y              1.0745      0.306      3.507      0.001       0.455       1.694\n",
      "==============================================================================\n",
      "Omnibus:                        1.145   Durbin-Watson:                   1.872\n",
      "Prob(Omnibus):                  0.564   Jarque-Bera (JB):                0.630\n",
      "Skew:                           0.294   Prob(JB):                        0.730\n",
      "Kurtosis:                       3.116   Cond. No.                         912.\n",
      "==============================================================================\n",
      "\n",
      "Notes:\n",
      "[1] Standard Errors assume that the covariance matrix of the errors is correctly specified.\n"
     ]
    }
   ],
   "source": [
    "# Using statsmodels.durbin_watson() method\n",
    "model=ols('x ~ y',data=df).fit()\n",
    "print(model.summary())"
   ]
  },
  {
   "cell_type": "code",
   "execution_count": 19,
   "id": "6f83de73",
   "metadata": {},
   "outputs": [
    {
     "data": {
      "text/plain": [
       "1.8721266558506189"
      ]
     },
     "execution_count": 19,
     "metadata": {},
     "output_type": "execute_result"
    }
   ],
   "source": [
    "durbin_watson(model.resid)"
   ]
  },
  {
   "cell_type": "markdown",
   "id": "5a125710",
   "metadata": {},
   "source": [
    "After using the Durbin-Watson statistic, the value should be around 2. Durbin Watson value is 1.8721266558506189 here. Since this is within the range of 1.5 and 2.5, we would consider autocorrelation not to be problematic in this regression model. "
   ]
  },
  {
   "cell_type": "markdown",
   "id": "15b5f647",
   "metadata": {},
   "source": [
    "Yes, there is independence of observations if you are trying to predict baby length with mother’s height."
   ]
  },
  {
   "cell_type": "markdown",
   "id": "96880bf3",
   "metadata": {},
   "source": [
    "### Q5. Justify the above answer."
   ]
  },
  {
   "cell_type": "code",
   "execution_count": 20,
   "id": "c7e1e463",
   "metadata": {},
   "outputs": [
    {
     "data": {
      "text/plain": [
       "1.8721266558506189"
      ]
     },
     "execution_count": 20,
     "metadata": {},
     "output_type": "execute_result"
    }
   ],
   "source": [
    "durbin_watson(model.resid)"
   ]
  },
  {
   "cell_type": "markdown",
   "id": "cdbe480e",
   "metadata": {},
   "source": [
    "After using the Durbin-Watson statistic, the value should be around 2. Durbin Watson value is 1.8721266558506189 here. Since this is within the range of 1.5 and 2.5, we would consider autocorrelation not to be problematic in this regression model. "
   ]
  },
  {
   "cell_type": "markdown",
   "id": "891ca7b4",
   "metadata": {},
   "source": [
    "### Q6. Do residual data show homoscedasticity?"
   ]
  },
  {
   "cell_type": "code",
   "execution_count": 21,
   "id": "402435c1",
   "metadata": {},
   "outputs": [
    {
     "data": {
      "image/png": "[encoded data removed]",
      "text/plain": [
       "<Figure size 864x576 with 1 Axes>"
      ]
     },
     "metadata": {
      "needs_background": "light"
     },
     "output_type": "display_data"
    }
   ],
   "source": [
    "#create basic scatterplot\n",
    "plt.plot(x, y, 'o')\n",
    "#obtain m (slope) and b(intercept) of linear regression line\n",
    "m, b = np.polyfit(x, y, 1)\n",
    "#add linear regression line to scatterplot \n",
    "plt.plot(x, m*x+b)\n",
    "plt.xlabel('Length for Babies')\n",
    "plt.ylabel('Mother Height')\n",
    "plt.title('Length for Babies & Mother Height Scatterplot');"
   ]
  },
  {
   "cell_type": "markdown",
   "id": "1db65c35",
   "metadata": {},
   "source": [
    "Yes, residual data show homoscedasticity."
   ]
  },
  {
   "cell_type": "code",
   "execution_count": 23,
   "id": "1d45269f",
   "metadata": {},
   "outputs": [
    {
     "data": {
      "text/html": [
       "<table class=\"simpletable\">\n",
       "<caption>OLS Regression Results</caption>\n",
       "<tr>\n",
       "  <th>Dep. Variable:</th>            <td>y</td>        <th>  R-squared:         </th> <td>   0.235</td>\n",
       "</tr>\n",
       "<tr>\n",
       "  <th>Model:</th>                   <td>OLS</td>       <th>  Adj. R-squared:    </th> <td>   0.216</td>\n",
       "</tr>\n",
       "<tr>\n",
       "  <th>Method:</th>             <td>Least Squares</td>  <th>  F-statistic:       </th> <td>   12.30</td>\n",
       "</tr>\n",
       "<tr>\n",
       "  <th>Date:</th>             <td>Wed, 01 Feb 2023</td> <th>  Prob (F-statistic):</th>  <td>0.00113</td>\n",
       "</tr>\n",
       "<tr>\n",
       "  <th>Time:</th>                 <td>21:42:15</td>     <th>  Log-Likelihood:    </th> <td> -98.689</td>\n",
       "</tr>\n",
       "<tr>\n",
       "  <th>No. Observations:</th>      <td>    42</td>      <th>  AIC:               </th> <td>   201.4</td>\n",
       "</tr>\n",
       "<tr>\n",
       "  <th>Df Residuals:</th>          <td>    40</td>      <th>  BIC:               </th> <td>   204.9</td>\n",
       "</tr>\n",
       "<tr>\n",
       "  <th>Df Model:</th>              <td>     1</td>      <th>                     </th>     <td> </td>   \n",
       "</tr>\n",
       "<tr>\n",
       "  <th>Covariance Type:</th>      <td>nonrobust</td>    <th>                     </th>     <td> </td>   \n",
       "</tr>\n",
       "</table>\n",
       "<table class=\"simpletable\">\n",
       "<tr>\n",
       "    <td></td>       <th>coef</th>     <th>std err</th>      <th>t</th>      <th>P>|t|</th>  <th>[0.025</th>    <th>0.975]</th>  \n",
       "</tr>\n",
       "<tr>\n",
       "  <th>const</th> <td>   15.3342</td> <td>   10.271</td> <td>    1.493</td> <td> 0.143</td> <td>   -5.425</td> <td>   36.093</td>\n",
       "</tr>\n",
       "<tr>\n",
       "  <th>x1</th>    <td>    0.2189</td> <td>    0.062</td> <td>    3.507</td> <td> 0.001</td> <td>    0.093</td> <td>    0.345</td>\n",
       "</tr>\n",
       "</table>\n",
       "<table class=\"simpletable\">\n",
       "<tr>\n",
       "  <th>Omnibus:</th>       <td> 0.736</td> <th>  Durbin-Watson:     </th> <td>   1.724</td>\n",
       "</tr>\n",
       "<tr>\n",
       "  <th>Prob(Omnibus):</th> <td> 0.692</td> <th>  Jarque-Bera (JB):  </th> <td>   0.358</td>\n",
       "</tr>\n",
       "<tr>\n",
       "  <th>Skew:</th>          <td>-0.224</td> <th>  Prob(JB):          </th> <td>   0.836</td>\n",
       "</tr>\n",
       "<tr>\n",
       "  <th>Kurtosis:</th>      <td> 3.059</td> <th>  Cond. No.          </th> <td>4.22e+03</td>\n",
       "</tr>\n",
       "</table><br/><br/>Notes:<br/>[1] Standard Errors assume that the covariance matrix of the errors is correctly specified.<br/>[2] The condition number is large, 4.22e+03. This might indicate that there are<br/>strong multicollinearity or other numerical problems."
      ],
      "text/plain": [
       "<class 'statsmodels.iolib.summary.Summary'>\n",
       "\"\"\"\n",
       "                            OLS Regression Results                            \n",
       "==============================================================================\n",
       "Dep. Variable:                      y   R-squared:                       0.235\n",
       "Model:                            OLS   Adj. R-squared:                  0.216\n",
       "Method:                 Least Squares   F-statistic:                     12.30\n",
       "Date:                Wed, 01 Feb 2023   Prob (F-statistic):            0.00113\n",
       "Time:                        21:42:15   Log-Likelihood:                -98.689\n",
       "No. Observations:                  42   AIC:                             201.4\n",
       "Df Residuals:                      40   BIC:                             204.9\n",
       "Df Model:                           1                                         \n",
       "Covariance Type:            nonrobust                                         \n",
       "==============================================================================\n",
       "                 coef    std err          t      P>|t|      [0.025      0.975]\n",
       "------------------------------------------------------------------------------\n",
       "const         15.3342     10.271      1.493      0.143      -5.425      36.093\n",
       "x1             0.2189      0.062      3.507      0.001       0.093       0.345\n",
       "==============================================================================\n",
       "Omnibus:                        0.736   Durbin-Watson:                   1.724\n",
       "Prob(Omnibus):                  0.692   Jarque-Bera (JB):                0.358\n",
       "Skew:                          -0.224   Prob(JB):                        0.836\n",
       "Kurtosis:                       3.059   Cond. No.                     4.22e+03\n",
       "==============================================================================\n",
       "\n",
       "Notes:\n",
       "[1] Standard Errors assume that the covariance matrix of the errors is correctly specified.\n",
       "[2] The condition number is large, 4.22e+03. This might indicate that there are\n",
       "strong multicollinearity or other numerical problems.\n",
       "\"\"\""
      ]
     },
     "execution_count": 23,
     "metadata": {},
     "output_type": "execute_result"
    }
   ],
   "source": [
    "import statsmodels.api as sm\n",
    "\n",
    "X_constant = sm.add_constant(x)\n",
    "lin_reg = sm.OLS(y,X_constant).fit()\n",
    "lin_reg.summary()"
   ]
  },
  {
   "cell_type": "code",
   "execution_count": 24,
   "id": "2ccc7e59",
   "metadata": {},
   "outputs": [
    {
     "data": {
      "image/png": "[encoded data removed]",
      "text/plain": [
       "<Figure size 1080x648 with 2 Axes>"
      ]
     },
     "metadata": {
      "image/png": {
       "height": 551,
       "width": 883
      }
     },
     "output_type": "display_data"
    }
   ],
   "source": [
    "%matplotlib inline\n",
    "%config InlineBackend.figure_format ='retina'\n",
    "import seaborn as sns \n",
    "import matplotlib.pyplot as plt\n",
    "import statsmodels.stats.api as sms\n",
    "sns.set_style('darkgrid')\n",
    "sns.mpl.rcParams['figure.figsize'] = (15.0, 9.0)\n",
    "\n",
    "def linearity_test(model, y):\n",
    "    '''\n",
    "    Function for visually inspecting the assumption of linearity in a linear regression model.\n",
    "    It plots observed vs. predicted values and residuals vs. predicted values.\n",
    "    \n",
    "    Args:\n",
    "    * model - fitted OLS model from statsmodels\n",
    "    * y - observed values\n",
    "    '''\n",
    "    fitted_vals = model.predict()\n",
    "    resids = model.resid\n",
    "\n",
    "    fig, ax = plt.subplots(1,2)\n",
    "    \n",
    "    sns.regplot(x=fitted_vals, y=y, lowess=True, ax=ax[0], line_kws={'color': 'red'})\n",
    "    ax[0].set_title('Observed vs. Predicted Values', fontsize=16)\n",
    "    ax[0].set(xlabel='Predicted', ylabel='Observed')\n",
    "\n",
    "    sns.regplot(x=fitted_vals, y=resids, lowess=True, ax=ax[1], line_kws={'color': 'red'})\n",
    "    ax[1].set_title('Residuals vs. Predicted Values', fontsize=16)\n",
    "    ax[1].set(xlabel='Predicted', ylabel='Residuals')\n",
    "    \n",
    "linearity_test(lin_reg, y)  "
   ]
  },
  {
   "cell_type": "markdown",
   "id": "869d8d1b",
   "metadata": {},
   "source": [
    "### Q7. Justify the above answer."
   ]
  },
  {
   "cell_type": "code",
   "execution_count": 27,
   "id": "3ac2995f",
   "metadata": {},
   "outputs": [],
   "source": [
    "from statsmodels.stats.diagnostic import het_white"
   ]
  },
  {
   "cell_type": "code",
   "execution_count": 28,
   "id": "a0e61d46",
   "metadata": {},
   "outputs": [],
   "source": [
    "#add constant to predictor variables\n",
    "x = sm.add_constant(x)\n",
    "\n",
    "#fit regression model\n",
    "model = sm.OLS(y, x).fit()"
   ]
  },
  {
   "cell_type": "code",
   "execution_count": 29,
   "id": "a130b223",
   "metadata": {},
   "outputs": [],
   "source": [
    "#perform White's test\n",
    "white_test = het_white(model.resid,  model.model.exog)"
   ]
  },
  {
   "cell_type": "code",
   "execution_count": 30,
   "id": "89e4affa",
   "metadata": {},
   "outputs": [
    {
     "name": "stdout",
     "output_type": "stream",
     "text": [
      "{'Test Statistic': 1.1225185363073773, 'Test Statistic p-value': 0.5704902111747454, 'F-Statistic': 0.5354809218722487, 'F-Test p-value': 0.5896297360053042}\n"
     ]
    }
   ],
   "source": [
    "#define labels to use for output of White's test\n",
    "labels = ['Test Statistic', 'Test Statistic p-value', 'F-Statistic', 'F-Test p-value']\n",
    "\n",
    "#print results of White's test\n",
    "print(dict(zip(labels, white_test)))"
   ]
  },
  {
   "cell_type": "markdown",
   "id": "c3eafc40",
   "metadata": {},
   "source": [
    "Here is how to interpret the output:\n",
    "\n",
    "The test statistic is X2 = 1.122.\n",
    "The corresponding p-value is 0.570.\n",
    "White’s test uses the following null and alternative hypotheses:\n",
    "\n",
    "Null (H0): Homoscedasticity is present (residuals are equally scattered)\n",
    "Alternative (HA): Heteroscedasticity is present (residuals are not equally scattered)"
   ]
  },
  {
   "cell_type": "markdown",
   "id": "c5d09bc6",
   "metadata": {},
   "source": [
    "Since the p-value is not less than 0.05, we fail to reject the null hypothesis.\n",
    "\n",
    "This means we do not have sufficient evidence to say that heteroscedasticity is present in the regression model."
   ]
  },
  {
   "cell_type": "markdown",
   "id": "fa4d9018",
   "metadata": {},
   "source": [
    "Yes, residual data show homoscedasticity."
   ]
  },
  {
   "cell_type": "markdown",
   "id": "8c90f561",
   "metadata": {},
   "source": [
    "### Q8. What is the value of R2 and what does this tell you?"
   ]
  },
  {
   "cell_type": "code",
   "execution_count": 31,
   "id": "401ce9a6",
   "metadata": {},
   "outputs": [],
   "source": [
    "from sklearn.metrics import r2_score"
   ]
  },
  {
   "cell_type": "code",
   "execution_count": 35,
   "id": "6f130271",
   "metadata": {},
   "outputs": [],
   "source": [
    "import scipy.integrate as integrate"
   ]
  },
  {
   "cell_type": "code",
   "execution_count": 53,
   "id": "122a5e93",
   "metadata": {},
   "outputs": [],
   "source": [
    "import scipy\n",
    "import numpy"
   ]
  },
  {
   "cell_type": "code",
   "execution_count": 56,
   "id": "672e328b",
   "metadata": {},
   "outputs": [],
   "source": [
    "def rsquared(x, y):\n",
    "    \"\"\" Return R^2 where x and y are array-like.\"\"\"\n",
    "\n",
    "    slope, intercept, r_value, p_value, std_err = scipy.stats.linregress(x, y)\n",
    "    return r_value**2"
   ]
  },
  {
   "cell_type": "code",
   "execution_count": 57,
   "id": "75751b60",
   "metadata": {},
   "outputs": [
    {
     "data": {
      "text/plain": [
       "0.235217630611391"
      ]
     },
     "execution_count": 57,
     "metadata": {},
     "output_type": "execute_result"
    }
   ],
   "source": [
    "rsquared(x, y)"
   ]
  },
  {
   "cell_type": "code",
   "execution_count": 54,
   "id": "d0ecb683",
   "metadata": {},
   "outputs": [
    {
     "name": "stdout",
     "output_type": "stream",
     "text": [
      "0.235217630611391\n"
     ]
    }
   ],
   "source": [
    "corr_matrix = numpy.corrcoef(x_list, y_list)\n",
    "corr = corr_matrix[0,1]\n",
    "R_sq = corr**2\n",
    " \n",
    "print(R_sq)"
   ]
  },
  {
   "cell_type": "markdown",
   "id": "cda2d7f7",
   "metadata": {},
   "source": [
    "R squared value is 0.235. A high R squared indicates good regression model fit. \n",
    "If all points were on the regression line, we would have a perfect model. R squared would be equal to 1 when all points were on the line."
   ]
  },
  {
   "cell_type": "markdown",
   "id": "4b1f05f3",
   "metadata": {},
   "source": [
    "### Q9. Can you consider the relationship between mother’s height and baby length a statistically significant linear relationship and why?"
   ]
  },
  {
   "cell_type": "markdown",
   "id": "ab0b2810",
   "metadata": {},
   "source": [
    "P value needs to be <.05 for the model to be statistically\n",
    "significant and for the relationship to be considered statistically\n",
    "significant linear relationship. p < .001 so we consider the relationship between mother’s height and baby length a statistically significant linear relationship."
   ]
  },
  {
   "cell_type": "markdown",
   "id": "abeb85af",
   "metadata": {},
   "source": [
    "### Q10. Having the ANOVA table for the linear regression in mind, what is the null and alternative hypothesis in this case?"
   ]
  },
  {
   "cell_type": "markdown",
   "id": "d40d308e",
   "metadata": {},
   "source": [
    "This means we do not have sufficient evidence to say that heteroscedasticity is present in the regression model.\n",
    "F statistik value = 12.30 If we find 12.3 in F Table, critical F value is 3.49. The calculated F value is greater than the critical F value, it is in the nullhypothesis rejection area. In practical terms, there is no difference between the means. There is a significant difference between two of the group means compared.  "
   ]
  },
  {
   "cell_type": "code",
   "execution_count": 59,
   "id": "9a690fa3",
   "metadata": {},
   "outputs": [
    {
     "data": {
      "text/plain": [
       "array([1.4645814 , 1.47547437, 1.45300275, 1.47460035, 1.46956668,\n",
       "       1.48729792, 1.4848564 , 1.47731262, 1.47043629, 1.49518218,\n",
       "       1.47763137, 1.48637447, 1.48253163, 1.48067469, 1.47668598,\n",
       "       1.50598468, 1.50468176, 1.50313661, 1.47731262, 1.54119103,\n",
       "       1.47577221, 1.48890985, 1.49257269, 1.49450649, 1.50436553,\n",
       "       1.51553136, 1.50500173, 1.45270307, 1.47795382, 1.50239535,\n",
       "       1.48221477, 1.48992361, 1.49552618, 1.49320229, 1.48068354,\n",
       "       1.47861007, 1.48068354, 1.47759812, 1.49899447, 1.47795382,\n",
       "       1.50818351, 1.47637795])"
      ]
     },
     "execution_count": 59,
     "metadata": {},
     "output_type": "execute_result"
    }
   ],
   "source": [
    "scipy.stats.f.ppf(q=1-0.05, dfn = x_list, dfd = y_list)"
   ]
  },
  {
   "cell_type": "markdown",
   "id": "96d35dc5",
   "metadata": {},
   "source": [
    "### Q11. In your own words, describe what the b1 is."
   ]
  },
  {
   "cell_type": "markdown",
   "id": "8e184561",
   "metadata": {},
   "source": [
    "DEP. VAR = b0 + (b1 x IND.VAR)"
   ]
  },
  {
   "cell_type": "markdown",
   "id": "8af904fd",
   "metadata": {},
   "source": [
    "The b1 value is a value in the regression function. It is the coefficient in front of the independent variable. The b1 value show us the slope of the regression curve. Each unit increase in the independent variable provides an increase of b1 in the dependent variable."
   ]
  },
  {
   "cell_type": "markdown",
   "id": "b971aad7",
   "metadata": {},
   "source": [
    "### Q12. What does the value of b1 tell you in practical terms?"
   ]
  },
  {
   "cell_type": "code",
   "execution_count": 60,
   "id": "e7855151",
   "metadata": {},
   "outputs": [],
   "source": [
    "m, b = np.polyfit(x, y, 1)"
   ]
  },
  {
   "cell_type": "code",
   "execution_count": 61,
   "id": "efa17289",
   "metadata": {},
   "outputs": [
    {
     "data": {
      "text/plain": [
       "0.21890315052508758"
      ]
     },
     "execution_count": 61,
     "metadata": {},
     "output_type": "execute_result"
    }
   ],
   "source": [
    "m"
   ]
  },
  {
   "cell_type": "code",
   "execution_count": 62,
   "id": "2942d747",
   "metadata": {},
   "outputs": [
    {
     "data": {
      "text/plain": [
       "15.33418903150523"
      ]
     },
     "execution_count": 62,
     "metadata": {},
     "output_type": "execute_result"
    }
   ],
   "source": [
    "b"
   ]
  },
  {
   "cell_type": "markdown",
   "id": "1c4f3c4b",
   "metadata": {},
   "source": [
    "y = mx + b"
   ]
  },
  {
   "cell_type": "markdown",
   "id": "c9fef350",
   "metadata": {},
   "source": [
    "b1 value show us the slope of the regression curve. Each unit increase in the independent variable provides an increase of b1 in the dependent variable."
   ]
  },
  {
   "cell_type": "markdown",
   "id": "56c3f599",
   "metadata": {},
   "source": [
    "### Q13. Could you claim the same for the mother’s height in the range between 140cm and 145cm and why?"
   ]
  },
  {
   "cell_type": "markdown",
   "id": "29914f24",
   "metadata": {},
   "source": [
    "Yes, the regression curve can give us an estimate of baby length for different mother heights. For range between 140 cm and 145 cm we can find range 45.98 cm and 47.07 cm for baby length."
   ]
  },
  {
   "cell_type": "markdown",
   "id": "5206127b",
   "metadata": {},
   "source": [
    "### Q14. According to this model, what is the prediction of baby length for mother’s height of 170cm?"
   ]
  },
  {
   "cell_type": "code",
   "execution_count": 70,
   "id": "0d05b5be",
   "metadata": {},
   "outputs": [],
   "source": [
    "Baby_length_170 = 0.21890315052508758 * 170 + 15.33418903150523"
   ]
  },
  {
   "cell_type": "code",
   "execution_count": 71,
   "id": "51dd62b1",
   "metadata": {},
   "outputs": [
    {
     "data": {
      "text/plain": [
       "52.54772462077012"
      ]
     },
     "execution_count": 71,
     "metadata": {},
     "output_type": "execute_result"
    }
   ],
   "source": [
    "Baby_length_170"
   ]
  },
  {
   "cell_type": "code",
   "execution_count": 65,
   "id": "a312af59",
   "metadata": {},
   "outputs": [
    {
     "data": {
      "text/plain": [
       "array([56., 53., 58., 53., 54., 51., 52., 53., 54., 50., 53., 51., 52.,\n",
       "       53., 53., 48., 48., 48., 53., 43., 53., 51., 50., 50., 48., 46.,\n",
       "       48., 58., 53., 49., 52., 51., 50., 50., 52., 53., 52., 52., 49.,\n",
       "       53., 47., 53.])"
      ]
     },
     "execution_count": 65,
     "metadata": {},
     "output_type": "execute_result"
    }
   ],
   "source": [
    "y"
   ]
  },
  {
   "cell_type": "markdown",
   "id": "12c8af86",
   "metadata": {},
   "source": [
    "### Q15. Report on your findings for predicting baby length with mother’s height."
   ]
  },
  {
   "cell_type": "markdown",
   "id": "db9d1df4",
   "metadata": {},
   "source": [
    "A linear regression established that mother´s height could  statistically significantly predict baby length, F(1, 97) = 12.30, p < .001 and mother´s height accounted for 23.5% (R2 = 0.235) of the explained variability in baby length. The regression equation:predicted baby length = 15.334 + (0.219 x mother`s height)."
   ]
  },
  {
   "cell_type": "markdown",
   "id": "9543f888",
   "metadata": {},
   "source": [
    "### Q16. Can you predict baby length with father’s age? Why?"
   ]
  },
  {
   "cell_type": "code",
   "execution_count": 19,
   "id": "b9ef9830",
   "metadata": {},
   "outputs": [],
   "source": [
    "import statsmodels.api as sm"
   ]
  },
  {
   "cell_type": "code",
   "execution_count": 16,
   "id": "3c55601f",
   "metadata": {},
   "outputs": [],
   "source": [
    "z_list =  list(df['fage'])"
   ]
  },
  {
   "cell_type": "code",
   "execution_count": 20,
   "id": "8a55bc38",
   "metadata": {},
   "outputs": [],
   "source": [
    "z = np.asarray(z_list)"
   ]
  },
  {
   "cell_type": "code",
   "execution_count": 24,
   "id": "ed9f0dbd",
   "metadata": {},
   "outputs": [
    {
     "data": {
      "text/html": [
       "<table class=\"simpletable\">\n",
       "<caption>OLS Regression Results</caption>\n",
       "<tr>\n",
       "  <th>Dep. Variable:</th>            <td>y</td>        <th>  R-squared:         </th> <td>   0.006</td>\n",
       "</tr>\n",
       "<tr>\n",
       "  <th>Model:</th>                   <td>OLS</td>       <th>  Adj. R-squared:    </th> <td>  -0.018</td>\n",
       "</tr>\n",
       "<tr>\n",
       "  <th>Method:</th>             <td>Least Squares</td>  <th>  F-statistic:       </th> <td>  0.2568</td>\n",
       "</tr>\n",
       "<tr>\n",
       "  <th>Date:</th>             <td>Fri, 03 Feb 2023</td> <th>  Prob (F-statistic):</th>  <td> 0.615</td> \n",
       "</tr>\n",
       "<tr>\n",
       "  <th>Time:</th>                 <td>21:36:13</td>     <th>  Log-Likelihood:    </th> <td> -139.86</td>\n",
       "</tr>\n",
       "<tr>\n",
       "  <th>No. Observations:</th>      <td>    42</td>      <th>  AIC:               </th> <td>   283.7</td>\n",
       "</tr>\n",
       "<tr>\n",
       "  <th>Df Residuals:</th>          <td>    40</td>      <th>  BIC:               </th> <td>   287.2</td>\n",
       "</tr>\n",
       "<tr>\n",
       "  <th>Df Model:</th>              <td>     1</td>      <th>                     </th>     <td> </td>   \n",
       "</tr>\n",
       "<tr>\n",
       "  <th>Covariance Type:</th>      <td>nonrobust</td>    <th>                     </th>     <td> </td>   \n",
       "</tr>\n",
       "</table>\n",
       "<table class=\"simpletable\">\n",
       "<tr>\n",
       "    <td></td>       <th>coef</th>     <th>std err</th>      <th>t</th>      <th>P>|t|</th>  <th>[0.025</th>    <th>0.975]</th>  \n",
       "</tr>\n",
       "<tr>\n",
       "  <th>const</th> <td>   42.7662</td> <td>   27.374</td> <td>    1.562</td> <td> 0.126</td> <td>  -12.559</td> <td>   98.091</td>\n",
       "</tr>\n",
       "<tr>\n",
       "  <th>x1</th>    <td>   -0.0843</td> <td>    0.166</td> <td>   -0.507</td> <td> 0.615</td> <td>   -0.420</td> <td>    0.252</td>\n",
       "</tr>\n",
       "</table>\n",
       "<table class=\"simpletable\">\n",
       "<tr>\n",
       "  <th>Omnibus:</th>       <td> 2.828</td> <th>  Durbin-Watson:     </th> <td>   1.428</td>\n",
       "</tr>\n",
       "<tr>\n",
       "  <th>Prob(Omnibus):</th> <td> 0.243</td> <th>  Jarque-Bera (JB):  </th> <td>   2.427</td>\n",
       "</tr>\n",
       "<tr>\n",
       "  <th>Skew:</th>          <td> 0.481</td> <th>  Prob(JB):          </th> <td>   0.297</td>\n",
       "</tr>\n",
       "<tr>\n",
       "  <th>Kurtosis:</th>      <td> 2.322</td> <th>  Cond. No.          </th> <td>4.22e+03</td>\n",
       "</tr>\n",
       "</table><br/><br/>Notes:<br/>[1] Standard Errors assume that the covariance matrix of the errors is correctly specified.<br/>[2] The condition number is large, 4.22e+03. This might indicate that there are<br/>strong multicollinearity or other numerical problems."
      ],
      "text/plain": [
       "<class 'statsmodels.iolib.summary.Summary'>\n",
       "\"\"\"\n",
       "                            OLS Regression Results                            \n",
       "==============================================================================\n",
       "Dep. Variable:                      y   R-squared:                       0.006\n",
       "Model:                            OLS   Adj. R-squared:                 -0.018\n",
       "Method:                 Least Squares   F-statistic:                    0.2568\n",
       "Date:                Fri, 03 Feb 2023   Prob (F-statistic):              0.615\n",
       "Time:                        21:36:13   Log-Likelihood:                -139.86\n",
       "No. Observations:                  42   AIC:                             283.7\n",
       "Df Residuals:                      40   BIC:                             287.2\n",
       "Df Model:                           1                                         \n",
       "Covariance Type:            nonrobust                                         \n",
       "==============================================================================\n",
       "                 coef    std err          t      P>|t|      [0.025      0.975]\n",
       "------------------------------------------------------------------------------\n",
       "const         42.7662     27.374      1.562      0.126     -12.559      98.091\n",
       "x1            -0.0843      0.166     -0.507      0.615      -0.420       0.252\n",
       "==============================================================================\n",
       "Omnibus:                        2.828   Durbin-Watson:                   1.428\n",
       "Prob(Omnibus):                  0.243   Jarque-Bera (JB):                2.427\n",
       "Skew:                           0.481   Prob(JB):                        0.297\n",
       "Kurtosis:                       2.322   Cond. No.                     4.22e+03\n",
       "==============================================================================\n",
       "\n",
       "Notes:\n",
       "[1] Standard Errors assume that the covariance matrix of the errors is correctly specified.\n",
       "[2] The condition number is large, 4.22e+03. This might indicate that there are\n",
       "strong multicollinearity or other numerical problems.\n",
       "\"\"\""
      ]
     },
     "execution_count": 24,
     "metadata": {},
     "output_type": "execute_result"
    }
   ],
   "source": [
    "X_constant = sm.add_constant(x)\n",
    "lin_reg = sm.OLS(z,X_constant).fit()\n",
    "lin_reg.summary()"
   ]
  },
  {
   "cell_type": "code",
   "execution_count": 25,
   "id": "7f69ddb4",
   "metadata": {},
   "outputs": [
    {
     "name": "stdout",
     "output_type": "stream",
     "text": [
      "                            OLS Regression Results                            \n",
      "==============================================================================\n",
      "Dep. Variable:                      x   R-squared:                       0.006\n",
      "Model:                            OLS   Adj. R-squared:                 -0.018\n",
      "Method:                 Least Squares   F-statistic:                    0.2568\n",
      "Date:                Fri, 03 Feb 2023   Prob (F-statistic):              0.615\n",
      "Time:                        21:38:17   Log-Likelihood:                -137.60\n",
      "No. Observations:                  42   AIC:                             279.2\n",
      "Df Residuals:                      40   BIC:                             282.7\n",
      "Df Model:                           1                                         \n",
      "Covariance Type:            nonrobust                                         \n",
      "==============================================================================\n",
      "                 coef    std err          t      P>|t|      [0.025      0.975]\n",
      "------------------------------------------------------------------------------\n",
      "Intercept    166.6400      4.434     37.582      0.000     157.678     175.602\n",
      "z             -0.0757      0.149     -0.507      0.615      -0.378       0.226\n",
      "==============================================================================\n",
      "Omnibus:                        0.249   Durbin-Watson:                   1.920\n",
      "Prob(Omnibus):                  0.883   Jarque-Bera (JB):                0.005\n",
      "Skew:                          -0.022   Prob(JB):                        0.998\n",
      "Kurtosis:                       3.029   Cond. No.                         130.\n",
      "==============================================================================\n",
      "\n",
      "Notes:\n",
      "[1] Standard Errors assume that the covariance matrix of the errors is correctly specified.\n"
     ]
    }
   ],
   "source": [
    "# Using statsmodels.durbin_watson() method\n",
    "model=ols('x ~ z',data=df).fit()\n",
    "print(model.summary())"
   ]
  },
  {
   "cell_type": "code",
   "execution_count": 74,
   "id": "2bb077a3",
   "metadata": {},
   "outputs": [
    {
     "name": "stdout",
     "output_type": "stream",
     "text": [
      "0.006379200097216659\n"
     ]
    }
   ],
   "source": [
    "corr_matrix = numpy.corrcoef(x_list, z_list)\n",
    "corr = corr_matrix[0,1]\n",
    "R_sq = corr**2\n",
    " \n",
    "print(R_sq)"
   ]
  },
  {
   "cell_type": "markdown",
   "id": "72d2a43b",
   "metadata": {},
   "source": [
    "P value needs to be <.05 for the model to be statistically significant. p(0.615) > .05 so we consider the relationship between father’s height and baby length is not a statistically significant linear relationship. Therefore we can not good predict baby length with father`s age."
   ]
  },
  {
   "cell_type": "code",
   "execution_count": 76,
   "id": "835c298e",
   "metadata": {},
   "outputs": [
    {
     "data": {
      "text/html": [
       "<div>\n",
       "<style scoped>\n",
       "    .dataframe tbody tr th:only-of-type {\n",
       "        vertical-align: middle;\n",
       "    }\n",
       "\n",
       "    .dataframe tbody tr th {\n",
       "        vertical-align: top;\n",
       "    }\n",
       "\n",
       "    .dataframe thead th {\n",
       "        text-align: right;\n",
       "    }\n",
       "</style>\n",
       "<table border=\"1\" class=\"dataframe\">\n",
       "  <thead>\n",
       "    <tr style=\"text-align: right;\">\n",
       "      <th></th>\n",
       "      <th>ID</th>\n",
       "      <th>Headcirc</th>\n",
       "      <th>Length</th>\n",
       "      <th>Birthweight</th>\n",
       "      <th>Gestation</th>\n",
       "      <th>mage</th>\n",
       "      <th>mheight</th>\n",
       "      <th>mppwt</th>\n",
       "      <th>fage</th>\n",
       "      <th>fedyrs</th>\n",
       "      <th>fnocig</th>\n",
       "      <th>fheight</th>\n",
       "      <th>mnocig</th>\n",
       "    </tr>\n",
       "  </thead>\n",
       "  <tbody>\n",
       "    <tr>\n",
       "      <th>ID</th>\n",
       "      <td>1.000000</td>\n",
       "      <td>-0.044899</td>\n",
       "      <td>0.192635</td>\n",
       "      <td>0.111211</td>\n",
       "      <td>0.102714</td>\n",
       "      <td>-0.186426</td>\n",
       "      <td>-0.010893</td>\n",
       "      <td>-0.026516</td>\n",
       "      <td>-0.231958</td>\n",
       "      <td>0.119927</td>\n",
       "      <td>-0.112889</td>\n",
       "      <td>0.089018</td>\n",
       "      <td>-0.194625</td>\n",
       "    </tr>\n",
       "    <tr>\n",
       "      <th>Headcirc</th>\n",
       "      <td>-0.044899</td>\n",
       "      <td>1.000000</td>\n",
       "      <td>0.563172</td>\n",
       "      <td>0.684616</td>\n",
       "      <td>0.404635</td>\n",
       "      <td>0.145842</td>\n",
       "      <td>0.337047</td>\n",
       "      <td>0.302854</td>\n",
       "      <td>0.301151</td>\n",
       "      <td>0.123892</td>\n",
       "      <td>-0.046837</td>\n",
       "      <td>0.041509</td>\n",
       "      <td>-0.132988</td>\n",
       "    </tr>\n",
       "    <tr>\n",
       "      <th>Length</th>\n",
       "      <td>0.192635</td>\n",
       "      <td>0.563172</td>\n",
       "      <td>1.000000</td>\n",
       "      <td>0.726833</td>\n",
       "      <td>0.705111</td>\n",
       "      <td>0.075268</td>\n",
       "      <td>0.484992</td>\n",
       "      <td>0.398197</td>\n",
       "      <td>0.137184</td>\n",
       "      <td>0.079485</td>\n",
       "      <td>0.008800</td>\n",
       "      <td>0.208358</td>\n",
       "      <td>-0.039843</td>\n",
       "    </tr>\n",
       "    <tr>\n",
       "      <th>Birthweight</th>\n",
       "      <td>0.111211</td>\n",
       "      <td>0.684616</td>\n",
       "      <td>0.726833</td>\n",
       "      <td>1.000000</td>\n",
       "      <td>0.708303</td>\n",
       "      <td>0.000173</td>\n",
       "      <td>0.363055</td>\n",
       "      <td>0.400886</td>\n",
       "      <td>0.175710</td>\n",
       "      <td>0.071045</td>\n",
       "      <td>-0.093136</td>\n",
       "      <td>0.031022</td>\n",
       "      <td>-0.152335</td>\n",
       "    </tr>\n",
       "    <tr>\n",
       "      <th>Gestation</th>\n",
       "      <td>0.102714</td>\n",
       "      <td>0.404635</td>\n",
       "      <td>0.705111</td>\n",
       "      <td>0.708303</td>\n",
       "      <td>1.000000</td>\n",
       "      <td>0.010778</td>\n",
       "      <td>0.210503</td>\n",
       "      <td>0.255082</td>\n",
       "      <td>0.142175</td>\n",
       "      <td>0.130987</td>\n",
       "      <td>-0.113831</td>\n",
       "      <td>0.207597</td>\n",
       "      <td>0.043195</td>\n",
       "    </tr>\n",
       "    <tr>\n",
       "      <th>mage</th>\n",
       "      <td>-0.186426</td>\n",
       "      <td>0.145842</td>\n",
       "      <td>0.075268</td>\n",
       "      <td>0.000173</td>\n",
       "      <td>0.010778</td>\n",
       "      <td>1.000000</td>\n",
       "      <td>0.059956</td>\n",
       "      <td>0.274168</td>\n",
       "      <td>0.806584</td>\n",
       "      <td>0.441683</td>\n",
       "      <td>0.090927</td>\n",
       "      <td>-0.199547</td>\n",
       "      <td>0.340294</td>\n",
       "    </tr>\n",
       "    <tr>\n",
       "      <th>mheight</th>\n",
       "      <td>-0.010893</td>\n",
       "      <td>0.337047</td>\n",
       "      <td>0.484992</td>\n",
       "      <td>0.363055</td>\n",
       "      <td>0.210503</td>\n",
       "      <td>0.059956</td>\n",
       "      <td>1.000000</td>\n",
       "      <td>0.680622</td>\n",
       "      <td>-0.079870</td>\n",
       "      <td>0.035297</td>\n",
       "      <td>0.048398</td>\n",
       "      <td>0.274338</td>\n",
       "      <td>0.126439</td>\n",
       "    </tr>\n",
       "    <tr>\n",
       "      <th>mppwt</th>\n",
       "      <td>-0.026516</td>\n",
       "      <td>0.302854</td>\n",
       "      <td>0.398197</td>\n",
       "      <td>0.400886</td>\n",
       "      <td>0.255082</td>\n",
       "      <td>0.274168</td>\n",
       "      <td>0.680622</td>\n",
       "      <td>1.000000</td>\n",
       "      <td>0.255706</td>\n",
       "      <td>0.180374</td>\n",
       "      <td>0.057163</td>\n",
       "      <td>0.092983</td>\n",
       "      <td>0.148945</td>\n",
       "    </tr>\n",
       "    <tr>\n",
       "      <th>fage</th>\n",
       "      <td>-0.231958</td>\n",
       "      <td>0.301151</td>\n",
       "      <td>0.137184</td>\n",
       "      <td>0.175710</td>\n",
       "      <td>0.142175</td>\n",
       "      <td>0.806584</td>\n",
       "      <td>-0.079870</td>\n",
       "      <td>0.255706</td>\n",
       "      <td>1.000000</td>\n",
       "      <td>0.300471</td>\n",
       "      <td>0.135862</td>\n",
       "      <td>-0.269377</td>\n",
       "      <td>0.248425</td>\n",
       "    </tr>\n",
       "    <tr>\n",
       "      <th>fedyrs</th>\n",
       "      <td>0.119927</td>\n",
       "      <td>0.123892</td>\n",
       "      <td>0.079485</td>\n",
       "      <td>0.071045</td>\n",
       "      <td>0.130987</td>\n",
       "      <td>0.441683</td>\n",
       "      <td>0.035297</td>\n",
       "      <td>0.180374</td>\n",
       "      <td>0.300471</td>\n",
       "      <td>1.000000</td>\n",
       "      <td>-0.263103</td>\n",
       "      <td>0.017798</td>\n",
       "      <td>0.198526</td>\n",
       "    </tr>\n",
       "    <tr>\n",
       "      <th>fnocig</th>\n",
       "      <td>-0.112889</td>\n",
       "      <td>-0.046837</td>\n",
       "      <td>0.008800</td>\n",
       "      <td>-0.093136</td>\n",
       "      <td>-0.113831</td>\n",
       "      <td>0.090927</td>\n",
       "      <td>0.048398</td>\n",
       "      <td>0.057163</td>\n",
       "      <td>0.135862</td>\n",
       "      <td>-0.263103</td>\n",
       "      <td>1.000000</td>\n",
       "      <td>0.329364</td>\n",
       "      <td>0.257307</td>\n",
       "    </tr>\n",
       "    <tr>\n",
       "      <th>fheight</th>\n",
       "      <td>0.089018</td>\n",
       "      <td>0.041509</td>\n",
       "      <td>0.208358</td>\n",
       "      <td>0.031022</td>\n",
       "      <td>0.207597</td>\n",
       "      <td>-0.199547</td>\n",
       "      <td>0.274338</td>\n",
       "      <td>0.092983</td>\n",
       "      <td>-0.269377</td>\n",
       "      <td>0.017798</td>\n",
       "      <td>0.329364</td>\n",
       "      <td>1.000000</td>\n",
       "      <td>0.020672</td>\n",
       "    </tr>\n",
       "    <tr>\n",
       "      <th>mnocig</th>\n",
       "      <td>-0.194625</td>\n",
       "      <td>-0.132988</td>\n",
       "      <td>-0.039843</td>\n",
       "      <td>-0.152335</td>\n",
       "      <td>0.043195</td>\n",
       "      <td>0.340294</td>\n",
       "      <td>0.126439</td>\n",
       "      <td>0.148945</td>\n",
       "      <td>0.248425</td>\n",
       "      <td>0.198526</td>\n",
       "      <td>0.257307</td>\n",
       "      <td>0.020672</td>\n",
       "      <td>1.000000</td>\n",
       "    </tr>\n",
       "  </tbody>\n",
       "</table>\n",
       "</div>"
      ],
      "text/plain": [
       "                   ID  Headcirc    Length  Birthweight  Gestation      mage  \\\n",
       "ID           1.000000 -0.044899  0.192635     0.111211   0.102714 -0.186426   \n",
       "Headcirc    -0.044899  1.000000  0.563172     0.684616   0.404635  0.145842   \n",
       "Length       0.192635  0.563172  1.000000     0.726833   0.705111  0.075268   \n",
       "Birthweight  0.111211  0.684616  0.726833     1.000000   0.708303  0.000173   \n",
       "Gestation    0.102714  0.404635  0.705111     0.708303   1.000000  0.010778   \n",
       "mage        -0.186426  0.145842  0.075268     0.000173   0.010778  1.000000   \n",
       "mheight     -0.010893  0.337047  0.484992     0.363055   0.210503  0.059956   \n",
       "mppwt       -0.026516  0.302854  0.398197     0.400886   0.255082  0.274168   \n",
       "fage        -0.231958  0.301151  0.137184     0.175710   0.142175  0.806584   \n",
       "fedyrs       0.119927  0.123892  0.079485     0.071045   0.130987  0.441683   \n",
       "fnocig      -0.112889 -0.046837  0.008800    -0.093136  -0.113831  0.090927   \n",
       "fheight      0.089018  0.041509  0.208358     0.031022   0.207597 -0.199547   \n",
       "mnocig      -0.194625 -0.132988 -0.039843    -0.152335   0.043195  0.340294   \n",
       "\n",
       "              mheight     mppwt      fage    fedyrs    fnocig   fheight  \\\n",
       "ID          -0.010893 -0.026516 -0.231958  0.119927 -0.112889  0.089018   \n",
       "Headcirc     0.337047  0.302854  0.301151  0.123892 -0.046837  0.041509   \n",
       "Length       0.484992  0.398197  0.137184  0.079485  0.008800  0.208358   \n",
       "Birthweight  0.363055  0.400886  0.175710  0.071045 -0.093136  0.031022   \n",
       "Gestation    0.210503  0.255082  0.142175  0.130987 -0.113831  0.207597   \n",
       "mage         0.059956  0.274168  0.806584  0.441683  0.090927 -0.199547   \n",
       "mheight      1.000000  0.680622 -0.079870  0.035297  0.048398  0.274338   \n",
       "mppwt        0.680622  1.000000  0.255706  0.180374  0.057163  0.092983   \n",
       "fage        -0.079870  0.255706  1.000000  0.300471  0.135862 -0.269377   \n",
       "fedyrs       0.035297  0.180374  0.300471  1.000000 -0.263103  0.017798   \n",
       "fnocig       0.048398  0.057163  0.135862 -0.263103  1.000000  0.329364   \n",
       "fheight      0.274338  0.092983 -0.269377  0.017798  0.329364  1.000000   \n",
       "mnocig       0.126439  0.148945  0.248425  0.198526  0.257307  0.020672   \n",
       "\n",
       "               mnocig  \n",
       "ID          -0.194625  \n",
       "Headcirc    -0.132988  \n",
       "Length      -0.039843  \n",
       "Birthweight -0.152335  \n",
       "Gestation    0.043195  \n",
       "mage         0.340294  \n",
       "mheight      0.126439  \n",
       "mppwt        0.148945  \n",
       "fage         0.248425  \n",
       "fedyrs       0.198526  \n",
       "fnocig       0.257307  \n",
       "fheight      0.020672  \n",
       "mnocig       1.000000  "
      ]
     },
     "execution_count": 76,
     "metadata": {},
     "output_type": "execute_result"
    }
   ],
   "source": [
    "df.corr()"
   ]
  },
  {
   "cell_type": "markdown",
   "id": "1a051c54",
   "metadata": {},
   "source": [
    "### Q17. What does homogeneity of variance mean and why is it important assumption of an independent t-test?"
   ]
  },
  {
   "cell_type": "markdown",
   "id": "56379637",
   "metadata": {},
   "source": [
    "Homogeneity of variance refers to the equal spread of data or equality of variance within a dataset. The lack of homogeneity of variance is known as heteroscedasticity."
   ]
  },
  {
   "cell_type": "markdown",
   "id": "4b409f09",
   "metadata": {},
   "source": [
    "The independent t-test assumes homogeneity of variances as one of its conditions for using the test. Homogeneity of variances means that the spread of data in each group being compared is similar. If the variances between groups are not equal, the t-test may produce incorrect results, as it assumes equal variances to calculate the t-statistic and p-value. Hence, the assumption of homogeneity of variance is important for the independent t-test because it ensures the validity and accuracy of the results."
   ]
  },
  {
   "cell_type": "markdown",
   "id": "d19eee7d",
   "metadata": {},
   "source": [
    "### Q18. Is there homogeneity of variance between head circumference for babies of smoking mothers and head circumference for babies of non-smoking mothers?"
   ]
  },
  {
   "cell_type": "markdown",
   "id": "dfc5d7d5",
   "metadata": {},
   "source": [
    "No"
   ]
  },
  {
   "cell_type": "markdown",
   "id": "d1e01103",
   "metadata": {},
   "source": [
    "### Q19. Justify your choice."
   ]
  },
  {
   "cell_type": "code",
   "execution_count": 80,
   "id": "310eda99",
   "metadata": {},
   "outputs": [],
   "source": [
    "df_non_smoker = df[(df.smoker == 'Non-smoker')]"
   ]
  },
  {
   "cell_type": "code",
   "execution_count": 81,
   "id": "facce559",
   "metadata": {},
   "outputs": [],
   "source": [
    "df_smoker = df[(df.smoker == 'Smoker')]"
   ]
  },
  {
   "cell_type": "code",
   "execution_count": 82,
   "id": "eba41a63",
   "metadata": {},
   "outputs": [],
   "source": [
    "Baby_Headcirc_Non_Smoker = list(df_non_smoker[\"Headcirc\"])"
   ]
  },
  {
   "cell_type": "code",
   "execution_count": 83,
   "id": "1c88dcb7",
   "metadata": {},
   "outputs": [],
   "source": [
    "Baby_Headcirc_Smoker = list(df_smoker[\"Headcirc\"])"
   ]
  },
  {
   "cell_type": "code",
   "execution_count": 86,
   "id": "17e68550",
   "metadata": {},
   "outputs": [],
   "source": [
    "def check_homogeneity(Baby_Headcirc_Smoker, Baby_Headcirc_Non_Smoker):\n",
    "    return set(Baby_Headcirc_Smoker).issubset(set(Baby_Headcirc_Non_Smoker))"
   ]
  },
  {
   "cell_type": "code",
   "execution_count": 87,
   "id": "35b39882",
   "metadata": {},
   "outputs": [],
   "source": [
    "result = check_homogeneity(Baby_Headcirc_Smoker, Baby_Headcirc_Non_Smoker)"
   ]
  },
  {
   "cell_type": "code",
   "execution_count": 88,
   "id": "af2e40bf",
   "metadata": {},
   "outputs": [
    {
     "name": "stdout",
     "output_type": "stream",
     "text": [
      "False\n"
     ]
    }
   ],
   "source": [
    "print(result)"
   ]
  },
  {
   "cell_type": "markdown",
   "id": "60a02d5e",
   "metadata": {},
   "source": [
    "### Q20. Do smokers have lighter babies? Justify your answer."
   ]
  },
  {
   "cell_type": "code",
   "execution_count": 89,
   "id": "2880ec08",
   "metadata": {},
   "outputs": [],
   "source": [
    "Baby_Birthweight_Non_Smoker = list(df_non_smoker[\"Birthweight\"])"
   ]
  },
  {
   "cell_type": "code",
   "execution_count": 90,
   "id": "ef46054c",
   "metadata": {},
   "outputs": [],
   "source": [
    "Baby_Birthweight_Smoker = list(df_smoker[\"Birthweight\"])"
   ]
  },
  {
   "cell_type": "code",
   "execution_count": 96,
   "id": "de3e260c",
   "metadata": {},
   "outputs": [
    {
     "data": {
      "text/plain": [
       "3.5095"
      ]
     },
     "execution_count": 96,
     "metadata": {},
     "output_type": "execute_result"
    }
   ],
   "source": [
    "mean_nons = statistics.mean(Baby_Birthweight_Non_Smoker)\n",
    "mean_nons"
   ]
  },
  {
   "cell_type": "code",
   "execution_count": 97,
   "id": "f7996e0b",
   "metadata": {},
   "outputs": [
    {
     "data": {
      "text/plain": [
       "3.1340909090909093"
      ]
     },
     "execution_count": 97,
     "metadata": {},
     "output_type": "execute_result"
    }
   ],
   "source": [
    "mean_s = statistics.mean(Baby_Birthweight_Smoker)\n",
    "mean_s"
   ]
  },
  {
   "cell_type": "markdown",
   "id": "6e0b7d1c",
   "metadata": {},
   "source": [
    "### Q21. Do women over 35 have lighter babies? Justify your answer."
   ]
  },
  {
   "cell_type": "code",
   "execution_count": 98,
   "id": "5c6bebed",
   "metadata": {},
   "outputs": [
    {
     "data": {
      "text/plain": [
       "39"
      ]
     },
     "execution_count": 98,
     "metadata": {},
     "output_type": "execute_result"
    }
   ],
   "source": [
    "df[df['mage'] <= 35 ].shape[0]"
   ]
  },
  {
   "cell_type": "code",
   "execution_count": 99,
   "id": "1f8d2839",
   "metadata": {},
   "outputs": [
    {
     "data": {
      "text/plain": [
       "3"
      ]
     },
     "execution_count": 99,
     "metadata": {},
     "output_type": "execute_result"
    }
   ],
   "source": [
    "df[df['mage'] > 35 ].shape[0]"
   ]
  },
  {
   "cell_type": "code",
   "execution_count": 100,
   "id": "2844c160",
   "metadata": {},
   "outputs": [],
   "source": [
    "df_mother_young = df[(df.mage <= 35)]"
   ]
  },
  {
   "cell_type": "code",
   "execution_count": 105,
   "id": "52eb4de4",
   "metadata": {},
   "outputs": [],
   "source": [
    "Baby_Birthweight_Young = list(df_mother_young[\"Birthweight\"])"
   ]
  },
  {
   "cell_type": "code",
   "execution_count": 101,
   "id": "6ed84427",
   "metadata": {},
   "outputs": [],
   "source": [
    "df_mother = df[(df.mage > 35)]"
   ]
  },
  {
   "cell_type": "code",
   "execution_count": 106,
   "id": "03369646",
   "metadata": {},
   "outputs": [],
   "source": [
    "Baby_Birthweight_Old = list(df_mother[\"Birthweight\"])"
   ]
  },
  {
   "cell_type": "code",
   "execution_count": 107,
   "id": "6099b0e5",
   "metadata": {},
   "outputs": [
    {
     "data": {
      "text/plain": [
       "3.3535897435897435"
      ]
     },
     "execution_count": 107,
     "metadata": {},
     "output_type": "execute_result"
    }
   ],
   "source": [
    "mean_3 = statistics.mean(Baby_Birthweight_Young)\n",
    "mean_3"
   ]
  },
  {
   "cell_type": "code",
   "execution_count": 108,
   "id": "210c3b32",
   "metadata": {},
   "outputs": [
    {
     "data": {
      "text/plain": [
       "2.783333333333333"
      ]
     },
     "execution_count": 108,
     "metadata": {},
     "output_type": "execute_result"
    }
   ],
   "source": [
    "mean_4 = statistics.mean(Baby_Birthweight_Old)\n",
    "mean_4"
   ]
  },
  {
   "cell_type": "markdown",
   "id": "6a21c183",
   "metadata": {},
   "source": [
    "Yes, women over 35 have lighter babies. "
   ]
  },
  {
   "cell_type": "markdown",
   "id": "b33f0b0e",
   "metadata": {},
   "source": [
    "### Q22. Using the cholesterol dataset, was the diet effective in lowering cholesterol concentration after 8 weeks of use? Justify your answer."
   ]
  },
  {
   "cell_type": "code",
   "execution_count": 8,
   "id": "c51478eb",
   "metadata": {},
   "outputs": [
    {
     "data": {
      "text/html": [
       "<div>\n",
       "<style scoped>\n",
       "    .dataframe tbody tr th:only-of-type {\n",
       "        vertical-align: middle;\n",
       "    }\n",
       "\n",
       "    .dataframe tbody tr th {\n",
       "        vertical-align: top;\n",
       "    }\n",
       "\n",
       "    .dataframe thead th {\n",
       "        text-align: right;\n",
       "    }\n",
       "</style>\n",
       "<table border=\"1\" class=\"dataframe\">\n",
       "  <thead>\n",
       "    <tr style=\"text-align: right;\">\n",
       "      <th></th>\n",
       "      <th>ID</th>\n",
       "      <th>Before</th>\n",
       "      <th>After4weeks</th>\n",
       "      <th>After8weeks</th>\n",
       "      <th>Margarine</th>\n",
       "    </tr>\n",
       "  </thead>\n",
       "  <tbody>\n",
       "    <tr>\n",
       "      <th>0</th>\n",
       "      <td>1.0</td>\n",
       "      <td>6.42</td>\n",
       "      <td>5.83</td>\n",
       "      <td>5.75</td>\n",
       "      <td>B</td>\n",
       "    </tr>\n",
       "    <tr>\n",
       "      <th>1</th>\n",
       "      <td>2.0</td>\n",
       "      <td>6.76</td>\n",
       "      <td>6.20</td>\n",
       "      <td>6.13</td>\n",
       "      <td>A</td>\n",
       "    </tr>\n",
       "    <tr>\n",
       "      <th>2</th>\n",
       "      <td>3.0</td>\n",
       "      <td>6.56</td>\n",
       "      <td>5.83</td>\n",
       "      <td>5.71</td>\n",
       "      <td>B</td>\n",
       "    </tr>\n",
       "    <tr>\n",
       "      <th>3</th>\n",
       "      <td>4.0</td>\n",
       "      <td>4.80</td>\n",
       "      <td>4.27</td>\n",
       "      <td>4.15</td>\n",
       "      <td>A</td>\n",
       "    </tr>\n",
       "    <tr>\n",
       "      <th>4</th>\n",
       "      <td>5.0</td>\n",
       "      <td>8.43</td>\n",
       "      <td>7.71</td>\n",
       "      <td>7.67</td>\n",
       "      <td>B</td>\n",
       "    </tr>\n",
       "  </tbody>\n",
       "</table>\n",
       "</div>"
      ],
      "text/plain": [
       "    ID  Before  After4weeks  After8weeks Margarine\n",
       "0  1.0    6.42         5.83         5.75         B\n",
       "1  2.0    6.76         6.20         6.13         A\n",
       "2  3.0    6.56         5.83         5.71         B\n",
       "3  4.0    4.80         4.27         4.15         A\n",
       "4  5.0    8.43         7.71         7.67         B"
      ]
     },
     "execution_count": 8,
     "metadata": {},
     "output_type": "execute_result"
    }
   ],
   "source": [
    "df_2 = pd.read_spss('Cholesterol_SPSS.sav')\n",
    "df_2.head()"
   ]
  },
  {
   "cell_type": "code",
   "execution_count": 9,
   "id": "6bb6e205",
   "metadata": {},
   "outputs": [],
   "source": [
    "Before = list(df_2['Before'])"
   ]
  },
  {
   "cell_type": "code",
   "execution_count": 111,
   "id": "c7d870e0",
   "metadata": {},
   "outputs": [
    {
     "data": {
      "text/plain": [
       "6.407777777777778"
      ]
     },
     "execution_count": 111,
     "metadata": {},
     "output_type": "execute_result"
    }
   ],
   "source": [
    "mean_5 = statistics.mean(Before)\n",
    "mean_5"
   ]
  },
  {
   "cell_type": "code",
   "execution_count": 10,
   "id": "da08cfe1",
   "metadata": {},
   "outputs": [],
   "source": [
    "After4weeks = list(df_2['After4weeks'])"
   ]
  },
  {
   "cell_type": "code",
   "execution_count": 114,
   "id": "8c70b1a5",
   "metadata": {},
   "outputs": [
    {
     "data": {
      "text/plain": [
       "5.841666666666667"
      ]
     },
     "execution_count": 114,
     "metadata": {},
     "output_type": "execute_result"
    }
   ],
   "source": [
    "mean_6 = statistics.mean(After4weeks)\n",
    "mean_6"
   ]
  },
  {
   "cell_type": "code",
   "execution_count": 11,
   "id": "9e3491e3",
   "metadata": {},
   "outputs": [],
   "source": [
    "After8weeks = list(df_2['After8weeks'])"
   ]
  },
  {
   "cell_type": "code",
   "execution_count": 116,
   "id": "f5455f10",
   "metadata": {},
   "outputs": [
    {
     "data": {
      "text/plain": [
       "5.778888888888889"
      ]
     },
     "execution_count": 116,
     "metadata": {},
     "output_type": "execute_result"
    }
   ],
   "source": [
    "mean_7 = statistics.mean(After8weeks)\n",
    "mean_7"
   ]
  },
  {
   "cell_type": "markdown",
   "id": "eec46d34",
   "metadata": {},
   "source": [
    "Yes, the diet was effective in lowering cholesterol concentration after 8 weeks of use."
   ]
  },
  {
   "cell_type": "markdown",
   "id": "725aa40e",
   "metadata": {},
   "source": [
    "### Q23. For the above case, what is the null and alternative hypothesis? "
   ]
  },
  {
   "cell_type": "markdown",
   "id": "a934658f",
   "metadata": {},
   "source": [
    "Null hypothesis: Data are normally distributed. The diet was effective in lowering cholesterol concentration after 8 weeks of use."
   ]
  },
  {
   "cell_type": "markdown",
   "id": "523dc962",
   "metadata": {},
   "source": [
    "Alternative Hypotheses: Data are not normally distributed."
   ]
  },
  {
   "cell_type": "code",
   "execution_count": 12,
   "id": "33938eef",
   "metadata": {},
   "outputs": [
    {
     "data": {
      "text/plain": [
       "ShapiroResult(statistic=0.977325439453125, pvalue=0.9183036088943481)"
      ]
     },
     "execution_count": 12,
     "metadata": {},
     "output_type": "execute_result"
    }
   ],
   "source": [
    "shapiro_test = stats.shapiro(After8weeks)\n",
    "shapiro_test"
   ]
  },
  {
   "cell_type": "markdown",
   "id": "3f6c465a",
   "metadata": {},
   "source": [
    "0.91 > 0.05 so we will accept Null hypotheses."
   ]
  },
  {
   "cell_type": "markdown",
   "id": "222c51e9",
   "metadata": {},
   "source": [
    "### Q24. Was the margarine diet more effective after the first 4 weeks of use or after the last 4 weeks of use? Justify your answer."
   ]
  },
  {
   "cell_type": "code",
   "execution_count": 14,
   "id": "6ad264a6",
   "metadata": {},
   "outputs": [
    {
     "data": {
      "text/plain": [
       "Ttest_relResult(statistic=3.78090274293469, pvalue=0.0014914189618696698)"
      ]
     },
     "execution_count": 14,
     "metadata": {},
     "output_type": "execute_result"
    }
   ],
   "source": [
    "result_2 = stats.ttest_rel(After4weeks, After8weeks)\n",
    "result_2"
   ]
  },
  {
   "cell_type": "markdown",
   "id": "3f86b97c",
   "metadata": {},
   "source": [
    "Null Hypothesis: True difference in means is to 0. \n",
    "Alternative Hypotheses: True difference in means is not equal to 0.\n",
    "After using dependent means t-test, the p-value is 0.00149, which is super close to 0. Therefore, our null hypothesis is rejected."
   ]
  },
  {
   "cell_type": "markdown",
   "id": "6cde971a",
   "metadata": {},
   "source": [
    "### Q25. If you know that the average cholesterol concentration in healthy adults is 3 mmol/L, would you consider your sample (N=18) significantly better or worse than average adult population? Justify your answer."
   ]
  },
  {
   "cell_type": "code",
   "execution_count": 27,
   "id": "d8cbb439",
   "metadata": {},
   "outputs": [
    {
     "data": {
      "text/plain": [
       "Ttest_indResult(statistic=0.16926040598894462, pvalue=0.8665948466094726)"
      ]
     },
     "execution_count": 27,
     "metadata": {},
     "output_type": "execute_result"
    }
   ],
   "source": [
    "t = stats.ttest_ind(After4weeks, After8weeks)\n",
    "t"
   ]
  },
  {
   "cell_type": "markdown",
   "id": "925954b9",
   "metadata": {},
   "source": [
    "Null Hypothesis: True difference in means is to 0. Alternative Hypotheses: True difference in means is not equal to 0. After using dependent means t-test, the p-value is  close to 0. Therefore, our null hypothesis is rejected. Our sample significantly better or worse than average adult population."
   ]
  },
  {
   "cell_type": "code",
   "execution_count": null,
   "id": "c77032b9",
   "metadata": {},
   "outputs": [],
   "source": []
  }
 ],
 "metadata": {
  "kernelspec": {
   "display_name": "Python 3",
   "language": "python",
   "name": "python3"
  },
  "language_info": {
   "codemirror_mode": {
    "name": "ipython",
    "version": 3
   },
   "file_extension": ".py",
   "mimetype": "text/x-python",
   "name": "python",
   "nbconvert_exporter": "python",
   "pygments_lexer": "ipython3",
   "version": "3.8.8"
  }
 },
 "nbformat": 4,
 "nbformat_minor": 5
}
