{
 "cells": [
  {
   "cell_type": "code",
   "execution_count": 1,
   "id": "db67bfbb",
   "metadata": {},
   "outputs": [],
   "source": [
    "import pandas as pd\n",
    "import numpy as np\n",
    "import seaborn as sns\n",
    "import scipy.stats as st\n",
    "import matplotlib.pyplot as plt\n",
    "import statistics\n",
    "from scipy import stats\n",
    "import re\n",
    "plt.rcParams[\"figure.figsize\"] = [12, 8]\n",
    "import warnings\n",
    "warnings.filterwarnings('ignore')"
   ]
  },
  {
   "cell_type": "markdown",
   "id": "6e855771",
   "metadata": {},
   "source": [
    "### Q1. In your own words, describe what a residual is in linear regression."
   ]
  },
  {
   "cell_type": "markdown",
   "id": "69c47c9a",
   "metadata": {},
   "source": [
    "A residual in linear regression is the difference between the observed value of a dependent variable (y) and the predicted value (ŷ) by the regression model. It represents the error or discrepancy between the actual and predicted values and can be used to evaluate the goodness of fit of the regression model.\n",
    "Residual = Observed – Predicted"
   ]
  },
  {
   "cell_type": "markdown",
   "id": "38d6efdd",
   "metadata": {},
   "source": [
    "### Q2. If you know that your residual data follow the below pattern, are your data better approximated with a linear model for the lower values of independent variable or higher values of independent variable and why?"
   ]
  },
  {
   "cell_type": "markdown",
   "id": "bcea0b1d",
   "metadata": {},
   "source": [
    "For  lower values of the independent variable, a linear model approximates the data better. The data pattern shows us that the error is larger for higher independent variable values.This is because the pattern has a parabolic pattern. At large values, the parabola is parallel to the x-axis. The error rate therefore increases. "
   ]
  },
  {
   "cell_type": "markdown",
   "id": "fadd1a87",
   "metadata": {},
   "source": [
    "### Q3. What is the difference between R2 and adjusted R2?"
   ]
  },
  {
   "cell_type": "markdown",
   "id": "bf0acbba",
   "metadata": {},
   "source": [
    "Both R2 and the adjusted R2 give you an idea of how many data points fall within the line of the regression equation. However, there is one main difference between R2 and the adjusted R2: R2 assumes that every single variable explains the variation in the dependent variable. The adjusted R2 tells you the percentage of variation explained by only the independent variables that actually affect the dependent variable."
   ]
  },
  {
   "cell_type": "markdown",
   "id": "86c3305a",
   "metadata": {},
   "source": [
    "### Q4. Is there independence of observations if you are trying to predict baby length with mother’s height?"
   ]
  },
  {
   "cell_type": "code",
   "execution_count": null,
   "id": "e4bb5d20",
   "metadata": {},
   "outputs": [],
   "source": []
  }
 ],
 "metadata": {
  "kernelspec": {
   "display_name": "Python 3",
   "language": "python",
   "name": "python3"
  },
  "language_info": {
   "codemirror_mode": {
    "name": "ipython",
    "version": 3
   },
   "file_extension": ".py",
   "mimetype": "text/x-python",
   "name": "python",
   "nbconvert_exporter": "python",
   "pygments_lexer": "ipython3",
   "version": "3.8.8"
  }
 },
 "nbformat": 4,
 "nbformat_minor": 5
}
