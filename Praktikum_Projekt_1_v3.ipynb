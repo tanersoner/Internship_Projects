{
 "cells": [
  {
   "cell_type": "code",
   "execution_count": 2,
   "id": "a5429317",
   "metadata": {},
   "outputs": [
    {
     "name": "stdout",
     "output_type": "stream",
     "text": [
      "Collecting aspose-words\n",
      "  Downloading aspose_words-22.12.0-py3-none-win_amd64.whl (56.3 MB)\n",
      "Installing collected packages: aspose-words\n",
      "Successfully installed aspose-words-22.12.0\n",
      "Note: you may need to restart the kernel to use updated packages.\n"
     ]
    }
   ],
   "source": [
    "pip install aspose-words "
   ]
  },
  {
   "cell_type": "code",
   "execution_count": 2,
   "id": "34b28dcb",
   "metadata": {},
   "outputs": [],
   "source": [
    "import pandas as pd\n",
    "import numpy as np\n",
    "import seaborn as sns\n",
    "import scipy.stats as st\n",
    "import matplotlib.pyplot as plt\n",
    "import statistics\n",
    "import re\n",
    "plt.rcParams[\"figure.figsize\"] = [12, 8]\n",
    "import warnings\n",
    "warnings.filterwarnings('ignore')"
   ]
  },
  {
   "cell_type": "code",
   "execution_count": 6,
   "id": "15300f2f",
   "metadata": {},
   "outputs": [
    {
     "name": "stdout",
     "output_type": "stream",
     "text": [
      "Collecting pyreadstat\n",
      "  Downloading pyreadstat-1.2.0-cp38-cp38-win_amd64.whl (2.4 MB)\n",
      "Requirement already satisfied: pandas>=1.2.0 in c:\\users\\taner\\anaconda3\\lib\\site-packages (from pyreadstat) (1.2.4)\n",
      "Requirement already satisfied: numpy>=1.16.5 in c:\\users\\taner\\anaconda3\\lib\\site-packages (from pandas>=1.2.0->pyreadstat) (1.19.5)\n",
      "Requirement already satisfied: python-dateutil>=2.7.3 in c:\\users\\taner\\anaconda3\\lib\\site-packages (from pandas>=1.2.0->pyreadstat) (2.8.1)\n",
      "Requirement already satisfied: pytz>=2017.3 in c:\\users\\taner\\anaconda3\\lib\\site-packages (from pandas>=1.2.0->pyreadstat) (2021.1)\n",
      "Requirement already satisfied: six>=1.5 in c:\\users\\taner\\appdata\\roaming\\python\\python38\\site-packages (from python-dateutil>=2.7.3->pandas>=1.2.0->pyreadstat) (1.15.0)\n",
      "Installing collected packages: pyreadstat\n",
      "Successfully installed pyreadstat-1.2.0\n",
      "Note: you may need to restart the kernel to use updated packages.\n"
     ]
    }
   ],
   "source": [
    "pip install pyreadstat"
   ]
  },
  {
   "cell_type": "code",
   "execution_count": 3,
   "id": "26d6f596",
   "metadata": {},
   "outputs": [],
   "source": [
    "df = pd.read_spss(\"Birthweight_reduced_kg_SPSS.sav\")"
   ]
  },
  {
   "cell_type": "code",
   "execution_count": 4,
   "id": "ecd1e12a",
   "metadata": {},
   "outputs": [
    {
     "data": {
      "text/html": [
       "<div>\n",
       "<style scoped>\n",
       "    .dataframe tbody tr th:only-of-type {\n",
       "        vertical-align: middle;\n",
       "    }\n",
       "\n",
       "    .dataframe tbody tr th {\n",
       "        vertical-align: top;\n",
       "    }\n",
       "\n",
       "    .dataframe thead th {\n",
       "        text-align: right;\n",
       "    }\n",
       "</style>\n",
       "<table border=\"1\" class=\"dataframe\">\n",
       "  <thead>\n",
       "    <tr style=\"text-align: right;\">\n",
       "      <th></th>\n",
       "      <th>ID</th>\n",
       "      <th>Headcirc</th>\n",
       "      <th>Length</th>\n",
       "      <th>Birthweight</th>\n",
       "      <th>Gestation</th>\n",
       "      <th>mage</th>\n",
       "      <th>smoker</th>\n",
       "      <th>mheight</th>\n",
       "      <th>mppwt</th>\n",
       "      <th>fage</th>\n",
       "      <th>fedyrs</th>\n",
       "      <th>fnocig</th>\n",
       "      <th>fheight</th>\n",
       "      <th>lowbwt</th>\n",
       "      <th>mage35</th>\n",
       "      <th>mnocig</th>\n",
       "    </tr>\n",
       "  </thead>\n",
       "  <tbody>\n",
       "    <tr>\n",
       "      <th>0</th>\n",
       "      <td>1360.0</td>\n",
       "      <td>34.0</td>\n",
       "      <td>56.0</td>\n",
       "      <td>4.55</td>\n",
       "      <td>44.0</td>\n",
       "      <td>20.0</td>\n",
       "      <td>Non-smoker</td>\n",
       "      <td>162.0</td>\n",
       "      <td>57.0</td>\n",
       "      <td>23.0</td>\n",
       "      <td>10.0</td>\n",
       "      <td>35.0</td>\n",
       "      <td>179.0</td>\n",
       "      <td>Not low birthweight</td>\n",
       "      <td>Aged &lt; 35</td>\n",
       "      <td>0.0</td>\n",
       "    </tr>\n",
       "    <tr>\n",
       "      <th>1</th>\n",
       "      <td>1016.0</td>\n",
       "      <td>36.0</td>\n",
       "      <td>53.0</td>\n",
       "      <td>4.32</td>\n",
       "      <td>40.0</td>\n",
       "      <td>19.0</td>\n",
       "      <td>Non-smoker</td>\n",
       "      <td>171.0</td>\n",
       "      <td>62.0</td>\n",
       "      <td>19.0</td>\n",
       "      <td>12.0</td>\n",
       "      <td>0.0</td>\n",
       "      <td>183.0</td>\n",
       "      <td>Not low birthweight</td>\n",
       "      <td>Aged &lt; 35</td>\n",
       "      <td>0.0</td>\n",
       "    </tr>\n",
       "    <tr>\n",
       "      <th>2</th>\n",
       "      <td>462.0</td>\n",
       "      <td>39.0</td>\n",
       "      <td>58.0</td>\n",
       "      <td>4.10</td>\n",
       "      <td>41.0</td>\n",
       "      <td>35.0</td>\n",
       "      <td>Non-smoker</td>\n",
       "      <td>172.0</td>\n",
       "      <td>58.0</td>\n",
       "      <td>31.0</td>\n",
       "      <td>16.0</td>\n",
       "      <td>25.0</td>\n",
       "      <td>185.0</td>\n",
       "      <td>Not low birthweight</td>\n",
       "      <td>Aged 35+</td>\n",
       "      <td>0.0</td>\n",
       "    </tr>\n",
       "    <tr>\n",
       "      <th>3</th>\n",
       "      <td>1187.0</td>\n",
       "      <td>38.0</td>\n",
       "      <td>53.0</td>\n",
       "      <td>4.07</td>\n",
       "      <td>44.0</td>\n",
       "      <td>20.0</td>\n",
       "      <td>Non-smoker</td>\n",
       "      <td>174.0</td>\n",
       "      <td>68.0</td>\n",
       "      <td>26.0</td>\n",
       "      <td>14.0</td>\n",
       "      <td>25.0</td>\n",
       "      <td>189.0</td>\n",
       "      <td>Not low birthweight</td>\n",
       "      <td>Aged &lt; 35</td>\n",
       "      <td>0.0</td>\n",
       "    </tr>\n",
       "    <tr>\n",
       "      <th>4</th>\n",
       "      <td>553.0</td>\n",
       "      <td>37.0</td>\n",
       "      <td>54.0</td>\n",
       "      <td>3.94</td>\n",
       "      <td>42.0</td>\n",
       "      <td>24.0</td>\n",
       "      <td>Non-smoker</td>\n",
       "      <td>175.0</td>\n",
       "      <td>66.0</td>\n",
       "      <td>30.0</td>\n",
       "      <td>12.0</td>\n",
       "      <td>0.0</td>\n",
       "      <td>184.0</td>\n",
       "      <td>Not low birthweight</td>\n",
       "      <td>Aged &lt; 35</td>\n",
       "      <td>0.0</td>\n",
       "    </tr>\n",
       "  </tbody>\n",
       "</table>\n",
       "</div>"
      ],
      "text/plain": [
       "       ID  Headcirc  Length  Birthweight  Gestation  mage      smoker  \\\n",
       "0  1360.0      34.0    56.0         4.55       44.0  20.0  Non-smoker   \n",
       "1  1016.0      36.0    53.0         4.32       40.0  19.0  Non-smoker   \n",
       "2   462.0      39.0    58.0         4.10       41.0  35.0  Non-smoker   \n",
       "3  1187.0      38.0    53.0         4.07       44.0  20.0  Non-smoker   \n",
       "4   553.0      37.0    54.0         3.94       42.0  24.0  Non-smoker   \n",
       "\n",
       "   mheight  mppwt  fage  fedyrs  fnocig  fheight               lowbwt  \\\n",
       "0    162.0   57.0  23.0    10.0    35.0    179.0  Not low birthweight   \n",
       "1    171.0   62.0  19.0    12.0     0.0    183.0  Not low birthweight   \n",
       "2    172.0   58.0  31.0    16.0    25.0    185.0  Not low birthweight   \n",
       "3    174.0   68.0  26.0    14.0    25.0    189.0  Not low birthweight   \n",
       "4    175.0   66.0  30.0    12.0     0.0    184.0  Not low birthweight   \n",
       "\n",
       "      mage35  mnocig  \n",
       "0  Aged < 35     0.0  \n",
       "1  Aged < 35     0.0  \n",
       "2   Aged 35+     0.0  \n",
       "3  Aged < 35     0.0  \n",
       "4  Aged < 35     0.0  "
      ]
     },
     "execution_count": 4,
     "metadata": {},
     "output_type": "execute_result"
    }
   ],
   "source": [
    "df.head()"
   ]
  },
  {
   "cell_type": "code",
   "execution_count": 6,
   "id": "92ec215f",
   "metadata": {},
   "outputs": [
    {
     "name": "stdout",
     "output_type": "stream",
     "text": [
      "<class 'pandas.core.frame.DataFrame'>\n",
      "RangeIndex: 42 entries, 0 to 41\n",
      "Data columns (total 16 columns):\n",
      " #   Column       Non-Null Count  Dtype   \n",
      "---  ------       --------------  -----   \n",
      " 0   ID           42 non-null     float64 \n",
      " 1   Headcirc     42 non-null     float64 \n",
      " 2   Length       42 non-null     float64 \n",
      " 3   Birthweight  42 non-null     float64 \n",
      " 4   Gestation    42 non-null     float64 \n",
      " 5   mage         42 non-null     float64 \n",
      " 6   smoker       42 non-null     category\n",
      " 7   mheight      42 non-null     float64 \n",
      " 8   mppwt        42 non-null     float64 \n",
      " 9   fage         42 non-null     float64 \n",
      " 10  fedyrs       42 non-null     float64 \n",
      " 11  fnocig       42 non-null     float64 \n",
      " 12  fheight      42 non-null     float64 \n",
      " 13  lowbwt       42 non-null     category\n",
      " 14  mage35       42 non-null     category\n",
      " 15  mnocig       42 non-null     float64 \n",
      "dtypes: category(3), float64(13)\n",
      "memory usage: 4.9 KB\n"
     ]
    }
   ],
   "source": [
    "df.info()"
   ]
  },
  {
   "cell_type": "code",
   "execution_count": 5,
   "id": "69ce314d",
   "metadata": {},
   "outputs": [
    {
     "data": {
      "text/plain": [
       "False    42\n",
       "dtype: int64"
      ]
     },
     "execution_count": 5,
     "metadata": {},
     "output_type": "execute_result"
    }
   ],
   "source": [
    "df.duplicated().value_counts()"
   ]
  },
  {
   "cell_type": "code",
   "execution_count": 6,
   "id": "4f75331d",
   "metadata": {},
   "outputs": [
    {
     "data": {
      "text/plain": [
       "ID             0\n",
       "Headcirc       0\n",
       "Length         0\n",
       "Birthweight    0\n",
       "Gestation      0\n",
       "mage           0\n",
       "smoker         0\n",
       "mheight        0\n",
       "mppwt          0\n",
       "fage           0\n",
       "fedyrs         0\n",
       "fnocig         0\n",
       "fheight        0\n",
       "lowbwt         0\n",
       "mage35         0\n",
       "mnocig         0\n",
       "dtype: int64"
      ]
     },
     "execution_count": 6,
     "metadata": {},
     "output_type": "execute_result"
    }
   ],
   "source": [
    "df.isnull().sum() "
   ]
  },
  {
   "cell_type": "code",
   "execution_count": 7,
   "id": "709e9557",
   "metadata": {},
   "outputs": [
    {
     "data": {
      "text/html": [
       "<div>\n",
       "<style scoped>\n",
       "    .dataframe tbody tr th:only-of-type {\n",
       "        vertical-align: middle;\n",
       "    }\n",
       "\n",
       "    .dataframe tbody tr th {\n",
       "        vertical-align: top;\n",
       "    }\n",
       "\n",
       "    .dataframe thead th {\n",
       "        text-align: right;\n",
       "    }\n",
       "</style>\n",
       "<table border=\"1\" class=\"dataframe\">\n",
       "  <thead>\n",
       "    <tr style=\"text-align: right;\">\n",
       "      <th></th>\n",
       "      <th>count</th>\n",
       "      <th>mean</th>\n",
       "      <th>std</th>\n",
       "      <th>min</th>\n",
       "      <th>25%</th>\n",
       "      <th>50%</th>\n",
       "      <th>75%</th>\n",
       "      <th>max</th>\n",
       "    </tr>\n",
       "  </thead>\n",
       "  <tbody>\n",
       "    <tr>\n",
       "      <th>ID</th>\n",
       "      <td>42.0</td>\n",
       "      <td>894.071429</td>\n",
       "      <td>467.616186</td>\n",
       "      <td>27.00</td>\n",
       "      <td>537.25</td>\n",
       "      <td>821.000</td>\n",
       "      <td>1269.5000</td>\n",
       "      <td>1764.00</td>\n",
       "    </tr>\n",
       "    <tr>\n",
       "      <th>Headcirc</th>\n",
       "      <td>42.0</td>\n",
       "      <td>34.595238</td>\n",
       "      <td>2.399792</td>\n",
       "      <td>30.00</td>\n",
       "      <td>33.00</td>\n",
       "      <td>34.000</td>\n",
       "      <td>36.0000</td>\n",
       "      <td>39.00</td>\n",
       "    </tr>\n",
       "    <tr>\n",
       "      <th>Length</th>\n",
       "      <td>42.0</td>\n",
       "      <td>51.333333</td>\n",
       "      <td>2.935624</td>\n",
       "      <td>43.00</td>\n",
       "      <td>50.00</td>\n",
       "      <td>52.000</td>\n",
       "      <td>53.0000</td>\n",
       "      <td>58.00</td>\n",
       "    </tr>\n",
       "    <tr>\n",
       "      <th>Birthweight</th>\n",
       "      <td>42.0</td>\n",
       "      <td>3.312857</td>\n",
       "      <td>0.603895</td>\n",
       "      <td>1.92</td>\n",
       "      <td>2.94</td>\n",
       "      <td>3.295</td>\n",
       "      <td>3.6475</td>\n",
       "      <td>4.57</td>\n",
       "    </tr>\n",
       "    <tr>\n",
       "      <th>Gestation</th>\n",
       "      <td>42.0</td>\n",
       "      <td>39.190476</td>\n",
       "      <td>2.643336</td>\n",
       "      <td>33.00</td>\n",
       "      <td>38.00</td>\n",
       "      <td>39.500</td>\n",
       "      <td>41.0000</td>\n",
       "      <td>45.00</td>\n",
       "    </tr>\n",
       "    <tr>\n",
       "      <th>mage</th>\n",
       "      <td>42.0</td>\n",
       "      <td>25.547619</td>\n",
       "      <td>5.666342</td>\n",
       "      <td>18.00</td>\n",
       "      <td>20.25</td>\n",
       "      <td>24.000</td>\n",
       "      <td>29.0000</td>\n",
       "      <td>41.00</td>\n",
       "    </tr>\n",
       "    <tr>\n",
       "      <th>mheight</th>\n",
       "      <td>42.0</td>\n",
       "      <td>164.452381</td>\n",
       "      <td>6.504041</td>\n",
       "      <td>149.00</td>\n",
       "      <td>161.00</td>\n",
       "      <td>164.500</td>\n",
       "      <td>169.5000</td>\n",
       "      <td>181.00</td>\n",
       "    </tr>\n",
       "    <tr>\n",
       "      <th>mppwt</th>\n",
       "      <td>42.0</td>\n",
       "      <td>57.500000</td>\n",
       "      <td>7.198408</td>\n",
       "      <td>45.00</td>\n",
       "      <td>52.25</td>\n",
       "      <td>57.000</td>\n",
       "      <td>62.0000</td>\n",
       "      <td>78.00</td>\n",
       "    </tr>\n",
       "    <tr>\n",
       "      <th>fage</th>\n",
       "      <td>42.0</td>\n",
       "      <td>28.904762</td>\n",
       "      <td>6.863866</td>\n",
       "      <td>19.00</td>\n",
       "      <td>23.00</td>\n",
       "      <td>29.500</td>\n",
       "      <td>32.0000</td>\n",
       "      <td>46.00</td>\n",
       "    </tr>\n",
       "    <tr>\n",
       "      <th>fedyrs</th>\n",
       "      <td>42.0</td>\n",
       "      <td>13.666667</td>\n",
       "      <td>2.160247</td>\n",
       "      <td>10.00</td>\n",
       "      <td>12.00</td>\n",
       "      <td>14.000</td>\n",
       "      <td>16.0000</td>\n",
       "      <td>16.00</td>\n",
       "    </tr>\n",
       "    <tr>\n",
       "      <th>fnocig</th>\n",
       "      <td>42.0</td>\n",
       "      <td>17.190476</td>\n",
       "      <td>17.308165</td>\n",
       "      <td>0.00</td>\n",
       "      <td>0.00</td>\n",
       "      <td>18.500</td>\n",
       "      <td>25.0000</td>\n",
       "      <td>50.00</td>\n",
       "    </tr>\n",
       "    <tr>\n",
       "      <th>fheight</th>\n",
       "      <td>42.0</td>\n",
       "      <td>180.500000</td>\n",
       "      <td>6.978189</td>\n",
       "      <td>169.00</td>\n",
       "      <td>175.25</td>\n",
       "      <td>180.500</td>\n",
       "      <td>184.7500</td>\n",
       "      <td>200.00</td>\n",
       "    </tr>\n",
       "    <tr>\n",
       "      <th>mnocig</th>\n",
       "      <td>42.0</td>\n",
       "      <td>9.428571</td>\n",
       "      <td>12.511737</td>\n",
       "      <td>0.00</td>\n",
       "      <td>0.00</td>\n",
       "      <td>4.500</td>\n",
       "      <td>15.7500</td>\n",
       "      <td>50.00</td>\n",
       "    </tr>\n",
       "  </tbody>\n",
       "</table>\n",
       "</div>"
      ],
      "text/plain": [
       "             count        mean         std     min     25%      50%  \\\n",
       "ID            42.0  894.071429  467.616186   27.00  537.25  821.000   \n",
       "Headcirc      42.0   34.595238    2.399792   30.00   33.00   34.000   \n",
       "Length        42.0   51.333333    2.935624   43.00   50.00   52.000   \n",
       "Birthweight   42.0    3.312857    0.603895    1.92    2.94    3.295   \n",
       "Gestation     42.0   39.190476    2.643336   33.00   38.00   39.500   \n",
       "mage          42.0   25.547619    5.666342   18.00   20.25   24.000   \n",
       "mheight       42.0  164.452381    6.504041  149.00  161.00  164.500   \n",
       "mppwt         42.0   57.500000    7.198408   45.00   52.25   57.000   \n",
       "fage          42.0   28.904762    6.863866   19.00   23.00   29.500   \n",
       "fedyrs        42.0   13.666667    2.160247   10.00   12.00   14.000   \n",
       "fnocig        42.0   17.190476   17.308165    0.00    0.00   18.500   \n",
       "fheight       42.0  180.500000    6.978189  169.00  175.25  180.500   \n",
       "mnocig        42.0    9.428571   12.511737    0.00    0.00    4.500   \n",
       "\n",
       "                   75%      max  \n",
       "ID           1269.5000  1764.00  \n",
       "Headcirc       36.0000    39.00  \n",
       "Length         53.0000    58.00  \n",
       "Birthweight     3.6475     4.57  \n",
       "Gestation      41.0000    45.00  \n",
       "mage           29.0000    41.00  \n",
       "mheight       169.5000   181.00  \n",
       "mppwt          62.0000    78.00  \n",
       "fage           32.0000    46.00  \n",
       "fedyrs         16.0000    16.00  \n",
       "fnocig         25.0000    50.00  \n",
       "fheight       184.7500   200.00  \n",
       "mnocig         15.7500    50.00  "
      ]
     },
     "execution_count": 7,
     "metadata": {},
     "output_type": "execute_result"
    }
   ],
   "source": [
    "df.describe().T"
   ]
  },
  {
   "cell_type": "markdown",
   "id": "b0a72c1c",
   "metadata": {},
   "source": [
    "### Data Visualization"
   ]
  },
  {
   "cell_type": "code",
   "execution_count": 10,
   "id": "75643146",
   "metadata": {},
   "outputs": [],
   "source": [
    "gestation = list(df.Gestation)\n",
    "birthweight = list(df.Birthweight)\n",
    "mage = list(df.mage)"
   ]
  },
  {
   "cell_type": "code",
   "execution_count": 15,
   "id": "59446912",
   "metadata": {},
   "outputs": [],
   "source": [
    "birthweight = np.array(birthweight)\n",
    "np_birthweight = birthweight * 70"
   ]
  },
  {
   "cell_type": "code",
   "execution_count": 17,
   "id": "71f6c8bd",
   "metadata": {},
   "outputs": [
    {
     "data": {
      "image/png": "[encoded data removed]",
      "text/plain": [
       "<Figure size 864x576 with 1 Axes>"
      ]
     },
     "metadata": {
      "needs_background": "light"
     },
     "output_type": "display_data"
    }
   ],
   "source": [
    "plt.scatter(gestation, mage, s = np_birthweight)\n",
    "plt.xlabel('Duration of Gestation')\n",
    "plt.ylabel('Age of Mother')\n",
    "plt.title('Birthweight by Age of Mother & Gestation')\n",
    "plt.show();"
   ]
  },
  {
   "cell_type": "markdown",
   "id": "375b4e19",
   "metadata": {},
   "source": [
    "\n",
    "### Data Insights\n",
    "\n",
    "In the given dataset, we have two types of mothers one who Non-smoker and another who are Smoker. So, we can divide data into two groups and compare their characteristics. Here, you can find the average of both the groups using groupby() and mean() function."
   ]
  },
  {
   "cell_type": "code",
   "execution_count": 8,
   "id": "99314c72",
   "metadata": {},
   "outputs": [
    {
     "data": {
      "text/plain": [
       "20"
      ]
     },
     "execution_count": 8,
     "metadata": {},
     "output_type": "execute_result"
    }
   ],
   "source": [
    "df[df['smoker'] == 'Non-smoker'].shape[0]"
   ]
  },
  {
   "cell_type": "code",
   "execution_count": 9,
   "id": "7532a349",
   "metadata": {},
   "outputs": [
    {
     "data": {
      "text/plain": [
       "22"
      ]
     },
     "execution_count": 9,
     "metadata": {},
     "output_type": "execute_result"
    }
   ],
   "source": [
    "df[df['smoker'] == 'Smoker'].shape[0]"
   ]
  },
  {
   "cell_type": "code",
   "execution_count": 10,
   "id": "402db1b1",
   "metadata": {},
   "outputs": [],
   "source": [
    "df_non_smoker = df[(df.smoker == 'Non-smoker')]"
   ]
  },
  {
   "cell_type": "code",
   "execution_count": 11,
   "id": "fc79700a",
   "metadata": {},
   "outputs": [],
   "source": [
    "df_smoker = df[(df.smoker == 'Smoker')]"
   ]
  },
  {
   "cell_type": "code",
   "execution_count": 12,
   "id": "91dca9dd",
   "metadata": {},
   "outputs": [
    {
     "data": {
      "text/html": [
       "<div>\n",
       "<style scoped>\n",
       "    .dataframe tbody tr th:only-of-type {\n",
       "        vertical-align: middle;\n",
       "    }\n",
       "\n",
       "    .dataframe tbody tr th {\n",
       "        vertical-align: top;\n",
       "    }\n",
       "\n",
       "    .dataframe thead th {\n",
       "        text-align: right;\n",
       "    }\n",
       "</style>\n",
       "<table border=\"1\" class=\"dataframe\">\n",
       "  <thead>\n",
       "    <tr style=\"text-align: right;\">\n",
       "      <th></th>\n",
       "      <th>ID</th>\n",
       "      <th>Headcirc</th>\n",
       "      <th>Length</th>\n",
       "      <th>Birthweight</th>\n",
       "      <th>Gestation</th>\n",
       "      <th>mage</th>\n",
       "      <th>smoker</th>\n",
       "      <th>mheight</th>\n",
       "      <th>mppwt</th>\n",
       "      <th>fage</th>\n",
       "      <th>fedyrs</th>\n",
       "      <th>fnocig</th>\n",
       "      <th>fheight</th>\n",
       "      <th>lowbwt</th>\n",
       "      <th>mage35</th>\n",
       "      <th>mnocig</th>\n",
       "    </tr>\n",
       "  </thead>\n",
       "  <tbody>\n",
       "    <tr>\n",
       "      <th>20</th>\n",
       "      <td>792.0</td>\n",
       "      <td>38.0</td>\n",
       "      <td>53.0</td>\n",
       "      <td>3.64</td>\n",
       "      <td>40.0</td>\n",
       "      <td>20.0</td>\n",
       "      <td>Smoker</td>\n",
       "      <td>170.0</td>\n",
       "      <td>59.0</td>\n",
       "      <td>24.0</td>\n",
       "      <td>12.0</td>\n",
       "      <td>12.0</td>\n",
       "      <td>185.0</td>\n",
       "      <td>Not low birthweight</td>\n",
       "      <td>Aged &lt; 35</td>\n",
       "      <td>2.0</td>\n",
       "    </tr>\n",
       "    <tr>\n",
       "      <th>21</th>\n",
       "      <td>1388.0</td>\n",
       "      <td>33.0</td>\n",
       "      <td>51.0</td>\n",
       "      <td>3.14</td>\n",
       "      <td>41.0</td>\n",
       "      <td>22.0</td>\n",
       "      <td>Smoker</td>\n",
       "      <td>160.0</td>\n",
       "      <td>53.0</td>\n",
       "      <td>24.0</td>\n",
       "      <td>16.0</td>\n",
       "      <td>12.0</td>\n",
       "      <td>176.0</td>\n",
       "      <td>Not low birthweight</td>\n",
       "      <td>Aged &lt; 35</td>\n",
       "      <td>7.0</td>\n",
       "    </tr>\n",
       "    <tr>\n",
       "      <th>22</th>\n",
       "      <td>575.0</td>\n",
       "      <td>30.0</td>\n",
       "      <td>50.0</td>\n",
       "      <td>2.78</td>\n",
       "      <td>37.0</td>\n",
       "      <td>19.0</td>\n",
       "      <td>Smoker</td>\n",
       "      <td>165.0</td>\n",
       "      <td>60.0</td>\n",
       "      <td>20.0</td>\n",
       "      <td>14.0</td>\n",
       "      <td>0.0</td>\n",
       "      <td>183.0</td>\n",
       "      <td>Not low birthweight</td>\n",
       "      <td>Aged &lt; 35</td>\n",
       "      <td>7.0</td>\n",
       "    </tr>\n",
       "    <tr>\n",
       "      <th>23</th>\n",
       "      <td>569.0</td>\n",
       "      <td>35.0</td>\n",
       "      <td>50.0</td>\n",
       "      <td>2.51</td>\n",
       "      <td>39.0</td>\n",
       "      <td>22.0</td>\n",
       "      <td>Smoker</td>\n",
       "      <td>159.0</td>\n",
       "      <td>52.0</td>\n",
       "      <td>23.0</td>\n",
       "      <td>14.0</td>\n",
       "      <td>25.0</td>\n",
       "      <td>200.0</td>\n",
       "      <td>Low birthweight</td>\n",
       "      <td>Aged &lt; 35</td>\n",
       "      <td>7.0</td>\n",
       "    </tr>\n",
       "    <tr>\n",
       "      <th>24</th>\n",
       "      <td>1363.0</td>\n",
       "      <td>30.0</td>\n",
       "      <td>48.0</td>\n",
       "      <td>2.37</td>\n",
       "      <td>37.0</td>\n",
       "      <td>20.0</td>\n",
       "      <td>Smoker</td>\n",
       "      <td>163.0</td>\n",
       "      <td>47.0</td>\n",
       "      <td>20.0</td>\n",
       "      <td>10.0</td>\n",
       "      <td>35.0</td>\n",
       "      <td>185.0</td>\n",
       "      <td>Low birthweight</td>\n",
       "      <td>Aged &lt; 35</td>\n",
       "      <td>7.0</td>\n",
       "    </tr>\n",
       "  </tbody>\n",
       "</table>\n",
       "</div>"
      ],
      "text/plain": [
       "        ID  Headcirc  Length  Birthweight  Gestation  mage  smoker  mheight  \\\n",
       "20   792.0      38.0    53.0         3.64       40.0  20.0  Smoker    170.0   \n",
       "21  1388.0      33.0    51.0         3.14       41.0  22.0  Smoker    160.0   \n",
       "22   575.0      30.0    50.0         2.78       37.0  19.0  Smoker    165.0   \n",
       "23   569.0      35.0    50.0         2.51       39.0  22.0  Smoker    159.0   \n",
       "24  1363.0      30.0    48.0         2.37       37.0  20.0  Smoker    163.0   \n",
       "\n",
       "    mppwt  fage  fedyrs  fnocig  fheight               lowbwt     mage35  \\\n",
       "20   59.0  24.0    12.0    12.0    185.0  Not low birthweight  Aged < 35   \n",
       "21   53.0  24.0    16.0    12.0    176.0  Not low birthweight  Aged < 35   \n",
       "22   60.0  20.0    14.0     0.0    183.0  Not low birthweight  Aged < 35   \n",
       "23   52.0  23.0    14.0    25.0    200.0      Low birthweight  Aged < 35   \n",
       "24   47.0  20.0    10.0    35.0    185.0      Low birthweight  Aged < 35   \n",
       "\n",
       "    mnocig  \n",
       "20     2.0  \n",
       "21     7.0  \n",
       "22     7.0  \n",
       "23     7.0  \n",
       "24     7.0  "
      ]
     },
     "execution_count": 12,
     "metadata": {},
     "output_type": "execute_result"
    }
   ],
   "source": [
    "df_smoker.head()"
   ]
  },
  {
   "cell_type": "markdown",
   "id": "0f4768a6",
   "metadata": {},
   "source": [
    "### Q1. What is the mean birth weight for babies of non-smoking mothers?"
   ]
  },
  {
   "cell_type": "code",
   "execution_count": 13,
   "id": "00267136",
   "metadata": {},
   "outputs": [],
   "source": [
    "Baby_Weight_Non_Smoker = list(df_non_smoker[\"Birthweight\"])"
   ]
  },
  {
   "cell_type": "code",
   "execution_count": 14,
   "id": "769e8afa",
   "metadata": {},
   "outputs": [],
   "source": [
    "x = statistics.mean(Baby_Weight_Non_Smoker)"
   ]
  },
  {
   "cell_type": "code",
   "execution_count": 15,
   "id": "f08827d5",
   "metadata": {},
   "outputs": [
    {
     "data": {
      "text/plain": [
       "3.5095"
      ]
     },
     "execution_count": 15,
     "metadata": {},
     "output_type": "execute_result"
    }
   ],
   "source": [
    "x"
   ]
  },
  {
   "cell_type": "markdown",
   "id": "e5c4ca1b",
   "metadata": {},
   "source": [
    "### Q2. What is the mean birth weight for babies of smoking mothers?"
   ]
  },
  {
   "cell_type": "code",
   "execution_count": 16,
   "id": "e2e7b26e",
   "metadata": {},
   "outputs": [],
   "source": [
    "Baby_Weight_Smoker = list(df_smoker[\"Birthweight\"])"
   ]
  },
  {
   "cell_type": "code",
   "execution_count": 17,
   "id": "ee16167e",
   "metadata": {},
   "outputs": [],
   "source": [
    "y = statistics.mean(Baby_Weight_Smoker)"
   ]
  },
  {
   "cell_type": "code",
   "execution_count": 18,
   "id": "3ad88acd",
   "metadata": {},
   "outputs": [
    {
     "data": {
      "text/plain": [
       "3.1340909090909093"
      ]
     },
     "execution_count": 18,
     "metadata": {},
     "output_type": "execute_result"
    }
   ],
   "source": [
    "y"
   ]
  },
  {
   "cell_type": "markdown",
   "id": "f112a9c4",
   "metadata": {},
   "source": [
    "### Q3. What is the mean head circumference for babies of non-smoking mothers?"
   ]
  },
  {
   "cell_type": "code",
   "execution_count": 19,
   "id": "1d8b0a9c",
   "metadata": {},
   "outputs": [],
   "source": [
    "Baby_Head_Circumference = list(df_non_smoker[\"Headcirc\"])"
   ]
  },
  {
   "cell_type": "code",
   "execution_count": 20,
   "id": "3dd4093e",
   "metadata": {},
   "outputs": [],
   "source": [
    "z = statistics.mean(Baby_Head_Circumference)"
   ]
  },
  {
   "cell_type": "code",
   "execution_count": 21,
   "id": "ce7a2015",
   "metadata": {},
   "outputs": [
    {
     "data": {
      "text/plain": [
       "35.05"
      ]
     },
     "execution_count": 21,
     "metadata": {},
     "output_type": "execute_result"
    }
   ],
   "source": [
    "z"
   ]
  },
  {
   "cell_type": "markdown",
   "id": "0f4d5408",
   "metadata": {},
   "source": [
    "### Q4. What is the mean gestational age at birth for babies of smoking mothers?"
   ]
  },
  {
   "cell_type": "code",
   "execution_count": 22,
   "id": "ea7b5f9c",
   "metadata": {},
   "outputs": [
    {
     "data": {
      "text/plain": [
       "Gestation    38.954545\n",
       "dtype: float64"
      ]
     },
     "execution_count": 22,
     "metadata": {},
     "output_type": "execute_result"
    }
   ],
   "source": [
    "df_smoker[['Gestation']].mean()"
   ]
  },
  {
   "cell_type": "markdown",
   "id": "9588dba3",
   "metadata": {},
   "source": [
    "### Q5. What is the maximum head circumference for babies of non-smoking mothers?"
   ]
  },
  {
   "cell_type": "code",
   "execution_count": 23,
   "id": "361993a7",
   "metadata": {},
   "outputs": [
    {
     "data": {
      "text/plain": [
       "Headcirc    39.0\n",
       "dtype: float64"
      ]
     },
     "execution_count": 23,
     "metadata": {},
     "output_type": "execute_result"
    }
   ],
   "source": [
    "df_non_smoker[['Headcirc']].max()"
   ]
  },
  {
   "cell_type": "markdown",
   "id": "bdaf4cf7",
   "metadata": {},
   "source": [
    "### Q6. What is the minimum gestational age at birth for babies of smoking mothers?"
   ]
  },
  {
   "cell_type": "code",
   "execution_count": 24,
   "id": "ea9cc08e",
   "metadata": {},
   "outputs": [
    {
     "data": {
      "text/plain": [
       "Gestation    33.0\n",
       "dtype: float64"
      ]
     },
     "execution_count": 24,
     "metadata": {},
     "output_type": "execute_result"
    }
   ],
   "source": [
    "df_smoker[['Gestation']].min()"
   ]
  },
  {
   "cell_type": "markdown",
   "id": "882aab3e",
   "metadata": {},
   "source": [
    "### Q7. Based on the dataset you have, out of the two, which one would be a better bet:\n"
   ]
  },
  {
   "cell_type": "markdown",
   "id": "c006dbf6",
   "metadata": {},
   "source": [
    "\n",
    "Pregnancy period in smoking mothers is shorter or\n",
    "Pregnancy period in non-smoking mothers is shorter"
   ]
  },
  {
   "cell_type": "code",
   "execution_count": 25,
   "id": "24a2fe8a",
   "metadata": {},
   "outputs": [
    {
     "data": {
      "text/plain": [
       "Gestation    38.954545\n",
       "dtype: float64"
      ]
     },
     "execution_count": 25,
     "metadata": {},
     "output_type": "execute_result"
    }
   ],
   "source": [
    "df_smoker[['Gestation']].mean()"
   ]
  },
  {
   "cell_type": "code",
   "execution_count": 26,
   "id": "6e5de9c6",
   "metadata": {},
   "outputs": [
    {
     "data": {
      "text/plain": [
       "Gestation    39.45\n",
       "dtype: float64"
      ]
     },
     "execution_count": 26,
     "metadata": {},
     "output_type": "execute_result"
    }
   ],
   "source": [
    "df_non_smoker[['Gestation']].mean()"
   ]
  },
  {
   "cell_type": "markdown",
   "id": "2d855358",
   "metadata": {},
   "source": [
    "### Q8. Justify the above choice in a few words."
   ]
  },
  {
   "cell_type": "markdown",
   "id": "cc5b3501",
   "metadata": {},
   "source": [
    "Pregnancy period in smoking mothers is shorter than Pregnancy period in non-smoking mothers."
   ]
  },
  {
   "cell_type": "markdown",
   "id": "299cf99e",
   "metadata": {},
   "source": [
    "### Q9. What is the baby birth weight range for babies of smoking mothers?"
   ]
  },
  {
   "cell_type": "code",
   "execution_count": 27,
   "id": "2c54250d",
   "metadata": {},
   "outputs": [
    {
     "data": {
      "text/plain": [
       "Birthweight    4.57\n",
       "dtype: float64"
      ]
     },
     "execution_count": 27,
     "metadata": {},
     "output_type": "execute_result"
    }
   ],
   "source": [
    "df_smoker[['Birthweight']].max()"
   ]
  },
  {
   "cell_type": "code",
   "execution_count": 28,
   "id": "10ce5b63",
   "metadata": {},
   "outputs": [
    {
     "data": {
      "text/plain": [
       "Birthweight    1.92\n",
       "dtype: float64"
      ]
     },
     "execution_count": 28,
     "metadata": {},
     "output_type": "execute_result"
    }
   ],
   "source": [
    "df_smoker[['Birthweight']].min()"
   ]
  },
  {
   "cell_type": "code",
   "execution_count": 29,
   "id": "7e3ee43b",
   "metadata": {},
   "outputs": [],
   "source": [
    "Range_smoker = df_smoker[['Birthweight']].max() - df_smoker[['Birthweight']].min()"
   ]
  },
  {
   "cell_type": "code",
   "execution_count": 30,
   "id": "0cb0d3c5",
   "metadata": {},
   "outputs": [
    {
     "data": {
      "text/plain": [
       "Birthweight    2.65\n",
       "dtype: float64"
      ]
     },
     "execution_count": 30,
     "metadata": {},
     "output_type": "execute_result"
    }
   ],
   "source": [
    "Range_smoker"
   ]
  },
  {
   "cell_type": "markdown",
   "id": "66e8d0fa",
   "metadata": {},
   "source": [
    "Baby birth weight range of smoking mothers is from 1.92 kg to 4.57. Range = 2.65"
   ]
  },
  {
   "cell_type": "markdown",
   "id": "7cb0205d",
   "metadata": {},
   "source": [
    "### Q10. In your own words describe what the value of the above range for baby's birthweight tells us about smoking versus non-smoking mothers?"
   ]
  },
  {
   "cell_type": "code",
   "execution_count": 31,
   "id": "27ee68a4",
   "metadata": {},
   "outputs": [
    {
     "data": {
      "text/plain": [
       "Birthweight    4.55\n",
       "dtype: float64"
      ]
     },
     "execution_count": 31,
     "metadata": {},
     "output_type": "execute_result"
    }
   ],
   "source": [
    "df_non_smoker[['Birthweight']].max()"
   ]
  },
  {
   "cell_type": "code",
   "execution_count": 32,
   "id": "05bb8202",
   "metadata": {},
   "outputs": [
    {
     "data": {
      "text/plain": [
       "Birthweight    2.65\n",
       "dtype: float64"
      ]
     },
     "execution_count": 32,
     "metadata": {},
     "output_type": "execute_result"
    }
   ],
   "source": [
    "df_non_smoker[['Birthweight']].min()"
   ]
  },
  {
   "cell_type": "code",
   "execution_count": 33,
   "id": "22757f06",
   "metadata": {},
   "outputs": [],
   "source": [
    "Range_non_smoker = df_non_smoker[['Birthweight']].max() - df_non_smoker[['Birthweight']].min()"
   ]
  },
  {
   "cell_type": "code",
   "execution_count": 34,
   "id": "16af8ea7",
   "metadata": {},
   "outputs": [
    {
     "data": {
      "text/plain": [
       "Birthweight    1.9\n",
       "dtype: float64"
      ]
     },
     "execution_count": 34,
     "metadata": {},
     "output_type": "execute_result"
    }
   ],
   "source": [
    "Range_non_smoker"
   ]
  },
  {
   "cell_type": "markdown",
   "id": "5d86e53d",
   "metadata": {},
   "source": [
    "Range for baby's birthweight (1.9) of non-smoking mothers is smaller than range for baby's birthweight (2.65) of smoking mothers."
   ]
  },
  {
   "cell_type": "markdown",
   "id": "ebea5e52",
   "metadata": {},
   "source": [
    "### Q11. Are head circumference data for babies of smoking mothers normally distributed?"
   ]
  },
  {
   "cell_type": "code",
   "execution_count": 83,
   "id": "302136c2",
   "metadata": {},
   "outputs": [
    {
     "data": {
      "image/png": "[encoded data removed]",
      "text/plain": [
       "<Figure size 1080x432 with 1 Axes>"
      ]
     },
     "metadata": {
      "needs_background": "light"
     },
     "output_type": "display_data"
    }
   ],
   "source": [
    "plt.figure(figsize=(15,6))\n",
    "plt.style.use('seaborn-colorblind')\n",
    "plt.grid(True, alpha=0.5)\n",
    "sns.kdeplot(df.loc[df['smoker'] == 'Smoker', 'Headcirc'], label = 'Head circumference for babies of smoking mothers')\n",
    "\n",
    "plt.xlim(left=20, right=50)\n",
    "plt.xlabel('Head Circumference for Babies')\n",
    "plt.ylabel('Density')\n",
    "plt.title('Head Circumference Distribution');"
   ]
  },
  {
   "cell_type": "code",
   "execution_count": 35,
   "id": "a9ae8ebf",
   "metadata": {},
   "outputs": [
    {
     "data": {
      "text/plain": [
       "Headcirc    34.181818\n",
       "dtype: float64"
      ]
     },
     "execution_count": 35,
     "metadata": {},
     "output_type": "execute_result"
    }
   ],
   "source": [
    "df_smoker[['Headcirc']].mean()"
   ]
  },
  {
   "cell_type": "code",
   "execution_count": 36,
   "id": "ff40434f",
   "metadata": {},
   "outputs": [
    {
     "data": {
      "text/plain": [
       "Headcirc    34.0\n",
       "dtype: float64"
      ]
     },
     "execution_count": 36,
     "metadata": {},
     "output_type": "execute_result"
    }
   ],
   "source": [
    "df_smoker[['Headcirc']].median()"
   ]
  },
  {
   "cell_type": "code",
   "execution_count": 37,
   "id": "af1f5ad3",
   "metadata": {},
   "outputs": [
    {
     "data": {
      "text/html": [
       "<div>\n",
       "<style scoped>\n",
       "    .dataframe tbody tr th:only-of-type {\n",
       "        vertical-align: middle;\n",
       "    }\n",
       "\n",
       "    .dataframe tbody tr th {\n",
       "        vertical-align: top;\n",
       "    }\n",
       "\n",
       "    .dataframe thead th {\n",
       "        text-align: right;\n",
       "    }\n",
       "</style>\n",
       "<table border=\"1\" class=\"dataframe\">\n",
       "  <thead>\n",
       "    <tr style=\"text-align: right;\">\n",
       "      <th></th>\n",
       "      <th>Headcirc</th>\n",
       "    </tr>\n",
       "  </thead>\n",
       "  <tbody>\n",
       "    <tr>\n",
       "      <th>0</th>\n",
       "      <td>33.0</td>\n",
       "    </tr>\n",
       "  </tbody>\n",
       "</table>\n",
       "</div>"
      ],
      "text/plain": [
       "   Headcirc\n",
       "0      33.0"
      ]
     },
     "execution_count": 37,
     "metadata": {},
     "output_type": "execute_result"
    }
   ],
   "source": [
    "df_smoker[['Headcirc']].mode()"
   ]
  },
  {
   "cell_type": "markdown",
   "id": "ddbe1980",
   "metadata": {},
   "source": [
    "According to the graph, there is a distribution close to the normal distribution. However, in a normal distribution, mean median and mode must be equal to each other. (Mode < Median < Mean) In this situation Data is Positive Skew."
   ]
  },
  {
   "cell_type": "markdown",
   "id": "6240d975",
   "metadata": {},
   "source": [
    "### Q12. What is the significance value for the above on the Shapiro-Wilk test?"
   ]
  },
  {
   "cell_type": "code",
   "execution_count": 38,
   "id": "c779eb84",
   "metadata": {},
   "outputs": [],
   "source": [
    "from scipy import stats"
   ]
  },
  {
   "cell_type": "code",
   "execution_count": 39,
   "id": "fb3cfcd0",
   "metadata": {},
   "outputs": [],
   "source": [
    "a = list(df_smoker[\"Headcirc\"])"
   ]
  },
  {
   "cell_type": "code",
   "execution_count": 40,
   "id": "ef53495c",
   "metadata": {},
   "outputs": [
    {
     "data": {
      "text/plain": [
       "ShapiroResult(statistic=0.9536523818969727, pvalue=0.3723871409893036)"
      ]
     },
     "execution_count": 40,
     "metadata": {},
     "output_type": "execute_result"
    }
   ],
   "source": [
    "shapiro_test = stats.shapiro(a)\n",
    "shapiro_test"
   ]
  },
  {
   "cell_type": "markdown",
   "id": "410a659c",
   "metadata": {},
   "source": [
    "Data is normally distributed if the significance in these tests is p > 0.05. pvalue: 0.372 > 0.05 so head circumference data for babies of smoking mothers are normally distributed. "
   ]
  },
  {
   "cell_type": "markdown",
   "id": "e4858248",
   "metadata": {},
   "source": [
    "### Q13. What is the standard score (Z-score) for head circumference of 35.05 (X=35.05) in non-smoking mothers?"
   ]
  },
  {
   "cell_type": "code",
   "execution_count": 41,
   "id": "6c29848f",
   "metadata": {},
   "outputs": [
    {
     "data": {
      "text/plain": [
       "[34.0,\n",
       " 36.0,\n",
       " 39.0,\n",
       " 38.0,\n",
       " 37.0,\n",
       " 38.0,\n",
       " 34.0,\n",
       " 33.0,\n",
       " 38.0,\n",
       " 35.0,\n",
       " 33.0,\n",
       " 36.0,\n",
       " 36.0,\n",
       " 33.0,\n",
       " 34.0,\n",
       " 33.0,\n",
       " 35.0,\n",
       " 33.0,\n",
       " 34.0,\n",
       " 32.0]"
      ]
     },
     "execution_count": 41,
     "metadata": {},
     "output_type": "execute_result"
    }
   ],
   "source": [
    "z = list(df_non_smoker[\"Headcirc\"])\n",
    "z"
   ]
  },
  {
   "cell_type": "code",
   "execution_count": 44,
   "id": "2c7f06ee",
   "metadata": {},
   "outputs": [],
   "source": [
    "sd = statistics.stdev(z)"
   ]
  },
  {
   "cell_type": "code",
   "execution_count": 45,
   "id": "ffe33ddd",
   "metadata": {},
   "outputs": [
    {
     "name": "stdout",
     "output_type": "stream",
     "text": [
      "Standard Deviation of data is 2.0894471693929497 \n"
     ]
    }
   ],
   "source": [
    "print(\"Standard Deviation of data is % s \"\n",
    "                % (statistics.stdev(z)))"
   ]
  },
  {
   "cell_type": "code",
   "execution_count": 46,
   "id": "5dead392",
   "metadata": {},
   "outputs": [],
   "source": [
    "mean = statistics.mean(z)"
   ]
  },
  {
   "cell_type": "code",
   "execution_count": 47,
   "id": "a64ea001",
   "metadata": {},
   "outputs": [
    {
     "name": "stdout",
     "output_type": "stream",
     "text": [
      "Arithmetic Mean of data is 35.05 \n"
     ]
    }
   ],
   "source": [
    "print(\"Arithmetic Mean of data is % s \"\n",
    "                % (statistics.mean(z)))"
   ]
  },
  {
   "cell_type": "markdown",
   "id": "8111bc48",
   "metadata": {},
   "source": [
    "If we calculate z score from the formula:"
   ]
  },
  {
   "cell_type": "code",
   "execution_count": 49,
   "id": "2418bc8c",
   "metadata": {},
   "outputs": [
    {
     "data": {
      "text/plain": [
       "0.21536797225207757"
      ]
     },
     "execution_count": 49,
     "metadata": {},
     "output_type": "execute_result"
    }
   ],
   "source": [
    "z_score = (35.5 - mean) / sd\n",
    "z_score"
   ]
  },
  {
   "cell_type": "code",
   "execution_count": 50,
   "id": "7851e83e",
   "metadata": {},
   "outputs": [
    {
     "name": "stdout",
     "output_type": "stream",
     "text": [
      "Z Score of X is 0.21536797225207757 \n"
     ]
    }
   ],
   "source": [
    "print(\"Z Score of X is % s \"\n",
    "                % z_score)"
   ]
  },
  {
   "cell_type": "markdown",
   "id": "cdc56fef",
   "metadata": {},
   "source": [
    "Z scores for all data:"
   ]
  },
  {
   "cell_type": "code",
   "execution_count": 42,
   "id": "5f8d8817",
   "metadata": {},
   "outputs": [
    {
     "data": {
      "text/plain": [
       "array([-0.51558005,  0.46647719,  1.93956303,  1.44853442,  0.9575058 ,\n",
       "        1.44853442, -0.51558005, -1.00660866,  1.44853442, -0.02455143,\n",
       "       -1.00660866,  0.46647719,  0.46647719, -1.00660866, -0.51558005,\n",
       "       -1.00660866, -0.02455143, -1.00660866, -0.51558005, -1.49763728])"
      ]
     },
     "execution_count": 42,
     "metadata": {},
     "output_type": "execute_result"
    }
   ],
   "source": [
    "stats.zscore(z)"
   ]
  },
  {
   "cell_type": "markdown",
   "id": "75f7c9cd",
   "metadata": {},
   "source": [
    "### Q14. How are birth weight data of non-smoking mothers skewed?"
   ]
  },
  {
   "cell_type": "code",
   "execution_count": 52,
   "id": "74221de1",
   "metadata": {},
   "outputs": [
    {
     "data": {
      "image/png": "[encoded data removed]",
      "text/plain": [
       "<Figure size 1080x432 with 1 Axes>"
      ]
     },
     "metadata": {
      "needs_background": "light"
     },
     "output_type": "display_data"
    }
   ],
   "source": [
    "plt.figure(figsize=(15,6))\n",
    "plt.style.use('seaborn-colorblind')\n",
    "plt.grid(True, alpha=0.5)\n",
    "sns.kdeplot(df.loc[df['smoker'] == 'Non-smoker', 'Birthweight'], label = 'Birth weight for babies of non-smoking mothers')\n",
    "\n",
    "plt.xlim(left=0, right=7)\n",
    "plt.xlabel('Baby weight for Babies')\n",
    "plt.ylabel('Density')\n",
    "plt.title('Baby Weight of non-smoking mothers Distribution');\n"
   ]
  },
  {
   "cell_type": "markdown",
   "id": "8f2f853c",
   "metadata": {},
   "source": [
    "Birth weight data of non-smoking mothers are positive skewed. Also the mean of positively skewed data will be greater than the median. "
   ]
  },
  {
   "cell_type": "code",
   "execution_count": 53,
   "id": "fd90f87c",
   "metadata": {},
   "outputs": [
    {
     "data": {
      "text/plain": [
       "Birthweight    3.5095\n",
       "dtype: float64"
      ]
     },
     "execution_count": 53,
     "metadata": {},
     "output_type": "execute_result"
    }
   ],
   "source": [
    "mean_1 = df_non_smoker[['Birthweight']].mean()\n",
    "mean_1"
   ]
  },
  {
   "cell_type": "code",
   "execution_count": 54,
   "id": "2dbd1b0a",
   "metadata": {},
   "outputs": [
    {
     "data": {
      "text/plain": [
       "Birthweight    3.385\n",
       "dtype: float64"
      ]
     },
     "execution_count": 54,
     "metadata": {},
     "output_type": "execute_result"
    }
   ],
   "source": [
    "median_1 = df_non_smoker[['Birthweight']].median()\n",
    "median_1"
   ]
  },
  {
   "cell_type": "markdown",
   "id": "61205ca8",
   "metadata": {},
   "source": [
    "3.5095 > 3.385 so data are positively skewed."
   ]
  },
  {
   "cell_type": "markdown",
   "id": "2788fe9b",
   "metadata": {},
   "source": [
    "### Q15. Are birth weight data for babies of smoking mothers normally distributed?"
   ]
  },
  {
   "cell_type": "code",
   "execution_count": 55,
   "id": "2a1ecc4b",
   "metadata": {},
   "outputs": [
    {
     "data": {
      "image/png": "[encoded data removed]",
      "text/plain": [
       "<Figure size 1080x432 with 1 Axes>"
      ]
     },
     "metadata": {
      "needs_background": "light"
     },
     "output_type": "display_data"
    }
   ],
   "source": [
    "plt.figure(figsize=(15,6))\n",
    "plt.style.use('seaborn-colorblind')\n",
    "plt.grid(True, alpha=0.5)\n",
    "sns.kdeplot(df.loc[df['smoker'] == 'Smoker', 'Birthweight'], label = 'Birth weight for babies of smoking mothers')\n",
    "\n",
    "plt.xlim(left=0, right=7)\n",
    "plt.xlabel('Weight for Babies')\n",
    "plt.ylabel('Density')\n",
    "plt.title('Baby Weight of smoking mothers Distribution');"
   ]
  },
  {
   "cell_type": "code",
   "execution_count": 57,
   "id": "fb4cfe4b",
   "metadata": {},
   "outputs": [],
   "source": [
    "b = list(df_smoker[\"Birthweight\"])"
   ]
  },
  {
   "cell_type": "code",
   "execution_count": 58,
   "id": "fdf9bc1e",
   "metadata": {},
   "outputs": [
    {
     "data": {
      "text/plain": [
       "ShapiroResult(statistic=0.9824169278144836, pvalue=0.9494744539260864)"
      ]
     },
     "execution_count": 58,
     "metadata": {},
     "output_type": "execute_result"
    }
   ],
   "source": [
    "shapiro_test_2 = stats.shapiro(b)\n",
    "shapiro_test_2"
   ]
  },
  {
   "cell_type": "markdown",
   "id": "d01ddd2b",
   "metadata": {},
   "source": [
    "Data are normally distributed if the significance(pvalue) in these tests is > 0.05. Data are normaly distributed, \n",
    "because 0.949 > 0.05."
   ]
  },
  {
   "cell_type": "markdown",
   "id": "770018be",
   "metadata": {},
   "source": [
    "### Q16. What is the significance value for the above on the Shapiro-Wilk test?"
   ]
  },
  {
   "cell_type": "code",
   "execution_count": 61,
   "id": "4b55b54a",
   "metadata": {},
   "outputs": [
    {
     "name": "stdout",
     "output_type": "stream",
     "text": [
      "Significance value for the above on the Shapiro-Wilk is 0.9494744539260864 \n"
     ]
    }
   ],
   "source": [
    "print(\"Significance value for the above on the Shapiro-Wilk is % s \"\n",
    "                % shapiro_test_2.pvalue)"
   ]
  },
  {
   "cell_type": "code",
   "execution_count": 60,
   "id": "df48d4de",
   "metadata": {},
   "outputs": [
    {
     "data": {
      "text/plain": [
       "scipy.stats.morestats.ShapiroResult"
      ]
     },
     "execution_count": 60,
     "metadata": {},
     "output_type": "execute_result"
    }
   ],
   "source": [
    "type(shapiro_test_2)"
   ]
  },
  {
   "cell_type": "markdown",
   "id": "c269fe48",
   "metadata": {},
   "source": [
    "### Q17. Based on the dataset you have, how confident can you be in saying that a baby's birth weight will be +/- 1 standard deviation from the mean?"
   ]
  },
  {
   "cell_type": "code",
   "execution_count": 64,
   "id": "1c83f2a2",
   "metadata": {},
   "outputs": [],
   "source": [
    "birthweight = list(df[\"Birthweight\"])"
   ]
  },
  {
   "cell_type": "code",
   "execution_count": 68,
   "id": "2c59c184",
   "metadata": {},
   "outputs": [
    {
     "data": {
      "text/plain": [
       "3.3128571428571427"
      ]
     },
     "execution_count": 68,
     "metadata": {},
     "output_type": "execute_result"
    }
   ],
   "source": [
    "mean_2 = statistics.mean(birthweight)\n",
    "mean_2"
   ]
  },
  {
   "cell_type": "code",
   "execution_count": 67,
   "id": "8aa1e431",
   "metadata": {},
   "outputs": [
    {
     "data": {
      "text/plain": [
       "0.603895022836148"
      ]
     },
     "execution_count": 67,
     "metadata": {},
     "output_type": "execute_result"
    }
   ],
   "source": [
    "sd_2 = statistics.stdev(birthweight)\n",
    "sd_2"
   ]
  },
  {
   "cell_type": "markdown",
   "id": "9ebf815b",
   "metadata": {},
   "source": [
    "The value of 0.603 (+1 sd) from the z score table is 0.72575. The value of -0.603 (-1 sd) from the z score table is 0.27425. From the difference between the two values, we can find the area under the curve."
   ]
  },
  {
   "cell_type": "code",
   "execution_count": 70,
   "id": "61c1bfe4",
   "metadata": {},
   "outputs": [
    {
     "data": {
      "text/plain": [
       "0.4515"
      ]
     },
     "execution_count": 70,
     "metadata": {},
     "output_type": "execute_result"
    }
   ],
   "source": [
    "area = 0.72575 - 0.27425\n",
    "area"
   ]
  },
  {
   "cell_type": "markdown",
   "id": "8c939c4b",
   "metadata": {},
   "source": [
    "Based on the dataset we have, we can be % 45,15 confident in saying that a baby's birth weight will be +/- 1 standard deviation from the mean."
   ]
  },
  {
   "cell_type": "markdown",
   "id": "692b9f71",
   "metadata": {},
   "source": [
    "### Q18. Based on the dataset you have, what is the probability that the birth weight for a baby of a smoking mother will be less than 4.2 kg?"
   ]
  },
  {
   "cell_type": "code",
   "execution_count": 80,
   "id": "1c665bc6",
   "metadata": {},
   "outputs": [
    {
     "data": {
      "text/plain": [
       "[4.55,\n",
       " 4.32,\n",
       " 4.1,\n",
       " 4.07,\n",
       " 3.94,\n",
       " 3.93,\n",
       " 3.77,\n",
       " 3.65,\n",
       " 3.63,\n",
       " 3.42,\n",
       " 3.35,\n",
       " 3.27,\n",
       " 3.23,\n",
       " 3.2,\n",
       " 3.15,\n",
       " 3.11,\n",
       " 3.03,\n",
       " 2.92,\n",
       " 2.9,\n",
       " 2.65]"
      ]
     },
     "execution_count": 80,
     "metadata": {},
     "output_type": "execute_result"
    }
   ],
   "source": [
    "birthweight_non = list(df_non_smoker[\"Birthweight\"])\n",
    "birthweight_non"
   ]
  },
  {
   "cell_type": "code",
   "execution_count": 74,
   "id": "78aa8633",
   "metadata": {},
   "outputs": [
    {
     "data": {
      "text/plain": [
       "3.5095"
      ]
     },
     "execution_count": 74,
     "metadata": {},
     "output_type": "execute_result"
    }
   ],
   "source": [
    "mean_3 = statistics.mean(birthweight_non)\n",
    "mean_3"
   ]
  },
  {
   "cell_type": "code",
   "execution_count": 75,
   "id": "1af0c3aa",
   "metadata": {},
   "outputs": [
    {
     "data": {
      "text/plain": [
       "0.5184945312608114"
      ]
     },
     "execution_count": 75,
     "metadata": {},
     "output_type": "execute_result"
    }
   ],
   "source": [
    "sd_3 = statistics.stdev(birthweight_non)\n",
    "sd_3"
   ]
  },
  {
   "cell_type": "code",
   "execution_count": 77,
   "id": "da89b8af",
   "metadata": {},
   "outputs": [
    {
     "data": {
      "text/plain": [
       "1.331740179247266"
      ]
     },
     "execution_count": 77,
     "metadata": {},
     "output_type": "execute_result"
    }
   ],
   "source": [
    "z_score_3 = (4.2 - 3.5095) / 0.5184945312608114\n",
    "z_score_3"
   ]
  },
  {
   "cell_type": "markdown",
   "id": "449a4d8d",
   "metadata": {},
   "source": [
    "The value of 1.33 (for 4.2 kg) from the z score table is 0.90824. The probability that the birth weight for a baby of a smoking mother will be less than 4.2 kg is % 90.824."
   ]
  },
  {
   "cell_type": "markdown",
   "id": "3a77f367",
   "metadata": {},
   "source": [
    "### Q19. Are data for length of baby of non-smoking mothers normally distributed?"
   ]
  },
  {
   "cell_type": "code",
   "execution_count": 85,
   "id": "2420a6c1",
   "metadata": {},
   "outputs": [
    {
     "data": {
      "image/png": "[encoded data removed]",
      "text/plain": [
       "<Figure size 1080x432 with 1 Axes>"
      ]
     },
     "metadata": {
      "needs_background": "light"
     },
     "output_type": "display_data"
    }
   ],
   "source": [
    "plt.figure(figsize=(15,6))\n",
    "plt.style.use('seaborn-colorblind')\n",
    "plt.grid(True, alpha=0.5)\n",
    "sns.kdeplot(df.loc[df['smoker'] == 'Non-smoker', 'Length'], label = 'Birth lenght for babies of non-smoking mothers')\n",
    "\n",
    "plt.xlim(left=35, right=70)\n",
    "plt.xlabel('Length for Babies')\n",
    "plt.ylabel('Density')\n",
    "plt.title('Length of non-smoking mothers Distribution');"
   ]
  },
  {
   "cell_type": "code",
   "execution_count": 94,
   "id": "885a6f93",
   "metadata": {},
   "outputs": [],
   "source": [
    "c = list(df_non_smoker[\"Length\"])"
   ]
  },
  {
   "cell_type": "code",
   "execution_count": 95,
   "id": "a9c687e4",
   "metadata": {},
   "outputs": [
    {
     "data": {
      "text/plain": [
       "ShapiroResult(statistic=0.9122545123100281, pvalue=0.07037191092967987)"
      ]
     },
     "execution_count": 95,
     "metadata": {},
     "output_type": "execute_result"
    }
   ],
   "source": [
    "shapiro_test_3 = stats.shapiro(c)\n",
    "shapiro_test_3"
   ]
  },
  {
   "cell_type": "code",
   "execution_count": 96,
   "id": "2c97a2b7",
   "metadata": {},
   "outputs": [
    {
     "data": {
      "text/plain": [
       "0.07037191092967987"
      ]
     },
     "execution_count": 96,
     "metadata": {},
     "output_type": "execute_result"
    }
   ],
   "source": [
    "shapiro_test_3.pvalue"
   ]
  },
  {
   "cell_type": "markdown",
   "id": "82de2979",
   "metadata": {},
   "source": [
    "Data are normally distributed if the significance(pvalue) in these tests is > 0.05. Data are normaly distributed, because 0.703 > 0.05."
   ]
  },
  {
   "cell_type": "markdown",
   "id": "1f8bbdd4",
   "metadata": {},
   "source": [
    "### Q20. What is the significance value for the above on the Shapiro-Wilk test?"
   ]
  },
  {
   "cell_type": "code",
   "execution_count": 90,
   "id": "7099329c",
   "metadata": {},
   "outputs": [
    {
     "name": "stdout",
     "output_type": "stream",
     "text": [
      "Significance value for the above on the Shapiro-Wilk is 0.07037191092967987 \n"
     ]
    }
   ],
   "source": [
    "print(\"Significance value for the above on the Shapiro-Wilk is % s \"\n",
    "                % shapiro_test_3.pvalue)"
   ]
  },
  {
   "cell_type": "markdown",
   "id": "c4abd26a",
   "metadata": {},
   "source": [
    "### Q21. What is the standard score for the length of a baby of 48.5cm for non-smoking mothers?"
   ]
  },
  {
   "cell_type": "code",
   "execution_count": 97,
   "id": "521be63d",
   "metadata": {},
   "outputs": [],
   "source": [
    "c = list(df_non_smoker[\"Length\"])"
   ]
  },
  {
   "cell_type": "code",
   "execution_count": 98,
   "id": "cd6881af",
   "metadata": {},
   "outputs": [
    {
     "data": {
      "text/plain": [
       "51.8"
      ]
     },
     "execution_count": 98,
     "metadata": {},
     "output_type": "execute_result"
    }
   ],
   "source": [
    "mean_4 = statistics.mean(c)\n",
    "mean_4"
   ]
  },
  {
   "cell_type": "code",
   "execution_count": 99,
   "id": "526fa1c8",
   "metadata": {},
   "outputs": [
    {
     "data": {
      "text/plain": [
       "3.254147151591416"
      ]
     },
     "execution_count": 99,
     "metadata": {},
     "output_type": "execute_result"
    }
   ],
   "source": [
    "sd_4 = statistics.stdev(c)\n",
    "sd_4"
   ]
  },
  {
   "cell_type": "code",
   "execution_count": 100,
   "id": "42ea7338",
   "metadata": {},
   "outputs": [],
   "source": [
    "z_score_4 = (48.5 - mean_4) / sd_4  "
   ]
  },
  {
   "cell_type": "code",
   "execution_count": 102,
   "id": "d628c78c",
   "metadata": {},
   "outputs": [
    {
     "name": "stdout",
     "output_type": "stream",
     "text": [
      "The standard score for the length of a baby of 48.5cm for non-smoking mothers is -1.0140905884929503 \n"
     ]
    }
   ],
   "source": [
    "print(\"The standard score for the length of a baby of 48.5cm for non-smoking mothers is % s \"\n",
    "                % z_score_4)"
   ]
  },
  {
   "cell_type": "markdown",
   "id": "7fc1bcc6",
   "metadata": {},
   "source": [
    "### Q22. Based on the dataset you have, what is the probability that the length of baby for non-smoking mothers will be more than 55 cm?"
   ]
  },
  {
   "cell_type": "code",
   "execution_count": 106,
   "id": "4be0ac5d",
   "metadata": {},
   "outputs": [
    {
     "data": {
      "text/plain": [
       "[56.0,\n",
       " 53.0,\n",
       " 58.0,\n",
       " 53.0,\n",
       " 54.0,\n",
       " 51.0,\n",
       " 52.0,\n",
       " 53.0,\n",
       " 54.0,\n",
       " 50.0,\n",
       " 53.0,\n",
       " 51.0,\n",
       " 52.0,\n",
       " 53.0,\n",
       " 53.0,\n",
       " 48.0,\n",
       " 48.0,\n",
       " 48.0,\n",
       " 53.0,\n",
       " 43.0]"
      ]
     },
     "execution_count": 106,
     "metadata": {},
     "output_type": "execute_result"
    }
   ],
   "source": [
    "length_non = list(df_non_smoker[\"Length\"])\n",
    "length_non"
   ]
  },
  {
   "cell_type": "code",
   "execution_count": 107,
   "id": "1f4d68b2",
   "metadata": {},
   "outputs": [
    {
     "data": {
      "text/plain": [
       "51.8"
      ]
     },
     "execution_count": 107,
     "metadata": {},
     "output_type": "execute_result"
    }
   ],
   "source": [
    "mean_5 = statistics.mean(length_non)\n",
    "mean_5"
   ]
  },
  {
   "cell_type": "code",
   "execution_count": 108,
   "id": "e9938039",
   "metadata": {},
   "outputs": [
    {
     "data": {
      "text/plain": [
       "3.254147151591416"
      ]
     },
     "execution_count": 108,
     "metadata": {},
     "output_type": "execute_result"
    }
   ],
   "source": [
    "sd_5 = statistics.stdev(length_non)\n",
    "sd_5"
   ]
  },
  {
   "cell_type": "code",
   "execution_count": 109,
   "id": "ab4d186d",
   "metadata": {},
   "outputs": [
    {
     "data": {
      "text/plain": [
       "0.9833605706598324"
      ]
     },
     "execution_count": 109,
     "metadata": {},
     "output_type": "execute_result"
    }
   ],
   "source": [
    "z_score_5 = (55 - mean_5) / sd_5\n",
    "z_score_5"
   ]
  },
  {
   "cell_type": "markdown",
   "id": "ff3d3f07",
   "metadata": {},
   "source": [
    "The value of 0.983 (for 55 cm) from the z score table is 0.83646. The probability that the length of baby for non-smoking mothers will be more than 55 cm is % 16.354."
   ]
  }
 ],
 "metadata": {
  "kernelspec": {
   "display_name": "Python 3",
   "language": "python",
   "name": "python3"
  },
  "language_info": {
   "codemirror_mode": {
    "name": "ipython",
    "version": 3
   },
   "file_extension": ".py",
   "mimetype": "text/x-python",
   "name": "python",
   "nbconvert_exporter": "python",
   "pygments_lexer": "ipython3",
   "version": "3.8.8"
  }
 },
 "nbformat": 4,
 "nbformat_minor": 5
}
